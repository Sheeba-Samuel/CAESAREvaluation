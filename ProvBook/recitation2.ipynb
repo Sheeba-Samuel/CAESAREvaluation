{
 "cells": [
  {
   "cell_type": "markdown",
   "metadata": {
    "provenance": [
     {
      "last_modified": "2018-06-12T08:34:10.000Z",
      "source": "# CS1001.py\n## Extended Introduction to Computer Science with Python, Tel-Aviv University, Spring 2013\n# Recitation 2 - 7-11.3.2013\n## Last update: 24.4.2013 - added XKCD comic"
     },
     {
      "last_modified": "2019-07-08T14:40:44.691Z",
      "source": "# CS1001.py\n## Extended Introduction to Computer Science with Python, Tel-Aviv University, Spring 2013\n# Recitation 2 - 7-11.3.2013\n## Last update: 24.4.2013 - added XKCD comic"
     },
     {
      "last_modified": "2019-07-08T14:40:44.691Z",
      "source": "# CS1001.py\n## Extended Introduction to Computer Science with Python, Tel-Aviv University, Spring 2013\n# Recitation 2 - 7-11.3.2013\n## Last update: 24.4.2013 - added XKCD comic"
     }
    ]
   },
   "source": [
    "# CS1001.py\n",
    "## Extended Introduction to Computer Science with Python, Tel-Aviv University, Spring 2013\n",
    "# Recitation 2 - 7-11.3.2013\n",
    "## Last update: 24.4.2013 - added XKCD comic"
   ]
  },
  {
   "cell_type": "markdown",
   "metadata": {
    "provenance": [
     {
      "last_modified": "2018-06-12T08:34:10.000Z",
      "source": "## Getting input from the user\nYou can get input from the user by calling the `input` function:\n\n```\nm = int(input(\"enter a positive integer to apply Collatz algorithm: \"))\n```\n\nNote that `input` returns a *string* and therefore you are responsible to convert it to the appopriate type."
     },
     {
      "last_modified": "2019-07-08T14:40:44.691Z",
      "source": "## Getting input from the user\nYou can get input from the user by calling the `input` function:\n\n```\nm = int(input(\"enter a positive integer to apply Collatz algorithm: \"))\n```\n\nNote that `input` returns a *string* and therefore you are responsible to convert it to the appopriate type."
     },
     {
      "last_modified": "2019-07-08T14:40:44.691Z",
      "source": "## Getting input from the user\nYou can get input from the user by calling the `input` function:\n\n```\nm = int(input(\"enter a positive integer to apply Collatz algorithm: \"))\n```\n\nNote that `input` returns a *string* and therefore you are responsible to convert it to the appopriate type."
     }
    ]
   },
   "source": [
    "## Getting input from the user\n",
    "You can get input from the user by calling the `input` function:\n",
    "\n",
    "```\n",
    "m = int(input(\"enter a positive integer to apply Collatz algorithm: \"))\n",
    "```\n",
    "\n",
    "Note that `input` returns a *string* and therefore you are responsible to convert it to the appopriate type."
   ]
  },
  {
   "cell_type": "markdown",
   "metadata": {
    "provenance": [
     {
      "last_modified": "2018-06-12T08:34:10.000Z",
      "source": "## Collatz Conjecture\n\nThe [Collatz Conjecture](http://en.wikipedia.org/wiki/Collatz_conjecture) (also known as the *3n+1* conjecture) is the conjecture that the following process is finite for every natural number:\n> If the number $n$ is even divide it by two ($n/2$), if it is odd multiply it by 3 and add 1 ($3n+1$). Repeat this process untill you get the number 1.\n\n### Implementation\nWe start with the \"Half Or Triple Plus One\" process:"
     },
     {
      "last_modified": "2019-07-08T14:40:44.691Z",
      "source": "## Collatz Conjecture\n\nThe [Collatz Conjecture](http://en.wikipedia.org/wiki/Collatz_conjecture) (also known as the *3n+1* conjecture) is the conjecture that the following process is finite for every natural number:\n> If the number $n$ is even divide it by two ($n/2$), if it is odd multiply it by 3 and add 1 ($3n+1$). Repeat this process untill you get the number 1.\n\n### Implementation\nWe start with the \"Half Or Triple Plus One\" process:"
     },
     {
      "last_modified": "2019-07-08T14:40:44.691Z",
      "source": "## Collatz Conjecture\n\nThe [Collatz Conjecture](http://en.wikipedia.org/wiki/Collatz_conjecture) (also known as the *3n+1* conjecture) is the conjecture that the following process is finite for every natural number:\n> If the number $n$ is even divide it by two ($n/2$), if it is odd multiply it by 3 and add 1 ($3n+1$). Repeat this process untill you get the number 1.\n\n### Implementation\nWe start with the \"Half Or Triple Plus One\" process:"
     }
    ]
   },
   "source": [
    "## Collatz Conjecture\n",
    "\n",
    "The [Collatz Conjecture](http://en.wikipedia.org/wiki/Collatz_conjecture) (also known as the *3n+1* conjecture) is the conjecture that the following process is finite for every natural number:\n",
    "> If the number $n$ is even divide it by two ($n/2$), if it is odd multiply it by 3 and add 1 ($3n+1$). Repeat this process untill you get the number 1.\n",
    "\n",
    "### Implementation\n",
    "We start with the \"Half Or Triple Plus One\" process:"
   ]
  },
  {
   "cell_type": "code",
   "execution_count": 5,
   "metadata": {
    "ExecutionTime": {
     "end_time": "2019-07-08T14:43:11.385019Z",
     "start_time": "2019-07-08T14:43:11.375155Z"
    },
    "provenance": [
     {
      "end_time": "Unknown",
      "execution_time": "Unknown",
      "outputs": [
       {
        "name": "stdout",
        "output_type": "stream",
        "text": "100, 50, 25, 76, 38, 19, 58, 29, 88, 44, 22, 11, 34, 17, 52, 26, 13, 40, 20, 10, 5, 16, 8, 4, 2, 1\n100 is OK\n"
       }
      ],
      "source": "m = 100 # integer to apply the conjecture on\n\nn = m\nwhile n != 1:\n    print(n, end=\", \")\n    if n % 2 == 0:\n        n = n // 2\n    else:\n        n = 3 * n + 1\nprint(1) # 1 was not printed\nprint(m, \"is OK\")",
      "start_time": "Unknown"
     },
     {
      "end_time": "2019-07-08T14:39:34.745Z",
      "execution_time": "17ms",
      "outputs": [
       {
        "ename": "SyntaxError",
        "evalue": "invalid syntax (<ipython-input-1-2071a383dcd2>, line 5)",
        "output_type": "error",
        "traceback": [
         "\u001b[0;36m  File \u001b[0;32m\"<ipython-input-1-2071a383dcd2>\"\u001b[0;36m, line \u001b[0;32m5\u001b[0m\n\u001b[0;31m    print(n, end=\", \")\u001b[0m\n\u001b[0m                ^\u001b[0m\n\u001b[0;31mSyntaxError\u001b[0m\u001b[0;31m:\u001b[0m invalid syntax\n"
        ]
       }
      ],
      "source": "m = 100 # integer to apply the conjecture on\n\nn = m\nwhile n != 1:\n    print(n, end=\", \")\n    if n % 2 == 0:\n        n = n // 2\n    else:\n        n = 3 * n + 1\nprint(1) # 1 was not printed\nprint(m, \"is OK\")",
      "start_time": "2019-07-08T14:39:34.728Z"
     },
     {
      "end_time": "2019-07-08T14:39:34.745Z",
      "execution_time": "17ms",
      "outputs": [
       {
        "ename": "SyntaxError",
        "evalue": "invalid syntax (<ipython-input-1-2071a383dcd2>, line 5)",
        "output_type": "error",
        "traceback": [
         "\u001b[0;36m  File \u001b[0;32m\"<ipython-input-1-2071a383dcd2>\"\u001b[0;36m, line \u001b[0;32m5\u001b[0m\n\u001b[0;31m    print(n, end=\", \")\u001b[0m\n\u001b[0m                ^\u001b[0m\n\u001b[0;31mSyntaxError\u001b[0m\u001b[0;31m:\u001b[0m invalid syntax\n"
        ]
       }
      ],
      "source": "m = 100 # integer to apply the conjecture on\n\nn = m\nwhile n != 1:\n    print(n, end=\", \")\n    if n % 2 == 0:\n        n = n // 2\n    else:\n        n = 3 * n + 1\nprint(1) # 1 was not printed\nprint(m, \"is OK\")",
      "start_time": "2019-07-08T14:39:34.728Z"
     },
     {
      "end_time": "2019-07-08T14:40:15.970Z",
      "execution_time": "6ms",
      "outputs": [
       {
        "ename": "SyntaxError",
        "evalue": "invalid syntax (<ipython-input-2-2071a383dcd2>, line 5)",
        "output_type": "error",
        "traceback": [
         "\u001b[0;36m  File \u001b[0;32m\"<ipython-input-2-2071a383dcd2>\"\u001b[0;36m, line \u001b[0;32m5\u001b[0m\n\u001b[0;31m    print(n, end=\", \")\u001b[0m\n\u001b[0m                ^\u001b[0m\n\u001b[0;31mSyntaxError\u001b[0m\u001b[0;31m:\u001b[0m invalid syntax\n"
        ]
       }
      ],
      "source": "m = 100 # integer to apply the conjecture on\n\nn = m\nwhile n != 1:\n    print(n, end=\", \")\n    if n % 2 == 0:\n        n = n // 2\n    else:\n        n = 3 * n + 1\nprint(1) # 1 was not printed\nprint(m, \"is OK\")",
      "start_time": "2019-07-08T14:40:15.964Z"
     },
     {
      "end_time": "2019-07-08T14:40:15.970Z",
      "execution_time": "6ms",
      "outputs": [
       {
        "ename": "SyntaxError",
        "evalue": "invalid syntax (<ipython-input-2-2071a383dcd2>, line 5)",
        "output_type": "error",
        "traceback": [
         "\u001b[0;36m  File \u001b[0;32m\"<ipython-input-2-2071a383dcd2>\"\u001b[0;36m, line \u001b[0;32m5\u001b[0m\n\u001b[0;31m    print(n, end=\", \")\u001b[0m\n\u001b[0m                ^\u001b[0m\n\u001b[0;31mSyntaxError\u001b[0m\u001b[0;31m:\u001b[0m invalid syntax\n"
        ]
       }
      ],
      "source": "m = 100 # integer to apply the conjecture on\n\nn = m\nwhile n != 1:\n    print(n, end=\", \")\n    if n % 2 == 0:\n        n = n // 2\n    else:\n        n = 3 * n + 1\nprint(1) # 1 was not printed\nprint(m, \"is OK\")",
      "start_time": "2019-07-08T14:40:15.964Z"
     },
     {
      "end_time": "2019-07-08T14:40:47.423Z",
      "execution_time": "8ms",
      "outputs": [
       {
        "name": "stdout",
        "output_type": "stream",
        "text": "1\n(100, 'is OK')\n"
       }
      ],
      "source": "m = 100 # integer to apply the conjecture on\n\nn = m\nwhile n != 1:\n    #print(n, end=\", \")\n    if n % 2 == 0:\n        n = n // 2\n    else:\n        n = 3 * n + 1\nprint(1) # 1 was not printed\nprint(m, \"is OK\")",
      "start_time": "2019-07-08T14:40:47.415Z"
     },
     {
      "end_time": "2019-07-08T14:40:47.423Z",
      "execution_time": "8ms",
      "outputs": [
       {
        "name": "stdout",
        "output_type": "stream",
        "text": "1\n(100, 'is OK')\n"
       }
      ],
      "source": "m = 100 # integer to apply the conjecture on\n\nn = m\nwhile n != 1:\n    #print(n, end=\", \")\n    if n % 2 == 0:\n        n = n // 2\n    else:\n        n = 3 * n + 1\nprint(1) # 1 was not printed\nprint(m, \"is OK\")",
      "start_time": "2019-07-08T14:40:47.415Z"
     },
     {
      "end_time": "2019-07-08T14:41:58.114Z",
      "execution_time": "9ms",
      "outputs": [
       {
        "ename": "SyntaxError",
        "evalue": "invalid syntax (<ipython-input-1-2071a383dcd2>, line 5)",
        "output_type": "error",
        "traceback": [
         "\u001b[0;36m  File \u001b[0;32m\"<ipython-input-1-2071a383dcd2>\"\u001b[0;36m, line \u001b[0;32m5\u001b[0m\n\u001b[0;31m    print(n, end=\", \")\u001b[0m\n\u001b[0m                ^\u001b[0m\n\u001b[0;31mSyntaxError\u001b[0m\u001b[0;31m:\u001b[0m invalid syntax\n"
        ]
       }
      ],
      "source": "m = 100 # integer to apply the conjecture on\n\nn = m\nwhile n != 1:\n    print(n, end=\", \")\n    if n % 2 == 0:\n        n = n // 2\n    else:\n        n = 3 * n + 1\nprint(1) # 1 was not printed\nprint(m, \"is OK\")",
      "start_time": "2019-07-08T14:41:58.105Z"
     },
     {
      "end_time": "2019-07-08T14:41:58.114Z",
      "execution_time": "9ms",
      "outputs": [
       {
        "ename": "SyntaxError",
        "evalue": "invalid syntax (<ipython-input-1-2071a383dcd2>, line 5)",
        "output_type": "error",
        "traceback": [
         "\u001b[0;36m  File \u001b[0;32m\"<ipython-input-1-2071a383dcd2>\"\u001b[0;36m, line \u001b[0;32m5\u001b[0m\n\u001b[0;31m    print(n, end=\", \")\u001b[0m\n\u001b[0m                ^\u001b[0m\n\u001b[0;31mSyntaxError\u001b[0m\u001b[0;31m:\u001b[0m invalid syntax\n"
        ]
       }
      ],
      "source": "m = 100 # integer to apply the conjecture on\n\nn = m\nwhile n != 1:\n    print(n, end=\", \")\n    if n % 2 == 0:\n        n = n // 2\n    else:\n        n = 3 * n + 1\nprint(1) # 1 was not printed\nprint(m, \"is OK\")",
      "start_time": "2019-07-08T14:41:58.105Z"
     },
     {
      "end_time": "2019-07-08T14:42:08.820Z",
      "execution_time": "16ms",
      "outputs": [
       {
        "ename": "SyntaxError",
        "evalue": "invalid syntax (<ipython-input-4-2071a383dcd2>, line 5)",
        "output_type": "error",
        "traceback": [
         "\u001b[0;36m  File \u001b[0;32m\"<ipython-input-4-2071a383dcd2>\"\u001b[0;36m, line \u001b[0;32m5\u001b[0m\n\u001b[0;31m    print(n, end=\", \")\u001b[0m\n\u001b[0m                ^\u001b[0m\n\u001b[0;31mSyntaxError\u001b[0m\u001b[0;31m:\u001b[0m invalid syntax\n"
        ]
       }
      ],
      "source": "m = 100 # integer to apply the conjecture on\n\nn = m\nwhile n != 1:\n    print(n, end=\", \")\n    if n % 2 == 0:\n        n = n // 2\n    else:\n        n = 3 * n + 1\nprint(1) # 1 was not printed\nprint(m, \"is OK\")",
      "start_time": "2019-07-08T14:42:08.804Z"
     },
     {
      "end_time": "2019-07-08T14:42:08.820Z",
      "execution_time": "16ms",
      "outputs": [
       {
        "ename": "SyntaxError",
        "evalue": "invalid syntax (<ipython-input-4-2071a383dcd2>, line 5)",
        "output_type": "error",
        "traceback": [
         "\u001b[0;36m  File \u001b[0;32m\"<ipython-input-4-2071a383dcd2>\"\u001b[0;36m, line \u001b[0;32m5\u001b[0m\n\u001b[0;31m    print(n, end=\", \")\u001b[0m\n\u001b[0m                ^\u001b[0m\n\u001b[0;31mSyntaxError\u001b[0m\u001b[0;31m:\u001b[0m invalid syntax\n"
        ]
       }
      ],
      "source": "m = 100 # integer to apply the conjecture on\n\nn = m\nwhile n != 1:\n    print(n, end=\", \")\n    if n % 2 == 0:\n        n = n // 2\n    else:\n        n = 3 * n + 1\nprint(1) # 1 was not printed\nprint(m, \"is OK\")",
      "start_time": "2019-07-08T14:42:08.804Z"
     },
     {
      "end_time": "2019-07-08T14:43:11.385Z",
      "execution_time": "10ms",
      "outputs": [
       {
        "name": "stdout",
        "output_type": "stream",
        "text": "100\n50\n25\n76\n38\n19\n58\n29\n88\n44\n22\n11\n34\n17\n52\n26\n13\n40\n20\n10\n5\n16\n8\n4\n2\n1\n(100, 'is OK')\n"
       }
      ],
      "source": "m = 100 # integer to apply the conjecture on\n\nn = m\nwhile n != 1:\n    print(n)\n    if n % 2 == 0:\n        n = n // 2\n    else:\n        n = 3 * n + 1\nprint(1) # 1 was not printed\nprint(m, \"is OK\")",
      "start_time": "2019-07-08T14:43:11.375Z"
     },
     {
      "end_time": "2019-07-08T14:43:11.385Z",
      "execution_time": "10ms",
      "outputs": [
       {
        "name": "stdout",
        "output_type": "stream",
        "text": "100\n50\n25\n76\n38\n19\n58\n29\n88\n44\n22\n11\n34\n17\n52\n26\n13\n40\n20\n10\n5\n16\n8\n4\n2\n1\n(100, 'is OK')\n"
       }
      ],
      "source": "m = 100 # integer to apply the conjecture on\n\nn = m\nwhile n != 1:\n    print(n)\n    if n % 2 == 0:\n        n = n // 2\n    else:\n        n = 3 * n + 1\nprint(1) # 1 was not printed\nprint(m, \"is OK\")",
      "start_time": "2019-07-08T14:43:11.375Z"
     }
    ]
   },
   "outputs": [
    {
     "name": "stdout",
     "output_type": "stream",
     "text": [
      "100\n",
      "50\n",
      "25\n",
      "76\n",
      "38\n",
      "19\n",
      "58\n",
      "29\n",
      "88\n",
      "44\n",
      "22\n",
      "11\n",
      "34\n",
      "17\n",
      "52\n",
      "26\n",
      "13\n",
      "40\n",
      "20\n",
      "10\n",
      "5\n",
      "16\n",
      "8\n",
      "4\n",
      "2\n",
      "1\n",
      "(100, 'is OK')\n"
     ]
    }
   ],
   "source": [
    "m = 100 # integer to apply the conjecture on\n",
    "\n",
    "n = m\n",
    "while n != 1:\n",
    "    print(n)\n",
    "    if n % 2 == 0:\n",
    "        n = n // 2\n",
    "    else:\n",
    "        n = 3 * n + 1\n",
    "print(1) # 1 was not printed\n",
    "print(m, \"is OK\")"
   ]
  },
  {
   "cell_type": "markdown",
   "metadata": {
    "provenance": [
     {
      "last_modified": "2018-06-12T08:34:10.000Z",
      "source": "Next we add another loop that will run the conjecture check on a range of numbers:"
     },
     {
      "last_modified": "2019-07-08T14:40:44.691Z",
      "source": "Next we add another loop that will run the conjecture check on a range of numbers:"
     },
     {
      "last_modified": "2019-07-08T14:40:44.691Z",
      "source": "Next we add another loop that will run the conjecture check on a range of numbers:"
     }
    ]
   },
   "source": [
    "Next we add another loop that will run the conjecture check on a range of numbers:"
   ]
  },
  {
   "cell_type": "code",
   "execution_count": 6,
   "metadata": {
    "ExecutionTime": {
     "end_time": "2019-07-08T14:43:11.406761Z",
     "start_time": "2019-07-08T14:43:11.397435Z"
    },
    "provenance": [
     {
      "end_time": "Unknown",
      "execution_time": "Unknown",
      "outputs": [
       {
        "name": "stdout",
        "output_type": "stream",
        "text": "1 is OK\n2 is OK\n3 is OK\n4 is OK\n5 is OK\n6 is OK\n7 is OK\n8 is OK\n9 is OK\n10 is OK\n"
       }
      ],
      "source": "limit = 10\nm = 1\nwhile m <= limit:\n    n = m\n    while n != 1:\n        if n % 2 == 0:\n            n = n // 2\n        else:\n            n = 3 * n + 1\n    print(m, \"is OK\")\n    m += 1",
      "start_time": "Unknown"
     },
     {
      "end_time": "2019-07-08T14:39:34.746Z",
      "execution_time": "-582ms",
      "outputs": [],
      "source": "limit = 10\nm = 1\nwhile m <= limit:\n    n = m\n    while n != 1:\n        if n % 2 == 0:\n            n = n // 2\n        else:\n            n = 3 * n + 1\n    print(m, \"is OK\")\n    m += 1",
      "start_time": "2019-07-08T14:39:35.328Z"
     },
     {
      "end_time": "2019-07-08T14:39:34.746Z",
      "execution_time": "-583ms",
      "outputs": [],
      "source": "limit = 10\nm = 1\nwhile m <= limit:\n    n = m\n    while n != 1:\n        if n % 2 == 0:\n            n = n // 2\n        else:\n            n = 3 * n + 1\n    print(m, \"is OK\")\n    m += 1",
      "start_time": "2019-07-08T14:39:35.329Z"
     },
     {
      "end_time": "2019-07-08T14:40:15.991Z",
      "execution_time": "12ms",
      "outputs": [
       {
        "name": "stdout",
        "output_type": "stream",
        "text": "(1, 'is OK')\n(2, 'is OK')\n(3, 'is OK')\n(4, 'is OK')\n(5, 'is OK')\n(6, 'is OK')\n(7, 'is OK')\n(8, 'is OK')\n(9, 'is OK')\n(10, 'is OK')\n"
       }
      ],
      "source": "limit = 10\nm = 1\nwhile m <= limit:\n    n = m\n    while n != 1:\n        if n % 2 == 0:\n            n = n // 2\n        else:\n            n = 3 * n + 1\n    print(m, \"is OK\")\n    m += 1",
      "start_time": "2019-07-08T14:40:15.979Z"
     },
     {
      "end_time": "2019-07-08T14:40:15.991Z",
      "execution_time": "12ms",
      "outputs": [
       {
        "name": "stdout",
        "output_type": "stream",
        "text": "(1, 'is OK')\n(2, 'is OK')\n(3, 'is OK')\n(4, 'is OK')\n(5, 'is OK')\n(6, 'is OK')\n(7, 'is OK')\n(8, 'is OK')\n(9, 'is OK')\n(10, 'is OK')\n"
       }
      ],
      "source": "limit = 10\nm = 1\nwhile m <= limit:\n    n = m\n    while n != 1:\n        if n % 2 == 0:\n            n = n // 2\n        else:\n            n = 3 * n + 1\n    print(m, \"is OK\")\n    m += 1",
      "start_time": "2019-07-08T14:40:15.979Z"
     },
     {
      "end_time": "2019-07-08T14:40:47.444Z",
      "execution_time": "15ms",
      "outputs": [
       {
        "name": "stdout",
        "output_type": "stream",
        "text": "(1, 'is OK')\n(2, 'is OK')\n(3, 'is OK')\n(4, 'is OK')\n(5, 'is OK')\n(6, 'is OK')\n(7, 'is OK')\n(8, 'is OK')\n(9, 'is OK')\n(10, 'is OK')\n"
       }
      ],
      "source": "limit = 10\nm = 1\nwhile m <= limit:\n    n = m\n    while n != 1:\n        if n % 2 == 0:\n            n = n // 2\n        else:\n            n = 3 * n + 1\n    print(m, \"is OK\")\n    m += 1",
      "start_time": "2019-07-08T14:40:47.429Z"
     },
     {
      "end_time": "2019-07-08T14:40:47.444Z",
      "execution_time": "15ms",
      "outputs": [
       {
        "name": "stdout",
        "output_type": "stream",
        "text": "(1, 'is OK')\n(2, 'is OK')\n(3, 'is OK')\n(4, 'is OK')\n(5, 'is OK')\n(6, 'is OK')\n(7, 'is OK')\n(8, 'is OK')\n(9, 'is OK')\n(10, 'is OK')\n"
       }
      ],
      "source": "limit = 10\nm = 1\nwhile m <= limit:\n    n = m\n    while n != 1:\n        if n % 2 == 0:\n            n = n // 2\n        else:\n            n = 3 * n + 1\n    print(m, \"is OK\")\n    m += 1",
      "start_time": "2019-07-08T14:40:47.429Z"
     },
     {
      "end_time": "2019-07-08T14:41:58.136Z",
      "execution_time": "9ms",
      "outputs": [
       {
        "name": "stdout",
        "output_type": "stream",
        "text": "(1, 'is OK')\n(2, 'is OK')\n(3, 'is OK')\n(4, 'is OK')\n(5, 'is OK')\n(6, 'is OK')\n(7, 'is OK')\n(8, 'is OK')\n(9, 'is OK')\n(10, 'is OK')\n"
       }
      ],
      "source": "limit = 10\nm = 1\nwhile m <= limit:\n    n = m\n    while n != 1:\n        if n % 2 == 0:\n            n = n // 2\n        else:\n            n = 3 * n + 1\n    print(m, \"is OK\")\n    m += 1",
      "start_time": "2019-07-08T14:41:58.127Z"
     },
     {
      "end_time": "2019-07-08T14:41:58.136Z",
      "execution_time": "9ms",
      "outputs": [
       {
        "name": "stdout",
        "output_type": "stream",
        "text": "(1, 'is OK')\n(2, 'is OK')\n(3, 'is OK')\n(4, 'is OK')\n(5, 'is OK')\n(6, 'is OK')\n(7, 'is OK')\n(8, 'is OK')\n(9, 'is OK')\n(10, 'is OK')\n"
       }
      ],
      "source": "limit = 10\nm = 1\nwhile m <= limit:\n    n = m\n    while n != 1:\n        if n % 2 == 0:\n            n = n // 2\n        else:\n            n = 3 * n + 1\n    print(m, \"is OK\")\n    m += 1",
      "start_time": "2019-07-08T14:41:58.127Z"
     },
     {
      "end_time": "2019-07-08T14:43:11.406Z",
      "execution_time": "9ms",
      "outputs": [
       {
        "name": "stdout",
        "output_type": "stream",
        "text": "(1, 'is OK')\n(2, 'is OK')\n(3, 'is OK')\n(4, 'is OK')\n(5, 'is OK')\n(6, 'is OK')\n(7, 'is OK')\n(8, 'is OK')\n(9, 'is OK')\n(10, 'is OK')\n"
       }
      ],
      "source": "limit = 10\nm = 1\nwhile m <= limit:\n    n = m\n    while n != 1:\n        if n % 2 == 0:\n            n = n // 2\n        else:\n            n = 3 * n + 1\n    print(m, \"is OK\")\n    m += 1",
      "start_time": "2019-07-08T14:43:11.397Z"
     },
     {
      "end_time": "2019-07-08T14:43:11.406Z",
      "execution_time": "9ms",
      "outputs": [
       {
        "name": "stdout",
        "output_type": "stream",
        "text": "(1, 'is OK')\n(2, 'is OK')\n(3, 'is OK')\n(4, 'is OK')\n(5, 'is OK')\n(6, 'is OK')\n(7, 'is OK')\n(8, 'is OK')\n(9, 'is OK')\n(10, 'is OK')\n"
       }
      ],
      "source": "limit = 10\nm = 1\nwhile m <= limit:\n    n = m\n    while n != 1:\n        if n % 2 == 0:\n            n = n // 2\n        else:\n            n = 3 * n + 1\n    print(m, \"is OK\")\n    m += 1",
      "start_time": "2019-07-08T14:43:11.397Z"
     }
    ]
   },
   "outputs": [
    {
     "name": "stdout",
     "output_type": "stream",
     "text": [
      "(1, 'is OK')\n",
      "(2, 'is OK')\n",
      "(3, 'is OK')\n",
      "(4, 'is OK')\n",
      "(5, 'is OK')\n",
      "(6, 'is OK')\n",
      "(7, 'is OK')\n",
      "(8, 'is OK')\n",
      "(9, 'is OK')\n",
      "(10, 'is OK')\n"
     ]
    }
   ],
   "source": [
    "limit = 10\n",
    "m = 1\n",
    "while m <= limit:\n",
    "    n = m\n",
    "    while n != 1:\n",
    "        if n % 2 == 0:\n",
    "            n = n // 2\n",
    "        else:\n",
    "            n = 3 * n + 1\n",
    "    print(m, \"is OK\")\n",
    "    m += 1"
   ]
  },
  {
   "cell_type": "markdown",
   "metadata": {
    "provenance": [
     {
      "last_modified": "2018-06-12T08:34:10.000Z",
      "source": "When a loop goes over a simple range it is easier to use the `range` function with a `for` loop - and more robust against bugs:"
     },
     {
      "last_modified": "2019-07-08T14:40:44.691Z",
      "source": "When a loop goes over a simple range it is easier to use the `range` function with a `for` loop - and more robust against bugs:"
     },
     {
      "last_modified": "2019-07-08T14:40:44.691Z",
      "source": "When a loop goes over a simple range it is easier to use the `range` function with a `for` loop - and more robust against bugs:"
     }
    ]
   },
   "source": [
    "When a loop goes over a simple range it is easier to use the `range` function with a `for` loop - and more robust against bugs:"
   ]
  },
  {
   "cell_type": "code",
   "execution_count": 7,
   "metadata": {
    "ExecutionTime": {
     "end_time": "2019-07-08T14:43:11.423964Z",
     "start_time": "2019-07-08T14:43:11.410662Z"
    },
    "provenance": [
     {
      "end_time": "Unknown",
      "execution_time": "Unknown",
      "outputs": [
       {
        "name": "stdout",
        "output_type": "stream",
        "text": "111 109 107 105 103 101 99 "
       }
      ],
      "source": "for m in range(111, 98, -2):\n    print(m, end=\" \")",
      "start_time": "Unknown"
     },
     {
      "end_time": "2019-07-08T14:39:34.755Z",
      "execution_time": "-578ms",
      "outputs": [],
      "source": "for m in range(111, 98, -2):\n    print(m, end=\" \")",
      "start_time": "2019-07-08T14:39:35.333Z"
     },
     {
      "end_time": "2019-07-08T14:39:34.755Z",
      "execution_time": "-579ms",
      "outputs": [],
      "source": "for m in range(111, 98, -2):\n    print(m, end=\" \")",
      "start_time": "2019-07-08T14:39:35.334Z"
     },
     {
      "end_time": "2019-07-08T14:40:16.011Z",
      "execution_time": "16ms",
      "outputs": [
       {
        "ename": "SyntaxError",
        "evalue": "invalid syntax (<ipython-input-4-2885dab53a25>, line 2)",
        "output_type": "error",
        "traceback": [
         "\u001b[0;36m  File \u001b[0;32m\"<ipython-input-4-2885dab53a25>\"\u001b[0;36m, line \u001b[0;32m2\u001b[0m\n\u001b[0;31m    print(m, end=\" \")\u001b[0m\n\u001b[0m                ^\u001b[0m\n\u001b[0;31mSyntaxError\u001b[0m\u001b[0;31m:\u001b[0m invalid syntax\n"
        ]
       }
      ],
      "source": "for m in range(111, 98, -2):\n    print(m, end=\" \")",
      "start_time": "2019-07-08T14:40:15.995Z"
     },
     {
      "end_time": "2019-07-08T14:40:16.011Z",
      "execution_time": "16ms",
      "outputs": [
       {
        "ename": "SyntaxError",
        "evalue": "invalid syntax (<ipython-input-4-2885dab53a25>, line 2)",
        "output_type": "error",
        "traceback": [
         "\u001b[0;36m  File \u001b[0;32m\"<ipython-input-4-2885dab53a25>\"\u001b[0;36m, line \u001b[0;32m2\u001b[0m\n\u001b[0;31m    print(m, end=\" \")\u001b[0m\n\u001b[0m                ^\u001b[0m\n\u001b[0;31mSyntaxError\u001b[0m\u001b[0;31m:\u001b[0m invalid syntax\n"
        ]
       }
      ],
      "source": "for m in range(111, 98, -2):\n    print(m, end=\" \")",
      "start_time": "2019-07-08T14:40:15.995Z"
     },
     {
      "end_time": "2019-07-08T14:40:47.472Z",
      "execution_time": "17ms",
      "outputs": [
       {
        "ename": "SyntaxError",
        "evalue": "invalid syntax (<ipython-input-7-2885dab53a25>, line 2)",
        "output_type": "error",
        "traceback": [
         "\u001b[0;36m  File \u001b[0;32m\"<ipython-input-7-2885dab53a25>\"\u001b[0;36m, line \u001b[0;32m2\u001b[0m\n\u001b[0;31m    print(m, end=\" \")\u001b[0m\n\u001b[0m                ^\u001b[0m\n\u001b[0;31mSyntaxError\u001b[0m\u001b[0;31m:\u001b[0m invalid syntax\n"
        ]
       }
      ],
      "source": "for m in range(111, 98, -2):\n    print(m, end=\" \")",
      "start_time": "2019-07-08T14:40:47.455Z"
     },
     {
      "end_time": "2019-07-08T14:40:47.472Z",
      "execution_time": "17ms",
      "outputs": [
       {
        "ename": "SyntaxError",
        "evalue": "invalid syntax (<ipython-input-7-2885dab53a25>, line 2)",
        "output_type": "error",
        "traceback": [
         "\u001b[0;36m  File \u001b[0;32m\"<ipython-input-7-2885dab53a25>\"\u001b[0;36m, line \u001b[0;32m2\u001b[0m\n\u001b[0;31m    print(m, end=\" \")\u001b[0m\n\u001b[0m                ^\u001b[0m\n\u001b[0;31mSyntaxError\u001b[0m\u001b[0;31m:\u001b[0m invalid syntax\n"
        ]
       }
      ],
      "source": "for m in range(111, 98, -2):\n    print(m, end=\" \")",
      "start_time": "2019-07-08T14:40:47.455Z"
     },
     {
      "end_time": "2019-07-08T14:41:58.161Z",
      "execution_time": "20ms",
      "outputs": [
       {
        "ename": "SyntaxError",
        "evalue": "invalid syntax (<ipython-input-3-2885dab53a25>, line 2)",
        "output_type": "error",
        "traceback": [
         "\u001b[0;36m  File \u001b[0;32m\"<ipython-input-3-2885dab53a25>\"\u001b[0;36m, line \u001b[0;32m2\u001b[0m\n\u001b[0;31m    print(m, end=\" \")\u001b[0m\n\u001b[0m                ^\u001b[0m\n\u001b[0;31mSyntaxError\u001b[0m\u001b[0;31m:\u001b[0m invalid syntax\n"
        ]
       }
      ],
      "source": "for m in range(111, 98, -2):\n    print(m, end=\" \")",
      "start_time": "2019-07-08T14:41:58.141Z"
     },
     {
      "end_time": "2019-07-08T14:41:58.161Z",
      "execution_time": "20ms",
      "outputs": [
       {
        "ename": "SyntaxError",
        "evalue": "invalid syntax (<ipython-input-3-2885dab53a25>, line 2)",
        "output_type": "error",
        "traceback": [
         "\u001b[0;36m  File \u001b[0;32m\"<ipython-input-3-2885dab53a25>\"\u001b[0;36m, line \u001b[0;32m2\u001b[0m\n\u001b[0;31m    print(m, end=\" \")\u001b[0m\n\u001b[0m                ^\u001b[0m\n\u001b[0;31mSyntaxError\u001b[0m\u001b[0;31m:\u001b[0m invalid syntax\n"
        ]
       }
      ],
      "source": "for m in range(111, 98, -2):\n    print(m, end=\" \")",
      "start_time": "2019-07-08T14:41:58.141Z"
     },
     {
      "end_time": "2019-07-08T14:43:11.423Z",
      "execution_time": "13ms",
      "outputs": [
       {
        "name": "stdout",
        "output_type": "stream",
        "text": "111\n109\n107\n105\n103\n101\n99\n"
       }
      ],
      "source": "for m in range(111, 98, -2):\n    print(m)",
      "start_time": "2019-07-08T14:43:11.410Z"
     },
     {
      "end_time": "2019-07-08T14:43:11.423Z",
      "execution_time": "13ms",
      "outputs": [
       {
        "name": "stdout",
        "output_type": "stream",
        "text": "111\n109\n107\n105\n103\n101\n99\n"
       }
      ],
      "source": "for m in range(111, 98, -2):\n    print(m)",
      "start_time": "2019-07-08T14:43:11.410Z"
     }
    ]
   },
   "outputs": [
    {
     "name": "stdout",
     "output_type": "stream",
     "text": [
      "111\n",
      "109\n",
      "107\n",
      "105\n",
      "103\n",
      "101\n",
      "99\n"
     ]
    }
   ],
   "source": [
    "for m in range(111, 98, -2):\n",
    "    print(m)"
   ]
  },
  {
   "cell_type": "code",
   "execution_count": 8,
   "metadata": {
    "ExecutionTime": {
     "end_time": "2019-07-08T14:43:11.447838Z",
     "start_time": "2019-07-08T14:43:11.427851Z"
    },
    "provenance": [
     {
      "end_time": "Unknown",
      "execution_time": "Unknown",
      "outputs": [
       {
        "name": "stdout",
        "output_type": "stream",
        "text": "99 is OK\n100 is OK\n101 is OK\n102 is OK\n103 is OK\n104 is OK\n105 is OK\n106 is OK\n107 is OK\n108 is OK\n109 is OK\n110 is OK\n"
       }
      ],
      "source": "start, stop = 99, 110\nfor m in range(start, stop + 1):\n    n = m\n    while n != 1:\n        if n % 2 == 0:\n            n = n // 2\n        else:\n            n = 3 * n + 1\n    print(m, \"is OK\")",
      "start_time": "Unknown"
     },
     {
      "end_time": "2019-07-08T14:39:34.763Z",
      "execution_time": "-575ms",
      "outputs": [],
      "source": "start, stop = 99, 110\nfor m in range(start, stop + 1):\n    n = m\n    while n != 1:\n        if n % 2 == 0:\n            n = n // 2\n        else:\n            n = 3 * n + 1\n    print(m, \"is OK\")",
      "start_time": "2019-07-08T14:39:35.338Z"
     },
     {
      "end_time": "2019-07-08T14:39:34.763Z",
      "execution_time": "-575ms",
      "outputs": [],
      "source": "start, stop = 99, 110\nfor m in range(start, stop + 1):\n    n = m\n    while n != 1:\n        if n % 2 == 0:\n            n = n // 2\n        else:\n            n = 3 * n + 1\n    print(m, \"is OK\")",
      "start_time": "2019-07-08T14:39:35.338Z"
     },
     {
      "end_time": "2019-07-08T14:40:16.014Z",
      "execution_time": "-381ms",
      "outputs": [],
      "source": "start, stop = 99, 110\nfor m in range(start, stop + 1):\n    n = m\n    while n != 1:\n        if n % 2 == 0:\n            n = n // 2\n        else:\n            n = 3 * n + 1\n    print(m, \"is OK\")",
      "start_time": "2019-07-08T14:40:16.395Z"
     },
     {
      "end_time": "2019-07-08T14:40:16.014Z",
      "execution_time": "-382ms",
      "outputs": [],
      "source": "start, stop = 99, 110\nfor m in range(start, stop + 1):\n    n = m\n    while n != 1:\n        if n % 2 == 0:\n            n = n // 2\n        else:\n            n = 3 * n + 1\n    print(m, \"is OK\")",
      "start_time": "2019-07-08T14:40:16.396Z"
     },
     {
      "end_time": "2019-07-08T14:40:47.474Z",
      "execution_time": "-467ms",
      "outputs": [],
      "source": "start, stop = 99, 110\nfor m in range(start, stop + 1):\n    n = m\n    while n != 1:\n        if n % 2 == 0:\n            n = n // 2\n        else:\n            n = 3 * n + 1\n    print(m, \"is OK\")",
      "start_time": "2019-07-08T14:40:47.941Z"
     },
     {
      "end_time": "2019-07-08T14:40:47.474Z",
      "execution_time": "-467ms",
      "outputs": [],
      "source": "start, stop = 99, 110\nfor m in range(start, stop + 1):\n    n = m\n    while n != 1:\n        if n % 2 == 0:\n            n = n // 2\n        else:\n            n = 3 * n + 1\n    print(m, \"is OK\")",
      "start_time": "2019-07-08T14:40:47.941Z"
     },
     {
      "end_time": "2019-07-08T14:41:58.162Z",
      "execution_time": "-430ms",
      "outputs": [],
      "source": "start, stop = 99, 110\nfor m in range(start, stop + 1):\n    n = m\n    while n != 1:\n        if n % 2 == 0:\n            n = n // 2\n        else:\n            n = 3 * n + 1\n    print(m, \"is OK\")",
      "start_time": "2019-07-08T14:41:58.592Z"
     },
     {
      "end_time": "2019-07-08T14:41:58.162Z",
      "execution_time": "-431ms",
      "outputs": [],
      "source": "start, stop = 99, 110\nfor m in range(start, stop + 1):\n    n = m\n    while n != 1:\n        if n % 2 == 0:\n            n = n // 2\n        else:\n            n = 3 * n + 1\n    print(m, \"is OK\")",
      "start_time": "2019-07-08T14:41:58.593Z"
     },
     {
      "end_time": "2019-07-08T14:43:11.447Z",
      "execution_time": "20ms",
      "outputs": [
       {
        "name": "stdout",
        "output_type": "stream",
        "text": "(99, 'is OK')\n(100, 'is OK')\n(101, 'is OK')\n(102, 'is OK')\n(103, 'is OK')\n(104, 'is OK')\n(105, 'is OK')\n(106, 'is OK')\n(107, 'is OK')\n(108, 'is OK')\n(109, 'is OK')\n(110, 'is OK')\n"
       }
      ],
      "source": "start, stop = 99, 110\nfor m in range(start, stop + 1):\n    n = m\n    while n != 1:\n        if n % 2 == 0:\n            n = n // 2\n        else:\n            n = 3 * n + 1\n    print(m, \"is OK\")",
      "start_time": "2019-07-08T14:43:11.427Z"
     },
     {
      "end_time": "2019-07-08T14:43:11.447Z",
      "execution_time": "20ms",
      "outputs": [
       {
        "name": "stdout",
        "output_type": "stream",
        "text": "(99, 'is OK')\n(100, 'is OK')\n(101, 'is OK')\n(102, 'is OK')\n(103, 'is OK')\n(104, 'is OK')\n(105, 'is OK')\n(106, 'is OK')\n(107, 'is OK')\n(108, 'is OK')\n(109, 'is OK')\n(110, 'is OK')\n"
       }
      ],
      "source": "start, stop = 99, 110\nfor m in range(start, stop + 1):\n    n = m\n    while n != 1:\n        if n % 2 == 0:\n            n = n // 2\n        else:\n            n = 3 * n + 1\n    print(m, \"is OK\")",
      "start_time": "2019-07-08T14:43:11.427Z"
     }
    ]
   },
   "outputs": [
    {
     "name": "stdout",
     "output_type": "stream",
     "text": [
      "(99, 'is OK')\n",
      "(100, 'is OK')\n",
      "(101, 'is OK')\n",
      "(102, 'is OK')\n",
      "(103, 'is OK')\n",
      "(104, 'is OK')\n",
      "(105, 'is OK')\n",
      "(106, 'is OK')\n",
      "(107, 'is OK')\n",
      "(108, 'is OK')\n",
      "(109, 'is OK')\n",
      "(110, 'is OK')\n"
     ]
    }
   ],
   "source": [
    "start, stop = 99, 110\n",
    "for m in range(start, stop + 1):\n",
    "    n = m\n",
    "    while n != 1:\n",
    "        if n % 2 == 0:\n",
    "            n = n // 2\n",
    "        else:\n",
    "            n = 3 * n + 1\n",
    "    print(m, \"is OK\")"
   ]
  },
  {
   "cell_type": "markdown",
   "metadata": {
    "provenance": [
     {
      "last_modified": "2018-06-12T08:34:10.000Z",
      "source": "[![XKCD](http://imgs.xkcd.com/comics/collatz_conjecture.png)](http://xkcd.com/710/)"
     },
     {
      "last_modified": "2019-07-08T14:40:44.691Z",
      "source": "[![XKCD](http://imgs.xkcd.com/comics/collatz_conjecture.png)](http://xkcd.com/710/)"
     },
     {
      "last_modified": "2019-07-08T14:40:44.691Z",
      "source": "[![XKCD](http://imgs.xkcd.com/comics/collatz_conjecture.png)](http://xkcd.com/710/)"
     }
    ]
   },
   "source": [
    "[![XKCD](http://imgs.xkcd.com/comics/collatz_conjecture.png)](http://xkcd.com/710/)"
   ]
  },
  {
   "cell_type": "markdown",
   "metadata": {
    "provenance": [
     {
      "last_modified": "2018-06-12T08:34:10.000Z",
      "source": "## Lists\n\nLists are sequences of values. \n\nLists can contain a mix of types:"
     },
     {
      "last_modified": "2019-07-08T14:40:44.691Z",
      "source": "## Lists\n\nLists are sequences of values. \n\nLists can contain a mix of types:"
     },
     {
      "last_modified": "2019-07-08T14:40:44.691Z",
      "source": "## Lists\n\nLists are sequences of values. \n\nLists can contain a mix of types:"
     }
    ]
   },
   "source": [
    "## Lists\n",
    "\n",
    "Lists are sequences of values. \n",
    "\n",
    "Lists can contain a mix of types:"
   ]
  },
  {
   "cell_type": "code",
   "execution_count": 9,
   "metadata": {
    "ExecutionTime": {
     "end_time": "2019-07-08T14:43:11.460870Z",
     "start_time": "2019-07-08T14:43:11.451641Z"
    },
    "provenance": [
     {
      "end_time": "Unknown",
      "execution_time": "Unknown",
      "outputs": [
       {
        "name": "stdout",
        "output_type": "stream",
        "text": "[3, 5.14, 'hello', True, [5], <class 'range'>] <class 'list'>\n"
       }
      ],
      "source": "mixed_list = [3, 5.14, \"hello\", True, [5], range]\nprint(mixed_list, type(mixed_list))",
      "start_time": "Unknown"
     },
     {
      "end_time": "2019-07-08T14:39:34.771Z",
      "execution_time": "-571ms",
      "outputs": [],
      "source": "mixed_list = [3, 5.14, \"hello\", True, [5], range]\nprint(mixed_list, type(mixed_list))",
      "start_time": "2019-07-08T14:39:35.342Z"
     },
     {
      "end_time": "2019-07-08T14:39:34.771Z",
      "execution_time": "-573ms",
      "outputs": [],
      "source": "mixed_list = [3, 5.14, \"hello\", True, [5], range]\nprint(mixed_list, type(mixed_list))",
      "start_time": "2019-07-08T14:39:35.344Z"
     },
     {
      "end_time": "2019-07-08T14:40:16.017Z",
      "execution_time": "-397ms",
      "outputs": [],
      "source": "mixed_list = [3, 5.14, \"hello\", True, [5], range]\nprint(mixed_list, type(mixed_list))",
      "start_time": "2019-07-08T14:40:16.414Z"
     },
     {
      "end_time": "2019-07-08T14:40:16.017Z",
      "execution_time": "-397ms",
      "outputs": [],
      "source": "mixed_list = [3, 5.14, \"hello\", True, [5], range]\nprint(mixed_list, type(mixed_list))",
      "start_time": "2019-07-08T14:40:16.414Z"
     },
     {
      "end_time": "2019-07-08T14:40:47.476Z",
      "execution_time": "-469ms",
      "outputs": [],
      "source": "mixed_list = [3, 5.14, \"hello\", True, [5], range]\nprint(mixed_list, type(mixed_list))",
      "start_time": "2019-07-08T14:40:47.945Z"
     },
     {
      "end_time": "2019-07-08T14:40:47.476Z",
      "execution_time": "-469ms",
      "outputs": [],
      "source": "mixed_list = [3, 5.14, \"hello\", True, [5], range]\nprint(mixed_list, type(mixed_list))",
      "start_time": "2019-07-08T14:40:47.945Z"
     },
     {
      "end_time": "2019-07-08T14:41:58.165Z",
      "execution_time": "-431ms",
      "outputs": [],
      "source": "mixed_list = [3, 5.14, \"hello\", True, [5], range]\nprint(mixed_list, type(mixed_list))",
      "start_time": "2019-07-08T14:41:58.596Z"
     },
     {
      "end_time": "2019-07-08T14:41:58.165Z",
      "execution_time": "-431ms",
      "outputs": [],
      "source": "mixed_list = [3, 5.14, \"hello\", True, [5], range]\nprint(mixed_list, type(mixed_list))",
      "start_time": "2019-07-08T14:41:58.596Z"
     },
     {
      "end_time": "2019-07-08T14:43:11.460Z",
      "execution_time": "9ms",
      "outputs": [
       {
        "name": "stdout",
        "output_type": "stream",
        "text": "([3, 5.14, 'hello', True, [5], <built-in function range>], <type 'list'>)\n"
       }
      ],
      "source": "mixed_list = [3, 5.14, \"hello\", True, [5], range]\nprint(mixed_list, type(mixed_list))",
      "start_time": "2019-07-08T14:43:11.451Z"
     },
     {
      "end_time": "2019-07-08T14:43:11.460Z",
      "execution_time": "9ms",
      "outputs": [
       {
        "name": "stdout",
        "output_type": "stream",
        "text": "([3, 5.14, 'hello', True, [5], <built-in function range>], <type 'list'>)\n"
       }
      ],
      "source": "mixed_list = [3, 5.14, \"hello\", True, [5], range]\nprint(mixed_list, type(mixed_list))",
      "start_time": "2019-07-08T14:43:11.451Z"
     }
    ]
   },
   "outputs": [
    {
     "name": "stdout",
     "output_type": "stream",
     "text": [
      "([3, 5.14, 'hello', True, [5], <built-in function range>], <type 'list'>)\n"
     ]
    }
   ],
   "source": [
    "mixed_list = [3, 5.14, \"hello\", True, [5], range]\n",
    "print(mixed_list, type(mixed_list))"
   ]
  },
  {
   "cell_type": "markdown",
   "metadata": {
    "provenance": [
     {
      "last_modified": "2018-06-12T08:34:10.000Z",
      "source": "Lists are indexable, starting at 0:"
     },
     {
      "last_modified": "2019-07-08T14:40:44.691Z",
      "source": "Lists are indexable, starting at 0:"
     },
     {
      "last_modified": "2019-07-08T14:40:44.691Z",
      "source": "Lists are indexable, starting at 0:"
     }
    ]
   },
   "source": [
    "Lists are indexable, starting at 0:"
   ]
  },
  {
   "cell_type": "code",
   "execution_count": 10,
   "metadata": {
    "ExecutionTime": {
     "end_time": "2019-07-08T14:43:11.496630Z",
     "start_time": "2019-07-08T14:43:11.465746Z"
    },
    "provenance": [
     {
      "end_time": "Unknown",
      "execution_time": "Unknown",
      "outputs": [
       {
        "data": {
         "text/plain": "3"
        },
        "execution_count": 11,
        "metadata": {},
        "output_type": "execute_result"
       }
      ],
      "source": "mixed_list[0]",
      "start_time": "Unknown"
     },
     {
      "end_time": "2019-07-08T14:39:34.781Z",
      "execution_time": "-566ms",
      "outputs": [],
      "source": "mixed_list[0]",
      "start_time": "2019-07-08T14:39:35.347Z"
     },
     {
      "end_time": "2019-07-08T14:39:34.781Z",
      "execution_time": "-567ms",
      "outputs": [],
      "source": "mixed_list[0]",
      "start_time": "2019-07-08T14:39:35.348Z"
     },
     {
      "end_time": "2019-07-08T14:40:16.021Z",
      "execution_time": "-397ms",
      "outputs": [],
      "source": "mixed_list[0]",
      "start_time": "2019-07-08T14:40:16.418Z"
     },
     {
      "end_time": "2019-07-08T14:40:16.021Z",
      "execution_time": "-397ms",
      "outputs": [],
      "source": "mixed_list[0]",
      "start_time": "2019-07-08T14:40:16.418Z"
     },
     {
      "end_time": "2019-07-08T14:40:47.478Z",
      "execution_time": "-469ms",
      "outputs": [],
      "source": "mixed_list[0]",
      "start_time": "2019-07-08T14:40:47.947Z"
     },
     {
      "end_time": "2019-07-08T14:40:47.478Z",
      "execution_time": "-470ms",
      "outputs": [],
      "source": "mixed_list[0]",
      "start_time": "2019-07-08T14:40:47.948Z"
     },
     {
      "end_time": "2019-07-08T14:41:58.168Z",
      "execution_time": "-429ms",
      "outputs": [],
      "source": "mixed_list[0]",
      "start_time": "2019-07-08T14:41:58.597Z"
     },
     {
      "end_time": "2019-07-08T14:41:58.168Z",
      "execution_time": "-431ms",
      "outputs": [],
      "source": "mixed_list[0]",
      "start_time": "2019-07-08T14:41:58.599Z"
     },
     {
      "end_time": "2019-07-08T14:43:11.496Z",
      "execution_time": "31ms",
      "outputs": [
       {
        "data": {
         "text/plain": "3"
        },
        "execution_count": 10,
        "metadata": {},
        "output_type": "execute_result"
       }
      ],
      "source": "mixed_list[0]",
      "start_time": "2019-07-08T14:43:11.465Z"
     },
     {
      "end_time": "2019-07-08T14:43:11.496Z",
      "execution_time": "31ms",
      "outputs": [
       {
        "data": {
         "text/plain": "3"
        },
        "execution_count": 10,
        "metadata": {},
        "output_type": "execute_result"
       }
      ],
      "source": "mixed_list[0]",
      "start_time": "2019-07-08T14:43:11.465Z"
     }
    ]
   },
   "outputs": [
    {
     "data": {
      "text/plain": [
       "3"
      ]
     },
     "execution_count": 10,
     "metadata": {},
     "output_type": "execute_result"
    }
   ],
   "source": [
    "mixed_list[0]"
   ]
  },
  {
   "cell_type": "code",
   "execution_count": 11,
   "metadata": {
    "ExecutionTime": {
     "end_time": "2019-07-08T14:43:11.507105Z",
     "start_time": "2019-07-08T14:43:11.500887Z"
    },
    "provenance": [
     {
      "end_time": "Unknown",
      "execution_time": "Unknown",
      "outputs": [
       {
        "data": {
         "text/plain": "'hello'"
        },
        "execution_count": 12,
        "metadata": {},
        "output_type": "execute_result"
       }
      ],
      "source": "mixed_list[2]",
      "start_time": "Unknown"
     },
     {
      "end_time": "2019-07-08T14:39:34.793Z",
      "execution_time": "-556ms",
      "outputs": [],
      "source": "mixed_list[2]",
      "start_time": "2019-07-08T14:39:35.349Z"
     },
     {
      "end_time": "2019-07-08T14:39:34.793Z",
      "execution_time": "-557ms",
      "outputs": [],
      "source": "mixed_list[2]",
      "start_time": "2019-07-08T14:39:35.350Z"
     },
     {
      "end_time": "2019-07-08T14:40:16.025Z",
      "execution_time": "-399ms",
      "outputs": [],
      "source": "mixed_list[2]",
      "start_time": "2019-07-08T14:40:16.424Z"
     },
     {
      "end_time": "2019-07-08T14:40:16.025Z",
      "execution_time": "-399ms",
      "outputs": [],
      "source": "mixed_list[2]",
      "start_time": "2019-07-08T14:40:16.424Z"
     },
     {
      "end_time": "2019-07-08T14:40:47.480Z",
      "execution_time": "-470ms",
      "outputs": [],
      "source": "mixed_list[2]",
      "start_time": "2019-07-08T14:40:47.950Z"
     },
     {
      "end_time": "2019-07-08T14:40:47.480Z",
      "execution_time": "-470ms",
      "outputs": [],
      "source": "mixed_list[2]",
      "start_time": "2019-07-08T14:40:47.950Z"
     },
     {
      "end_time": "2019-07-08T14:41:58.179Z",
      "execution_time": "-422ms",
      "outputs": [],
      "source": "mixed_list[2]",
      "start_time": "2019-07-08T14:41:58.601Z"
     },
     {
      "end_time": "2019-07-08T14:41:58.179Z",
      "execution_time": "-422ms",
      "outputs": [],
      "source": "mixed_list[2]",
      "start_time": "2019-07-08T14:41:58.601Z"
     },
     {
      "end_time": "2019-07-08T14:43:11.507Z",
      "execution_time": "7ms",
      "outputs": [
       {
        "data": {
         "text/plain": "'hello'"
        },
        "execution_count": 11,
        "metadata": {},
        "output_type": "execute_result"
       }
      ],
      "source": "mixed_list[2]",
      "start_time": "2019-07-08T14:43:11.500Z"
     },
     {
      "end_time": "2019-07-08T14:43:11.507Z",
      "execution_time": "7ms",
      "outputs": [
       {
        "data": {
         "text/plain": "'hello'"
        },
        "execution_count": 11,
        "metadata": {},
        "output_type": "execute_result"
       }
      ],
      "source": "mixed_list[2]",
      "start_time": "2019-07-08T14:43:11.500Z"
     }
    ]
   },
   "outputs": [
    {
     "data": {
      "text/plain": [
       "'hello'"
      ]
     },
     "execution_count": 11,
     "metadata": {},
     "output_type": "execute_result"
    }
   ],
   "source": [
    "mixed_list[2]"
   ]
  },
  {
   "cell_type": "markdown",
   "metadata": {
    "provenance": [
     {
      "last_modified": "2018-06-12T08:34:10.000Z",
      "source": "Negative indices are counted from the tail:"
     },
     {
      "last_modified": "2019-07-08T14:40:44.691Z",
      "source": "Negative indices are counted from the tail:"
     },
     {
      "last_modified": "2019-07-08T14:40:44.691Z",
      "source": "Negative indices are counted from the tail:"
     }
    ]
   },
   "source": [
    "Negative indices are counted from the tail:"
   ]
  },
  {
   "cell_type": "code",
   "execution_count": 12,
   "metadata": {
    "ExecutionTime": {
     "end_time": "2019-07-08T14:43:11.523043Z",
     "start_time": "2019-07-08T14:43:11.510698Z"
    },
    "provenance": [
     {
      "end_time": "Unknown",
      "execution_time": "Unknown",
      "outputs": [
       {
        "data": {
         "text/plain": "builtins.range"
        },
        "execution_count": 3,
        "metadata": {},
        "output_type": "execute_result"
       }
      ],
      "source": "mixed_list[-1]",
      "start_time": "Unknown"
     },
     {
      "end_time": "2019-07-08T14:39:34.798Z",
      "execution_time": "-557ms",
      "outputs": [],
      "source": "mixed_list[-1]",
      "start_time": "2019-07-08T14:39:35.355Z"
     },
     {
      "end_time": "2019-07-08T14:39:34.798Z",
      "execution_time": "-558ms",
      "outputs": [],
      "source": "mixed_list[-1]",
      "start_time": "2019-07-08T14:39:35.356Z"
     },
     {
      "end_time": "2019-07-08T14:40:16.027Z",
      "execution_time": "-400ms",
      "outputs": [],
      "source": "mixed_list[-1]",
      "start_time": "2019-07-08T14:40:16.427Z"
     },
     {
      "end_time": "2019-07-08T14:40:16.027Z",
      "execution_time": "-400ms",
      "outputs": [],
      "source": "mixed_list[-1]",
      "start_time": "2019-07-08T14:40:16.427Z"
     },
     {
      "end_time": "2019-07-08T14:40:47.483Z",
      "execution_time": "-469ms",
      "outputs": [],
      "source": "mixed_list[-1]",
      "start_time": "2019-07-08T14:40:47.952Z"
     },
     {
      "end_time": "2019-07-08T14:40:47.483Z",
      "execution_time": "-469ms",
      "outputs": [],
      "source": "mixed_list[-1]",
      "start_time": "2019-07-08T14:40:47.952Z"
     },
     {
      "end_time": "2019-07-08T14:41:58.183Z",
      "execution_time": "-420ms",
      "outputs": [],
      "source": "mixed_list[-1]",
      "start_time": "2019-07-08T14:41:58.603Z"
     },
     {
      "end_time": "2019-07-08T14:41:58.183Z",
      "execution_time": "-420ms",
      "outputs": [],
      "source": "mixed_list[-1]",
      "start_time": "2019-07-08T14:41:58.603Z"
     },
     {
      "end_time": "2019-07-08T14:43:11.523Z",
      "execution_time": "13ms",
      "outputs": [
       {
        "data": {
         "text/plain": "<function range>"
        },
        "execution_count": 12,
        "metadata": {},
        "output_type": "execute_result"
       }
      ],
      "source": "mixed_list[-1]",
      "start_time": "2019-07-08T14:43:11.510Z"
     },
     {
      "end_time": "2019-07-08T14:43:11.523Z",
      "execution_time": "13ms",
      "outputs": [
       {
        "data": {
         "text/plain": "<function range>"
        },
        "execution_count": 12,
        "metadata": {},
        "output_type": "execute_result"
       }
      ],
      "source": "mixed_list[-1]",
      "start_time": "2019-07-08T14:43:11.510Z"
     }
    ]
   },
   "outputs": [
    {
     "data": {
      "text/plain": [
       "<function range>"
      ]
     },
     "execution_count": 12,
     "metadata": {},
     "output_type": "execute_result"
    }
   ],
   "source": [
    "mixed_list[-1]"
   ]
  },
  {
   "cell_type": "code",
   "execution_count": 13,
   "metadata": {
    "ExecutionTime": {
     "end_time": "2019-07-08T14:43:11.539025Z",
     "start_time": "2019-07-08T14:43:11.527920Z"
    },
    "provenance": [
     {
      "end_time": "Unknown",
      "execution_time": "Unknown",
      "outputs": [
       {
        "data": {
         "text/plain": "False"
        },
        "execution_count": 4,
        "metadata": {},
        "output_type": "execute_result"
       }
      ],
      "source": "mixed_list[-2] == mixed_list[2]",
      "start_time": "Unknown"
     },
     {
      "end_time": "2019-07-08T14:39:34.813Z",
      "execution_time": "-544ms",
      "outputs": [],
      "source": "mixed_list[-2] == mixed_list[2]",
      "start_time": "2019-07-08T14:39:35.357Z"
     },
     {
      "end_time": "2019-07-08T14:39:34.813Z",
      "execution_time": "-544ms",
      "outputs": [],
      "source": "mixed_list[-2] == mixed_list[2]",
      "start_time": "2019-07-08T14:39:35.357Z"
     },
     {
      "end_time": "2019-07-08T14:40:16.031Z",
      "execution_time": "-400ms",
      "outputs": [],
      "source": "mixed_list[-2] == mixed_list[2]",
      "start_time": "2019-07-08T14:40:16.431Z"
     },
     {
      "end_time": "2019-07-08T14:40:16.031Z",
      "execution_time": "-401ms",
      "outputs": [],
      "source": "mixed_list[-2] == mixed_list[2]",
      "start_time": "2019-07-08T14:40:16.432Z"
     },
     {
      "end_time": "2019-07-08T14:40:47.485Z",
      "execution_time": "-470ms",
      "outputs": [],
      "source": "mixed_list[-2] == mixed_list[2]",
      "start_time": "2019-07-08T14:40:47.955Z"
     },
     {
      "end_time": "2019-07-08T14:40:47.485Z",
      "execution_time": "-470ms",
      "outputs": [],
      "source": "mixed_list[-2] == mixed_list[2]",
      "start_time": "2019-07-08T14:40:47.955Z"
     },
     {
      "end_time": "2019-07-08T14:41:58.185Z",
      "execution_time": "-420ms",
      "outputs": [],
      "source": "mixed_list[-2] == mixed_list[2]",
      "start_time": "2019-07-08T14:41:58.605Z"
     },
     {
      "end_time": "2019-07-08T14:41:58.185Z",
      "execution_time": "-420ms",
      "outputs": [],
      "source": "mixed_list[-2] == mixed_list[2]",
      "start_time": "2019-07-08T14:41:58.605Z"
     },
     {
      "end_time": "2019-07-08T14:43:11.539Z",
      "execution_time": "12ms",
      "outputs": [
       {
        "data": {
         "text/plain": "False"
        },
        "execution_count": 13,
        "metadata": {},
        "output_type": "execute_result"
       }
      ],
      "source": "mixed_list[-2] == mixed_list[2]",
      "start_time": "2019-07-08T14:43:11.527Z"
     },
     {
      "end_time": "2019-07-08T14:43:11.539Z",
      "execution_time": "12ms",
      "outputs": [
       {
        "data": {
         "text/plain": "False"
        },
        "execution_count": 13,
        "metadata": {},
        "output_type": "execute_result"
       }
      ],
      "source": "mixed_list[-2] == mixed_list[2]",
      "start_time": "2019-07-08T14:43:11.527Z"
     }
    ]
   },
   "outputs": [
    {
     "data": {
      "text/plain": [
       "False"
      ]
     },
     "execution_count": 13,
     "metadata": {},
     "output_type": "execute_result"
    }
   ],
   "source": [
    "mixed_list[-2] == mixed_list[2]"
   ]
  },
  {
   "cell_type": "markdown",
   "metadata": {
    "provenance": [
     {
      "last_modified": "2018-06-12T08:34:10.000Z",
      "source": "Lists can be sliced:"
     },
     {
      "last_modified": "2019-07-08T14:40:44.691Z",
      "source": "Lists can be sliced:"
     },
     {
      "last_modified": "2019-07-08T14:40:44.691Z",
      "source": "Lists can be sliced:"
     }
    ]
   },
   "source": [
    "Lists can be sliced:"
   ]
  },
  {
   "cell_type": "code",
   "execution_count": 14,
   "metadata": {
    "ExecutionTime": {
     "end_time": "2019-07-08T14:43:11.555446Z",
     "start_time": "2019-07-08T14:43:11.542938Z"
    },
    "provenance": [
     {
      "end_time": "Unknown",
      "execution_time": "Unknown",
      "outputs": [
       {
        "data": {
         "text/plain": "[5.14, 'hello']"
        },
        "execution_count": 5,
        "metadata": {},
        "output_type": "execute_result"
       }
      ],
      "source": "mixed_list[1:3]",
      "start_time": "Unknown"
     },
     {
      "end_time": "2019-07-08T14:39:34.817Z",
      "execution_time": "-542ms",
      "outputs": [],
      "source": "mixed_list[1:3]",
      "start_time": "2019-07-08T14:39:35.359Z"
     },
     {
      "end_time": "2019-07-08T14:39:34.817Z",
      "execution_time": "-542ms",
      "outputs": [],
      "source": "mixed_list[1:3]",
      "start_time": "2019-07-08T14:39:35.359Z"
     },
     {
      "end_time": "2019-07-08T14:40:16.033Z",
      "execution_time": "-402ms",
      "outputs": [],
      "source": "mixed_list[1:3]",
      "start_time": "2019-07-08T14:40:16.435Z"
     },
     {
      "end_time": "2019-07-08T14:40:16.033Z",
      "execution_time": "-402ms",
      "outputs": [],
      "source": "mixed_list[1:3]",
      "start_time": "2019-07-08T14:40:16.435Z"
     },
     {
      "end_time": "2019-07-08T14:40:47.494Z",
      "execution_time": "-463ms",
      "outputs": [],
      "source": "mixed_list[1:3]",
      "start_time": "2019-07-08T14:40:47.957Z"
     },
     {
      "end_time": "2019-07-08T14:40:47.494Z",
      "execution_time": "-463ms",
      "outputs": [],
      "source": "mixed_list[1:3]",
      "start_time": "2019-07-08T14:40:47.957Z"
     },
     {
      "end_time": "2019-07-08T14:41:58.188Z",
      "execution_time": "-419ms",
      "outputs": [],
      "source": "mixed_list[1:3]",
      "start_time": "2019-07-08T14:41:58.607Z"
     },
     {
      "end_time": "2019-07-08T14:41:58.188Z",
      "execution_time": "-419ms",
      "outputs": [],
      "source": "mixed_list[1:3]",
      "start_time": "2019-07-08T14:41:58.607Z"
     },
     {
      "end_time": "2019-07-08T14:43:11.555Z",
      "execution_time": "13ms",
      "outputs": [
       {
        "data": {
         "text/plain": "[5.14, 'hello']"
        },
        "execution_count": 14,
        "metadata": {},
        "output_type": "execute_result"
       }
      ],
      "source": "mixed_list[1:3]",
      "start_time": "2019-07-08T14:43:11.542Z"
     },
     {
      "end_time": "2019-07-08T14:43:11.555Z",
      "execution_time": "13ms",
      "outputs": [
       {
        "data": {
         "text/plain": "[5.14, 'hello']"
        },
        "execution_count": 14,
        "metadata": {},
        "output_type": "execute_result"
       }
      ],
      "source": "mixed_list[1:3]",
      "start_time": "2019-07-08T14:43:11.542Z"
     }
    ]
   },
   "outputs": [
    {
     "data": {
      "text/plain": [
       "[5.14, 'hello']"
      ]
     },
     "execution_count": 14,
     "metadata": {},
     "output_type": "execute_result"
    }
   ],
   "source": [
    "mixed_list[1:3]"
   ]
  },
  {
   "cell_type": "code",
   "execution_count": 15,
   "metadata": {
    "ExecutionTime": {
     "end_time": "2019-07-08T14:43:11.571602Z",
     "start_time": "2019-07-08T14:43:11.560959Z"
    },
    "provenance": [
     {
      "end_time": "Unknown",
      "execution_time": "Unknown",
      "outputs": [
       {
        "data": {
         "text/plain": "[3, 5.14]"
        },
        "execution_count": 21,
        "metadata": {},
        "output_type": "execute_result"
       }
      ],
      "source": "mixed_list[:2]",
      "start_time": "Unknown"
     },
     {
      "end_time": "2019-07-08T14:39:34.820Z",
      "execution_time": "-542ms",
      "outputs": [],
      "source": "mixed_list[:2]",
      "start_time": "2019-07-08T14:39:35.362Z"
     },
     {
      "end_time": "2019-07-08T14:39:34.820Z",
      "execution_time": "-543ms",
      "outputs": [],
      "source": "mixed_list[:2]",
      "start_time": "2019-07-08T14:39:35.363Z"
     },
     {
      "end_time": "2019-07-08T14:40:16.036Z",
      "execution_time": "-401ms",
      "outputs": [],
      "source": "mixed_list[:2]",
      "start_time": "2019-07-08T14:40:16.437Z"
     },
     {
      "end_time": "2019-07-08T14:40:16.036Z",
      "execution_time": "-401ms",
      "outputs": [],
      "source": "mixed_list[:2]",
      "start_time": "2019-07-08T14:40:16.437Z"
     },
     {
      "end_time": "2019-07-08T14:40:47.505Z",
      "execution_time": "-456ms",
      "outputs": [],
      "source": "mixed_list[:2]",
      "start_time": "2019-07-08T14:40:47.961Z"
     },
     {
      "end_time": "2019-07-08T14:40:47.505Z",
      "execution_time": "-456ms",
      "outputs": [],
      "source": "mixed_list[:2]",
      "start_time": "2019-07-08T14:40:47.961Z"
     },
     {
      "end_time": "2019-07-08T14:41:58.191Z",
      "execution_time": "-433ms",
      "outputs": [],
      "source": "mixed_list[:2]",
      "start_time": "2019-07-08T14:41:58.624Z"
     },
     {
      "end_time": "2019-07-08T14:41:58.191Z",
      "execution_time": "-435ms",
      "outputs": [],
      "source": "mixed_list[:2]",
      "start_time": "2019-07-08T14:41:58.626Z"
     },
     {
      "end_time": "2019-07-08T14:43:11.571Z",
      "execution_time": "11ms",
      "outputs": [
       {
        "data": {
         "text/plain": "[3, 5.14]"
        },
        "execution_count": 15,
        "metadata": {},
        "output_type": "execute_result"
       }
      ],
      "source": "mixed_list[:2]",
      "start_time": "2019-07-08T14:43:11.560Z"
     },
     {
      "end_time": "2019-07-08T14:43:11.571Z",
      "execution_time": "11ms",
      "outputs": [
       {
        "data": {
         "text/plain": "[3, 5.14]"
        },
        "execution_count": 15,
        "metadata": {},
        "output_type": "execute_result"
       }
      ],
      "source": "mixed_list[:2]",
      "start_time": "2019-07-08T14:43:11.560Z"
     }
    ]
   },
   "outputs": [
    {
     "data": {
      "text/plain": [
       "[3, 5.14]"
      ]
     },
     "execution_count": 15,
     "metadata": {},
     "output_type": "execute_result"
    }
   ],
   "source": [
    "mixed_list[:2]"
   ]
  },
  {
   "cell_type": "code",
   "execution_count": 16,
   "metadata": {
    "ExecutionTime": {
     "end_time": "2019-07-08T14:43:11.587495Z",
     "start_time": "2019-07-08T14:43:11.577414Z"
    },
    "provenance": [
     {
      "end_time": "Unknown",
      "execution_time": "Unknown",
      "outputs": [
       {
        "data": {
         "text/plain": "[5.14, 'hello', True, [5], builtins.range]"
        },
        "execution_count": 6,
        "metadata": {},
        "output_type": "execute_result"
       }
      ],
      "source": "mixed_list[1:]",
      "start_time": "Unknown"
     },
     {
      "end_time": "2019-07-08T14:39:34.833Z",
      "execution_time": "-532ms",
      "outputs": [],
      "source": "mixed_list[1:]",
      "start_time": "2019-07-08T14:39:35.365Z"
     },
     {
      "end_time": "2019-07-08T14:39:34.833Z",
      "execution_time": "-532ms",
      "outputs": [],
      "source": "mixed_list[1:]",
      "start_time": "2019-07-08T14:39:35.365Z"
     },
     {
      "end_time": "2019-07-08T14:40:16.040Z",
      "execution_time": "-400ms",
      "outputs": [],
      "source": "mixed_list[1:]",
      "start_time": "2019-07-08T14:40:16.440Z"
     },
     {
      "end_time": "2019-07-08T14:40:16.040Z",
      "execution_time": "-401ms",
      "outputs": [],
      "source": "mixed_list[1:]",
      "start_time": "2019-07-08T14:40:16.441Z"
     },
     {
      "end_time": "2019-07-08T14:40:47.507Z",
      "execution_time": "-458ms",
      "outputs": [],
      "source": "mixed_list[1:]",
      "start_time": "2019-07-08T14:40:47.965Z"
     },
     {
      "end_time": "2019-07-08T14:40:47.507Z",
      "execution_time": "-458ms",
      "outputs": [],
      "source": "mixed_list[1:]",
      "start_time": "2019-07-08T14:40:47.965Z"
     },
     {
      "end_time": "2019-07-08T14:41:58.193Z",
      "execution_time": "-457ms",
      "outputs": [],
      "source": "mixed_list[1:]",
      "start_time": "2019-07-08T14:41:58.650Z"
     },
     {
      "end_time": "2019-07-08T14:41:58.193Z",
      "execution_time": "-458ms",
      "outputs": [],
      "source": "mixed_list[1:]",
      "start_time": "2019-07-08T14:41:58.651Z"
     },
     {
      "end_time": "2019-07-08T14:43:11.587Z",
      "execution_time": "10ms",
      "outputs": [
       {
        "data": {
         "text/plain": "[5.14, 'hello', True, [5], <function range>]"
        },
        "execution_count": 16,
        "metadata": {},
        "output_type": "execute_result"
       }
      ],
      "source": "mixed_list[1:]",
      "start_time": "2019-07-08T14:43:11.577Z"
     },
     {
      "end_time": "2019-07-08T14:43:11.587Z",
      "execution_time": "10ms",
      "outputs": [
       {
        "data": {
         "text/plain": "[5.14, 'hello', True, [5], <function range>]"
        },
        "execution_count": 16,
        "metadata": {},
        "output_type": "execute_result"
       }
      ],
      "source": "mixed_list[1:]",
      "start_time": "2019-07-08T14:43:11.577Z"
     }
    ]
   },
   "outputs": [
    {
     "data": {
      "text/plain": [
       "[5.14, 'hello', True, [5], <function range>]"
      ]
     },
     "execution_count": 16,
     "metadata": {},
     "output_type": "execute_result"
    }
   ],
   "source": [
    "mixed_list[1:]"
   ]
  },
  {
   "cell_type": "code",
   "execution_count": 17,
   "metadata": {
    "ExecutionTime": {
     "end_time": "2019-07-08T14:43:11.604916Z",
     "start_time": "2019-07-08T14:43:11.593470Z"
    },
    "provenance": [
     {
      "end_time": "Unknown",
      "execution_time": "Unknown",
      "outputs": [
       {
        "data": {
         "text/plain": "[3, 5.14, 'hello', True]"
        },
        "execution_count": 7,
        "metadata": {},
        "output_type": "execute_result"
       }
      ],
      "source": "mixed_list[:-2]",
      "start_time": "Unknown"
     },
     {
      "end_time": "2019-07-08T14:39:34.838Z",
      "execution_time": "-529ms",
      "outputs": [],
      "source": "mixed_list[:-2]",
      "start_time": "2019-07-08T14:39:35.367Z"
     },
     {
      "end_time": "2019-07-08T14:39:34.838Z",
      "execution_time": "-529ms",
      "outputs": [],
      "source": "mixed_list[:-2]",
      "start_time": "2019-07-08T14:39:35.367Z"
     },
     {
      "end_time": "2019-07-08T14:40:16.042Z",
      "execution_time": "-405ms",
      "outputs": [],
      "source": "mixed_list[:-2]",
      "start_time": "2019-07-08T14:40:16.447Z"
     },
     {
      "end_time": "2019-07-08T14:40:16.042Z",
      "execution_time": "-406ms",
      "outputs": [],
      "source": "mixed_list[:-2]",
      "start_time": "2019-07-08T14:40:16.448Z"
     },
     {
      "end_time": "2019-07-08T14:40:47.510Z",
      "execution_time": "-482ms",
      "outputs": [],
      "source": "mixed_list[:-2]",
      "start_time": "2019-07-08T14:40:47.992Z"
     },
     {
      "end_time": "2019-07-08T14:40:47.510Z",
      "execution_time": "-482ms",
      "outputs": [],
      "source": "mixed_list[:-2]",
      "start_time": "2019-07-08T14:40:47.992Z"
     },
     {
      "end_time": "2019-07-08T14:41:58.200Z",
      "execution_time": "-454ms",
      "outputs": [],
      "source": "mixed_list[:-2]",
      "start_time": "2019-07-08T14:41:58.654Z"
     },
     {
      "end_time": "2019-07-08T14:41:58.200Z",
      "execution_time": "-455ms",
      "outputs": [],
      "source": "mixed_list[:-2]",
      "start_time": "2019-07-08T14:41:58.655Z"
     },
     {
      "end_time": "2019-07-08T14:43:11.604Z",
      "execution_time": "11ms",
      "outputs": [
       {
        "data": {
         "text/plain": "[3, 5.14, 'hello', True]"
        },
        "execution_count": 17,
        "metadata": {},
        "output_type": "execute_result"
       }
      ],
      "source": "mixed_list[:-2]",
      "start_time": "2019-07-08T14:43:11.593Z"
     },
     {
      "end_time": "2019-07-08T14:43:11.604Z",
      "execution_time": "11ms",
      "outputs": [
       {
        "data": {
         "text/plain": "[3, 5.14, 'hello', True]"
        },
        "execution_count": 17,
        "metadata": {},
        "output_type": "execute_result"
       }
      ],
      "source": "mixed_list[:-2]",
      "start_time": "2019-07-08T14:43:11.593Z"
     }
    ]
   },
   "outputs": [
    {
     "data": {
      "text/plain": [
       "[3, 5.14, 'hello', True]"
      ]
     },
     "execution_count": 17,
     "metadata": {},
     "output_type": "execute_result"
    }
   ],
   "source": [
    "mixed_list[:-2]"
   ]
  },
  {
   "cell_type": "code",
   "execution_count": 18,
   "metadata": {
    "ExecutionTime": {
     "end_time": "2019-07-08T14:43:11.622609Z",
     "start_time": "2019-07-08T14:43:11.609862Z"
    },
    "provenance": [
     {
      "end_time": "Unknown",
      "execution_time": "Unknown",
      "outputs": [
       {
        "data": {
         "text/plain": "[3]"
        },
        "execution_count": 10,
        "metadata": {},
        "output_type": "execute_result"
       }
      ],
      "source": "mixed_list[:1]",
      "start_time": "Unknown"
     },
     {
      "end_time": "2019-07-08T14:39:34.850Z",
      "execution_time": "-520ms",
      "outputs": [],
      "source": "mixed_list[:1]",
      "start_time": "2019-07-08T14:39:35.370Z"
     },
     {
      "end_time": "2019-07-08T14:39:34.850Z",
      "execution_time": "-520ms",
      "outputs": [],
      "source": "mixed_list[:1]",
      "start_time": "2019-07-08T14:39:35.370Z"
     },
     {
      "end_time": "2019-07-08T14:40:16.044Z",
      "execution_time": "-410ms",
      "outputs": [],
      "source": "mixed_list[:1]",
      "start_time": "2019-07-08T14:40:16.454Z"
     },
     {
      "end_time": "2019-07-08T14:40:16.044Z",
      "execution_time": "-410ms",
      "outputs": [],
      "source": "mixed_list[:1]",
      "start_time": "2019-07-08T14:40:16.454Z"
     },
     {
      "end_time": "2019-07-08T14:40:47.515Z",
      "execution_time": "-481ms",
      "outputs": [],
      "source": "mixed_list[:1]",
      "start_time": "2019-07-08T14:40:47.996Z"
     },
     {
      "end_time": "2019-07-08T14:40:47.515Z",
      "execution_time": "-481ms",
      "outputs": [],
      "source": "mixed_list[:1]",
      "start_time": "2019-07-08T14:40:47.996Z"
     },
     {
      "end_time": "2019-07-08T14:41:58.207Z",
      "execution_time": "-451ms",
      "outputs": [],
      "source": "mixed_list[:1]",
      "start_time": "2019-07-08T14:41:58.658Z"
     },
     {
      "end_time": "2019-07-08T14:41:58.207Z",
      "execution_time": "-451ms",
      "outputs": [],
      "source": "mixed_list[:1]",
      "start_time": "2019-07-08T14:41:58.658Z"
     },
     {
      "end_time": "2019-07-08T14:43:11.622Z",
      "execution_time": "13ms",
      "outputs": [
       {
        "data": {
         "text/plain": "[3]"
        },
        "execution_count": 18,
        "metadata": {},
        "output_type": "execute_result"
       }
      ],
      "source": "mixed_list[:1]",
      "start_time": "2019-07-08T14:43:11.609Z"
     },
     {
      "end_time": "2019-07-08T14:43:11.622Z",
      "execution_time": "13ms",
      "outputs": [
       {
        "data": {
         "text/plain": "[3]"
        },
        "execution_count": 18,
        "metadata": {},
        "output_type": "execute_result"
       }
      ],
      "source": "mixed_list[:1]",
      "start_time": "2019-07-08T14:43:11.609Z"
     }
    ]
   },
   "outputs": [
    {
     "data": {
      "text/plain": [
       "[3]"
      ]
     },
     "execution_count": 18,
     "metadata": {},
     "output_type": "execute_result"
    }
   ],
   "source": [
    "mixed_list[:1]"
   ]
  },
  {
   "cell_type": "code",
   "execution_count": 19,
   "metadata": {
    "ExecutionTime": {
     "end_time": "2019-07-08T14:43:11.636139Z",
     "start_time": "2019-07-08T14:43:11.626739Z"
    },
    "provenance": [
     {
      "end_time": "Unknown",
      "execution_time": "Unknown",
      "outputs": [
       {
        "data": {
         "text/plain": "[]"
        },
        "execution_count": 12,
        "metadata": {},
        "output_type": "execute_result"
       }
      ],
      "source": "mixed_list[7:8]",
      "start_time": "Unknown"
     },
     {
      "end_time": "2019-07-08T14:39:34.866Z",
      "execution_time": "-506ms",
      "outputs": [],
      "source": "mixed_list[7:8]",
      "start_time": "2019-07-08T14:39:35.372Z"
     },
     {
      "end_time": "2019-07-08T14:39:34.866Z",
      "execution_time": "-507ms",
      "outputs": [],
      "source": "mixed_list[7:8]",
      "start_time": "2019-07-08T14:39:35.373Z"
     },
     {
      "end_time": "2019-07-08T14:40:16.048Z",
      "execution_time": "-412ms",
      "outputs": [],
      "source": "mixed_list[7:8]",
      "start_time": "2019-07-08T14:40:16.460Z"
     },
     {
      "end_time": "2019-07-08T14:40:16.048Z",
      "execution_time": "-412ms",
      "outputs": [],
      "source": "mixed_list[7:8]",
      "start_time": "2019-07-08T14:40:16.460Z"
     },
     {
      "end_time": "2019-07-08T14:40:47.517Z",
      "execution_time": "-481ms",
      "outputs": [],
      "source": "mixed_list[7:8]",
      "start_time": "2019-07-08T14:40:47.998Z"
     },
     {
      "end_time": "2019-07-08T14:40:47.517Z",
      "execution_time": "-482ms",
      "outputs": [],
      "source": "mixed_list[7:8]",
      "start_time": "2019-07-08T14:40:47.999Z"
     },
     {
      "end_time": "2019-07-08T14:41:58.209Z",
      "execution_time": "-456ms",
      "outputs": [],
      "source": "mixed_list[7:8]",
      "start_time": "2019-07-08T14:41:58.665Z"
     },
     {
      "end_time": "2019-07-08T14:41:58.209Z",
      "execution_time": "-456ms",
      "outputs": [],
      "source": "mixed_list[7:8]",
      "start_time": "2019-07-08T14:41:58.665Z"
     },
     {
      "end_time": "2019-07-08T14:43:11.636Z",
      "execution_time": "10ms",
      "outputs": [
       {
        "data": {
         "text/plain": "[]"
        },
        "execution_count": 19,
        "metadata": {},
        "output_type": "execute_result"
       }
      ],
      "source": "mixed_list[7:8]",
      "start_time": "2019-07-08T14:43:11.626Z"
     },
     {
      "end_time": "2019-07-08T14:43:11.636Z",
      "execution_time": "10ms",
      "outputs": [
       {
        "data": {
         "text/plain": "[]"
        },
        "execution_count": 19,
        "metadata": {},
        "output_type": "execute_result"
       }
      ],
      "source": "mixed_list[7:8]",
      "start_time": "2019-07-08T14:43:11.626Z"
     }
    ]
   },
   "outputs": [
    {
     "data": {
      "text/plain": [
       "[]"
      ]
     },
     "execution_count": 19,
     "metadata": {},
     "output_type": "execute_result"
    }
   ],
   "source": [
    "mixed_list[7:8]"
   ]
  },
  {
   "cell_type": "code",
   "execution_count": 20,
   "metadata": {
    "ExecutionTime": {
     "end_time": "2019-07-08T14:43:11.732169Z",
     "start_time": "2019-07-08T14:43:11.640939Z"
    },
    "provenance": [
     {
      "end_time": "Unknown",
      "execution_time": "Unknown",
      "outputs": [
       {
        "ename": "IndexError",
        "evalue": "list index out of range",
        "output_type": "error",
        "traceback": [
         "\u001b[1;31m---------------------------------------------------------------------------\u001b[0m\n\u001b[1;31mIndexError\u001b[0m                                Traceback (most recent call last)",
         "\u001b[1;32m<ipython-input-13-d8a75e7ae27c>\u001b[0m in \u001b[0;36m<module>\u001b[1;34m()\u001b[0m\n\u001b[1;32m----> 1\u001b[1;33m \u001b[0mmixed_list\u001b[0m\u001b[1;33m[\u001b[0m\u001b[1;36m7\u001b[0m\u001b[1;33m]\u001b[0m\u001b[1;33m\u001b[0m\u001b[0m\n\u001b[0m",
         "\u001b[1;31mIndexError\u001b[0m: list index out of range"
        ]
       }
      ],
      "source": "mixed_list[7]",
      "start_time": "Unknown"
     },
     {
      "end_time": "2019-07-08T14:39:34.868Z",
      "execution_time": "-508ms",
      "outputs": [],
      "source": "mixed_list[7]",
      "start_time": "2019-07-08T14:39:35.376Z"
     },
     {
      "end_time": "2019-07-08T14:39:34.868Z",
      "execution_time": "-508ms",
      "outputs": [],
      "source": "mixed_list[7]",
      "start_time": "2019-07-08T14:39:35.376Z"
     },
     {
      "end_time": "2019-07-08T14:40:16.051Z",
      "execution_time": "-411ms",
      "outputs": [],
      "source": "mixed_list[7]",
      "start_time": "2019-07-08T14:40:16.462Z"
     },
     {
      "end_time": "2019-07-08T14:40:16.051Z",
      "execution_time": "-412ms",
      "outputs": [],
      "source": "mixed_list[7]",
      "start_time": "2019-07-08T14:40:16.463Z"
     },
     {
      "end_time": "2019-07-08T14:40:47.524Z",
      "execution_time": "-478ms",
      "outputs": [],
      "source": "mixed_list[7]",
      "start_time": "2019-07-08T14:40:48.002Z"
     },
     {
      "end_time": "2019-07-08T14:40:47.524Z",
      "execution_time": "-479ms",
      "outputs": [],
      "source": "mixed_list[7]",
      "start_time": "2019-07-08T14:40:48.003Z"
     },
     {
      "end_time": "2019-07-08T14:41:58.212Z",
      "execution_time": "-456ms",
      "outputs": [],
      "source": "mixed_list[7]",
      "start_time": "2019-07-08T14:41:58.668Z"
     },
     {
      "end_time": "2019-07-08T14:41:58.212Z",
      "execution_time": "-456ms",
      "outputs": [],
      "source": "mixed_list[7]",
      "start_time": "2019-07-08T14:41:58.668Z"
     },
     {
      "end_time": "2019-07-08T14:43:11.732Z",
      "execution_time": "92ms",
      "outputs": [
       {
        "ename": "IndexError",
        "evalue": "list index out of range",
        "output_type": "error",
        "traceback": [
         "\u001b[0;31m---------------------------------------------------------------------------\u001b[0m",
         "\u001b[0;31mIndexError\u001b[0m                                Traceback (most recent call last)",
         "\u001b[0;32m<ipython-input-20-fce4a7a5870b>\u001b[0m in \u001b[0;36m<module>\u001b[0;34m()\u001b[0m\n\u001b[0;32m----> 1\u001b[0;31m \u001b[0mmixed_list\u001b[0m\u001b[0;34m[\u001b[0m\u001b[0;36m7\u001b[0m\u001b[0;34m]\u001b[0m\u001b[0;34m\u001b[0m\u001b[0m\n\u001b[0m",
         "\u001b[0;31mIndexError\u001b[0m: list index out of range"
        ]
       }
      ],
      "source": "mixed_list[7]",
      "start_time": "2019-07-08T14:43:11.640Z"
     },
     {
      "end_time": "2019-07-08T14:43:11.732Z",
      "execution_time": "92ms",
      "outputs": [
       {
        "ename": "IndexError",
        "evalue": "list index out of range",
        "output_type": "error",
        "traceback": [
         "\u001b[0;31m---------------------------------------------------------------------------\u001b[0m",
         "\u001b[0;31mIndexError\u001b[0m                                Traceback (most recent call last)",
         "\u001b[0;32m<ipython-input-20-fce4a7a5870b>\u001b[0m in \u001b[0;36m<module>\u001b[0;34m()\u001b[0m\n\u001b[0;32m----> 1\u001b[0;31m \u001b[0mmixed_list\u001b[0m\u001b[0;34m[\u001b[0m\u001b[0;36m7\u001b[0m\u001b[0;34m]\u001b[0m\u001b[0;34m\u001b[0m\u001b[0m\n\u001b[0m",
         "\u001b[0;31mIndexError\u001b[0m: list index out of range"
        ]
       }
      ],
      "source": "mixed_list[7]",
      "start_time": "2019-07-08T14:43:11.640Z"
     }
    ]
   },
   "outputs": [
    {
     "ename": "IndexError",
     "evalue": "list index out of range",
     "output_type": "error",
     "traceback": [
      "\u001b[0;31m---------------------------------------------------------------------------\u001b[0m",
      "\u001b[0;31mIndexError\u001b[0m                                Traceback (most recent call last)",
      "\u001b[0;32m<ipython-input-20-fce4a7a5870b>\u001b[0m in \u001b[0;36m<module>\u001b[0;34m()\u001b[0m\n\u001b[0;32m----> 1\u001b[0;31m \u001b[0mmixed_list\u001b[0m\u001b[0;34m[\u001b[0m\u001b[0;36m7\u001b[0m\u001b[0;34m]\u001b[0m\u001b[0;34m\u001b[0m\u001b[0m\n\u001b[0m",
      "\u001b[0;31mIndexError\u001b[0m: list index out of range"
     ]
    }
   ],
   "source": [
    "mixed_list[7]"
   ]
  },
  {
   "cell_type": "markdown",
   "metadata": {
    "provenance": [
     {
      "last_modified": "2018-06-12T08:34:10.000Z",
      "source": "Lists can be concatenated:"
     },
     {
      "last_modified": "2019-07-08T14:40:44.691Z",
      "source": "Lists can be concatenated:"
     },
     {
      "last_modified": "2019-07-08T14:40:44.691Z",
      "source": "Lists can be concatenated:"
     }
    ]
   },
   "source": [
    "Lists can be concatenated:"
   ]
  },
  {
   "cell_type": "code",
   "execution_count": null,
   "metadata": {
    "ExecutionTime": {
     "end_time": "2019-07-08T14:43:11.734331Z"
    },
    "provenance": [
     {
      "end_time": "Unknown",
      "execution_time": "Unknown",
      "outputs": [
       {
        "data": {
         "text/plain": "[3, 5.14, 'hello', True, [5], builtins.range, 1, 2, 3]"
        },
        "execution_count": 14,
        "metadata": {},
        "output_type": "execute_result"
       }
      ],
      "source": "mixed_list + [1, 2, 3]",
      "start_time": "Unknown"
     },
     {
      "end_time": "2019-07-08T14:39:34.878Z",
      "execution_time": "-500ms",
      "outputs": [],
      "source": "mixed_list + [1, 2, 3]",
      "start_time": "2019-07-08T14:39:35.378Z"
     },
     {
      "end_time": "2019-07-08T14:39:34.878Z",
      "execution_time": "-500ms",
      "outputs": [],
      "source": "mixed_list + [1, 2, 3]",
      "start_time": "2019-07-08T14:39:35.378Z"
     },
     {
      "end_time": "2019-07-08T14:40:16.054Z",
      "execution_time": "-410ms",
      "outputs": [],
      "source": "mixed_list + [1, 2, 3]",
      "start_time": "2019-07-08T14:40:16.464Z"
     },
     {
      "end_time": "2019-07-08T14:40:16.054Z",
      "execution_time": "-411ms",
      "outputs": [],
      "source": "mixed_list + [1, 2, 3]",
      "start_time": "2019-07-08T14:40:16.465Z"
     },
     {
      "end_time": "2019-07-08T14:40:47.534Z",
      "execution_time": "-473ms",
      "outputs": [],
      "source": "mixed_list + [1, 2, 3]",
      "start_time": "2019-07-08T14:40:48.007Z"
     },
     {
      "end_time": "2019-07-08T14:40:47.534Z",
      "execution_time": "-473ms",
      "outputs": [],
      "source": "mixed_list + [1, 2, 3]",
      "start_time": "2019-07-08T14:40:48.007Z"
     },
     {
      "end_time": "2019-07-08T14:41:58.215Z",
      "execution_time": "-457ms",
      "outputs": [],
      "source": "mixed_list + [1, 2, 3]",
      "start_time": "2019-07-08T14:41:58.672Z"
     },
     {
      "end_time": "2019-07-08T14:41:58.215Z",
      "execution_time": "-458ms",
      "outputs": [],
      "source": "mixed_list + [1, 2, 3]",
      "start_time": "2019-07-08T14:41:58.673Z"
     },
     {
      "end_time": "2019-07-08T14:43:11.734Z",
      "execution_time": "-424ms",
      "outputs": [],
      "source": "mixed_list + [1, 2, 3]",
      "start_time": "2019-07-08T14:43:12.158Z"
     },
     {
      "end_time": "2019-07-08T14:43:11.734Z",
      "execution_time": "-425ms",
      "outputs": [],
      "source": "mixed_list + [1, 2, 3]",
      "start_time": "2019-07-08T14:43:12.159Z"
     }
    ]
   },
   "outputs": [],
   "source": [
    "mixed_list + [1, 2, 3]"
   ]
  },
  {
   "cell_type": "markdown",
   "metadata": {
    "provenance": [
     {
      "last_modified": "2018-06-12T08:34:10.000Z",
      "source": "But this doesn't change the list, but creates a new list:"
     },
     {
      "last_modified": "2019-07-08T14:40:44.691Z",
      "source": "But this doesn't change the list, but creates a new list:"
     },
     {
      "last_modified": "2019-07-08T14:40:44.691Z",
      "source": "But this doesn't change the list, but creates a new list:"
     }
    ]
   },
   "source": [
    "But this doesn't change the list, but creates a new list:"
   ]
  },
  {
   "cell_type": "code",
   "execution_count": null,
   "metadata": {
    "ExecutionTime": {
     "end_time": "2019-07-08T14:43:11.736624Z"
    },
    "provenance": [
     {
      "end_time": "Unknown",
      "execution_time": "Unknown",
      "outputs": [
       {
        "data": {
         "text/plain": "[3, 5.14, 'hello', True, [5], builtins.range]"
        },
        "execution_count": 15,
        "metadata": {},
        "output_type": "execute_result"
       }
      ],
      "source": "mixed_list",
      "start_time": "Unknown"
     },
     {
      "end_time": "2019-07-08T14:39:34.886Z",
      "execution_time": "-495ms",
      "outputs": [],
      "source": "mixed_list",
      "start_time": "2019-07-08T14:39:35.381Z"
     },
     {
      "end_time": "2019-07-08T14:39:34.886Z",
      "execution_time": "-495ms",
      "outputs": [],
      "source": "mixed_list",
      "start_time": "2019-07-08T14:39:35.381Z"
     },
     {
      "end_time": "2019-07-08T14:40:16.057Z",
      "execution_time": "-410ms",
      "outputs": [],
      "source": "mixed_list",
      "start_time": "2019-07-08T14:40:16.467Z"
     },
     {
      "end_time": "2019-07-08T14:40:16.057Z",
      "execution_time": "-411ms",
      "outputs": [],
      "source": "mixed_list",
      "start_time": "2019-07-08T14:40:16.468Z"
     },
     {
      "end_time": "2019-07-08T14:40:47.536Z",
      "execution_time": "-482ms",
      "outputs": [],
      "source": "mixed_list",
      "start_time": "2019-07-08T14:40:48.018Z"
     },
     {
      "end_time": "2019-07-08T14:40:47.536Z",
      "execution_time": "-483ms",
      "outputs": [],
      "source": "mixed_list",
      "start_time": "2019-07-08T14:40:48.019Z"
     },
     {
      "end_time": "2019-07-08T14:41:58.228Z",
      "execution_time": "-451ms",
      "outputs": [],
      "source": "mixed_list",
      "start_time": "2019-07-08T14:41:58.679Z"
     },
     {
      "end_time": "2019-07-08T14:41:58.228Z",
      "execution_time": "-451ms",
      "outputs": [],
      "source": "mixed_list",
      "start_time": "2019-07-08T14:41:58.679Z"
     },
     {
      "end_time": "2019-07-08T14:43:11.736Z",
      "execution_time": "-454ms",
      "outputs": [],
      "source": "mixed_list",
      "start_time": "2019-07-08T14:43:12.190Z"
     },
     {
      "end_time": "2019-07-08T14:43:11.736Z",
      "execution_time": "-455ms",
      "outputs": [],
      "source": "mixed_list",
      "start_time": "2019-07-08T14:43:12.191Z"
     }
    ]
   },
   "outputs": [],
   "source": [
    "mixed_list"
   ]
  },
  {
   "cell_type": "code",
   "execution_count": null,
   "metadata": {
    "ExecutionTime": {
     "end_time": "2019-07-08T14:43:11.739029Z"
    },
    "provenance": [
     {
      "end_time": "Unknown",
      "execution_time": "Unknown",
      "outputs": [
       {
        "data": {
         "text/plain": "[3, 5.14, 'hello', True, [5], builtins.range, 1, 2, 3]"
        },
        "execution_count": 16,
        "metadata": {},
        "output_type": "execute_result"
       }
      ],
      "source": "mixed_list = mixed_list + [1, 2, 3]\nmixed_list",
      "start_time": "Unknown"
     },
     {
      "end_time": "2019-07-08T14:39:34.889Z",
      "execution_time": "-501ms",
      "outputs": [],
      "source": "mixed_list = mixed_list + [1, 2, 3]\nmixed_list",
      "start_time": "2019-07-08T14:39:35.390Z"
     },
     {
      "end_time": "2019-07-08T14:39:34.889Z",
      "execution_time": "-501ms",
      "outputs": [],
      "source": "mixed_list = mixed_list + [1, 2, 3]\nmixed_list",
      "start_time": "2019-07-08T14:39:35.390Z"
     },
     {
      "end_time": "2019-07-08T14:40:16.059Z",
      "execution_time": "-410ms",
      "outputs": [],
      "source": "mixed_list = mixed_list + [1, 2, 3]\nmixed_list",
      "start_time": "2019-07-08T14:40:16.469Z"
     },
     {
      "end_time": "2019-07-08T14:40:16.059Z",
      "execution_time": "-411ms",
      "outputs": [],
      "source": "mixed_list = mixed_list + [1, 2, 3]\nmixed_list",
      "start_time": "2019-07-08T14:40:16.470Z"
     },
     {
      "end_time": "2019-07-08T14:40:47.538Z",
      "execution_time": "-483ms",
      "outputs": [],
      "source": "mixed_list = mixed_list + [1, 2, 3]\nmixed_list",
      "start_time": "2019-07-08T14:40:48.021Z"
     },
     {
      "end_time": "2019-07-08T14:40:47.538Z",
      "execution_time": "-484ms",
      "outputs": [],
      "source": "mixed_list = mixed_list + [1, 2, 3]\nmixed_list",
      "start_time": "2019-07-08T14:40:48.022Z"
     },
     {
      "end_time": "2019-07-08T14:41:58.230Z",
      "execution_time": "-452ms",
      "outputs": [],
      "source": "mixed_list = mixed_list + [1, 2, 3]\nmixed_list",
      "start_time": "2019-07-08T14:41:58.682Z"
     },
     {
      "end_time": "2019-07-08T14:41:58.230Z",
      "execution_time": "-452ms",
      "outputs": [],
      "source": "mixed_list = mixed_list + [1, 2, 3]\nmixed_list",
      "start_time": "2019-07-08T14:41:58.682Z"
     },
     {
      "end_time": "2019-07-08T14:43:11.739Z",
      "execution_time": "-458ms",
      "outputs": [],
      "source": "mixed_list = mixed_list + [1, 2, 3]\nmixed_list",
      "start_time": "2019-07-08T14:43:12.197Z"
     },
     {
      "end_time": "2019-07-08T14:43:11.739Z",
      "execution_time": "-458ms",
      "outputs": [],
      "source": "mixed_list = mixed_list + [1, 2, 3]\nmixed_list",
      "start_time": "2019-07-08T14:43:12.197Z"
     }
    ]
   },
   "outputs": [],
   "source": [
    "mixed_list = mixed_list + [1, 2, 3]\n",
    "mixed_list"
   ]
  },
  {
   "cell_type": "markdown",
   "metadata": {
    "provenance": [
     {
      "last_modified": "2018-06-12T08:34:10.000Z",
      "source": "Some functions can be used on lists:"
     },
     {
      "last_modified": "2019-07-08T14:40:44.691Z",
      "source": "Some functions can be used on lists:"
     },
     {
      "last_modified": "2019-07-08T14:40:44.691Z",
      "source": "Some functions can be used on lists:"
     }
    ]
   },
   "source": [
    "Some functions can be used on lists:"
   ]
  },
  {
   "cell_type": "code",
   "execution_count": null,
   "metadata": {
    "ExecutionTime": {
     "end_time": "2019-07-08T14:43:11.741592Z"
    },
    "provenance": [
     {
      "end_time": "Unknown",
      "execution_time": "Unknown",
      "outputs": [
       {
        "data": {
         "text/plain": "[10, 3, 2, 56]"
        },
        "execution_count": 17,
        "metadata": {},
        "output_type": "execute_result"
       }
      ],
      "source": "numbers = [10, 3, 2, 56]\nnumbers",
      "start_time": "Unknown"
     },
     {
      "end_time": "2019-07-08T14:39:34.898Z",
      "execution_time": "-495ms",
      "outputs": [],
      "source": "numbers = [10, 3, 2, 56]\nnumbers",
      "start_time": "2019-07-08T14:39:35.393Z"
     },
     {
      "end_time": "2019-07-08T14:39:34.898Z",
      "execution_time": "-495ms",
      "outputs": [],
      "source": "numbers = [10, 3, 2, 56]\nnumbers",
      "start_time": "2019-07-08T14:39:35.393Z"
     },
     {
      "end_time": "2019-07-08T14:40:16.063Z",
      "execution_time": "-408ms",
      "outputs": [],
      "source": "numbers = [10, 3, 2, 56]\nnumbers",
      "start_time": "2019-07-08T14:40:16.471Z"
     },
     {
      "end_time": "2019-07-08T14:40:16.063Z",
      "execution_time": "-408ms",
      "outputs": [],
      "source": "numbers = [10, 3, 2, 56]\nnumbers",
      "start_time": "2019-07-08T14:40:16.471Z"
     },
     {
      "end_time": "2019-07-08T14:40:47.540Z",
      "execution_time": "-483ms",
      "outputs": [],
      "source": "numbers = [10, 3, 2, 56]\nnumbers",
      "start_time": "2019-07-08T14:40:48.023Z"
     },
     {
      "end_time": "2019-07-08T14:40:47.540Z",
      "execution_time": "-483ms",
      "outputs": [],
      "source": "numbers = [10, 3, 2, 56]\nnumbers",
      "start_time": "2019-07-08T14:40:48.023Z"
     },
     {
      "end_time": "2019-07-08T14:41:58.233Z",
      "execution_time": "-450ms",
      "outputs": [],
      "source": "numbers = [10, 3, 2, 56]\nnumbers",
      "start_time": "2019-07-08T14:41:58.683Z"
     },
     {
      "end_time": "2019-07-08T14:41:58.233Z",
      "execution_time": "-450ms",
      "outputs": [],
      "source": "numbers = [10, 3, 2, 56]\nnumbers",
      "start_time": "2019-07-08T14:41:58.683Z"
     },
     {
      "end_time": "2019-07-08T14:43:11.741Z",
      "execution_time": "-458ms",
      "outputs": [],
      "source": "numbers = [10, 3, 2, 56]\nnumbers",
      "start_time": "2019-07-08T14:43:12.199Z"
     },
     {
      "end_time": "2019-07-08T14:43:11.741Z",
      "execution_time": "-459ms",
      "outputs": [],
      "source": "numbers = [10, 3, 2, 56]\nnumbers",
      "start_time": "2019-07-08T14:43:12.200Z"
     }
    ]
   },
   "outputs": [],
   "source": [
    "numbers = [10, 3, 2, 56]\n",
    "numbers"
   ]
  },
  {
   "cell_type": "code",
   "execution_count": null,
   "metadata": {
    "ExecutionTime": {
     "end_time": "2019-07-08T14:43:11.743919Z"
    },
    "provenance": [
     {
      "end_time": "Unknown",
      "execution_time": "Unknown",
      "outputs": [
       {
        "data": {
         "text/plain": "71"
        },
        "execution_count": 18,
        "metadata": {},
        "output_type": "execute_result"
       }
      ],
      "source": "sum(numbers)",
      "start_time": "Unknown"
     },
     {
      "end_time": "2019-07-08T14:39:34.901Z",
      "execution_time": "-493ms",
      "outputs": [],
      "source": "sum(numbers)",
      "start_time": "2019-07-08T14:39:35.394Z"
     },
     {
      "end_time": "2019-07-08T14:39:34.901Z",
      "execution_time": "-494ms",
      "outputs": [],
      "source": "sum(numbers)",
      "start_time": "2019-07-08T14:39:35.395Z"
     },
     {
      "end_time": "2019-07-08T14:40:16.065Z",
      "execution_time": "-416ms",
      "outputs": [],
      "source": "sum(numbers)",
      "start_time": "2019-07-08T14:40:16.481Z"
     },
     {
      "end_time": "2019-07-08T14:40:16.065Z",
      "execution_time": "-417ms",
      "outputs": [],
      "source": "sum(numbers)",
      "start_time": "2019-07-08T14:40:16.482Z"
     },
     {
      "end_time": "2019-07-08T14:40:47.545Z",
      "execution_time": "-483ms",
      "outputs": [],
      "source": "sum(numbers)",
      "start_time": "2019-07-08T14:40:48.028Z"
     },
     {
      "end_time": "2019-07-08T14:40:47.545Z",
      "execution_time": "-484ms",
      "outputs": [],
      "source": "sum(numbers)",
      "start_time": "2019-07-08T14:40:48.029Z"
     },
     {
      "end_time": "2019-07-08T14:41:58.235Z",
      "execution_time": "-450ms",
      "outputs": [],
      "source": "sum(numbers)",
      "start_time": "2019-07-08T14:41:58.685Z"
     },
     {
      "end_time": "2019-07-08T14:41:58.235Z",
      "execution_time": "-451ms",
      "outputs": [],
      "source": "sum(numbers)",
      "start_time": "2019-07-08T14:41:58.686Z"
     },
     {
      "end_time": "2019-07-08T14:43:11.743Z",
      "execution_time": "-459ms",
      "outputs": [],
      "source": "sum(numbers)",
      "start_time": "2019-07-08T14:43:12.202Z"
     },
     {
      "end_time": "2019-07-08T14:43:11.743Z",
      "execution_time": "-459ms",
      "outputs": [],
      "source": "sum(numbers)",
      "start_time": "2019-07-08T14:43:12.202Z"
     }
    ]
   },
   "outputs": [],
   "source": [
    "sum(numbers)"
   ]
  },
  {
   "cell_type": "code",
   "execution_count": null,
   "metadata": {
    "ExecutionTime": {
     "end_time": "2019-07-08T14:43:11.746362Z"
    },
    "provenance": [
     {
      "end_time": "Unknown",
      "execution_time": "Unknown",
      "outputs": [
       {
        "ename": "TypeError",
        "evalue": "unsupported operand type(s) for +: 'int' and 'str'",
        "output_type": "error",
        "traceback": [
         "\u001b[1;31m---------------------------------------------------------------------------\u001b[0m\n\u001b[1;31mTypeError\u001b[0m                                 Traceback (most recent call last)",
         "\u001b[1;32m<ipython-input-19-a479ce694266>\u001b[0m in \u001b[0;36m<module>\u001b[1;34m()\u001b[0m\n\u001b[1;32m----> 1\u001b[1;33m \u001b[0msum\u001b[0m\u001b[1;33m(\u001b[0m\u001b[1;33m[\u001b[0m\u001b[1;34m'hello'\u001b[0m\u001b[1;33m,\u001b[0m\u001b[1;34m'world'\u001b[0m\u001b[1;33m]\u001b[0m\u001b[1;33m)\u001b[0m\u001b[1;33m\u001b[0m\u001b[0m\n\u001b[0m",
         "\u001b[1;31mTypeError\u001b[0m: unsupported operand type(s) for +: 'int' and 'str'"
        ]
       }
      ],
      "source": "sum(['hello','world'])",
      "start_time": "Unknown"
     },
     {
      "end_time": "2019-07-08T14:39:34.914Z",
      "execution_time": "-482ms",
      "outputs": [],
      "source": "sum(['hello','world'])",
      "start_time": "2019-07-08T14:39:35.396Z"
     },
     {
      "end_time": "2019-07-08T14:39:34.914Z",
      "execution_time": "-482ms",
      "outputs": [],
      "source": "sum(['hello','world'])",
      "start_time": "2019-07-08T14:39:35.396Z"
     },
     {
      "end_time": "2019-07-08T14:40:16.068Z",
      "execution_time": "-416ms",
      "outputs": [],
      "source": "sum(['hello','world'])",
      "start_time": "2019-07-08T14:40:16.484Z"
     },
     {
      "end_time": "2019-07-08T14:40:16.068Z",
      "execution_time": "-417ms",
      "outputs": [],
      "source": "sum(['hello','world'])",
      "start_time": "2019-07-08T14:40:16.485Z"
     },
     {
      "end_time": "2019-07-08T14:40:47.559Z",
      "execution_time": "-474ms",
      "outputs": [],
      "source": "sum(['hello','world'])",
      "start_time": "2019-07-08T14:40:48.033Z"
     },
     {
      "end_time": "2019-07-08T14:40:47.559Z",
      "execution_time": "-474ms",
      "outputs": [],
      "source": "sum(['hello','world'])",
      "start_time": "2019-07-08T14:40:48.033Z"
     },
     {
      "end_time": "2019-07-08T14:41:58.241Z",
      "execution_time": "-446ms",
      "outputs": [],
      "source": "sum(['hello','world'])",
      "start_time": "2019-07-08T14:41:58.687Z"
     },
     {
      "end_time": "2019-07-08T14:41:58.241Z",
      "execution_time": "-447ms",
      "outputs": [],
      "source": "sum(['hello','world'])",
      "start_time": "2019-07-08T14:41:58.688Z"
     },
     {
      "end_time": "2019-07-08T14:43:11.746Z",
      "execution_time": "-458ms",
      "outputs": [],
      "source": "sum(['hello','world'])",
      "start_time": "2019-07-08T14:43:12.204Z"
     },
     {
      "end_time": "2019-07-08T14:43:11.746Z",
      "execution_time": "-458ms",
      "outputs": [],
      "source": "sum(['hello','world'])",
      "start_time": "2019-07-08T14:43:12.204Z"
     }
    ]
   },
   "outputs": [],
   "source": [
    "sum(['hello','world'])"
   ]
  },
  {
   "cell_type": "code",
   "execution_count": null,
   "metadata": {
    "ExecutionTime": {
     "end_time": "2019-07-08T14:43:11.748729Z"
    },
    "provenance": [
     {
      "end_time": "Unknown",
      "execution_time": "Unknown",
      "outputs": [
       {
        "data": {
         "text/plain": "4"
        },
        "execution_count": 51,
        "metadata": {},
        "output_type": "execute_result"
       }
      ],
      "source": "len(numbers)",
      "start_time": "Unknown"
     },
     {
      "end_time": "2019-07-08T14:39:34.916Z",
      "execution_time": "-484ms",
      "outputs": [],
      "source": "len(numbers)",
      "start_time": "2019-07-08T14:39:35.400Z"
     },
     {
      "end_time": "2019-07-08T14:39:34.916Z",
      "execution_time": "-485ms",
      "outputs": [],
      "source": "len(numbers)",
      "start_time": "2019-07-08T14:39:35.401Z"
     },
     {
      "end_time": "2019-07-08T14:40:16.071Z",
      "execution_time": "-415ms",
      "outputs": [],
      "source": "len(numbers)",
      "start_time": "2019-07-08T14:40:16.486Z"
     },
     {
      "end_time": "2019-07-08T14:40:16.071Z",
      "execution_time": "-415ms",
      "outputs": [],
      "source": "len(numbers)",
      "start_time": "2019-07-08T14:40:16.486Z"
     },
     {
      "end_time": "2019-07-08T14:40:47.572Z",
      "execution_time": "-463ms",
      "outputs": [],
      "source": "len(numbers)",
      "start_time": "2019-07-08T14:40:48.035Z"
     },
     {
      "end_time": "2019-07-08T14:40:47.572Z",
      "execution_time": "-463ms",
      "outputs": [],
      "source": "len(numbers)",
      "start_time": "2019-07-08T14:40:48.035Z"
     },
     {
      "end_time": "2019-07-08T14:41:58.245Z",
      "execution_time": "-445ms",
      "outputs": [],
      "source": "len(numbers)",
      "start_time": "2019-07-08T14:41:58.690Z"
     },
     {
      "end_time": "2019-07-08T14:41:58.245Z",
      "execution_time": "-445ms",
      "outputs": [],
      "source": "len(numbers)",
      "start_time": "2019-07-08T14:41:58.690Z"
     },
     {
      "end_time": "2019-07-08T14:43:11.748Z",
      "execution_time": "-458ms",
      "outputs": [],
      "source": "len(numbers)",
      "start_time": "2019-07-08T14:43:12.206Z"
     },
     {
      "end_time": "2019-07-08T14:43:11.748Z",
      "execution_time": "-458ms",
      "outputs": [],
      "source": "len(numbers)",
      "start_time": "2019-07-08T14:43:12.206Z"
     }
    ]
   },
   "outputs": [],
   "source": [
    "len(numbers)"
   ]
  },
  {
   "cell_type": "code",
   "execution_count": null,
   "metadata": {
    "ExecutionTime": {
     "end_time": "2019-07-08T14:43:11.752493Z"
    },
    "provenance": [
     {
      "end_time": "Unknown",
      "execution_time": "Unknown",
      "outputs": [
       {
        "data": {
         "text/plain": "2"
        },
        "execution_count": 52,
        "metadata": {},
        "output_type": "execute_result"
       }
      ],
      "source": "len(['hi','hello'])",
      "start_time": "Unknown"
     },
     {
      "end_time": "2019-07-08T14:39:34.918Z",
      "execution_time": "-493ms",
      "outputs": [],
      "source": "len(['hi','hello'])",
      "start_time": "2019-07-08T14:39:35.411Z"
     },
     {
      "end_time": "2019-07-08T14:39:34.918Z",
      "execution_time": "-495ms",
      "outputs": [],
      "source": "len(['hi','hello'])",
      "start_time": "2019-07-08T14:39:35.413Z"
     },
     {
      "end_time": "2019-07-08T14:40:16.074Z",
      "execution_time": "-414ms",
      "outputs": [],
      "source": "len(['hi','hello'])",
      "start_time": "2019-07-08T14:40:16.488Z"
     },
     {
      "end_time": "2019-07-08T14:40:16.074Z",
      "execution_time": "-414ms",
      "outputs": [],
      "source": "len(['hi','hello'])",
      "start_time": "2019-07-08T14:40:16.488Z"
     },
     {
      "end_time": "2019-07-08T14:40:47.574Z",
      "execution_time": "-463ms",
      "outputs": [],
      "source": "len(['hi','hello'])",
      "start_time": "2019-07-08T14:40:48.037Z"
     },
     {
      "end_time": "2019-07-08T14:40:47.574Z",
      "execution_time": "-464ms",
      "outputs": [],
      "source": "len(['hi','hello'])",
      "start_time": "2019-07-08T14:40:48.038Z"
     },
     {
      "end_time": "2019-07-08T14:41:58.247Z",
      "execution_time": "-445ms",
      "outputs": [],
      "source": "len(['hi','hello'])",
      "start_time": "2019-07-08T14:41:58.692Z"
     },
     {
      "end_time": "2019-07-08T14:41:58.247Z",
      "execution_time": "-445ms",
      "outputs": [],
      "source": "len(['hi','hello'])",
      "start_time": "2019-07-08T14:41:58.692Z"
     },
     {
      "end_time": "2019-07-08T14:43:11.752Z",
      "execution_time": "-456ms",
      "outputs": [],
      "source": "len(['hi','hello'])",
      "start_time": "2019-07-08T14:43:12.208Z"
     },
     {
      "end_time": "2019-07-08T14:43:11.752Z",
      "execution_time": "-456ms",
      "outputs": [],
      "source": "len(['hi','hello'])",
      "start_time": "2019-07-08T14:43:12.208Z"
     }
    ]
   },
   "outputs": [],
   "source": [
    "len(['hi','hello'])"
   ]
  },
  {
   "cell_type": "code",
   "execution_count": null,
   "metadata": {
    "ExecutionTime": {
     "end_time": "2019-07-08T14:43:11.755393Z"
    },
    "provenance": [
     {
      "end_time": "Unknown",
      "execution_time": "Unknown",
      "outputs": [
       {
        "name": "stdout",
        "output_type": "stream",
        "text": "[2, 3, 10, 56]\n[10, 3, 2, 56]\nNone\n[2, 3, 10, 56]\n"
       }
      ],
      "source": "print(sorted(numbers))\nprint(numbers)\nprint(numbers.sort())\nprint(numbers)",
      "start_time": "Unknown"
     },
     {
      "end_time": "2019-07-08T14:39:34.929Z",
      "execution_time": "-486ms",
      "outputs": [],
      "source": "print(sorted(numbers))\nprint(numbers)\nprint(numbers.sort())\nprint(numbers)",
      "start_time": "2019-07-08T14:39:35.415Z"
     },
     {
      "end_time": "2019-07-08T14:39:34.929Z",
      "execution_time": "-486ms",
      "outputs": [],
      "source": "print(sorted(numbers))\nprint(numbers)\nprint(numbers.sort())\nprint(numbers)",
      "start_time": "2019-07-08T14:39:35.415Z"
     },
     {
      "end_time": "2019-07-08T14:40:16.078Z",
      "execution_time": "-413ms",
      "outputs": [],
      "source": "print(sorted(numbers))\nprint(numbers)\nprint(numbers.sort())\nprint(numbers)",
      "start_time": "2019-07-08T14:40:16.491Z"
     },
     {
      "end_time": "2019-07-08T14:40:16.078Z",
      "execution_time": "-413ms",
      "outputs": [],
      "source": "print(sorted(numbers))\nprint(numbers)\nprint(numbers.sort())\nprint(numbers)",
      "start_time": "2019-07-08T14:40:16.491Z"
     },
     {
      "end_time": "2019-07-08T14:40:47.576Z",
      "execution_time": "-462ms",
      "outputs": [],
      "source": "print(sorted(numbers))\nprint(numbers)\nprint(numbers.sort())\nprint(numbers)",
      "start_time": "2019-07-08T14:40:48.038Z"
     },
     {
      "end_time": "2019-07-08T14:40:47.576Z",
      "execution_time": "-463ms",
      "outputs": [],
      "source": "print(sorted(numbers))\nprint(numbers)\nprint(numbers.sort())\nprint(numbers)",
      "start_time": "2019-07-08T14:40:48.039Z"
     },
     {
      "end_time": "2019-07-08T14:41:58.250Z",
      "execution_time": "-442ms",
      "outputs": [],
      "source": "print(sorted(numbers))\nprint(numbers)\nprint(numbers.sort())\nprint(numbers)",
      "start_time": "2019-07-08T14:41:58.692Z"
     },
     {
      "end_time": "2019-07-08T14:41:58.250Z",
      "execution_time": "-443ms",
      "outputs": [],
      "source": "print(sorted(numbers))\nprint(numbers)\nprint(numbers.sort())\nprint(numbers)",
      "start_time": "2019-07-08T14:41:58.693Z"
     },
     {
      "end_time": "2019-07-08T14:43:11.755Z",
      "execution_time": "-455ms",
      "outputs": [],
      "source": "print(sorted(numbers))\nprint(numbers)\nprint(numbers.sort())\nprint(numbers)",
      "start_time": "2019-07-08T14:43:12.210Z"
     },
     {
      "end_time": "2019-07-08T14:43:11.755Z",
      "execution_time": "-455ms",
      "outputs": [],
      "source": "print(sorted(numbers))\nprint(numbers)\nprint(numbers.sort())\nprint(numbers)",
      "start_time": "2019-07-08T14:43:12.210Z"
     }
    ]
   },
   "outputs": [],
   "source": [
    "print(sorted(numbers))\n",
    "print(numbers)\n",
    "print(numbers.sort())\n",
    "print(numbers)"
   ]
  },
  {
   "cell_type": "markdown",
   "metadata": {
    "provenance": [
     {
      "last_modified": "2018-06-12T08:34:10.000Z",
      "source": "Lists are iterable:"
     },
     {
      "last_modified": "2019-07-08T14:40:44.691Z",
      "source": "Lists are iterable:"
     },
     {
      "last_modified": "2019-07-08T14:40:44.691Z",
      "source": "Lists are iterable:"
     }
    ]
   },
   "source": [
    "Lists are iterable:"
   ]
  },
  {
   "cell_type": "code",
   "execution_count": null,
   "metadata": {
    "ExecutionTime": {
     "end_time": "2019-07-08T14:43:11.758008Z"
    },
    "provenance": [
     {
      "end_time": "Unknown",
      "execution_time": "Unknown",
      "outputs": [
       {
        "data": {
         "text/plain": "[3, 5.14, 'hello', True, [5], builtins.range, 1, 2, 3]"
        },
        "execution_count": 20,
        "metadata": {},
        "output_type": "execute_result"
       }
      ],
      "source": "mixed_list",
      "start_time": "Unknown"
     },
     {
      "end_time": "2019-07-08T14:39:34.937Z",
      "execution_time": "-480ms",
      "outputs": [],
      "source": "mixed_list",
      "start_time": "2019-07-08T14:39:35.417Z"
     },
     {
      "end_time": "2019-07-08T14:39:34.937Z",
      "execution_time": "-480ms",
      "outputs": [],
      "source": "mixed_list",
      "start_time": "2019-07-08T14:39:35.417Z"
     },
     {
      "end_time": "2019-07-08T14:40:16.081Z",
      "execution_time": "-412ms",
      "outputs": [],
      "source": "mixed_list",
      "start_time": "2019-07-08T14:40:16.493Z"
     },
     {
      "end_time": "2019-07-08T14:40:16.081Z",
      "execution_time": "-412ms",
      "outputs": [],
      "source": "mixed_list",
      "start_time": "2019-07-08T14:40:16.493Z"
     },
     {
      "end_time": "2019-07-08T14:40:47.579Z",
      "execution_time": "-466ms",
      "outputs": [],
      "source": "mixed_list",
      "start_time": "2019-07-08T14:40:48.045Z"
     },
     {
      "end_time": "2019-07-08T14:40:47.579Z",
      "execution_time": "-467ms",
      "outputs": [],
      "source": "mixed_list",
      "start_time": "2019-07-08T14:40:48.046Z"
     },
     {
      "end_time": "2019-07-08T14:41:58.252Z",
      "execution_time": "-443ms",
      "outputs": [],
      "source": "mixed_list",
      "start_time": "2019-07-08T14:41:58.695Z"
     },
     {
      "end_time": "2019-07-08T14:41:58.252Z",
      "execution_time": "-443ms",
      "outputs": [],
      "source": "mixed_list",
      "start_time": "2019-07-08T14:41:58.695Z"
     },
     {
      "end_time": "2019-07-08T14:43:11.758Z",
      "execution_time": "-454ms",
      "outputs": [],
      "source": "mixed_list",
      "start_time": "2019-07-08T14:43:12.212Z"
     },
     {
      "end_time": "2019-07-08T14:43:11.758Z",
      "execution_time": "-455ms",
      "outputs": [],
      "source": "mixed_list",
      "start_time": "2019-07-08T14:43:12.213Z"
     }
    ]
   },
   "outputs": [],
   "source": [
    "mixed_list"
   ]
  },
  {
   "cell_type": "code",
   "execution_count": null,
   "metadata": {
    "ExecutionTime": {
     "end_time": "2019-07-08T14:43:11.760385Z"
    },
    "provenance": [
     {
      "end_time": "Unknown",
      "execution_time": "Unknown",
      "outputs": [
       {
        "name": "stdout",
        "output_type": "stream",
        "text": "hello\n"
       }
      ],
      "source": "for item in mixed_list:\n    if type(item) == str:\n        print(item)",
      "start_time": "Unknown"
     },
     {
      "end_time": "2019-07-08T14:39:34.939Z",
      "execution_time": "-487ms",
      "outputs": [],
      "source": "for item in mixed_list:\n    if type(item) == str:\n        print(item)",
      "start_time": "2019-07-08T14:39:35.426Z"
     },
     {
      "end_time": "2019-07-08T14:39:34.939Z",
      "execution_time": "-488ms",
      "outputs": [],
      "source": "for item in mixed_list:\n    if type(item) == str:\n        print(item)",
      "start_time": "2019-07-08T14:39:35.427Z"
     },
     {
      "end_time": "2019-07-08T14:40:16.083Z",
      "execution_time": "-412ms",
      "outputs": [],
      "source": "for item in mixed_list:\n    if type(item) == str:\n        print(item)",
      "start_time": "2019-07-08T14:40:16.495Z"
     },
     {
      "end_time": "2019-07-08T14:40:16.083Z",
      "execution_time": "-412ms",
      "outputs": [],
      "source": "for item in mixed_list:\n    if type(item) == str:\n        print(item)",
      "start_time": "2019-07-08T14:40:16.495Z"
     },
     {
      "end_time": "2019-07-08T14:40:47.581Z",
      "execution_time": "-469ms",
      "outputs": [],
      "source": "for item in mixed_list:\n    if type(item) == str:\n        print(item)",
      "start_time": "2019-07-08T14:40:48.050Z"
     },
     {
      "end_time": "2019-07-08T14:40:47.581Z",
      "execution_time": "-469ms",
      "outputs": [],
      "source": "for item in mixed_list:\n    if type(item) == str:\n        print(item)",
      "start_time": "2019-07-08T14:40:48.050Z"
     },
     {
      "end_time": "2019-07-08T14:41:58.258Z",
      "execution_time": "-440ms",
      "outputs": [],
      "source": "for item in mixed_list:\n    if type(item) == str:\n        print(item)",
      "start_time": "2019-07-08T14:41:58.698Z"
     },
     {
      "end_time": "2019-07-08T14:41:58.258Z",
      "execution_time": "-440ms",
      "outputs": [],
      "source": "for item in mixed_list:\n    if type(item) == str:\n        print(item)",
      "start_time": "2019-07-08T14:41:58.698Z"
     },
     {
      "end_time": "2019-07-08T14:43:11.760Z",
      "execution_time": "-456ms",
      "outputs": [],
      "source": "for item in mixed_list:\n    if type(item) == str:\n        print(item)",
      "start_time": "2019-07-08T14:43:12.216Z"
     },
     {
      "end_time": "2019-07-08T14:43:11.760Z",
      "execution_time": "-456ms",
      "outputs": [],
      "source": "for item in mixed_list:\n    if type(item) == str:\n        print(item)",
      "start_time": "2019-07-08T14:43:12.216Z"
     }
    ]
   },
   "outputs": [],
   "source": [
    "for item in mixed_list:\n",
    "    if type(item) == str:\n",
    "        print(item)"
   ]
  },
  {
   "cell_type": "code",
   "execution_count": null,
   "metadata": {
    "ExecutionTime": {
     "end_time": "2019-07-08T14:43:11.762860Z"
    },
    "provenance": [
     {
      "end_time": "Unknown",
      "execution_time": "Unknown",
      "outputs": [
       {
        "name": "stdout",
        "output_type": "stream",
        "text": "0\n1\n2\nhello\n3\n4\n5\n6\n7\n8\n"
       }
      ],
      "source": "for i in range(len(mixed_list)):\n    print(i)\n    if type(mixed_list[i]) == str:\n        print(mixed_list[i])",
      "start_time": "Unknown"
     },
     {
      "end_time": "2019-07-08T14:39:34.952Z",
      "execution_time": "-477ms",
      "outputs": [],
      "source": "for i in range(len(mixed_list)):\n    print(i)\n    if type(mixed_list[i]) == str:\n        print(mixed_list[i])",
      "start_time": "2019-07-08T14:39:35.429Z"
     },
     {
      "end_time": "2019-07-08T14:39:34.952Z",
      "execution_time": "-477ms",
      "outputs": [],
      "source": "for i in range(len(mixed_list)):\n    print(i)\n    if type(mixed_list[i]) == str:\n        print(mixed_list[i])",
      "start_time": "2019-07-08T14:39:35.429Z"
     },
     {
      "end_time": "2019-07-08T14:40:16.086Z",
      "execution_time": "-412ms",
      "outputs": [],
      "source": "for i in range(len(mixed_list)):\n    print(i)\n    if type(mixed_list[i]) == str:\n        print(mixed_list[i])",
      "start_time": "2019-07-08T14:40:16.498Z"
     },
     {
      "end_time": "2019-07-08T14:40:16.086Z",
      "execution_time": "-412ms",
      "outputs": [],
      "source": "for i in range(len(mixed_list)):\n    print(i)\n    if type(mixed_list[i]) == str:\n        print(mixed_list[i])",
      "start_time": "2019-07-08T14:40:16.498Z"
     },
     {
      "end_time": "2019-07-08T14:40:47.584Z",
      "execution_time": "-467ms",
      "outputs": [],
      "source": "for i in range(len(mixed_list)):\n    print(i)\n    if type(mixed_list[i]) == str:\n        print(mixed_list[i])",
      "start_time": "2019-07-08T14:40:48.051Z"
     },
     {
      "end_time": "2019-07-08T14:40:47.584Z",
      "execution_time": "-467ms",
      "outputs": [],
      "source": "for i in range(len(mixed_list)):\n    print(i)\n    if type(mixed_list[i]) == str:\n        print(mixed_list[i])",
      "start_time": "2019-07-08T14:40:48.051Z"
     },
     {
      "end_time": "2019-07-08T14:41:58.260Z",
      "execution_time": "-442ms",
      "outputs": [],
      "source": "for i in range(len(mixed_list)):\n    print(i)\n    if type(mixed_list[i]) == str:\n        print(mixed_list[i])",
      "start_time": "2019-07-08T14:41:58.702Z"
     },
     {
      "end_time": "2019-07-08T14:41:58.260Z",
      "execution_time": "-442ms",
      "outputs": [],
      "source": "for i in range(len(mixed_list)):\n    print(i)\n    if type(mixed_list[i]) == str:\n        print(mixed_list[i])",
      "start_time": "2019-07-08T14:41:58.702Z"
     },
     {
      "end_time": "2019-07-08T14:43:11.762Z",
      "execution_time": "-457ms",
      "outputs": [],
      "source": "for i in range(len(mixed_list)):\n    print(i)\n    if type(mixed_list[i]) == str:\n        print(mixed_list[i])",
      "start_time": "2019-07-08T14:43:12.219Z"
     },
     {
      "end_time": "2019-07-08T14:43:11.762Z",
      "execution_time": "-457ms",
      "outputs": [],
      "source": "for i in range(len(mixed_list)):\n    print(i)\n    if type(mixed_list[i]) == str:\n        print(mixed_list[i])",
      "start_time": "2019-07-08T14:43:12.219Z"
     }
    ]
   },
   "outputs": [],
   "source": [
    "for i in range(len(mixed_list)):\n",
    "    print(i)\n",
    "    if type(mixed_list[i]) == str:\n",
    "        print(mixed_list[i])"
   ]
  },
  {
   "cell_type": "code",
   "execution_count": null,
   "metadata": {
    "ExecutionTime": {
     "end_time": "2019-07-08T14:43:11.765424Z"
    },
    "provenance": [
     {
      "end_time": "Unknown",
      "execution_time": "Unknown",
      "outputs": [
       {
        "name": "stdout",
        "output_type": "stream",
        "text": "8\n"
       }
      ],
      "source": "print(i)",
      "start_time": "Unknown"
     },
     {
      "end_time": "2019-07-08T14:39:34.954Z",
      "execution_time": "-481ms",
      "outputs": [],
      "source": "print(i)",
      "start_time": "2019-07-08T14:39:35.435Z"
     },
     {
      "end_time": "2019-07-08T14:39:34.954Z",
      "execution_time": "-481ms",
      "outputs": [],
      "source": "print(i)",
      "start_time": "2019-07-08T14:39:35.435Z"
     },
     {
      "end_time": "2019-07-08T14:40:16.089Z",
      "execution_time": "-411ms",
      "outputs": [],
      "source": "print(i)",
      "start_time": "2019-07-08T14:40:16.500Z"
     },
     {
      "end_time": "2019-07-08T14:40:16.089Z",
      "execution_time": "-411ms",
      "outputs": [],
      "source": "print(i)",
      "start_time": "2019-07-08T14:40:16.500Z"
     },
     {
      "end_time": "2019-07-08T14:40:47.587Z",
      "execution_time": "-469ms",
      "outputs": [],
      "source": "print(i)",
      "start_time": "2019-07-08T14:40:48.056Z"
     },
     {
      "end_time": "2019-07-08T14:40:47.587Z",
      "execution_time": "-470ms",
      "outputs": [],
      "source": "print(i)",
      "start_time": "2019-07-08T14:40:48.057Z"
     },
     {
      "end_time": "2019-07-08T14:41:58.263Z",
      "execution_time": "-441ms",
      "outputs": [],
      "source": "print(i)",
      "start_time": "2019-07-08T14:41:58.704Z"
     },
     {
      "end_time": "2019-07-08T14:41:58.263Z",
      "execution_time": "-441ms",
      "outputs": [],
      "source": "print(i)",
      "start_time": "2019-07-08T14:41:58.704Z"
     },
     {
      "end_time": "2019-07-08T14:43:11.765Z",
      "execution_time": "-455ms",
      "outputs": [],
      "source": "print(i)",
      "start_time": "2019-07-08T14:43:12.220Z"
     },
     {
      "end_time": "2019-07-08T14:43:11.765Z",
      "execution_time": "-455ms",
      "outputs": [],
      "source": "print(i)",
      "start_time": "2019-07-08T14:43:12.220Z"
     }
    ]
   },
   "outputs": [],
   "source": [
    "print(i)"
   ]
  },
  {
   "cell_type": "code",
   "execution_count": null,
   "metadata": {
    "ExecutionTime": {
     "end_time": "2019-07-08T14:43:11.767936Z"
    },
    "provenance": [
     {
      "end_time": "Unknown",
      "execution_time": "Unknown",
      "outputs": [],
      "source": "i = 0 # important!\nwhile i < len(mixed_list) and type(mixed_list[i]) != int:\n    if type(mixed_list[i]) == str:\n        print(mixed_list[i])\n    i += 1",
      "start_time": "Unknown"
     },
     {
      "end_time": "2019-07-08T14:39:34.956Z",
      "execution_time": "-488ms",
      "outputs": [],
      "source": "i = 0 # important!\nwhile i < len(mixed_list) and type(mixed_list[i]) != int:\n    if type(mixed_list[i]) == str:\n        print(mixed_list[i])\n    i += 1",
      "start_time": "2019-07-08T14:39:35.444Z"
     },
     {
      "end_time": "2019-07-08T14:39:34.956Z",
      "execution_time": "-488ms",
      "outputs": [],
      "source": "i = 0 # important!\nwhile i < len(mixed_list) and type(mixed_list[i]) != int:\n    if type(mixed_list[i]) == str:\n        print(mixed_list[i])\n    i += 1",
      "start_time": "2019-07-08T14:39:35.444Z"
     },
     {
      "end_time": "2019-07-08T14:40:16.095Z",
      "execution_time": "-408ms",
      "outputs": [],
      "source": "i = 0 # important!\nwhile i < len(mixed_list) and type(mixed_list[i]) != int:\n    if type(mixed_list[i]) == str:\n        print(mixed_list[i])\n    i += 1",
      "start_time": "2019-07-08T14:40:16.503Z"
     },
     {
      "end_time": "2019-07-08T14:40:16.095Z",
      "execution_time": "-409ms",
      "outputs": [],
      "source": "i = 0 # important!\nwhile i < len(mixed_list) and type(mixed_list[i]) != int:\n    if type(mixed_list[i]) == str:\n        print(mixed_list[i])\n    i += 1",
      "start_time": "2019-07-08T14:40:16.504Z"
     },
     {
      "end_time": "2019-07-08T14:40:47.589Z",
      "execution_time": "-470ms",
      "outputs": [],
      "source": "i = 0 # important!\nwhile i < len(mixed_list) and type(mixed_list[i]) != int:\n    if type(mixed_list[i]) == str:\n        print(mixed_list[i])\n    i += 1",
      "start_time": "2019-07-08T14:40:48.059Z"
     },
     {
      "end_time": "2019-07-08T14:40:47.589Z",
      "execution_time": "-471ms",
      "outputs": [],
      "source": "i = 0 # important!\nwhile i < len(mixed_list) and type(mixed_list[i]) != int:\n    if type(mixed_list[i]) == str:\n        print(mixed_list[i])\n    i += 1",
      "start_time": "2019-07-08T14:40:48.060Z"
     },
     {
      "end_time": "2019-07-08T14:41:58.267Z",
      "execution_time": "-438ms",
      "outputs": [],
      "source": "i = 0 # important!\nwhile i < len(mixed_list) and type(mixed_list[i]) != int:\n    if type(mixed_list[i]) == str:\n        print(mixed_list[i])\n    i += 1",
      "start_time": "2019-07-08T14:41:58.705Z"
     },
     {
      "end_time": "2019-07-08T14:41:58.267Z",
      "execution_time": "-439ms",
      "outputs": [],
      "source": "i = 0 # important!\nwhile i < len(mixed_list) and type(mixed_list[i]) != int:\n    if type(mixed_list[i]) == str:\n        print(mixed_list[i])\n    i += 1",
      "start_time": "2019-07-08T14:41:58.706Z"
     },
     {
      "end_time": "2019-07-08T14:43:11.767Z",
      "execution_time": "-455ms",
      "outputs": [],
      "source": "i = 0 # important!\nwhile i < len(mixed_list) and type(mixed_list[i]) != int:\n    if type(mixed_list[i]) == str:\n        print(mixed_list[i])\n    i += 1",
      "start_time": "2019-07-08T14:43:12.222Z"
     },
     {
      "end_time": "2019-07-08T14:43:11.767Z",
      "execution_time": "-455ms",
      "outputs": [],
      "source": "i = 0 # important!\nwhile i < len(mixed_list) and type(mixed_list[i]) != int:\n    if type(mixed_list[i]) == str:\n        print(mixed_list[i])\n    i += 1",
      "start_time": "2019-07-08T14:43:12.222Z"
     }
    ]
   },
   "outputs": [],
   "source": [
    "i = 0 # important!\n",
    "while i < len(mixed_list) and type(mixed_list[i]) != int:\n",
    "    if type(mixed_list[i]) == str:\n",
    "        print(mixed_list[i])\n",
    "    i += 1"
   ]
  },
  {
   "cell_type": "code",
   "execution_count": null,
   "metadata": {
    "ExecutionTime": {
     "end_time": "2019-07-08T14:43:11.770385Z"
    },
    "provenance": [
     {
      "end_time": "Unknown",
      "execution_time": "Unknown",
      "outputs": [
       {
        "name": "stdout",
        "output_type": "stream",
        "text": "9\n"
       }
      ],
      "source": "print(i)",
      "start_time": "Unknown"
     },
     {
      "end_time": "2019-07-08T14:39:34.972Z",
      "execution_time": "-476ms",
      "outputs": [],
      "source": "print(i)",
      "start_time": "2019-07-08T14:39:35.448Z"
     },
     {
      "end_time": "2019-07-08T14:39:34.972Z",
      "execution_time": "-477ms",
      "outputs": [],
      "source": "print(i)",
      "start_time": "2019-07-08T14:39:35.449Z"
     },
     {
      "end_time": "2019-07-08T14:40:16.097Z",
      "execution_time": "-420ms",
      "outputs": [],
      "source": "print(i)",
      "start_time": "2019-07-08T14:40:16.517Z"
     },
     {
      "end_time": "2019-07-08T14:40:16.097Z",
      "execution_time": "-421ms",
      "outputs": [],
      "source": "print(i)",
      "start_time": "2019-07-08T14:40:16.518Z"
     },
     {
      "end_time": "2019-07-08T14:40:47.593Z",
      "execution_time": "-470ms",
      "outputs": [],
      "source": "print(i)",
      "start_time": "2019-07-08T14:40:48.063Z"
     },
     {
      "end_time": "2019-07-08T14:40:47.593Z",
      "execution_time": "-471ms",
      "outputs": [],
      "source": "print(i)",
      "start_time": "2019-07-08T14:40:48.064Z"
     },
     {
      "end_time": "2019-07-08T14:41:58.272Z",
      "execution_time": "-435ms",
      "outputs": [],
      "source": "print(i)",
      "start_time": "2019-07-08T14:41:58.707Z"
     },
     {
      "end_time": "2019-07-08T14:41:58.272Z",
      "execution_time": "-437ms",
      "outputs": [],
      "source": "print(i)",
      "start_time": "2019-07-08T14:41:58.709Z"
     },
     {
      "end_time": "2019-07-08T14:43:11.770Z",
      "execution_time": "-453ms",
      "outputs": [],
      "source": "print(i)",
      "start_time": "2019-07-08T14:43:12.223Z"
     },
     {
      "end_time": "2019-07-08T14:43:11.770Z",
      "execution_time": "-454ms",
      "outputs": [],
      "source": "print(i)",
      "start_time": "2019-07-08T14:43:12.224Z"
     }
    ]
   },
   "outputs": [],
   "source": [
    "print(i)"
   ]
  },
  {
   "cell_type": "markdown",
   "metadata": {
    "provenance": [
     {
      "last_modified": "2018-06-12T08:34:10.000Z",
      "source": "A list of numbers can be created using *list comprehension*.\nThe syntax is:\n```\n[**statement** for **variable** in **iterable** if **condition**] \n```\nThe `if **condition**` part is optional, the statement and the condition can use variable.\n\nCreate a list of the squares of numbers between 1 and 10:"
     },
     {
      "last_modified": "2019-07-08T14:40:44.691Z",
      "source": "A list of numbers can be created using *list comprehension*.\nThe syntax is:\n```\n[**statement** for **variable** in **iterable** if **condition**] \n```\nThe `if **condition**` part is optional, the statement and the condition can use variable.\n\nCreate a list of the squares of numbers between 1 and 10:"
     },
     {
      "last_modified": "2019-07-08T14:40:44.691Z",
      "source": "A list of numbers can be created using *list comprehension*.\nThe syntax is:\n```\n[**statement** for **variable** in **iterable** if **condition**] \n```\nThe `if **condition**` part is optional, the statement and the condition can use variable.\n\nCreate a list of the squares of numbers between 1 and 10:"
     }
    ]
   },
   "source": [
    "A list of numbers can be created using *list comprehension*.\n",
    "The syntax is:\n",
    "```\n",
    "[**statement** for **variable** in **iterable** if **condition**] \n",
    "```\n",
    "The `if **condition**` part is optional, the statement and the condition can use variable.\n",
    "\n",
    "Create a list of the squares of numbers between 1 and 10:"
   ]
  },
  {
   "cell_type": "code",
   "execution_count": null,
   "metadata": {
    "ExecutionTime": {
     "end_time": "2019-07-08T14:43:11.772760Z"
    },
    "provenance": [
     {
      "end_time": "Unknown",
      "execution_time": "Unknown",
      "outputs": [
       {
        "data": {
         "text/plain": "[1, 4, 9, 16, 25, 36, 49, 64, 81, 100]"
        },
        "execution_count": 29,
        "metadata": {},
        "output_type": "execute_result"
       }
      ],
      "source": "[x ** 2 for x in range(1, 11)]",
      "start_time": "Unknown"
     },
     {
      "end_time": "2019-07-08T14:39:34.978Z",
      "execution_time": "-479ms",
      "outputs": [],
      "source": "[x ** 2 for x in range(1, 11)]",
      "start_time": "2019-07-08T14:39:35.457Z"
     },
     {
      "end_time": "2019-07-08T14:39:34.978Z",
      "execution_time": "-480ms",
      "outputs": [],
      "source": "[x ** 2 for x in range(1, 11)]",
      "start_time": "2019-07-08T14:39:35.458Z"
     },
     {
      "end_time": "2019-07-08T14:40:16.100Z",
      "execution_time": "-419ms",
      "outputs": [],
      "source": "[x ** 2 for x in range(1, 11)]",
      "start_time": "2019-07-08T14:40:16.519Z"
     },
     {
      "end_time": "2019-07-08T14:40:16.100Z",
      "execution_time": "-419ms",
      "outputs": [],
      "source": "[x ** 2 for x in range(1, 11)]",
      "start_time": "2019-07-08T14:40:16.519Z"
     },
     {
      "end_time": "2019-07-08T14:40:47.595Z",
      "execution_time": "-477ms",
      "outputs": [],
      "source": "[x ** 2 for x in range(1, 11)]",
      "start_time": "2019-07-08T14:40:48.072Z"
     },
     {
      "end_time": "2019-07-08T14:40:47.595Z",
      "execution_time": "-477ms",
      "outputs": [],
      "source": "[x ** 2 for x in range(1, 11)]",
      "start_time": "2019-07-08T14:40:48.072Z"
     },
     {
      "end_time": "2019-07-08T14:41:58.273Z",
      "execution_time": "-436ms",
      "outputs": [],
      "source": "[x ** 2 for x in range(1, 11)]",
      "start_time": "2019-07-08T14:41:58.709Z"
     },
     {
      "end_time": "2019-07-08T14:41:58.273Z",
      "execution_time": "-437ms",
      "outputs": [],
      "source": "[x ** 2 for x in range(1, 11)]",
      "start_time": "2019-07-08T14:41:58.710Z"
     },
     {
      "end_time": "2019-07-08T14:43:11.772Z",
      "execution_time": "-454ms",
      "outputs": [],
      "source": "[x ** 2 for x in range(1, 11)]",
      "start_time": "2019-07-08T14:43:12.226Z"
     },
     {
      "end_time": "2019-07-08T14:43:11.772Z",
      "execution_time": "-454ms",
      "outputs": [],
      "source": "[x ** 2 for x in range(1, 11)]",
      "start_time": "2019-07-08T14:43:12.226Z"
     }
    ]
   },
   "outputs": [],
   "source": [
    "[x ** 2 for x in range(1, 11)]"
   ]
  },
  {
   "cell_type": "markdown",
   "metadata": {
    "provenance": [
     {
      "last_modified": "2018-06-12T08:34:10.000Z",
      "source": "Create a list of the square roots of odd numbers between 1 and 20:"
     },
     {
      "last_modified": "2019-07-08T14:40:44.691Z",
      "source": "Create a list of the square roots of odd numbers between 1 and 20:"
     },
     {
      "last_modified": "2019-07-08T14:40:44.691Z",
      "source": "Create a list of the square roots of odd numbers between 1 and 20:"
     }
    ]
   },
   "source": [
    "Create a list of the square roots of odd numbers between 1 and 20:"
   ]
  },
  {
   "cell_type": "code",
   "execution_count": null,
   "metadata": {
    "ExecutionTime": {
     "end_time": "2019-07-08T14:43:11.776517Z"
    },
    "provenance": [
     {
      "end_time": "Unknown",
      "execution_time": "Unknown",
      "outputs": [
       {
        "data": {
         "text/plain": "[1.0,\n 1.7320508075688772,\n 2.23606797749979,\n 2.6457513110645907,\n 3.0,\n 3.3166247903554,\n 3.605551275463989,\n 3.872983346207417,\n 4.123105625617661,\n 4.358898943540674]"
        },
        "execution_count": 30,
        "metadata": {},
        "output_type": "execute_result"
       }
      ],
      "source": "[x ** 0.5 for x in range(1, 21) if x % 2 == 1]",
      "start_time": "Unknown"
     },
     {
      "end_time": "2019-07-08T14:39:34.988Z",
      "execution_time": "-473ms",
      "outputs": [],
      "source": "[x ** 0.5 for x in range(1, 21) if x % 2 == 1]",
      "start_time": "2019-07-08T14:39:35.461Z"
     },
     {
      "end_time": "2019-07-08T14:39:34.988Z",
      "execution_time": "-474ms",
      "outputs": [],
      "source": "[x ** 0.5 for x in range(1, 21) if x % 2 == 1]",
      "start_time": "2019-07-08T14:39:35.462Z"
     },
     {
      "end_time": "2019-07-08T14:40:16.103Z",
      "execution_time": "-418ms",
      "outputs": [],
      "source": "[x ** 0.5 for x in range(1, 21) if x % 2 == 1]",
      "start_time": "2019-07-08T14:40:16.521Z"
     },
     {
      "end_time": "2019-07-08T14:40:16.103Z",
      "execution_time": "-419ms",
      "outputs": [],
      "source": "[x ** 0.5 for x in range(1, 21) if x % 2 == 1]",
      "start_time": "2019-07-08T14:40:16.522Z"
     },
     {
      "end_time": "2019-07-08T14:40:47.610Z",
      "execution_time": "-462ms",
      "outputs": [],
      "source": "[x ** 0.5 for x in range(1, 21) if x % 2 == 1]",
      "start_time": "2019-07-08T14:40:48.072Z"
     },
     {
      "end_time": "2019-07-08T14:40:47.610Z",
      "execution_time": "-463ms",
      "outputs": [],
      "source": "[x ** 0.5 for x in range(1, 21) if x % 2 == 1]",
      "start_time": "2019-07-08T14:40:48.073Z"
     },
     {
      "end_time": "2019-07-08T14:41:58.278Z",
      "execution_time": "-434ms",
      "outputs": [],
      "source": "[x ** 0.5 for x in range(1, 21) if x % 2 == 1]",
      "start_time": "2019-07-08T14:41:58.712Z"
     },
     {
      "end_time": "2019-07-08T14:41:58.278Z",
      "execution_time": "-434ms",
      "outputs": [],
      "source": "[x ** 0.5 for x in range(1, 21) if x % 2 == 1]",
      "start_time": "2019-07-08T14:41:58.712Z"
     },
     {
      "end_time": "2019-07-08T14:43:11.776Z",
      "execution_time": "-451ms",
      "outputs": [],
      "source": "[x ** 0.5 for x in range(1, 21) if x % 2 == 1]",
      "start_time": "2019-07-08T14:43:12.227Z"
     },
     {
      "end_time": "2019-07-08T14:43:11.776Z",
      "execution_time": "-451ms",
      "outputs": [],
      "source": "[x ** 0.5 for x in range(1, 21) if x % 2 == 1]",
      "start_time": "2019-07-08T14:43:12.227Z"
     }
    ]
   },
   "outputs": [],
   "source": [
    "[x ** 0.5 for x in range(1, 21) if x % 2 == 1]"
   ]
  },
  {
   "cell_type": "code",
   "execution_count": null,
   "metadata": {
    "ExecutionTime": {
     "end_time": "2019-07-08T14:43:11.779425Z"
    },
    "provenance": [
     {
      "end_time": "Unknown",
      "execution_time": "Unknown",
      "outputs": [
       {
        "data": {
         "text/plain": "[1]"
        },
        "execution_count": 31,
        "metadata": {},
        "output_type": "execute_result"
       }
      ],
      "source": "l = []\nl += [1]\nl",
      "start_time": "Unknown"
     },
     {
      "end_time": "2019-07-08T14:39:34.990Z",
      "execution_time": "-474ms",
      "outputs": [],
      "source": "l = []\nl += [1]\nl",
      "start_time": "2019-07-08T14:39:35.464Z"
     },
     {
      "end_time": "2019-07-08T14:39:34.990Z",
      "execution_time": "-474ms",
      "outputs": [],
      "source": "l = []\nl += [1]\nl",
      "start_time": "2019-07-08T14:39:35.464Z"
     },
     {
      "end_time": "2019-07-08T14:40:16.106Z",
      "execution_time": "-417ms",
      "outputs": [],
      "source": "l = []\nl += [1]\nl",
      "start_time": "2019-07-08T14:40:16.523Z"
     },
     {
      "end_time": "2019-07-08T14:40:16.106Z",
      "execution_time": "-417ms",
      "outputs": [],
      "source": "l = []\nl += [1]\nl",
      "start_time": "2019-07-08T14:40:16.523Z"
     },
     {
      "end_time": "2019-07-08T14:40:47.618Z",
      "execution_time": "-456ms",
      "outputs": [],
      "source": "l = []\nl += [1]\nl",
      "start_time": "2019-07-08T14:40:48.074Z"
     },
     {
      "end_time": "2019-07-08T14:40:47.618Z",
      "execution_time": "-457ms",
      "outputs": [],
      "source": "l = []\nl += [1]\nl",
      "start_time": "2019-07-08T14:40:48.075Z"
     },
     {
      "end_time": "2019-07-08T14:41:58.291Z",
      "execution_time": "-422ms",
      "outputs": [],
      "source": "l = []\nl += [1]\nl",
      "start_time": "2019-07-08T14:41:58.713Z"
     },
     {
      "end_time": "2019-07-08T14:41:58.291Z",
      "execution_time": "-422ms",
      "outputs": [],
      "source": "l = []\nl += [1]\nl",
      "start_time": "2019-07-08T14:41:58.713Z"
     },
     {
      "end_time": "2019-07-08T14:43:11.779Z",
      "execution_time": "-450ms",
      "outputs": [],
      "source": "l = []\nl += [1]\nl",
      "start_time": "2019-07-08T14:43:12.229Z"
     },
     {
      "end_time": "2019-07-08T14:43:11.779Z",
      "execution_time": "-450ms",
      "outputs": [],
      "source": "l = []\nl += [1]\nl",
      "start_time": "2019-07-08T14:43:12.229Z"
     }
    ]
   },
   "outputs": [],
   "source": [
    "l = []\n",
    "l += [1]\n",
    "l"
   ]
  },
  {
   "cell_type": "markdown",
   "metadata": {
    "provenance": [
     {
      "last_modified": "2018-06-12T08:34:10.000Z",
      "source": "## Grades problem\n\nGiven a list of grades, count how many are above the average."
     },
     {
      "last_modified": "2019-07-08T14:40:44.691Z",
      "source": "## Grades problem\n\nGiven a list of grades, count how many are above the average."
     },
     {
      "last_modified": "2019-07-08T14:40:44.691Z",
      "source": "## Grades problem\n\nGiven a list of grades, count how many are above the average."
     }
    ]
   },
   "source": [
    "## Grades problem\n",
    "\n",
    "Given a list of grades, count how many are above the average."
   ]
  },
  {
   "cell_type": "code",
   "execution_count": null,
   "metadata": {
    "ExecutionTime": {
     "end_time": "2019-07-08T14:43:11.782025Z"
    },
    "provenance": [
     {
      "end_time": "Unknown",
      "execution_time": "Unknown",
      "outputs": [],
      "source": "grades = [33, 55,45,87,88,95,34,76,87,56,45,98,87,89,45,67,45,67,76,73,33,87,12,100,77,89,92]",
      "start_time": "Unknown"
     },
     {
      "end_time": "2019-07-08T14:39:35.000Z",
      "execution_time": "-467ms",
      "outputs": [],
      "source": "grades = [33, 55,45,87,88,95,34,76,87,56,45,98,87,89,45,67,45,67,76,73,33,87,12,100,77,89,92]",
      "start_time": "2019-07-08T14:39:35.467Z"
     },
     {
      "end_time": "2019-07-08T14:39:35.000Z",
      "execution_time": "-468ms",
      "outputs": [],
      "source": "grades = [33, 55,45,87,88,95,34,76,87,56,45,98,87,89,45,67,45,67,76,73,33,87,12,100,77,89,92]",
      "start_time": "2019-07-08T14:39:35.468Z"
     },
     {
      "end_time": "2019-07-08T14:40:16.115Z",
      "execution_time": "-410ms",
      "outputs": [],
      "source": "grades = [33, 55,45,87,88,95,34,76,87,56,45,98,87,89,45,67,45,67,76,73,33,87,12,100,77,89,92]",
      "start_time": "2019-07-08T14:40:16.525Z"
     },
     {
      "end_time": "2019-07-08T14:40:16.115Z",
      "execution_time": "-410ms",
      "outputs": [],
      "source": "grades = [33, 55,45,87,88,95,34,76,87,56,45,98,87,89,45,67,45,67,76,73,33,87,12,100,77,89,92]",
      "start_time": "2019-07-08T14:40:16.525Z"
     },
     {
      "end_time": "2019-07-08T14:40:47.624Z",
      "execution_time": "-453ms",
      "outputs": [],
      "source": "grades = [33, 55,45,87,88,95,34,76,87,56,45,98,87,89,45,67,45,67,76,73,33,87,12,100,77,89,92]",
      "start_time": "2019-07-08T14:40:48.077Z"
     },
     {
      "end_time": "2019-07-08T14:40:47.624Z",
      "execution_time": "-453ms",
      "outputs": [],
      "source": "grades = [33, 55,45,87,88,95,34,76,87,56,45,98,87,89,45,67,45,67,76,73,33,87,12,100,77,89,92]",
      "start_time": "2019-07-08T14:40:48.077Z"
     },
     {
      "end_time": "2019-07-08T14:41:58.300Z",
      "execution_time": "-414ms",
      "outputs": [],
      "source": "grades = [33, 55,45,87,88,95,34,76,87,56,45,98,87,89,45,67,45,67,76,73,33,87,12,100,77,89,92]",
      "start_time": "2019-07-08T14:41:58.714Z"
     },
     {
      "end_time": "2019-07-08T14:41:58.300Z",
      "execution_time": "-414ms",
      "outputs": [],
      "source": "grades = [33, 55,45,87,88,95,34,76,87,56,45,98,87,89,45,67,45,67,76,73,33,87,12,100,77,89,92]",
      "start_time": "2019-07-08T14:41:58.714Z"
     },
     {
      "end_time": "2019-07-08T14:43:11.782Z",
      "execution_time": "-448ms",
      "outputs": [],
      "source": "grades = [33, 55,45,87,88,95,34,76,87,56,45,98,87,89,45,67,45,67,76,73,33,87,12,100,77,89,92]",
      "start_time": "2019-07-08T14:43:12.230Z"
     },
     {
      "end_time": "2019-07-08T14:43:11.782Z",
      "execution_time": "-449ms",
      "outputs": [],
      "source": "grades = [33, 55,45,87,88,95,34,76,87,56,45,98,87,89,45,67,45,67,76,73,33,87,12,100,77,89,92]",
      "start_time": "2019-07-08T14:43:12.231Z"
     }
    ]
   },
   "outputs": [],
   "source": [
    "grades = [33, 55,45,87,88,95,34,76,87,56,45,98,87,89,45,67,45,67,76,73,33,87,12,100,77,89,92]"
   ]
  },
  {
   "cell_type": "code",
   "execution_count": null,
   "metadata": {
    "ExecutionTime": {
     "end_time": "2019-07-08T14:43:11.784569Z"
    },
    "provenance": [
     {
      "end_time": "Unknown",
      "execution_time": "Unknown",
      "outputs": [
       {
        "name": "stdout",
        "output_type": "stream",
        "text": "15 grades are above the average 68.07407407407408\n"
       }
      ],
      "source": "avg = sum(grades)/len(grades)\nabove = 0\nfor gr in grades:\n    if gr > avg:\n        above += 1\n        \nprint(above, \"grades are above the average\", avg)",
      "start_time": "Unknown"
     },
     {
      "end_time": "2019-07-08T14:39:35.007Z",
      "execution_time": "-464ms",
      "outputs": [],
      "source": "avg = sum(grades)/len(grades)\nabove = 0\nfor gr in grades:\n    if gr > avg:\n        above += 1\n        \nprint(above, \"grades are above the average\", avg)",
      "start_time": "2019-07-08T14:39:35.471Z"
     },
     {
      "end_time": "2019-07-08T14:39:35.007Z",
      "execution_time": "-464ms",
      "outputs": [],
      "source": "avg = sum(grades)/len(grades)\nabove = 0\nfor gr in grades:\n    if gr > avg:\n        above += 1\n        \nprint(above, \"grades are above the average\", avg)",
      "start_time": "2019-07-08T14:39:35.471Z"
     },
     {
      "end_time": "2019-07-08T14:40:16.117Z",
      "execution_time": "-410ms",
      "outputs": [],
      "source": "avg = sum(grades)/len(grades)\nabove = 0\nfor gr in grades:\n    if gr > avg:\n        above += 1\n        \nprint(above, \"grades are above the average\", avg)",
      "start_time": "2019-07-08T14:40:16.527Z"
     },
     {
      "end_time": "2019-07-08T14:40:16.117Z",
      "execution_time": "-410ms",
      "outputs": [],
      "source": "avg = sum(grades)/len(grades)\nabove = 0\nfor gr in grades:\n    if gr > avg:\n        above += 1\n        \nprint(above, \"grades are above the average\", avg)",
      "start_time": "2019-07-08T14:40:16.527Z"
     },
     {
      "end_time": "2019-07-08T14:40:47.629Z",
      "execution_time": "-449ms",
      "outputs": [],
      "source": "avg = sum(grades)/len(grades)\nabove = 0\nfor gr in grades:\n    if gr > avg:\n        above += 1\n        \nprint(above, \"grades are above the average\", avg)",
      "start_time": "2019-07-08T14:40:48.078Z"
     },
     {
      "end_time": "2019-07-08T14:40:47.629Z",
      "execution_time": "-449ms",
      "outputs": [],
      "source": "avg = sum(grades)/len(grades)\nabove = 0\nfor gr in grades:\n    if gr > avg:\n        above += 1\n        \nprint(above, \"grades are above the average\", avg)",
      "start_time": "2019-07-08T14:40:48.078Z"
     },
     {
      "end_time": "2019-07-08T14:41:58.303Z",
      "execution_time": "-413ms",
      "outputs": [],
      "source": "avg = sum(grades)/len(grades)\nabove = 0\nfor gr in grades:\n    if gr > avg:\n        above += 1\n        \nprint(above, \"grades are above the average\", avg)",
      "start_time": "2019-07-08T14:41:58.716Z"
     },
     {
      "end_time": "2019-07-08T14:41:58.303Z",
      "execution_time": "-413ms",
      "outputs": [],
      "source": "avg = sum(grades)/len(grades)\nabove = 0\nfor gr in grades:\n    if gr > avg:\n        above += 1\n        \nprint(above, \"grades are above the average\", avg)",
      "start_time": "2019-07-08T14:41:58.716Z"
     },
     {
      "end_time": "2019-07-08T14:43:11.784Z",
      "execution_time": "-448ms",
      "outputs": [],
      "source": "avg = sum(grades)/len(grades)\nabove = 0\nfor gr in grades:\n    if gr > avg:\n        above += 1\n        \nprint(above, \"grades are above the average\", avg)",
      "start_time": "2019-07-08T14:43:12.232Z"
     },
     {
      "end_time": "2019-07-08T14:43:11.784Z",
      "execution_time": "-448ms",
      "outputs": [],
      "source": "avg = sum(grades)/len(grades)\nabove = 0\nfor gr in grades:\n    if gr > avg:\n        above += 1\n        \nprint(above, \"grades are above the average\", avg)",
      "start_time": "2019-07-08T14:43:12.232Z"
     }
    ]
   },
   "outputs": [],
   "source": [
    "avg = sum(grades)/len(grades)\n",
    "above = 0\n",
    "for gr in grades:\n",
    "    if gr > avg:\n",
    "        above += 1\n",
    "        \n",
    "print(above, \"grades are above the average\", avg)"
   ]
  },
  {
   "cell_type": "markdown",
   "metadata": {
    "provenance": [
     {
      "last_modified": "2018-06-12T08:34:10.000Z",
      "source": "Using *list comprehension*:"
     },
     {
      "last_modified": "2019-07-08T14:40:44.691Z",
      "source": "Using *list comprehension*:"
     },
     {
      "last_modified": "2019-07-08T14:40:44.691Z",
      "source": "Using *list comprehension*:"
     }
    ]
   },
   "source": [
    "Using *list comprehension*:"
   ]
  },
  {
   "cell_type": "code",
   "execution_count": null,
   "metadata": {
    "ExecutionTime": {
     "end_time": "2019-07-08T14:43:11.786921Z"
    },
    "provenance": [
     {
      "end_time": "Unknown",
      "execution_time": "Unknown",
      "outputs": [
       {
        "name": "stdout",
        "output_type": "stream",
        "text": "15 grades are above the average 68.07407407407408\n"
       }
      ],
      "source": "avg = sum(grades)/len(grades)\nabove = len([gr for gr in grades if gr > avg])\n        \nprint(above, \"grades are above the average\", avg)",
      "start_time": "Unknown"
     },
     {
      "end_time": "2019-07-08T14:39:35.009Z",
      "execution_time": "-465ms",
      "outputs": [],
      "source": "avg = sum(grades)/len(grades)\nabove = len([gr for gr in grades if gr > avg])\n        \nprint(above, \"grades are above the average\", avg)",
      "start_time": "2019-07-08T14:39:35.474Z"
     },
     {
      "end_time": "2019-07-08T14:39:35.009Z",
      "execution_time": "-465ms",
      "outputs": [],
      "source": "avg = sum(grades)/len(grades)\nabove = len([gr for gr in grades if gr > avg])\n        \nprint(above, \"grades are above the average\", avg)",
      "start_time": "2019-07-08T14:39:35.474Z"
     },
     {
      "end_time": "2019-07-08T14:40:16.120Z",
      "execution_time": "-413ms",
      "outputs": [],
      "source": "avg = sum(grades)/len(grades)\nabove = len([gr for gr in grades if gr > avg])\n        \nprint(above, \"grades are above the average\", avg)",
      "start_time": "2019-07-08T14:40:16.533Z"
     },
     {
      "end_time": "2019-07-08T14:40:16.120Z",
      "execution_time": "-414ms",
      "outputs": [],
      "source": "avg = sum(grades)/len(grades)\nabove = len([gr for gr in grades if gr > avg])\n        \nprint(above, \"grades are above the average\", avg)",
      "start_time": "2019-07-08T14:40:16.534Z"
     },
     {
      "end_time": "2019-07-08T14:40:47.634Z",
      "execution_time": "-445ms",
      "outputs": [],
      "source": "avg = sum(grades)/len(grades)\nabove = len([gr for gr in grades if gr > avg])\n        \nprint(above, \"grades are above the average\", avg)",
      "start_time": "2019-07-08T14:40:48.079Z"
     },
     {
      "end_time": "2019-07-08T14:40:47.634Z",
      "execution_time": "-445ms",
      "outputs": [],
      "source": "avg = sum(grades)/len(grades)\nabove = len([gr for gr in grades if gr > avg])\n        \nprint(above, \"grades are above the average\", avg)",
      "start_time": "2019-07-08T14:40:48.079Z"
     },
     {
      "end_time": "2019-07-08T14:41:58.307Z",
      "execution_time": "-411ms",
      "outputs": [],
      "source": "avg = sum(grades)/len(grades)\nabove = len([gr for gr in grades if gr > avg])\n        \nprint(above, \"grades are above the average\", avg)",
      "start_time": "2019-07-08T14:41:58.718Z"
     },
     {
      "end_time": "2019-07-08T14:41:58.307Z",
      "execution_time": "-411ms",
      "outputs": [],
      "source": "avg = sum(grades)/len(grades)\nabove = len([gr for gr in grades if gr > avg])\n        \nprint(above, \"grades are above the average\", avg)",
      "start_time": "2019-07-08T14:41:58.718Z"
     },
     {
      "end_time": "2019-07-08T14:43:11.786Z",
      "execution_time": "-447ms",
      "outputs": [],
      "source": "avg = sum(grades)/len(grades)\nabove = len([gr for gr in grades if gr > avg])\n        \nprint(above, \"grades are above the average\", avg)",
      "start_time": "2019-07-08T14:43:12.233Z"
     },
     {
      "end_time": "2019-07-08T14:43:11.786Z",
      "execution_time": "-447ms",
      "outputs": [],
      "source": "avg = sum(grades)/len(grades)\nabove = len([gr for gr in grades if gr > avg])\n        \nprint(above, \"grades are above the average\", avg)",
      "start_time": "2019-07-08T14:43:12.233Z"
     }
    ]
   },
   "outputs": [],
   "source": [
    "avg = sum(grades)/len(grades)\n",
    "above = len([gr for gr in grades if gr > avg])\n",
    "        \n",
    "print(above, \"grades are above the average\", avg)"
   ]
  },
  {
   "cell_type": "markdown",
   "metadata": {
    "provenance": [
     {
      "last_modified": "2018-06-12T08:34:10.000Z",
      "source": "## Functions\n\n### Maximum and minimum"
     },
     {
      "last_modified": "2019-07-08T14:40:44.691Z",
      "source": "## Functions\n\n### Maximum and minimum"
     },
     {
      "last_modified": "2019-07-08T14:40:44.691Z",
      "source": "## Functions\n\n### Maximum and minimum"
     }
    ]
   },
   "source": [
    "## Functions\n",
    "\n",
    "### Maximum and minimum"
   ]
  },
  {
   "cell_type": "code",
   "execution_count": null,
   "metadata": {
    "ExecutionTime": {
     "end_time": "2019-07-08T14:43:11.789382Z"
    },
    "provenance": [
     {
      "end_time": "Unknown",
      "execution_time": "Unknown",
      "outputs": [
       {
        "name": "stdout",
        "output_type": "stream",
        "text": "10\n5\n10\n10\n"
       }
      ],
      "source": "def max2(a,b):\n    if a >= b:\n        return a\n    else:\n        return b\n\ndef min2(a,b):\n    if a <= b:\n        return a\n    else:\n        return b\n    \ndef max3(a,b,c):\n    if a >= b and a >= c:\n        return a\n    elif b >= a and b >= c:\n        return b\n    else:\n        return c\n\ndef max3v2(a,b,c):\n    max_ab = max2(a,b)\n    return max2(max_ab,c)\n\nprint(max2(5,10))\nprint(min2(5,10))\nprint(max3(5,10,10))\nprint(max3v2(5,10,10))",
      "start_time": "Unknown"
     },
     {
      "end_time": "2019-07-08T14:39:35.031Z",
      "execution_time": "-445ms",
      "outputs": [],
      "source": "def max2(a,b):\n    if a >= b:\n        return a\n    else:\n        return b\n\ndef min2(a,b):\n    if a <= b:\n        return a\n    else:\n        return b\n    \ndef max3(a,b,c):\n    if a >= b and a >= c:\n        return a\n    elif b >= a and b >= c:\n        return b\n    else:\n        return c\n\ndef max3v2(a,b,c):\n    max_ab = max2(a,b)\n    return max2(max_ab,c)\n\nprint(max2(5,10))\nprint(min2(5,10))\nprint(max3(5,10,10))\nprint(max3v2(5,10,10))",
      "start_time": "2019-07-08T14:39:35.476Z"
     },
     {
      "end_time": "2019-07-08T14:39:35.031Z",
      "execution_time": "-445ms",
      "outputs": [],
      "source": "def max2(a,b):\n    if a >= b:\n        return a\n    else:\n        return b\n\ndef min2(a,b):\n    if a <= b:\n        return a\n    else:\n        return b\n    \ndef max3(a,b,c):\n    if a >= b and a >= c:\n        return a\n    elif b >= a and b >= c:\n        return b\n    else:\n        return c\n\ndef max3v2(a,b,c):\n    max_ab = max2(a,b)\n    return max2(max_ab,c)\n\nprint(max2(5,10))\nprint(min2(5,10))\nprint(max3(5,10,10))\nprint(max3v2(5,10,10))",
      "start_time": "2019-07-08T14:39:35.476Z"
     },
     {
      "end_time": "2019-07-08T14:40:16.122Z",
      "execution_time": "-414ms",
      "outputs": [],
      "source": "def max2(a,b):\n    if a >= b:\n        return a\n    else:\n        return b\n\ndef min2(a,b):\n    if a <= b:\n        return a\n    else:\n        return b\n    \ndef max3(a,b,c):\n    if a >= b and a >= c:\n        return a\n    elif b >= a and b >= c:\n        return b\n    else:\n        return c\n\ndef max3v2(a,b,c):\n    max_ab = max2(a,b)\n    return max2(max_ab,c)\n\nprint(max2(5,10))\nprint(min2(5,10))\nprint(max3(5,10,10))\nprint(max3v2(5,10,10))",
      "start_time": "2019-07-08T14:40:16.536Z"
     },
     {
      "end_time": "2019-07-08T14:40:16.122Z",
      "execution_time": "-414ms",
      "outputs": [],
      "source": "def max2(a,b):\n    if a >= b:\n        return a\n    else:\n        return b\n\ndef min2(a,b):\n    if a <= b:\n        return a\n    else:\n        return b\n    \ndef max3(a,b,c):\n    if a >= b and a >= c:\n        return a\n    elif b >= a and b >= c:\n        return b\n    else:\n        return c\n\ndef max3v2(a,b,c):\n    max_ab = max2(a,b)\n    return max2(max_ab,c)\n\nprint(max2(5,10))\nprint(min2(5,10))\nprint(max3(5,10,10))\nprint(max3v2(5,10,10))",
      "start_time": "2019-07-08T14:40:16.536Z"
     },
     {
      "end_time": "2019-07-08T14:40:47.644Z",
      "execution_time": "-436ms",
      "outputs": [],
      "source": "def max2(a,b):\n    if a >= b:\n        return a\n    else:\n        return b\n\ndef min2(a,b):\n    if a <= b:\n        return a\n    else:\n        return b\n    \ndef max3(a,b,c):\n    if a >= b and a >= c:\n        return a\n    elif b >= a and b >= c:\n        return b\n    else:\n        return c\n\ndef max3v2(a,b,c):\n    max_ab = max2(a,b)\n    return max2(max_ab,c)\n\nprint(max2(5,10))\nprint(min2(5,10))\nprint(max3(5,10,10))\nprint(max3v2(5,10,10))",
      "start_time": "2019-07-08T14:40:48.080Z"
     },
     {
      "end_time": "2019-07-08T14:40:47.644Z",
      "execution_time": "-436ms",
      "outputs": [],
      "source": "def max2(a,b):\n    if a >= b:\n        return a\n    else:\n        return b\n\ndef min2(a,b):\n    if a <= b:\n        return a\n    else:\n        return b\n    \ndef max3(a,b,c):\n    if a >= b and a >= c:\n        return a\n    elif b >= a and b >= c:\n        return b\n    else:\n        return c\n\ndef max3v2(a,b,c):\n    max_ab = max2(a,b)\n    return max2(max_ab,c)\n\nprint(max2(5,10))\nprint(min2(5,10))\nprint(max3(5,10,10))\nprint(max3v2(5,10,10))",
      "start_time": "2019-07-08T14:40:48.080Z"
     },
     {
      "end_time": "2019-07-08T14:41:58.318Z",
      "execution_time": "-402ms",
      "outputs": [],
      "source": "def max2(a,b):\n    if a >= b:\n        return a\n    else:\n        return b\n\ndef min2(a,b):\n    if a <= b:\n        return a\n    else:\n        return b\n    \ndef max3(a,b,c):\n    if a >= b and a >= c:\n        return a\n    elif b >= a and b >= c:\n        return b\n    else:\n        return c\n\ndef max3v2(a,b,c):\n    max_ab = max2(a,b)\n    return max2(max_ab,c)\n\nprint(max2(5,10))\nprint(min2(5,10))\nprint(max3(5,10,10))\nprint(max3v2(5,10,10))",
      "start_time": "2019-07-08T14:41:58.720Z"
     },
     {
      "end_time": "2019-07-08T14:41:58.318Z",
      "execution_time": "-403ms",
      "outputs": [],
      "source": "def max2(a,b):\n    if a >= b:\n        return a\n    else:\n        return b\n\ndef min2(a,b):\n    if a <= b:\n        return a\n    else:\n        return b\n    \ndef max3(a,b,c):\n    if a >= b and a >= c:\n        return a\n    elif b >= a and b >= c:\n        return b\n    else:\n        return c\n\ndef max3v2(a,b,c):\n    max_ab = max2(a,b)\n    return max2(max_ab,c)\n\nprint(max2(5,10))\nprint(min2(5,10))\nprint(max3(5,10,10))\nprint(max3v2(5,10,10))",
      "start_time": "2019-07-08T14:41:58.721Z"
     },
     {
      "end_time": "2019-07-08T14:43:11.789Z",
      "execution_time": "-446ms",
      "outputs": [],
      "source": "def max2(a,b):\n    if a >= b:\n        return a\n    else:\n        return b\n\ndef min2(a,b):\n    if a <= b:\n        return a\n    else:\n        return b\n    \ndef max3(a,b,c):\n    if a >= b and a >= c:\n        return a\n    elif b >= a and b >= c:\n        return b\n    else:\n        return c\n\ndef max3v2(a,b,c):\n    max_ab = max2(a,b)\n    return max2(max_ab,c)\n\nprint(max2(5,10))\nprint(min2(5,10))\nprint(max3(5,10,10))\nprint(max3v2(5,10,10))",
      "start_time": "2019-07-08T14:43:12.235Z"
     },
     {
      "end_time": "2019-07-08T14:43:11.789Z",
      "execution_time": "-446ms",
      "outputs": [],
      "source": "def max2(a,b):\n    if a >= b:\n        return a\n    else:\n        return b\n\ndef min2(a,b):\n    if a <= b:\n        return a\n    else:\n        return b\n    \ndef max3(a,b,c):\n    if a >= b and a >= c:\n        return a\n    elif b >= a and b >= c:\n        return b\n    else:\n        return c\n\ndef max3v2(a,b,c):\n    max_ab = max2(a,b)\n    return max2(max_ab,c)\n\nprint(max2(5,10))\nprint(min2(5,10))\nprint(max3(5,10,10))\nprint(max3v2(5,10,10))",
      "start_time": "2019-07-08T14:43:12.235Z"
     }
    ]
   },
   "outputs": [],
   "source": [
    "def max2(a,b):\n",
    "    if a >= b:\n",
    "        return a\n",
    "    else:\n",
    "        return b\n",
    "\n",
    "def min2(a,b):\n",
    "    if a <= b:\n",
    "        return a\n",
    "    else:\n",
    "        return b\n",
    "    \n",
    "def max3(a,b,c):\n",
    "    if a >= b and a >= c:\n",
    "        return a\n",
    "    elif b >= a and b >= c:\n",
    "        return b\n",
    "    else:\n",
    "        return c\n",
    "\n",
    "def max3v2(a,b,c):\n",
    "    max_ab = max2(a,b)\n",
    "    return max2(max_ab,c)\n",
    "\n",
    "print(max2(5,10))\n",
    "print(min2(5,10))\n",
    "print(max3(5,10,10))\n",
    "print(max3v2(5,10,10))"
   ]
  },
  {
   "cell_type": "code",
   "execution_count": null,
   "metadata": {
    "ExecutionTime": {
     "end_time": "2019-07-08T14:43:11.791833Z"
    },
    "provenance": [
     {
      "end_time": "Unknown",
      "execution_time": "Unknown",
      "outputs": [
       {
        "name": "stdout",
        "output_type": "stream",
        "text": "1000000 loops, best of 3: 905 ns per loop\n1000000 loops, best of 3: 893 ns per loop\n1000000 loops, best of 3: 1.54 us per loop\n1000000 loops, best of 3: 1.53 us per loop\n"
       }
      ],
      "source": "%timeit max3(100,45,67)\n%timeit max3(45,67,100)\n%timeit max3v2(100,45,67)\n%timeit max3v2(45,67,100)",
      "start_time": "Unknown"
     },
     {
      "end_time": "2019-07-08T14:39:35.033Z",
      "execution_time": "-445ms",
      "outputs": [],
      "source": "%timeit max3(100,45,67)\n%timeit max3(45,67,100)\n%timeit max3v2(100,45,67)\n%timeit max3v2(45,67,100)",
      "start_time": "2019-07-08T14:39:35.478Z"
     },
     {
      "end_time": "2019-07-08T14:39:35.033Z",
      "execution_time": "-445ms",
      "outputs": [],
      "source": "%timeit max3(100,45,67)\n%timeit max3(45,67,100)\n%timeit max3v2(100,45,67)\n%timeit max3v2(45,67,100)",
      "start_time": "2019-07-08T14:39:35.478Z"
     },
     {
      "end_time": "2019-07-08T14:40:16.126Z",
      "execution_time": "-411ms",
      "outputs": [],
      "source": "%timeit max3(100,45,67)\n%timeit max3(45,67,100)\n%timeit max3v2(100,45,67)\n%timeit max3v2(45,67,100)",
      "start_time": "2019-07-08T14:40:16.537Z"
     },
     {
      "end_time": "2019-07-08T14:40:16.126Z",
      "execution_time": "-411ms",
      "outputs": [],
      "source": "%timeit max3(100,45,67)\n%timeit max3(45,67,100)\n%timeit max3v2(100,45,67)\n%timeit max3v2(45,67,100)",
      "start_time": "2019-07-08T14:40:16.537Z"
     },
     {
      "end_time": "2019-07-08T14:40:47.653Z",
      "execution_time": "-429ms",
      "outputs": [],
      "source": "%timeit max3(100,45,67)\n%timeit max3(45,67,100)\n%timeit max3v2(100,45,67)\n%timeit max3v2(45,67,100)",
      "start_time": "2019-07-08T14:40:48.082Z"
     },
     {
      "end_time": "2019-07-08T14:40:47.653Z",
      "execution_time": "-429ms",
      "outputs": [],
      "source": "%timeit max3(100,45,67)\n%timeit max3(45,67,100)\n%timeit max3v2(100,45,67)\n%timeit max3v2(45,67,100)",
      "start_time": "2019-07-08T14:40:48.082Z"
     },
     {
      "end_time": "2019-07-08T14:41:58.329Z",
      "execution_time": "-397ms",
      "outputs": [],
      "source": "%timeit max3(100,45,67)\n%timeit max3(45,67,100)\n%timeit max3v2(100,45,67)\n%timeit max3v2(45,67,100)",
      "start_time": "2019-07-08T14:41:58.726Z"
     },
     {
      "end_time": "2019-07-08T14:41:58.329Z",
      "execution_time": "-398ms",
      "outputs": [],
      "source": "%timeit max3(100,45,67)\n%timeit max3(45,67,100)\n%timeit max3v2(100,45,67)\n%timeit max3v2(45,67,100)",
      "start_time": "2019-07-08T14:41:58.727Z"
     },
     {
      "end_time": "2019-07-08T14:43:11.791Z",
      "execution_time": "-446ms",
      "outputs": [],
      "source": "%timeit max3(100,45,67)\n%timeit max3(45,67,100)\n%timeit max3v2(100,45,67)\n%timeit max3v2(45,67,100)",
      "start_time": "2019-07-08T14:43:12.237Z"
     },
     {
      "end_time": "2019-07-08T14:43:11.791Z",
      "execution_time": "-446ms",
      "outputs": [],
      "source": "%timeit max3(100,45,67)\n%timeit max3(45,67,100)\n%timeit max3v2(100,45,67)\n%timeit max3v2(45,67,100)",
      "start_time": "2019-07-08T14:43:12.237Z"
     }
    ]
   },
   "outputs": [],
   "source": [
    "%timeit max3(100,45,67)\n",
    "%timeit max3(45,67,100)\n",
    "%timeit max3v2(100,45,67)\n",
    "%timeit max3v2(45,67,100)"
   ]
  },
  {
   "cell_type": "markdown",
   "metadata": {
    "provenance": [
     {
      "last_modified": "2018-06-12T08:34:10.000Z",
      "source": "* Which should be faster, `max3` or `max3v2`?\n* How would you implement `max4`?"
     },
     {
      "last_modified": "2019-07-08T14:40:44.691Z",
      "source": "* Which should be faster, `max3` or `max3v2`?\n* How would you implement `max4`?"
     },
     {
      "last_modified": "2019-07-08T14:40:44.691Z",
      "source": "* Which should be faster, `max3` or `max3v2`?\n* How would you implement `max4`?"
     }
    ]
   },
   "source": [
    "* Which should be faster, `max3` or `max3v2`?\n",
    "* How would you implement `max4`?"
   ]
  },
  {
   "cell_type": "markdown",
   "metadata": {
    "provenance": [
     {
      "last_modified": "2018-06-12T08:34:10.000Z",
      "source": "### Perfect numbers\n\nA perfect number is a number that is equal to the sum of its divisors:"
     },
     {
      "last_modified": "2019-07-08T14:40:44.691Z",
      "source": "### Perfect numbers\n\nA perfect number is a number that is equal to the sum of its divisors:"
     },
     {
      "last_modified": "2019-07-08T14:40:44.691Z",
      "source": "### Perfect numbers\n\nA perfect number is a number that is equal to the sum of its divisors:"
     }
    ]
   },
   "source": [
    "### Perfect numbers\n",
    "\n",
    "A perfect number is a number that is equal to the sum of its divisors:"
   ]
  },
  {
   "cell_type": "code",
   "execution_count": null,
   "metadata": {
    "ExecutionTime": {
     "end_time": "2019-07-08T14:43:11.797165Z"
    },
    "provenance": [
     {
      "end_time": "Unknown",
      "execution_time": "Unknown",
      "outputs": [
       {
        "name": "stdout",
        "output_type": "stream",
        "text": "Help on function is_perfect in module __main__:\n\nis_perfect(n)\n    is_perfect(integer) -> bool\n    Return True iff n equals the sum of its divisors\n\n"
       }
      ],
      "source": "def is_perfect(n):\n    '''\n    is_perfect(integer) -> bool\n    Return True iff n equals the sum of its divisors\n    '''\n    if n == sum(divisors(n)):\n        return True\n    else:\n        return False\n\nhelp(is_perfect)",
      "start_time": "Unknown"
     },
     {
      "end_time": "2019-07-08T14:39:35.035Z",
      "execution_time": "-445ms",
      "outputs": [],
      "source": "def is_perfect(n):\n    '''\n    is_perfect(integer) -> bool\n    Return True iff n equals the sum of its divisors\n    '''\n    if n == sum(divisors(n)):\n        return True\n    else:\n        return False\n\nhelp(is_perfect)",
      "start_time": "2019-07-08T14:39:35.480Z"
     },
     {
      "end_time": "2019-07-08T14:39:35.035Z",
      "execution_time": "-445ms",
      "outputs": [],
      "source": "def is_perfect(n):\n    '''\n    is_perfect(integer) -> bool\n    Return True iff n equals the sum of its divisors\n    '''\n    if n == sum(divisors(n)):\n        return True\n    else:\n        return False\n\nhelp(is_perfect)",
      "start_time": "2019-07-08T14:39:35.480Z"
     },
     {
      "end_time": "2019-07-08T14:40:16.137Z",
      "execution_time": "-402ms",
      "outputs": [],
      "source": "def is_perfect(n):\n    '''\n    is_perfect(integer) -> bool\n    Return True iff n equals the sum of its divisors\n    '''\n    if n == sum(divisors(n)):\n        return True\n    else:\n        return False\n\nhelp(is_perfect)",
      "start_time": "2019-07-08T14:40:16.539Z"
     },
     {
      "end_time": "2019-07-08T14:40:16.137Z",
      "execution_time": "-402ms",
      "outputs": [],
      "source": "def is_perfect(n):\n    '''\n    is_perfect(integer) -> bool\n    Return True iff n equals the sum of its divisors\n    '''\n    if n == sum(divisors(n)):\n        return True\n    else:\n        return False\n\nhelp(is_perfect)",
      "start_time": "2019-07-08T14:40:16.539Z"
     },
     {
      "end_time": "2019-07-08T14:40:47.655Z",
      "execution_time": "-429ms",
      "outputs": [],
      "source": "def is_perfect(n):\n    '''\n    is_perfect(integer) -> bool\n    Return True iff n equals the sum of its divisors\n    '''\n    if n == sum(divisors(n)):\n        return True\n    else:\n        return False\n\nhelp(is_perfect)",
      "start_time": "2019-07-08T14:40:48.084Z"
     },
     {
      "end_time": "2019-07-08T14:40:47.655Z",
      "execution_time": "-429ms",
      "outputs": [],
      "source": "def is_perfect(n):\n    '''\n    is_perfect(integer) -> bool\n    Return True iff n equals the sum of its divisors\n    '''\n    if n == sum(divisors(n)):\n        return True\n    else:\n        return False\n\nhelp(is_perfect)",
      "start_time": "2019-07-08T14:40:48.084Z"
     },
     {
      "end_time": "2019-07-08T14:41:58.334Z",
      "execution_time": "-395ms",
      "outputs": [],
      "source": "def is_perfect(n):\n    '''\n    is_perfect(integer) -> bool\n    Return True iff n equals the sum of its divisors\n    '''\n    if n == sum(divisors(n)):\n        return True\n    else:\n        return False\n\nhelp(is_perfect)",
      "start_time": "2019-07-08T14:41:58.729Z"
     },
     {
      "end_time": "2019-07-08T14:41:58.334Z",
      "execution_time": "-395ms",
      "outputs": [],
      "source": "def is_perfect(n):\n    '''\n    is_perfect(integer) -> bool\n    Return True iff n equals the sum of its divisors\n    '''\n    if n == sum(divisors(n)):\n        return True\n    else:\n        return False\n\nhelp(is_perfect)",
      "start_time": "2019-07-08T14:41:58.729Z"
     },
     {
      "end_time": "2019-07-08T14:43:11.797Z",
      "execution_time": "-441ms",
      "outputs": [],
      "source": "def is_perfect(n):\n    '''\n    is_perfect(integer) -> bool\n    Return True iff n equals the sum of its divisors\n    '''\n    if n == sum(divisors(n)):\n        return True\n    else:\n        return False\n\nhelp(is_perfect)",
      "start_time": "2019-07-08T14:43:12.238Z"
     },
     {
      "end_time": "2019-07-08T14:43:11.797Z",
      "execution_time": "-441ms",
      "outputs": [],
      "source": "def is_perfect(n):\n    '''\n    is_perfect(integer) -> bool\n    Return True iff n equals the sum of its divisors\n    '''\n    if n == sum(divisors(n)):\n        return True\n    else:\n        return False\n\nhelp(is_perfect)",
      "start_time": "2019-07-08T14:43:12.238Z"
     }
    ]
   },
   "outputs": [],
   "source": [
    "def is_perfect(n):\n",
    "    '''\n",
    "    is_perfect(integer) -> bool\n",
    "    Return True iff n equals the sum of its divisors\n",
    "    '''\n",
    "    if n == sum(divisors(n)):\n",
    "        return True\n",
    "    else:\n",
    "        return False\n",
    "\n",
    "help(is_perfect)"
   ]
  },
  {
   "cell_type": "code",
   "execution_count": null,
   "metadata": {
    "ExecutionTime": {
     "end_time": "2019-07-08T14:43:11.799212Z"
    },
    "provenance": [
     {
      "end_time": "Unknown",
      "execution_time": "Unknown",
      "outputs": [],
      "source": "def divisors(n):\n    '''\n    divisors(integer) -> list of integers\n    Return the proper divisors of n (numbers less than n that divide evenly into n).\n    '''\n    return [div for div in range(1,n) if n % div == 0]",
      "start_time": "Unknown"
     },
     {
      "end_time": "2019-07-08T14:39:35.039Z",
      "execution_time": "-443ms",
      "outputs": [],
      "source": "def divisors(n):\n    '''\n    divisors(integer) -> list of integers\n    Return the proper divisors of n (numbers less than n that divide evenly into n).\n    '''\n    return [div for div in range(1,n) if n % div == 0]",
      "start_time": "2019-07-08T14:39:35.482Z"
     },
     {
      "end_time": "2019-07-08T14:39:35.039Z",
      "execution_time": "-443ms",
      "outputs": [],
      "source": "def divisors(n):\n    '''\n    divisors(integer) -> list of integers\n    Return the proper divisors of n (numbers less than n that divide evenly into n).\n    '''\n    return [div for div in range(1,n) if n % div == 0]",
      "start_time": "2019-07-08T14:39:35.482Z"
     },
     {
      "end_time": "2019-07-08T14:40:16.139Z",
      "execution_time": "-406ms",
      "outputs": [],
      "source": "def divisors(n):\n    '''\n    divisors(integer) -> list of integers\n    Return the proper divisors of n (numbers less than n that divide evenly into n).\n    '''\n    return [div for div in range(1,n) if n % div == 0]",
      "start_time": "2019-07-08T14:40:16.545Z"
     },
     {
      "end_time": "2019-07-08T14:40:16.139Z",
      "execution_time": "-407ms",
      "outputs": [],
      "source": "def divisors(n):\n    '''\n    divisors(integer) -> list of integers\n    Return the proper divisors of n (numbers less than n that divide evenly into n).\n    '''\n    return [div for div in range(1,n) if n % div == 0]",
      "start_time": "2019-07-08T14:40:16.546Z"
     },
     {
      "end_time": "2019-07-08T14:40:47.657Z",
      "execution_time": "-428ms",
      "outputs": [],
      "source": "def divisors(n):\n    '''\n    divisors(integer) -> list of integers\n    Return the proper divisors of n (numbers less than n that divide evenly into n).\n    '''\n    return [div for div in range(1,n) if n % div == 0]",
      "start_time": "2019-07-08T14:40:48.085Z"
     },
     {
      "end_time": "2019-07-08T14:40:47.657Z",
      "execution_time": "-428ms",
      "outputs": [],
      "source": "def divisors(n):\n    '''\n    divisors(integer) -> list of integers\n    Return the proper divisors of n (numbers less than n that divide evenly into n).\n    '''\n    return [div for div in range(1,n) if n % div == 0]",
      "start_time": "2019-07-08T14:40:48.085Z"
     },
     {
      "end_time": "2019-07-08T14:41:58.338Z",
      "execution_time": "-394ms",
      "outputs": [],
      "source": "def divisors(n):\n    '''\n    divisors(integer) -> list of integers\n    Return the proper divisors of n (numbers less than n that divide evenly into n).\n    '''\n    return [div for div in range(1,n) if n % div == 0]",
      "start_time": "2019-07-08T14:41:58.732Z"
     },
     {
      "end_time": "2019-07-08T14:41:58.338Z",
      "execution_time": "-395ms",
      "outputs": [],
      "source": "def divisors(n):\n    '''\n    divisors(integer) -> list of integers\n    Return the proper divisors of n (numbers less than n that divide evenly into n).\n    '''\n    return [div for div in range(1,n) if n % div == 0]",
      "start_time": "2019-07-08T14:41:58.733Z"
     },
     {
      "end_time": "2019-07-08T14:43:11.799Z",
      "execution_time": "-441ms",
      "outputs": [],
      "source": "def divisors(n):\n    '''\n    divisors(integer) -> list of integers\n    Return the proper divisors of n (numbers less than n that divide evenly into n).\n    '''\n    return [div for div in range(1,n) if n % div == 0]",
      "start_time": "2019-07-08T14:43:12.240Z"
     },
     {
      "end_time": "2019-07-08T14:43:11.799Z",
      "execution_time": "-441ms",
      "outputs": [],
      "source": "def divisors(n):\n    '''\n    divisors(integer) -> list of integers\n    Return the proper divisors of n (numbers less than n that divide evenly into n).\n    '''\n    return [div for div in range(1,n) if n % div == 0]",
      "start_time": "2019-07-08T14:43:12.240Z"
     }
    ]
   },
   "outputs": [],
   "source": [
    "def divisors(n):\n",
    "    '''\n",
    "    divisors(integer) -> list of integers\n",
    "    Return the proper divisors of n (numbers less than n that divide evenly into n).\n",
    "    '''\n",
    "    return [div for div in range(1,n) if n % div == 0]"
   ]
  },
  {
   "cell_type": "markdown",
   "metadata": {
    "provenance": [
     {
      "last_modified": "2018-06-12T08:34:10.000Z",
      "source": "####Notes\n\n* Functions that return a boolean are named with `is_` as a prefix.\n* Use `'''` after the function definition to create function documentation\n* in `is_perfect` we can return the condition value instead of using the `if-else` clause:"
     },
     {
      "last_modified": "2019-07-08T14:40:44.691Z",
      "source": "####Notes\n\n* Functions that return a boolean are named with `is_` as a prefix.\n* Use `'''` after the function definition to create function documentation\n* in `is_perfect` we can return the condition value instead of using the `if-else` clause:"
     },
     {
      "last_modified": "2019-07-08T14:40:44.691Z",
      "source": "####Notes\n\n* Functions that return a boolean are named with `is_` as a prefix.\n* Use `'''` after the function definition to create function documentation\n* in `is_perfect` we can return the condition value instead of using the `if-else` clause:"
     }
    ]
   },
   "source": [
    "####Notes\n",
    "\n",
    "* Functions that return a boolean are named with `is_` as a prefix.\n",
    "* Use `'''` after the function definition to create function documentation\n",
    "* in `is_perfect` we can return the condition value instead of using the `if-else` clause:"
   ]
  },
  {
   "cell_type": "code",
   "execution_count": null,
   "metadata": {
    "ExecutionTime": {
     "end_time": "2019-07-08T14:43:11.802889Z"
    },
    "provenance": [
     {
      "end_time": "Unknown",
      "execution_time": "Unknown",
      "outputs": [],
      "source": "def is_perfect(n):\n    '''\n    is_perfect(integer) -> bool\n    Return True iff n equals the sum of its divisors\n    '''\n    return n == sum(divisors(n))",
      "start_time": "Unknown"
     },
     {
      "end_time": "2019-07-08T14:39:35.054Z",
      "execution_time": "-429ms",
      "outputs": [],
      "source": "def is_perfect(n):\n    '''\n    is_perfect(integer) -> bool\n    Return True iff n equals the sum of its divisors\n    '''\n    return n == sum(divisors(n))",
      "start_time": "2019-07-08T14:39:35.483Z"
     },
     {
      "end_time": "2019-07-08T14:39:35.054Z",
      "execution_time": "-429ms",
      "outputs": [],
      "source": "def is_perfect(n):\n    '''\n    is_perfect(integer) -> bool\n    Return True iff n equals the sum of its divisors\n    '''\n    return n == sum(divisors(n))",
      "start_time": "2019-07-08T14:39:35.483Z"
     },
     {
      "end_time": "2019-07-08T14:40:16.142Z",
      "execution_time": "-406ms",
      "outputs": [],
      "source": "def is_perfect(n):\n    '''\n    is_perfect(integer) -> bool\n    Return True iff n equals the sum of its divisors\n    '''\n    return n == sum(divisors(n))",
      "start_time": "2019-07-08T14:40:16.548Z"
     },
     {
      "end_time": "2019-07-08T14:40:16.142Z",
      "execution_time": "-407ms",
      "outputs": [],
      "source": "def is_perfect(n):\n    '''\n    is_perfect(integer) -> bool\n    Return True iff n equals the sum of its divisors\n    '''\n    return n == sum(divisors(n))",
      "start_time": "2019-07-08T14:40:16.549Z"
     },
     {
      "end_time": "2019-07-08T14:40:47.673Z",
      "execution_time": "-414ms",
      "outputs": [],
      "source": "def is_perfect(n):\n    '''\n    is_perfect(integer) -> bool\n    Return True iff n equals the sum of its divisors\n    '''\n    return n == sum(divisors(n))",
      "start_time": "2019-07-08T14:40:48.087Z"
     },
     {
      "end_time": "2019-07-08T14:40:47.673Z",
      "execution_time": "-415ms",
      "outputs": [],
      "source": "def is_perfect(n):\n    '''\n    is_perfect(integer) -> bool\n    Return True iff n equals the sum of its divisors\n    '''\n    return n == sum(divisors(n))",
      "start_time": "2019-07-08T14:40:48.088Z"
     },
     {
      "end_time": "2019-07-08T14:41:58.341Z",
      "execution_time": "-393ms",
      "outputs": [],
      "source": "def is_perfect(n):\n    '''\n    is_perfect(integer) -> bool\n    Return True iff n equals the sum of its divisors\n    '''\n    return n == sum(divisors(n))",
      "start_time": "2019-07-08T14:41:58.734Z"
     },
     {
      "end_time": "2019-07-08T14:41:58.341Z",
      "execution_time": "-394ms",
      "outputs": [],
      "source": "def is_perfect(n):\n    '''\n    is_perfect(integer) -> bool\n    Return True iff n equals the sum of its divisors\n    '''\n    return n == sum(divisors(n))",
      "start_time": "2019-07-08T14:41:58.735Z"
     },
     {
      "end_time": "2019-07-08T14:43:11.802Z",
      "execution_time": "-439ms",
      "outputs": [],
      "source": "def is_perfect(n):\n    '''\n    is_perfect(integer) -> bool\n    Return True iff n equals the sum of its divisors\n    '''\n    return n == sum(divisors(n))",
      "start_time": "2019-07-08T14:43:12.241Z"
     },
     {
      "end_time": "2019-07-08T14:43:11.802Z",
      "execution_time": "-439ms",
      "outputs": [],
      "source": "def is_perfect(n):\n    '''\n    is_perfect(integer) -> bool\n    Return True iff n equals the sum of its divisors\n    '''\n    return n == sum(divisors(n))",
      "start_time": "2019-07-08T14:43:12.241Z"
     }
    ]
   },
   "outputs": [],
   "source": [
    "def is_perfect(n):\n",
    "    '''\n",
    "    is_perfect(integer) -> bool\n",
    "    Return True iff n equals the sum of its divisors\n",
    "    '''\n",
    "    return n == sum(divisors(n))"
   ]
  },
  {
   "cell_type": "code",
   "execution_count": null,
   "metadata": {
    "ExecutionTime": {
     "end_time": "2019-07-08T14:43:11.809269Z"
    },
    "provenance": [
     {
      "end_time": "Unknown",
      "execution_time": "Unknown",
      "outputs": [
       {
        "name": "stdout",
        "output_type": "stream",
        "text": "perfect numbers in range(1,1000)\n\n[6, 28, 496]\n"
       }
      ],
      "source": "print(\"perfect numbers in range(1,1000)\\n\")\nprint([n for n in range(1,1001) if is_perfect(n)])",
      "start_time": "Unknown"
     },
     {
      "end_time": "2019-07-08T14:39:35.064Z",
      "execution_time": "-421ms",
      "outputs": [],
      "source": "print(\"perfect numbers in range(1,1000)\\n\")\nprint([n for n in range(1,1001) if is_perfect(n)])",
      "start_time": "2019-07-08T14:39:35.485Z"
     },
     {
      "end_time": "2019-07-08T14:39:35.064Z",
      "execution_time": "-421ms",
      "outputs": [],
      "source": "print(\"perfect numbers in range(1,1000)\\n\")\nprint([n for n in range(1,1001) if is_perfect(n)])",
      "start_time": "2019-07-08T14:39:35.485Z"
     },
     {
      "end_time": "2019-07-08T14:40:16.144Z",
      "execution_time": "-406ms",
      "outputs": [],
      "source": "print(\"perfect numbers in range(1,1000)\\n\")\nprint([n for n in range(1,1001) if is_perfect(n)])",
      "start_time": "2019-07-08T14:40:16.550Z"
     },
     {
      "end_time": "2019-07-08T14:40:16.144Z",
      "execution_time": "-406ms",
      "outputs": [],
      "source": "print(\"perfect numbers in range(1,1000)\\n\")\nprint([n for n in range(1,1001) if is_perfect(n)])",
      "start_time": "2019-07-08T14:40:16.550Z"
     },
     {
      "end_time": "2019-07-08T14:40:47.683Z",
      "execution_time": "-406ms",
      "outputs": [],
      "source": "print(\"perfect numbers in range(1,1000)\\n\")\nprint([n for n in range(1,1001) if is_perfect(n)])",
      "start_time": "2019-07-08T14:40:48.089Z"
     },
     {
      "end_time": "2019-07-08T14:40:47.683Z",
      "execution_time": "-406ms",
      "outputs": [],
      "source": "print(\"perfect numbers in range(1,1000)\\n\")\nprint([n for n in range(1,1001) if is_perfect(n)])",
      "start_time": "2019-07-08T14:40:48.089Z"
     },
     {
      "end_time": "2019-07-08T14:41:58.344Z",
      "execution_time": "-392ms",
      "outputs": [],
      "source": "print(\"perfect numbers in range(1,1000)\\n\")\nprint([n for n in range(1,1001) if is_perfect(n)])",
      "start_time": "2019-07-08T14:41:58.736Z"
     },
     {
      "end_time": "2019-07-08T14:41:58.344Z",
      "execution_time": "-393ms",
      "outputs": [],
      "source": "print(\"perfect numbers in range(1,1000)\\n\")\nprint([n for n in range(1,1001) if is_perfect(n)])",
      "start_time": "2019-07-08T14:41:58.737Z"
     },
     {
      "end_time": "2019-07-08T14:43:11.809Z",
      "execution_time": "-434ms",
      "outputs": [],
      "source": "print(\"perfect numbers in range(1,1000)\\n\")\nprint([n for n in range(1,1001) if is_perfect(n)])",
      "start_time": "2019-07-08T14:43:12.243Z"
     },
     {
      "end_time": "2019-07-08T14:43:11.809Z",
      "execution_time": "-434ms",
      "outputs": [],
      "source": "print(\"perfect numbers in range(1,1000)\\n\")\nprint([n for n in range(1,1001) if is_perfect(n)])",
      "start_time": "2019-07-08T14:43:12.243Z"
     }
    ]
   },
   "outputs": [],
   "source": [
    "print(\"perfect numbers in range(1,1000)\\n\")\n",
    "print([n for n in range(1,1001) if is_perfect(n)])"
   ]
  },
  {
   "cell_type": "markdown",
   "metadata": {
    "provenance": [
     {
      "last_modified": "2018-06-12T08:34:10.000Z",
      "source": "#### Complexity\n\nWe can write another version of `divisors` that is more efficient by iterating only on numbers between 1 and $\\frac{n}{2}$, but this function is more complex and bugs are crawling in it:"
     },
     {
      "last_modified": "2019-07-08T14:40:44.691Z",
      "source": "#### Complexity\n\nWe can write another version of `divisors` that is more efficient by iterating only on numbers between 1 and $\\frac{n}{2}$, but this function is more complex and bugs are crawling in it:"
     },
     {
      "last_modified": "2019-07-08T14:40:44.691Z",
      "source": "#### Complexity\n\nWe can write another version of `divisors` that is more efficient by iterating only on numbers between 1 and $\\frac{n}{2}$, but this function is more complex and bugs are crawling in it:"
     }
    ]
   },
   "source": [
    "#### Complexity\n",
    "\n",
    "We can write another version of `divisors` that is more efficient by iterating only on numbers between 1 and $\\frac{n}{2}$, but this function is more complex and bugs are crawling in it:"
   ]
  },
  {
   "cell_type": "code",
   "execution_count": null,
   "metadata": {
    "ExecutionTime": {
     "end_time": "2019-07-08T14:43:11.811516Z"
    },
    "provenance": [
     {
      "end_time": "Unknown",
      "execution_time": "Unknown",
      "outputs": [],
      "source": "def divisors2(n):\n    divs = []\n    for m in range(2,round(n * 0.5)):#1 and n**0.5 will be handled separately. why?\n        if n % m == 0:\n            divs += [m, n // m]\n    divs += [1] # 1 surely divides n\n    return divs",
      "start_time": "Unknown"
     },
     {
      "end_time": "2019-07-08T14:39:35.066Z",
      "execution_time": "-424ms",
      "outputs": [],
      "source": "def divisors2(n):\n    divs = []\n    for m in range(2,round(n * 0.5)):#1 and n**0.5 will be handled separately. why?\n        if n % m == 0:\n            divs += [m, n // m]\n    divs += [1] # 1 surely divides n\n    return divs",
      "start_time": "2019-07-08T14:39:35.490Z"
     },
     {
      "end_time": "2019-07-08T14:39:35.066Z",
      "execution_time": "-424ms",
      "outputs": [],
      "source": "def divisors2(n):\n    divs = []\n    for m in range(2,round(n * 0.5)):#1 and n**0.5 will be handled separately. why?\n        if n % m == 0:\n            divs += [m, n // m]\n    divs += [1] # 1 surely divides n\n    return divs",
      "start_time": "2019-07-08T14:39:35.490Z"
     },
     {
      "end_time": "2019-07-08T14:40:16.146Z",
      "execution_time": "-406ms",
      "outputs": [],
      "source": "def divisors2(n):\n    divs = []\n    for m in range(2,round(n * 0.5)):#1 and n**0.5 will be handled separately. why?\n        if n % m == 0:\n            divs += [m, n // m]\n    divs += [1] # 1 surely divides n\n    return divs",
      "start_time": "2019-07-08T14:40:16.552Z"
     },
     {
      "end_time": "2019-07-08T14:40:16.146Z",
      "execution_time": "-406ms",
      "outputs": [],
      "source": "def divisors2(n):\n    divs = []\n    for m in range(2,round(n * 0.5)):#1 and n**0.5 will be handled separately. why?\n        if n % m == 0:\n            divs += [m, n // m]\n    divs += [1] # 1 surely divides n\n    return divs",
      "start_time": "2019-07-08T14:40:16.552Z"
     },
     {
      "end_time": "2019-07-08T14:40:47.685Z",
      "execution_time": "-405ms",
      "outputs": [],
      "source": "def divisors2(n):\n    divs = []\n    for m in range(2,round(n * 0.5)):#1 and n**0.5 will be handled separately. why?\n        if n % m == 0:\n            divs += [m, n // m]\n    divs += [1] # 1 surely divides n\n    return divs",
      "start_time": "2019-07-08T14:40:48.090Z"
     },
     {
      "end_time": "2019-07-08T14:40:47.685Z",
      "execution_time": "-406ms",
      "outputs": [],
      "source": "def divisors2(n):\n    divs = []\n    for m in range(2,round(n * 0.5)):#1 and n**0.5 will be handled separately. why?\n        if n % m == 0:\n            divs += [m, n // m]\n    divs += [1] # 1 surely divides n\n    return divs",
      "start_time": "2019-07-08T14:40:48.091Z"
     },
     {
      "end_time": "2019-07-08T14:41:58.347Z",
      "execution_time": "-390ms",
      "outputs": [],
      "source": "def divisors2(n):\n    divs = []\n    for m in range(2,round(n * 0.5)):#1 and n**0.5 will be handled separately. why?\n        if n % m == 0:\n            divs += [m, n // m]\n    divs += [1] # 1 surely divides n\n    return divs",
      "start_time": "2019-07-08T14:41:58.737Z"
     },
     {
      "end_time": "2019-07-08T14:41:58.347Z",
      "execution_time": "-390ms",
      "outputs": [],
      "source": "def divisors2(n):\n    divs = []\n    for m in range(2,round(n * 0.5)):#1 and n**0.5 will be handled separately. why?\n        if n % m == 0:\n            divs += [m, n // m]\n    divs += [1] # 1 surely divides n\n    return divs",
      "start_time": "2019-07-08T14:41:58.737Z"
     },
     {
      "end_time": "2019-07-08T14:43:11.811Z",
      "execution_time": "-434ms",
      "outputs": [],
      "source": "def divisors2(n):\n    divs = []\n    for m in range(2,round(n * 0.5)):#1 and n**0.5 will be handled separately. why?\n        if n % m == 0:\n            divs += [m, n // m]\n    divs += [1] # 1 surely divides n\n    return divs",
      "start_time": "2019-07-08T14:43:12.245Z"
     },
     {
      "end_time": "2019-07-08T14:43:11.811Z",
      "execution_time": "-434ms",
      "outputs": [],
      "source": "def divisors2(n):\n    divs = []\n    for m in range(2,round(n * 0.5)):#1 and n**0.5 will be handled separately. why?\n        if n % m == 0:\n            divs += [m, n // m]\n    divs += [1] # 1 surely divides n\n    return divs",
      "start_time": "2019-07-08T14:43:12.245Z"
     }
    ]
   },
   "outputs": [],
   "source": [
    "def divisors2(n):\n",
    "    divs = []\n",
    "    for m in range(2,round(n * 0.5)):#1 and n**0.5 will be handled separately. why?\n",
    "        if n % m == 0:\n",
    "            divs += [m, n // m]\n",
    "    divs += [1] # 1 surely divides n\n",
    "    return divs"
   ]
  },
  {
   "cell_type": "code",
   "execution_count": null,
   "metadata": {
    "ExecutionTime": {
     "end_time": "2019-07-08T14:43:11.813738Z"
    },
    "provenance": [
     {
      "end_time": "Unknown",
      "execution_time": "Unknown",
      "outputs": [
       {
        "name": "stdout",
        "output_type": "stream",
        "text": "[1, 2, 3]\n[2, 3, 1]\n"
       }
      ],
      "source": "print(divisors(6))\nprint(divisors2(6))",
      "start_time": "Unknown"
     },
     {
      "end_time": "2019-07-08T14:39:35.068Z",
      "execution_time": "-425ms",
      "outputs": [],
      "source": "print(divisors(6))\nprint(divisors2(6))",
      "start_time": "2019-07-08T14:39:35.493Z"
     },
     {
      "end_time": "2019-07-08T14:39:35.068Z",
      "execution_time": "-426ms",
      "outputs": [],
      "source": "print(divisors(6))\nprint(divisors2(6))",
      "start_time": "2019-07-08T14:39:35.494Z"
     },
     {
      "end_time": "2019-07-08T14:40:16.148Z",
      "execution_time": "-405ms",
      "outputs": [],
      "source": "print(divisors(6))\nprint(divisors2(6))",
      "start_time": "2019-07-08T14:40:16.553Z"
     },
     {
      "end_time": "2019-07-08T14:40:16.148Z",
      "execution_time": "-405ms",
      "outputs": [],
      "source": "print(divisors(6))\nprint(divisors2(6))",
      "start_time": "2019-07-08T14:40:16.553Z"
     },
     {
      "end_time": "2019-07-08T14:40:47.686Z",
      "execution_time": "-406ms",
      "outputs": [],
      "source": "print(divisors(6))\nprint(divisors2(6))",
      "start_time": "2019-07-08T14:40:48.092Z"
     },
     {
      "end_time": "2019-07-08T14:40:47.686Z",
      "execution_time": "-406ms",
      "outputs": [],
      "source": "print(divisors(6))\nprint(divisors2(6))",
      "start_time": "2019-07-08T14:40:48.092Z"
     },
     {
      "end_time": "2019-07-08T14:41:58.350Z",
      "execution_time": "-389ms",
      "outputs": [],
      "source": "print(divisors(6))\nprint(divisors2(6))",
      "start_time": "2019-07-08T14:41:58.739Z"
     },
     {
      "end_time": "2019-07-08T14:41:58.350Z",
      "execution_time": "-389ms",
      "outputs": [],
      "source": "print(divisors(6))\nprint(divisors2(6))",
      "start_time": "2019-07-08T14:41:58.739Z"
     },
     {
      "end_time": "2019-07-08T14:43:11.813Z",
      "execution_time": "-433ms",
      "outputs": [],
      "source": "print(divisors(6))\nprint(divisors2(6))",
      "start_time": "2019-07-08T14:43:12.246Z"
     },
     {
      "end_time": "2019-07-08T14:43:11.813Z",
      "execution_time": "-433ms",
      "outputs": [],
      "source": "print(divisors(6))\nprint(divisors2(6))",
      "start_time": "2019-07-08T14:43:12.246Z"
     }
    ]
   },
   "outputs": [],
   "source": [
    "print(divisors(6))\n",
    "print(divisors2(6))"
   ]
  },
  {
   "cell_type": "code",
   "execution_count": null,
   "metadata": {
    "ExecutionTime": {
     "end_time": "2019-07-08T14:43:11.816008Z"
    },
    "provenance": [
     {
      "end_time": "Unknown",
      "execution_time": "Unknown",
      "outputs": [
       {
        "name": "stdout",
        "output_type": "stream",
        "text": "100 loops, best of 3: 6.83 ms per loop\n100 loops, best of 3: 3.33 ms per loop\n"
       }
      ],
      "source": "%timeit -n 100 divisors(10**4)\n%timeit -n 100 divisors2(10**4)",
      "start_time": "Unknown"
     },
     {
      "end_time": "2019-07-08T14:39:35.072Z",
      "execution_time": "-423ms",
      "outputs": [],
      "source": "%timeit -n 100 divisors(10**4)\n%timeit -n 100 divisors2(10**4)",
      "start_time": "2019-07-08T14:39:35.495Z"
     },
     {
      "end_time": "2019-07-08T14:39:35.072Z",
      "execution_time": "-423ms",
      "outputs": [],
      "source": "%timeit -n 100 divisors(10**4)\n%timeit -n 100 divisors2(10**4)",
      "start_time": "2019-07-08T14:39:35.495Z"
     },
     {
      "end_time": "2019-07-08T14:40:16.154Z",
      "execution_time": "-401ms",
      "outputs": [],
      "source": "%timeit -n 100 divisors(10**4)\n%timeit -n 100 divisors2(10**4)",
      "start_time": "2019-07-08T14:40:16.555Z"
     },
     {
      "end_time": "2019-07-08T14:40:16.154Z",
      "execution_time": "-401ms",
      "outputs": [],
      "source": "%timeit -n 100 divisors(10**4)\n%timeit -n 100 divisors2(10**4)",
      "start_time": "2019-07-08T14:40:16.555Z"
     },
     {
      "end_time": "2019-07-08T14:40:47.689Z",
      "execution_time": "-404ms",
      "outputs": [],
      "source": "%timeit -n 100 divisors(10**4)\n%timeit -n 100 divisors2(10**4)",
      "start_time": "2019-07-08T14:40:48.093Z"
     },
     {
      "end_time": "2019-07-08T14:40:47.689Z",
      "execution_time": "-406ms",
      "outputs": [],
      "source": "%timeit -n 100 divisors(10**4)\n%timeit -n 100 divisors2(10**4)",
      "start_time": "2019-07-08T14:40:48.095Z"
     },
     {
      "end_time": "2019-07-08T14:41:58.353Z",
      "execution_time": "-399ms",
      "outputs": [],
      "source": "%timeit -n 100 divisors(10**4)\n%timeit -n 100 divisors2(10**4)",
      "start_time": "2019-07-08T14:41:58.752Z"
     },
     {
      "end_time": "2019-07-08T14:41:58.353Z",
      "execution_time": "-400ms",
      "outputs": [],
      "source": "%timeit -n 100 divisors(10**4)\n%timeit -n 100 divisors2(10**4)",
      "start_time": "2019-07-08T14:41:58.753Z"
     },
     {
      "end_time": "2019-07-08T14:43:11.816Z",
      "execution_time": "-430ms",
      "outputs": [],
      "source": "%timeit -n 100 divisors(10**4)\n%timeit -n 100 divisors2(10**4)",
      "start_time": "2019-07-08T14:43:12.246Z"
     },
     {
      "end_time": "2019-07-08T14:43:11.816Z",
      "execution_time": "-431ms",
      "outputs": [],
      "source": "%timeit -n 100 divisors(10**4)\n%timeit -n 100 divisors2(10**4)",
      "start_time": "2019-07-08T14:43:12.247Z"
     }
    ]
   },
   "outputs": [],
   "source": [
    "%timeit -n 100 divisors(10**4)\n",
    "%timeit -n 100 divisors2(10**4)"
   ]
  },
  {
   "cell_type": "markdown",
   "metadata": {
    "provenance": [
     {
      "last_modified": "2018-06-12T08:34:10.000Z",
      "source": "## Fin\nThis notebook is part of the [Extended introduction to computer science](http://tau-cs1001-py.wikidot.com/) course at Tel-Aviv University.\n\nThe notebook was written using Python 3.2 and IPython 0.13.1.\n\nThe code is available at <https://raw.github.com/yoavram/CS1001.py/master/recitation2.ipynb>.\n\nThe notebook can be viewed online at <http://nbviewer.ipython.org/urls/raw.github.com/yoavram/CS1001.py/master/recitation2.ipynb>.\n\nThe notebooks is also available as a PDF at <https://github.com/yoavram/CS1001.py/blob/master/recitation2.pdf?raw=true>.\n\nThis work is licensed under a [Creative Commons Attribution-ShareAlike 3.0 Unported License](http://creativecommons.org/licenses/by-sa/3.0/)."
     },
     {
      "last_modified": "2019-07-08T14:40:44.691Z",
      "source": "## Fin\nThis notebook is part of the [Extended introduction to computer science](http://tau-cs1001-py.wikidot.com/) course at Tel-Aviv University.\n\nThe notebook was written using Python 3.2 and IPython 0.13.1.\n\nThe code is available at <https://raw.github.com/yoavram/CS1001.py/master/recitation2.ipynb>.\n\nThe notebook can be viewed online at <http://nbviewer.ipython.org/urls/raw.github.com/yoavram/CS1001.py/master/recitation2.ipynb>.\n\nThe notebooks is also available as a PDF at <https://github.com/yoavram/CS1001.py/blob/master/recitation2.pdf?raw=true>.\n\nThis work is licensed under a [Creative Commons Attribution-ShareAlike 3.0 Unported License](http://creativecommons.org/licenses/by-sa/3.0/)."
     },
     {
      "last_modified": "2019-07-08T14:40:44.691Z",
      "source": "## Fin\nThis notebook is part of the [Extended introduction to computer science](http://tau-cs1001-py.wikidot.com/) course at Tel-Aviv University.\n\nThe notebook was written using Python 3.2 and IPython 0.13.1.\n\nThe code is available at <https://raw.github.com/yoavram/CS1001.py/master/recitation2.ipynb>.\n\nThe notebook can be viewed online at <http://nbviewer.ipython.org/urls/raw.github.com/yoavram/CS1001.py/master/recitation2.ipynb>.\n\nThe notebooks is also available as a PDF at <https://github.com/yoavram/CS1001.py/blob/master/recitation2.pdf?raw=true>.\n\nThis work is licensed under a [Creative Commons Attribution-ShareAlike 3.0 Unported License](http://creativecommons.org/licenses/by-sa/3.0/)."
     }
    ]
   },
   "source": [
    "## Fin\n",
    "This notebook is part of the [Extended introduction to computer science](http://tau-cs1001-py.wikidot.com/) course at Tel-Aviv University.\n",
    "\n",
    "The notebook was written using Python 3.2 and IPython 0.13.1.\n",
    "\n",
    "The code is available at <https://raw.github.com/yoavram/CS1001.py/master/recitation2.ipynb>.\n",
    "\n",
    "The notebook can be viewed online at <http://nbviewer.ipython.org/urls/raw.github.com/yoavram/CS1001.py/master/recitation2.ipynb>.\n",
    "\n",
    "The notebooks is also available as a PDF at <https://github.com/yoavram/CS1001.py/blob/master/recitation2.pdf?raw=true>.\n",
    "\n",
    "This work is licensed under a [Creative Commons Attribution-ShareAlike 3.0 Unported License](http://creativecommons.org/licenses/by-sa/3.0/)."
   ]
  }
 ],
 "metadata": {
  "kernelspec": {
   "display_name": "Python 3",
   "language": "python",
   "name": "python3"
  },
  "language_info": {
   "codemirror_mode": {
    "name": "ipython",
    "version": 2
   },
   "file_extension": ".py",
   "mimetype": "text/x-python",
   "name": "python",
   "nbconvert_exporter": "python",
   "pygments_lexer": "ipython2",
   "version": "2.7.15rc1"
  }
 },
 "nbformat": 4,
 "nbformat_minor": 1
}
