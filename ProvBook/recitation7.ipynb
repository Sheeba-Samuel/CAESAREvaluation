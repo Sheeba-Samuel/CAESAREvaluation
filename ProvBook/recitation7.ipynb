{
 "cells": [
  {
   "cell_type": "markdown",
   "metadata": {
    "provenance": [
     {
      "last_modified": "2018-06-12T08:34:10.000Z",
      "source": "# CS1001.py\n\n## Extended Introduction to Computer Science with Python, Tel-Aviv University, Spring 2013\n\n# Recitation 7 - 25-29.4.2013\n\n## Last update: 29.4.2013"
     }
    ]
   },
   "source": [
    "# CS1001.py\n",
    "\n",
    "## Extended Introduction to Computer Science with Python, Tel-Aviv University, Spring 2013\n",
    "\n",
    "# Recitation 7 - 25-29.4.2013\n",
    "\n",
    "## Last update: 29.4.2013"
   ]
  },
  {
   "cell_type": "markdown",
   "metadata": {
    "provenance": [
     {
      "last_modified": "2018-06-12T08:34:10.000Z",
      "source": "# Lambda expressions and high-order functions\n\nLambda expressions are a way to define a function *inline* in runtime without a `def` statement.\n\nFor example, lets use a lambda expression to define a simple function:"
     }
    ]
   },
   "source": [
    "# Lambda expressions and high-order functions\n",
    "\n",
    "Lambda expressions are a way to define a function *inline* in runtime without a `def` statement.\n",
    "\n",
    "For example, lets use a lambda expression to define a simple function:"
   ]
  },
  {
   "cell_type": "code",
   "execution_count": 1,
   "metadata": {
    "ExecutionTime": {
     "end_time": "2019-07-08T14:54:20.195200Z",
     "start_time": "2019-07-08T14:54:20.178812Z"
    },
    "provenance": [
     {
      "end_time": "Unknown",
      "execution_time": "Unknown",
      "outputs": [
       {
        "data": {
         "text/plain": "8"
        },
        "execution_count": 1,
        "metadata": {},
        "output_type": "execute_result"
       }
      ],
      "source": "(lambda x: x + 2)(6)",
      "start_time": "Unknown"
     },
     {
      "end_time": "2019-07-08T14:54:20.195Z",
      "execution_time": "17ms",
      "outputs": [
       {
        "data": {
         "text/plain": "8"
        },
        "execution_count": 1,
        "metadata": {},
        "output_type": "execute_result"
       }
      ],
      "source": "(lambda x: x + 2)(6)",
      "start_time": "2019-07-08T14:54:20.178Z"
     },
     {
      "end_time": "2019-07-08T14:54:20.195Z",
      "execution_time": "17ms",
      "outputs": [
       {
        "data": {
         "text/plain": "8"
        },
        "execution_count": 1,
        "metadata": {},
        "output_type": "execute_result"
       }
      ],
      "source": "(lambda x: x + 2)(6)",
      "start_time": "2019-07-08T14:54:20.178Z"
     }
    ]
   },
   "outputs": [
    {
     "data": {
      "text/plain": [
       "8"
      ]
     },
     "execution_count": 1,
     "metadata": {},
     "output_type": "execute_result"
    }
   ],
   "source": [
    "(lambda x: x + 2)(6)"
   ]
  },
  {
   "cell_type": "code",
   "execution_count": 2,
   "metadata": {
    "ExecutionTime": {
     "end_time": "2019-07-08T14:54:20.214923Z",
     "start_time": "2019-07-08T14:54:20.198282Z"
    },
    "provenance": [
     {
      "end_time": "Unknown",
      "execution_time": "Unknown",
      "outputs": [
       {
        "data": {
         "text/plain": "builtins.function"
        },
        "execution_count": 2,
        "metadata": {},
        "output_type": "execute_result"
       }
      ],
      "source": "type(lambda x: x + 2)",
      "start_time": "Unknown"
     },
     {
      "end_time": "2019-07-08T14:54:20.214Z",
      "execution_time": "16ms",
      "outputs": [
       {
        "data": {
         "text/plain": "function"
        },
        "execution_count": 2,
        "metadata": {},
        "output_type": "execute_result"
       }
      ],
      "source": "type(lambda x: x + 2)",
      "start_time": "2019-07-08T14:54:20.198Z"
     },
     {
      "end_time": "2019-07-08T14:54:20.214Z",
      "execution_time": "16ms",
      "outputs": [
       {
        "data": {
         "text/plain": "function"
        },
        "execution_count": 2,
        "metadata": {},
        "output_type": "execute_result"
       }
      ],
      "source": "type(lambda x: x + 2)",
      "start_time": "2019-07-08T14:54:20.198Z"
     }
    ]
   },
   "outputs": [
    {
     "data": {
      "text/plain": [
       "function"
      ]
     },
     "execution_count": 2,
     "metadata": {},
     "output_type": "execute_result"
    }
   ],
   "source": [
    "type(lambda x: x + 2)"
   ]
  },
  {
   "cell_type": "code",
   "execution_count": 3,
   "metadata": {
    "ExecutionTime": {
     "end_time": "2019-07-08T14:54:20.231309Z",
     "start_time": "2019-07-08T14:54:20.217637Z"
    },
    "provenance": [
     {
      "end_time": "Unknown",
      "execution_time": "Unknown",
      "outputs": [
       {
        "name": "stdout",
        "output_type": "stream",
        "text": "8\n<class 'function'>\n"
       }
      ],
      "source": "f = lambda x: x + 2\nprint(f(6))\nprint(type(f))",
      "start_time": "Unknown"
     },
     {
      "end_time": "2019-07-08T14:54:20.231Z",
      "execution_time": "14ms",
      "outputs": [
       {
        "name": "stdout",
        "output_type": "stream",
        "text": "8\n<type 'function'>\n"
       }
      ],
      "source": "f = lambda x: x + 2\nprint(f(6))\nprint(type(f))",
      "start_time": "2019-07-08T14:54:20.217Z"
     },
     {
      "end_time": "2019-07-08T14:54:20.231Z",
      "execution_time": "14ms",
      "outputs": [
       {
        "name": "stdout",
        "output_type": "stream",
        "text": "8\n<type 'function'>\n"
       }
      ],
      "source": "f = lambda x: x + 2\nprint(f(6))\nprint(type(f))",
      "start_time": "2019-07-08T14:54:20.217Z"
     }
    ]
   },
   "outputs": [
    {
     "name": "stdout",
     "output_type": "stream",
     "text": [
      "8\n",
      "<type 'function'>\n"
     ]
    }
   ],
   "source": [
    "f = lambda x: x + 2\n",
    "print(f(6))\n",
    "print(type(f))"
   ]
  },
  {
   "cell_type": "markdown",
   "metadata": {
    "provenance": [
     {
      "last_modified": "2018-06-12T08:34:10.000Z",
      "source": "## `make_pow` - a function that creates and returns a function\n\nWithout `lambda`:"
     }
    ]
   },
   "source": [
    "## `make_pow` - a function that creates and returns a function\n",
    "\n",
    "Without `lambda`:"
   ]
  },
  {
   "cell_type": "code",
   "execution_count": 4,
   "metadata": {
    "ExecutionTime": {
     "end_time": "2019-07-08T14:54:20.248249Z",
     "start_time": "2019-07-08T14:54:20.234108Z"
    },
    "provenance": [
     {
      "end_time": "Unknown",
      "execution_time": "Unknown",
      "outputs": [
       {
        "name": "stdout",
        "output_type": "stream",
        "text": "100\n1000\n10.0\n"
       }
      ],
      "source": "def make_pow(n):\n    def pow_n(x):\n        return x ** n\n    return pow_n\n\nsquare = make_pow(2)\nprint(square(10))\ncube = make_pow(3)\nprint(cube(10))\nprint(make_pow(0.5)(100))",
      "start_time": "Unknown"
     },
     {
      "end_time": "2019-07-08T14:54:20.248Z",
      "execution_time": "14ms",
      "outputs": [
       {
        "name": "stdout",
        "output_type": "stream",
        "text": "100\n1000\n10.0\n"
       }
      ],
      "source": "def make_pow(n):\n    def pow_n(x):\n        return x ** n\n    return pow_n\n\nsquare = make_pow(2)\nprint(square(10))\ncube = make_pow(3)\nprint(cube(10))\nprint(make_pow(0.5)(100))",
      "start_time": "2019-07-08T14:54:20.234Z"
     },
     {
      "end_time": "2019-07-08T14:54:20.248Z",
      "execution_time": "14ms",
      "outputs": [
       {
        "name": "stdout",
        "output_type": "stream",
        "text": "100\n1000\n10.0\n"
       }
      ],
      "source": "def make_pow(n):\n    def pow_n(x):\n        return x ** n\n    return pow_n\n\nsquare = make_pow(2)\nprint(square(10))\ncube = make_pow(3)\nprint(cube(10))\nprint(make_pow(0.5)(100))",
      "start_time": "2019-07-08T14:54:20.234Z"
     }
    ]
   },
   "outputs": [
    {
     "name": "stdout",
     "output_type": "stream",
     "text": [
      "100\n",
      "1000\n",
      "10.0\n"
     ]
    }
   ],
   "source": [
    "def make_pow(n):\n",
    "    def pow_n(x):\n",
    "        return x ** n\n",
    "    return pow_n\n",
    "\n",
    "square = make_pow(2)\n",
    "print(square(10))\n",
    "cube = make_pow(3)\n",
    "print(cube(10))\n",
    "print(make_pow(0.5)(100))"
   ]
  },
  {
   "cell_type": "markdown",
   "metadata": {
    "provenance": [
     {
      "last_modified": "2018-06-12T08:34:10.000Z",
      "source": "With `lambda`:"
     }
    ]
   },
   "source": [
    "With `lambda`:"
   ]
  },
  {
   "cell_type": "code",
   "execution_count": 5,
   "metadata": {
    "ExecutionTime": {
     "end_time": "2019-07-08T14:54:20.265410Z",
     "start_time": "2019-07-08T14:54:20.251433Z"
    },
    "provenance": [
     {
      "end_time": "Unknown",
      "execution_time": "Unknown",
      "outputs": [
       {
        "name": "stdout",
        "output_type": "stream",
        "text": "100\n1000\n10.0\n"
       }
      ],
      "source": "def make_pow(n):\n    return lambda x: x ** n\n\nsquare = make_pow(2)\nprint(square(10))\ncube = make_pow(3)\nprint(cube(10))\nprint(make_pow(0.5)(100))",
      "start_time": "Unknown"
     },
     {
      "end_time": "2019-07-08T14:54:20.265Z",
      "execution_time": "14ms",
      "outputs": [
       {
        "name": "stdout",
        "output_type": "stream",
        "text": "100\n1000\n10.0\n"
       }
      ],
      "source": "def make_pow(n):\n    return lambda x: x ** n\n\nsquare = make_pow(2)\nprint(square(10))\ncube = make_pow(3)\nprint(cube(10))\nprint(make_pow(0.5)(100))",
      "start_time": "2019-07-08T14:54:20.251Z"
     },
     {
      "end_time": "2019-07-08T14:54:20.265Z",
      "execution_time": "14ms",
      "outputs": [
       {
        "name": "stdout",
        "output_type": "stream",
        "text": "100\n1000\n10.0\n"
       }
      ],
      "source": "def make_pow(n):\n    return lambda x: x ** n\n\nsquare = make_pow(2)\nprint(square(10))\ncube = make_pow(3)\nprint(cube(10))\nprint(make_pow(0.5)(100))",
      "start_time": "2019-07-08T14:54:20.251Z"
     }
    ]
   },
   "outputs": [
    {
     "name": "stdout",
     "output_type": "stream",
     "text": [
      "100\n",
      "1000\n",
      "10.0\n"
     ]
    }
   ],
   "source": [
    "def make_pow(n):\n",
    "    return lambda x: x ** n\n",
    "\n",
    "square = make_pow(2)\n",
    "print(square(10))\n",
    "cube = make_pow(3)\n",
    "print(cube(10))\n",
    "print(make_pow(0.5)(100))"
   ]
  },
  {
   "cell_type": "code",
   "execution_count": 6,
   "metadata": {
    "ExecutionTime": {
     "end_time": "2019-07-08T14:54:20.286617Z",
     "start_time": "2019-07-08T14:54:20.268256Z"
    },
    "provenance": [
     {
      "end_time": "Unknown",
      "execution_time": "Unknown",
      "outputs": [
       {
        "name": "stdout",
        "output_type": "stream",
        "text": "<class 'function'>\n"
       }
      ],
      "source": "print(type(square))",
      "start_time": "Unknown"
     },
     {
      "end_time": "2019-07-08T14:54:20.286Z",
      "execution_time": "18ms",
      "outputs": [
       {
        "name": "stdout",
        "output_type": "stream",
        "text": "<type 'function'>\n"
       }
      ],
      "source": "print(type(square))",
      "start_time": "2019-07-08T14:54:20.268Z"
     },
     {
      "end_time": "2019-07-08T14:54:20.286Z",
      "execution_time": "18ms",
      "outputs": [
       {
        "name": "stdout",
        "output_type": "stream",
        "text": "<type 'function'>\n"
       }
      ],
      "source": "print(type(square))",
      "start_time": "2019-07-08T14:54:20.268Z"
     }
    ]
   },
   "outputs": [
    {
     "name": "stdout",
     "output_type": "stream",
     "text": [
      "<type 'function'>\n"
     ]
    }
   ],
   "source": [
    "print(type(square))"
   ]
  },
  {
   "cell_type": "markdown",
   "metadata": {
    "provenance": [
     {
      "last_modified": "2018-06-12T08:34:10.000Z",
      "source": "## `sorted` - a function that recieves and uses a function\nThe sorting buiktin function `sorted` can recieve a function as an argument and use it to sort a collection.\n\nRegular `str` sorting - lexicographical orer:"
     }
    ]
   },
   "source": [
    "## `sorted` - a function that recieves and uses a function\n",
    "The sorting buiktin function `sorted` can recieve a function as an argument and use it to sort a collection.\n",
    "\n",
    "Regular `str` sorting - lexicographical orer:"
   ]
  },
  {
   "cell_type": "code",
   "execution_count": 7,
   "metadata": {
    "ExecutionTime": {
     "end_time": "2019-07-08T14:54:20.307285Z",
     "start_time": "2019-07-08T14:54:20.292004Z"
    },
    "provenance": [
     {
      "end_time": "Unknown",
      "execution_time": "Unknown",
      "outputs": [
       {
        "data": {
         "text/plain": "['Amir', 'Amiram', 'Haim', 'Yoav']"
        },
        "execution_count": 12,
        "metadata": {},
        "output_type": "execute_result"
       }
      ],
      "source": "sorted([\"Yoav\", \"Amir\", \"Amiram\", \"Haim\"])",
      "start_time": "Unknown"
     },
     {
      "end_time": "2019-07-08T14:54:20.307Z",
      "execution_time": "15ms",
      "outputs": [
       {
        "data": {
         "text/plain": "['Amir', 'Amiram', 'Haim', 'Yoav']"
        },
        "execution_count": 7,
        "metadata": {},
        "output_type": "execute_result"
       }
      ],
      "source": "sorted([\"Yoav\", \"Amir\", \"Amiram\", \"Haim\"])",
      "start_time": "2019-07-08T14:54:20.292Z"
     },
     {
      "end_time": "2019-07-08T14:54:20.307Z",
      "execution_time": "15ms",
      "outputs": [
       {
        "data": {
         "text/plain": "['Amir', 'Amiram', 'Haim', 'Yoav']"
        },
        "execution_count": 7,
        "metadata": {},
        "output_type": "execute_result"
       }
      ],
      "source": "sorted([\"Yoav\", \"Amir\", \"Amiram\", \"Haim\"])",
      "start_time": "2019-07-08T14:54:20.292Z"
     }
    ]
   },
   "outputs": [
    {
     "data": {
      "text/plain": [
       "['Amir', 'Amiram', 'Haim', 'Yoav']"
      ]
     },
     "execution_count": 7,
     "metadata": {},
     "output_type": "execute_result"
    }
   ],
   "source": [
    "sorted([\"Yoav\", \"Amir\", \"Amiram\", \"Haim\"])"
   ]
  },
  {
   "cell_type": "markdown",
   "metadata": {
    "provenance": [
     {
      "last_modified": "2018-06-12T08:34:10.000Z",
      "source": "Sort by length - give `len` as the `key` argument to `sorted`:"
     }
    ]
   },
   "source": [
    "Sort by length - give `len` as the `key` argument to `sorted`:"
   ]
  },
  {
   "cell_type": "code",
   "execution_count": 8,
   "metadata": {
    "ExecutionTime": {
     "end_time": "2019-07-08T14:54:20.325371Z",
     "start_time": "2019-07-08T14:54:20.316437Z"
    },
    "provenance": [
     {
      "end_time": "Unknown",
      "execution_time": "Unknown",
      "outputs": [
       {
        "data": {
         "text/plain": "['Yoav', 'Amir', 'Haim', 'Amiram']"
        },
        "execution_count": 13,
        "metadata": {},
        "output_type": "execute_result"
       }
      ],
      "source": "sorted([\"Yoav\", \"Amir\", \"Amiram\", \"Haim\"], key=len)",
      "start_time": "Unknown"
     },
     {
      "end_time": "2019-07-08T14:54:20.325Z",
      "execution_time": "9ms",
      "outputs": [
       {
        "data": {
         "text/plain": "['Yoav', 'Amir', 'Haim', 'Amiram']"
        },
        "execution_count": 8,
        "metadata": {},
        "output_type": "execute_result"
       }
      ],
      "source": "sorted([\"Yoav\", \"Amir\", \"Amiram\", \"Haim\"], key=len)",
      "start_time": "2019-07-08T14:54:20.316Z"
     },
     {
      "end_time": "2019-07-08T14:54:20.325Z",
      "execution_time": "9ms",
      "outputs": [
       {
        "data": {
         "text/plain": "['Yoav', 'Amir', 'Haim', 'Amiram']"
        },
        "execution_count": 8,
        "metadata": {},
        "output_type": "execute_result"
       }
      ],
      "source": "sorted([\"Yoav\", \"Amir\", \"Amiram\", \"Haim\"], key=len)",
      "start_time": "2019-07-08T14:54:20.316Z"
     }
    ]
   },
   "outputs": [
    {
     "data": {
      "text/plain": [
       "['Yoav', 'Amir', 'Haim', 'Amiram']"
      ]
     },
     "execution_count": 8,
     "metadata": {},
     "output_type": "execute_result"
    }
   ],
   "source": [
    "sorted([\"Yoav\", \"Amir\", \"Amiram\", \"Haim\"], key=len)"
   ]
  },
  {
   "cell_type": "markdown",
   "metadata": {
    "provenance": [
     {
      "last_modified": "2018-06-12T08:34:10.000Z",
      "source": "Sort by reverse lexicographical order - note this does not change the list elements, only the order of the elements:"
     }
    ]
   },
   "source": [
    "Sort by reverse lexicographical order - note this does not change the list elements, only the order of the elements:"
   ]
  },
  {
   "cell_type": "code",
   "execution_count": 9,
   "metadata": {
    "ExecutionTime": {
     "end_time": "2019-07-08T14:54:20.361584Z",
     "start_time": "2019-07-08T14:54:20.331026Z"
    },
    "provenance": [
     {
      "end_time": "Unknown",
      "execution_time": "Unknown",
      "outputs": [
       {
        "data": {
         "text/plain": "['Amiram', 'Haim', 'Amir', 'Yoav']"
        },
        "execution_count": 15,
        "metadata": {},
        "output_type": "execute_result"
       }
      ],
      "source": "sorted([\"Yoav\", \"Amir\", \"Amiram\", \"Haim\"], key=lambda x: x[::-1])",
      "start_time": "Unknown"
     },
     {
      "end_time": "2019-07-08T14:54:20.361Z",
      "execution_time": "30ms",
      "outputs": [
       {
        "data": {
         "text/plain": "['Amiram', 'Haim', 'Amir', 'Yoav']"
        },
        "execution_count": 9,
        "metadata": {},
        "output_type": "execute_result"
       }
      ],
      "source": "sorted([\"Yoav\", \"Amir\", \"Amiram\", \"Haim\"], key=lambda x: x[::-1])",
      "start_time": "2019-07-08T14:54:20.331Z"
     },
     {
      "end_time": "2019-07-08T14:54:20.361Z",
      "execution_time": "30ms",
      "outputs": [
       {
        "data": {
         "text/plain": "['Amiram', 'Haim', 'Amir', 'Yoav']"
        },
        "execution_count": 9,
        "metadata": {},
        "output_type": "execute_result"
       }
      ],
      "source": "sorted([\"Yoav\", \"Amir\", \"Amiram\", \"Haim\"], key=lambda x: x[::-1])",
      "start_time": "2019-07-08T14:54:20.331Z"
     }
    ]
   },
   "outputs": [
    {
     "data": {
      "text/plain": [
       "['Amiram', 'Haim', 'Amir', 'Yoav']"
      ]
     },
     "execution_count": 9,
     "metadata": {},
     "output_type": "execute_result"
    }
   ],
   "source": [
    "sorted([\"Yoav\", \"Amir\", \"Amiram\", \"Haim\"], key=lambda x: x[::-1])"
   ]
  },
  {
   "cell_type": "code",
   "execution_count": 10,
   "metadata": {
    "ExecutionTime": {
     "end_time": "2019-07-08T14:54:20.378465Z",
     "start_time": "2019-07-08T14:54:20.366780Z"
    },
    "provenance": [
     {
      "end_time": "Unknown",
      "execution_time": "Unknown",
      "outputs": [
       {
        "data": {
         "text/plain": "'vaoY'"
        },
        "execution_count": 16,
        "metadata": {},
        "output_type": "execute_result"
       }
      ],
      "source": "\"Yoav\"[::-1]",
      "start_time": "Unknown"
     },
     {
      "end_time": "2019-07-08T14:54:20.378Z",
      "execution_time": "12ms",
      "outputs": [
       {
        "data": {
         "text/plain": "'vaoY'"
        },
        "execution_count": 10,
        "metadata": {},
        "output_type": "execute_result"
       }
      ],
      "source": "\"Yoav\"[::-1]",
      "start_time": "2019-07-08T14:54:20.366Z"
     },
     {
      "end_time": "2019-07-08T14:54:20.378Z",
      "execution_time": "12ms",
      "outputs": [
       {
        "data": {
         "text/plain": "'vaoY'"
        },
        "execution_count": 10,
        "metadata": {},
        "output_type": "execute_result"
       }
      ],
      "source": "\"Yoav\"[::-1]",
      "start_time": "2019-07-08T14:54:20.366Z"
     }
    ]
   },
   "outputs": [
    {
     "data": {
      "text/plain": [
       "'vaoY'"
      ]
     },
     "execution_count": 10,
     "metadata": {},
     "output_type": "execute_result"
    }
   ],
   "source": [
    "\"Yoav\"[::-1]"
   ]
  },
  {
   "cell_type": "markdown",
   "metadata": {
    "provenance": [
     {
      "last_modified": "2018-06-12T08:34:10.000Z",
      "source": "For a complex sorting function we can define a function instead of using `lambda`:"
     }
    ]
   },
   "source": [
    "For a complex sorting function we can define a function instead of using `lambda`:"
   ]
  },
  {
   "cell_type": "code",
   "execution_count": 11,
   "metadata": {
    "ExecutionTime": {
     "end_time": "2019-07-08T14:54:20.417296Z",
     "start_time": "2019-07-08T14:54:20.388583Z"
    },
    "provenance": [
     {
      "end_time": "Unknown",
      "execution_time": "Unknown",
      "outputs": [
       {
        "data": {
         "text/plain": "['Amiram', 'Haim', 'Amir', 'Yoav']"
        },
        "execution_count": 18,
        "metadata": {},
        "output_type": "execute_result"
       }
      ],
      "source": "def comparator(x):\n    return x[::-1]\nsorted([\"Yoav\", \"Amir\", \"Amiram\", \"Haim\"], key=comparator)",
      "start_time": "Unknown"
     },
     {
      "end_time": "2019-07-08T14:54:20.417Z",
      "execution_time": "29ms",
      "outputs": [
       {
        "data": {
         "text/plain": "['Amiram', 'Haim', 'Amir', 'Yoav']"
        },
        "execution_count": 11,
        "metadata": {},
        "output_type": "execute_result"
       }
      ],
      "source": "def comparator(x):\n    return x[::-1]\nsorted([\"Yoav\", \"Amir\", \"Amiram\", \"Haim\"], key=comparator)",
      "start_time": "2019-07-08T14:54:20.388Z"
     },
     {
      "end_time": "2019-07-08T14:54:20.417Z",
      "execution_time": "29ms",
      "outputs": [
       {
        "data": {
         "text/plain": "['Amiram', 'Haim', 'Amir', 'Yoav']"
        },
        "execution_count": 11,
        "metadata": {},
        "output_type": "execute_result"
       }
      ],
      "source": "def comparator(x):\n    return x[::-1]\nsorted([\"Yoav\", \"Amir\", \"Amiram\", \"Haim\"], key=comparator)",
      "start_time": "2019-07-08T14:54:20.388Z"
     }
    ]
   },
   "outputs": [
    {
     "data": {
      "text/plain": [
       "['Amiram', 'Haim', 'Amir', 'Yoav']"
      ]
     },
     "execution_count": 11,
     "metadata": {},
     "output_type": "execute_result"
    }
   ],
   "source": [
    "def comparator(x):\n",
    "    return x[::-1]\n",
    "sorted([\"Yoav\", \"Amir\", \"Amiram\", \"Haim\"], key=comparator)"
   ]
  },
  {
   "cell_type": "markdown",
   "metadata": {
    "provenance": [
     {
      "last_modified": "2018-06-12T08:34:10.000Z",
      "source": "## `compose` - a function that recieves two function and creates a third\n\n`compose` does function composition."
     }
    ]
   },
   "source": [
    "## `compose` - a function that recieves two function and creates a third\n",
    "\n",
    "`compose` does function composition."
   ]
  },
  {
   "cell_type": "code",
   "execution_count": 12,
   "metadata": {
    "ExecutionTime": {
     "end_time": "2019-07-08T14:54:20.425027Z",
     "start_time": "2019-07-08T14:54:20.420358Z"
    },
    "provenance": [
     {
      "end_time": "Unknown",
      "execution_time": "Unknown",
      "outputs": [],
      "source": "def compose(f1,f2):\n    def composed(x):\n        return f2(f1(x))\n    return composed",
      "start_time": "Unknown"
     },
     {
      "end_time": "2019-07-08T14:54:20.425Z",
      "execution_time": "5ms",
      "outputs": [],
      "source": "def compose(f1,f2):\n    def composed(x):\n        return f2(f1(x))\n    return composed",
      "start_time": "2019-07-08T14:54:20.420Z"
     },
     {
      "end_time": "2019-07-08T14:54:20.425Z",
      "execution_time": "5ms",
      "outputs": [],
      "source": "def compose(f1,f2):\n    def composed(x):\n        return f2(f1(x))\n    return composed",
      "start_time": "2019-07-08T14:54:20.420Z"
     }
    ]
   },
   "outputs": [],
   "source": [
    "def compose(f1,f2):\n",
    "    def composed(x):\n",
    "        return f2(f1(x))\n",
    "    return composed"
   ]
  },
  {
   "cell_type": "code",
   "execution_count": 13,
   "metadata": {
    "ExecutionTime": {
     "end_time": "2019-07-08T14:54:20.496792Z",
     "start_time": "2019-07-08T14:54:20.430819Z"
    },
    "provenance": [
     {
      "end_time": "Unknown",
      "execution_time": "Unknown",
      "outputs": [
       {
        "name": "stdout",
        "output_type": "stream",
        "text": "5.0\n5.0\n"
       }
      ],
      "source": "absolute = compose(lambda x: x ** 2, sqrt)\nprint(absolute(5))\nprint(absolute(-5))",
      "start_time": "Unknown"
     },
     {
      "end_time": "2019-07-08T14:54:20.496Z",
      "execution_time": "66ms",
      "outputs": [
       {
        "ename": "NameError",
        "evalue": "name 'sqrt' is not defined",
        "output_type": "error",
        "traceback": [
         "\u001b[0;31m---------------------------------------------------------------------------\u001b[0m",
         "\u001b[0;31mNameError\u001b[0m                                 Traceback (most recent call last)",
         "\u001b[0;32m<ipython-input-13-5634c05cf6d2>\u001b[0m in \u001b[0;36m<module>\u001b[0;34m()\u001b[0m\n\u001b[0;32m----> 1\u001b[0;31m \u001b[0mabsolute\u001b[0m \u001b[0;34m=\u001b[0m \u001b[0mcompose\u001b[0m\u001b[0;34m(\u001b[0m\u001b[0;32mlambda\u001b[0m \u001b[0mx\u001b[0m\u001b[0;34m:\u001b[0m \u001b[0mx\u001b[0m \u001b[0;34m**\u001b[0m \u001b[0;36m2\u001b[0m\u001b[0;34m,\u001b[0m \u001b[0msqrt\u001b[0m\u001b[0;34m)\u001b[0m\u001b[0;34m\u001b[0m\u001b[0m\n\u001b[0m\u001b[1;32m      2\u001b[0m \u001b[0;32mprint\u001b[0m\u001b[0;34m(\u001b[0m\u001b[0mabsolute\u001b[0m\u001b[0;34m(\u001b[0m\u001b[0;36m5\u001b[0m\u001b[0;34m)\u001b[0m\u001b[0;34m)\u001b[0m\u001b[0;34m\u001b[0m\u001b[0m\n\u001b[1;32m      3\u001b[0m \u001b[0;32mprint\u001b[0m\u001b[0;34m(\u001b[0m\u001b[0mabsolute\u001b[0m\u001b[0;34m(\u001b[0m\u001b[0;34m-\u001b[0m\u001b[0;36m5\u001b[0m\u001b[0;34m)\u001b[0m\u001b[0;34m)\u001b[0m\u001b[0;34m\u001b[0m\u001b[0m\n",
         "\u001b[0;31mNameError\u001b[0m: name 'sqrt' is not defined"
        ]
       }
      ],
      "source": "absolute = compose(lambda x: x ** 2, sqrt)\nprint(absolute(5))\nprint(absolute(-5))",
      "start_time": "2019-07-08T14:54:20.430Z"
     },
     {
      "end_time": "2019-07-08T14:54:20.496Z",
      "execution_time": "66ms",
      "outputs": [
       {
        "ename": "NameError",
        "evalue": "name 'sqrt' is not defined",
        "output_type": "error",
        "traceback": [
         "\u001b[0;31m---------------------------------------------------------------------------\u001b[0m",
         "\u001b[0;31mNameError\u001b[0m                                 Traceback (most recent call last)",
         "\u001b[0;32m<ipython-input-13-5634c05cf6d2>\u001b[0m in \u001b[0;36m<module>\u001b[0;34m()\u001b[0m\n\u001b[0;32m----> 1\u001b[0;31m \u001b[0mabsolute\u001b[0m \u001b[0;34m=\u001b[0m \u001b[0mcompose\u001b[0m\u001b[0;34m(\u001b[0m\u001b[0;32mlambda\u001b[0m \u001b[0mx\u001b[0m\u001b[0;34m:\u001b[0m \u001b[0mx\u001b[0m \u001b[0;34m**\u001b[0m \u001b[0;36m2\u001b[0m\u001b[0;34m,\u001b[0m \u001b[0msqrt\u001b[0m\u001b[0;34m)\u001b[0m\u001b[0;34m\u001b[0m\u001b[0m\n\u001b[0m\u001b[1;32m      2\u001b[0m \u001b[0;32mprint\u001b[0m\u001b[0;34m(\u001b[0m\u001b[0mabsolute\u001b[0m\u001b[0;34m(\u001b[0m\u001b[0;36m5\u001b[0m\u001b[0;34m)\u001b[0m\u001b[0;34m)\u001b[0m\u001b[0;34m\u001b[0m\u001b[0m\n\u001b[1;32m      3\u001b[0m \u001b[0;32mprint\u001b[0m\u001b[0;34m(\u001b[0m\u001b[0mabsolute\u001b[0m\u001b[0;34m(\u001b[0m\u001b[0;34m-\u001b[0m\u001b[0;36m5\u001b[0m\u001b[0;34m)\u001b[0m\u001b[0;34m)\u001b[0m\u001b[0;34m\u001b[0m\u001b[0m\n",
         "\u001b[0;31mNameError\u001b[0m: name 'sqrt' is not defined"
        ]
       }
      ],
      "source": "absolute = compose(lambda x: x ** 2, sqrt)\nprint(absolute(5))\nprint(absolute(-5))",
      "start_time": "2019-07-08T14:54:20.430Z"
     }
    ]
   },
   "outputs": [
    {
     "ename": "NameError",
     "evalue": "name 'sqrt' is not defined",
     "output_type": "error",
     "traceback": [
      "\u001b[0;31m---------------------------------------------------------------------------\u001b[0m",
      "\u001b[0;31mNameError\u001b[0m                                 Traceback (most recent call last)",
      "\u001b[0;32m<ipython-input-13-5634c05cf6d2>\u001b[0m in \u001b[0;36m<module>\u001b[0;34m()\u001b[0m\n\u001b[0;32m----> 1\u001b[0;31m \u001b[0mabsolute\u001b[0m \u001b[0;34m=\u001b[0m \u001b[0mcompose\u001b[0m\u001b[0;34m(\u001b[0m\u001b[0;32mlambda\u001b[0m \u001b[0mx\u001b[0m\u001b[0;34m:\u001b[0m \u001b[0mx\u001b[0m \u001b[0;34m**\u001b[0m \u001b[0;36m2\u001b[0m\u001b[0;34m,\u001b[0m \u001b[0msqrt\u001b[0m\u001b[0;34m)\u001b[0m\u001b[0;34m\u001b[0m\u001b[0m\n\u001b[0m\u001b[1;32m      2\u001b[0m \u001b[0;32mprint\u001b[0m\u001b[0;34m(\u001b[0m\u001b[0mabsolute\u001b[0m\u001b[0;34m(\u001b[0m\u001b[0;36m5\u001b[0m\u001b[0;34m)\u001b[0m\u001b[0;34m)\u001b[0m\u001b[0;34m\u001b[0m\u001b[0m\n\u001b[1;32m      3\u001b[0m \u001b[0;32mprint\u001b[0m\u001b[0;34m(\u001b[0m\u001b[0mabsolute\u001b[0m\u001b[0;34m(\u001b[0m\u001b[0;34m-\u001b[0m\u001b[0;36m5\u001b[0m\u001b[0;34m)\u001b[0m\u001b[0;34m)\u001b[0m\u001b[0;34m\u001b[0m\u001b[0m\n",
      "\u001b[0;31mNameError\u001b[0m: name 'sqrt' is not defined"
     ]
    }
   ],
   "source": [
    "absolute = compose(lambda x: x ** 2, sqrt)\n",
    "print(absolute(5))\n",
    "print(absolute(-5))"
   ]
  },
  {
   "cell_type": "markdown",
   "metadata": {
    "provenance": [
     {
      "last_modified": "2018-06-12T08:34:10.000Z",
      "source": "A different example:"
     }
    ]
   },
   "source": [
    "A different example:"
   ]
  },
  {
   "cell_type": "code",
   "execution_count": null,
   "metadata": {
    "ExecutionTime": {
     "end_time": "2019-07-08T14:54:20.504155Z"
    },
    "provenance": [
     {
      "end_time": "Unknown",
      "execution_time": "Unknown",
      "outputs": [],
      "source": "def compose(f1,f2):\n    return lambda x: f2(f1(x))",
      "start_time": "Unknown"
     },
     {
      "end_time": "2019-07-08T14:54:20.504Z",
      "execution_time": "-268ms",
      "outputs": [],
      "source": "def compose(f1,f2):\n    return lambda x: f2(f1(x))",
      "start_time": "2019-07-08T14:54:20.772Z"
     },
     {
      "end_time": "2019-07-08T14:54:20.504Z",
      "execution_time": "-269ms",
      "outputs": [],
      "source": "def compose(f1,f2):\n    return lambda x: f2(f1(x))",
      "start_time": "2019-07-08T14:54:20.773Z"
     }
    ]
   },
   "outputs": [],
   "source": [
    "def compose(f1,f2):\n",
    "    return lambda x: f2(f1(x))"
   ]
  },
  {
   "cell_type": "code",
   "execution_count": null,
   "metadata": {
    "ExecutionTime": {
     "end_time": "2019-07-08T14:54:20.507467Z"
    },
    "provenance": [
     {
      "end_time": "Unknown",
      "execution_time": "Unknown",
      "outputs": [
       {
        "data": {
         "text/plain": "[3, 4, 3]"
        },
        "execution_count": 24,
        "metadata": {},
        "output_type": "execute_result"
       }
      ],
      "source": "vector_product = lambda x,y: [x[i] * y[i] for i in range(len(x))]\nvector_product([1,2,3],[3,2,1])",
      "start_time": "Unknown"
     },
     {
      "end_time": "2019-07-08T14:54:20.507Z",
      "execution_time": "-271ms",
      "outputs": [],
      "source": "vector_product = lambda x,y: [x[i] * y[i] for i in range(len(x))]\nvector_product([1,2,3],[3,2,1])",
      "start_time": "2019-07-08T14:54:20.778Z"
     },
     {
      "end_time": "2019-07-08T14:54:20.507Z",
      "execution_time": "-271ms",
      "outputs": [],
      "source": "vector_product = lambda x,y: [x[i] * y[i] for i in range(len(x))]\nvector_product([1,2,3],[3,2,1])",
      "start_time": "2019-07-08T14:54:20.778Z"
     }
    ]
   },
   "outputs": [],
   "source": [
    "vector_product = lambda x,y: [x[i] * y[i] for i in range(len(x))]\n",
    "vector_product([1,2,3],[3,2,1])"
   ]
  },
  {
   "cell_type": "code",
   "execution_count": null,
   "metadata": {
    "ExecutionTime": {
     "end_time": "2019-07-08T14:54:20.519490Z"
    },
    "provenance": [
     {
      "end_time": "Unknown",
      "execution_time": "Unknown",
      "outputs": [
       {
        "data": {
         "text/plain": "3.7416573867739413"
        },
        "execution_count": 30,
        "metadata": {},
        "output_type": "execute_result"
       }
      ],
      "source": "norm = compose(compose(lambda x: vector_product(x,x), sum), sqrt)\nnorm([1,2,3])",
      "start_time": "Unknown"
     },
     {
      "end_time": "2019-07-08T14:54:20.519Z",
      "execution_time": "-272ms",
      "outputs": [],
      "source": "norm = compose(compose(lambda x: vector_product(x,x), sum), sqrt)\nnorm([1,2,3])",
      "start_time": "2019-07-08T14:54:20.791Z"
     },
     {
      "end_time": "2019-07-08T14:54:20.519Z",
      "execution_time": "-272ms",
      "outputs": [],
      "source": "norm = compose(compose(lambda x: vector_product(x,x), sum), sqrt)\nnorm([1,2,3])",
      "start_time": "2019-07-08T14:54:20.791Z"
     }
    ]
   },
   "outputs": [],
   "source": [
    "norm = compose(compose(lambda x: vector_product(x,x), sum), sqrt)\n",
    "norm([1,2,3])"
   ]
  },
  {
   "cell_type": "markdown",
   "metadata": {
    "provenance": [
     {
      "last_modified": "2018-06-12T08:34:10.000Z",
      "source": "# `Matrix` class\n\nWe will now write a class for matrices.\n\nWe will try to include several methods that will make working with matrices easy."
     }
    ]
   },
   "source": [
    "# `Matrix` class\n",
    "\n",
    "We will now write a class for matrices.\n",
    "\n",
    "We will try to include several methods that will make working with matrices easy."
   ]
  },
  {
   "cell_type": "code",
   "execution_count": null,
   "metadata": {
    "ExecutionTime": {
     "end_time": "2019-07-08T14:54:20.522736Z"
    },
    "provenance": [
     {
      "end_time": "Unknown",
      "execution_time": "Unknown",
      "outputs": [],
      "source": "class Matrix:\n    \n    def __init__(self, n_rows, m_cols, default_value=0):\n        assert n_rows > 0\n        assert m_cols > 0\n        assert isinstance(default_value, (int, float, complex))\n        self.rows = [[default_value ] * m_cols for i in range(n_rows)]      \n    \n    def dim(self):\n        '''return tuple -> num of rows, num of cols'''\n        return (len(self.rows), len(self.rows[0]))\n    \n    def __repr__(self):\n        return 'Matrix: %d rows, %d cols\\n' % self.dim() + str(self.rows[0])\n   \n    def __getitem__(self, ij): \n        '''ij is a tuple (i,j). Allows m[i,j] instead m[i][j]'''\n        i,j = ij\n        if isinstance(i, int) and isinstance(j, int):\n            return self.rows[i][j]\n        elif isinstance(i, slice) and isinstance(j, slice):\n            M = Matrix(1,1) # to be overwritten\n            M.rows = [row[j] for row in self.rows[i]]\n            return M\n        else:\n            return NotImplemented\n    \n    def __setitem__(self, ij, val): \n        '''ij is a tuple (i,j). Allows m[i,j] instead m[i][j]'''\n        i,j = ij\n        if isinstance(i,int) and isinstance(j,int):\n            assert isinstance(val, (int, float, complex))\n            self.rows[i][j] = val\n        elif isinstance(i,slice) and isinstance(j,slice):\n            assert isinstance(val, Matrix)\n            n,m = val.dim()\n            s_rows = self.rows[i]\n            assert len(s_rows) == n and len(s_rows[0][j]) == m\n            for s_row, v_row in zip(s_rows,val.rows):\n                s_row[j] = v_row\n        else:\n            return NotImplemented\n\n    def __eq__(self, other):\n        assert isinstance(other, Matrix)\n        if self.dim() != other.dim():\n            return False\n        n,m = self.dim()\n        for i in range(n):\n            for j in range(m):\n                if self[i,j] != other[i,j]:\n                    return False\n        return True\n    \n    def __add__(self, other):\n        return self._entrywise_op(other, lambda x,y: x + y)\n    \n    def __sub__(self, other):\n        return self._entrywise_op(other, lambda x,y: x - y)\n    \n    def __neg__(self):\n        n,m = self.dim()\n        return Matrix(n, m, 0) - self\n    \n    def _entrywise_op(self, other, op):\n        assert isinstance(other, Matrix)\n        assert self.dim() == other.dim()\n        n,m = self.dim()\n        M = Matrix(n, m)\n        for i in range(n):\n            for j in range(m):\n                M[i,j] = op(self[i,j], other[i,j])\n        return M\n    \n    def __mul__(self, other):\n        '''multilpy by scalar or another matrix'''\n        if isinstance(other, (int,float,complex)):\n            n,m = self.dim()\n            M = Matrix(n, m, other)\n            return self._entrywise_op(M, lambda x,y: x * y)\n        elif isinstance(other, Matrix):\n            n1,m1 = self.dim()\n            n2,m2 = other.dim()\n            assert m1 == n2\n            M = Matrix(n1,m2)\n            for i in range(n1):\n                for j in range(m2):\n                    M[i,j] = sum([self[i,k] * other[k,j] for k in range(m1)])\n            return M\n        else:\n            return NotImplemented\n    \n    __rmul__ = __mul__\n    \n    def prettyprint(self):\n        return str.join('\\n',[str(row) for row in self.rows])\n    \n    def save(self, filename):\n        '''save to file'''\n        with open(filename, \"w\") as fout:\n            fout.write(self.prettyprint())\n    \n    @staticmethod\n    def load(filename):\n        '''load from file'''\n        rows = []\n        with open(filename, 'r') as fin:\n            for line in fin:\n                line = line.strip()\n                row = eval(line)\n                rows.append(row)\n        M = Matrix(1,1)\n        M.rows = rows\n        return M",
      "start_time": "Unknown"
     },
     {
      "end_time": "2019-07-08T14:54:20.522Z",
      "execution_time": "-283ms",
      "outputs": [],
      "source": "class Matrix:\n    \n    def __init__(self, n_rows, m_cols, default_value=0):\n        assert n_rows > 0\n        assert m_cols > 0\n        assert isinstance(default_value, (int, float, complex))\n        self.rows = [[default_value ] * m_cols for i in range(n_rows)]      \n    \n    def dim(self):\n        '''return tuple -> num of rows, num of cols'''\n        return (len(self.rows), len(self.rows[0]))\n    \n    def __repr__(self):\n        return 'Matrix: %d rows, %d cols\\n' % self.dim() + str(self.rows[0])\n   \n    def __getitem__(self, ij): \n        '''ij is a tuple (i,j). Allows m[i,j] instead m[i][j]'''\n        i,j = ij\n        if isinstance(i, int) and isinstance(j, int):\n            return self.rows[i][j]\n        elif isinstance(i, slice) and isinstance(j, slice):\n            M = Matrix(1,1) # to be overwritten\n            M.rows = [row[j] for row in self.rows[i]]\n            return M\n        else:\n            return NotImplemented\n    \n    def __setitem__(self, ij, val): \n        '''ij is a tuple (i,j). Allows m[i,j] instead m[i][j]'''\n        i,j = ij\n        if isinstance(i,int) and isinstance(j,int):\n            assert isinstance(val, (int, float, complex))\n            self.rows[i][j] = val\n        elif isinstance(i,slice) and isinstance(j,slice):\n            assert isinstance(val, Matrix)\n            n,m = val.dim()\n            s_rows = self.rows[i]\n            assert len(s_rows) == n and len(s_rows[0][j]) == m\n            for s_row, v_row in zip(s_rows,val.rows):\n                s_row[j] = v_row\n        else:\n            return NotImplemented\n\n    def __eq__(self, other):\n        assert isinstance(other, Matrix)\n        if self.dim() != other.dim():\n            return False\n        n,m = self.dim()\n        for i in range(n):\n            for j in range(m):\n                if self[i,j] != other[i,j]:\n                    return False\n        return True\n    \n    def __add__(self, other):\n        return self._entrywise_op(other, lambda x,y: x + y)\n    \n    def __sub__(self, other):\n        return self._entrywise_op(other, lambda x,y: x - y)\n    \n    def __neg__(self):\n        n,m = self.dim()\n        return Matrix(n, m, 0) - self\n    \n    def _entrywise_op(self, other, op):\n        assert isinstance(other, Matrix)\n        assert self.dim() == other.dim()\n        n,m = self.dim()\n        M = Matrix(n, m)\n        for i in range(n):\n            for j in range(m):\n                M[i,j] = op(self[i,j], other[i,j])\n        return M\n    \n    def __mul__(self, other):\n        '''multilpy by scalar or another matrix'''\n        if isinstance(other, (int,float,complex)):\n            n,m = self.dim()\n            M = Matrix(n, m, other)\n            return self._entrywise_op(M, lambda x,y: x * y)\n        elif isinstance(other, Matrix):\n            n1,m1 = self.dim()\n            n2,m2 = other.dim()\n            assert m1 == n2\n            M = Matrix(n1,m2)\n            for i in range(n1):\n                for j in range(m2):\n                    M[i,j] = sum([self[i,k] * other[k,j] for k in range(m1)])\n            return M\n        else:\n            return NotImplemented\n    \n    __rmul__ = __mul__\n    \n    def prettyprint(self):\n        return str.join('\\n',[str(row) for row in self.rows])\n    \n    def save(self, filename):\n        '''save to file'''\n        with open(filename, \"w\") as fout:\n            fout.write(self.prettyprint())\n    \n    @staticmethod\n    def load(filename):\n        '''load from file'''\n        rows = []\n        with open(filename, 'r') as fin:\n            for line in fin:\n                line = line.strip()\n                row = eval(line)\n                rows.append(row)\n        M = Matrix(1,1)\n        M.rows = rows\n        return M",
      "start_time": "2019-07-08T14:54:20.805Z"
     },
     {
      "end_time": "2019-07-08T14:54:20.522Z",
      "execution_time": "-284ms",
      "outputs": [],
      "source": "class Matrix:\n    \n    def __init__(self, n_rows, m_cols, default_value=0):\n        assert n_rows > 0\n        assert m_cols > 0\n        assert isinstance(default_value, (int, float, complex))\n        self.rows = [[default_value ] * m_cols for i in range(n_rows)]      \n    \n    def dim(self):\n        '''return tuple -> num of rows, num of cols'''\n        return (len(self.rows), len(self.rows[0]))\n    \n    def __repr__(self):\n        return 'Matrix: %d rows, %d cols\\n' % self.dim() + str(self.rows[0])\n   \n    def __getitem__(self, ij): \n        '''ij is a tuple (i,j). Allows m[i,j] instead m[i][j]'''\n        i,j = ij\n        if isinstance(i, int) and isinstance(j, int):\n            return self.rows[i][j]\n        elif isinstance(i, slice) and isinstance(j, slice):\n            M = Matrix(1,1) # to be overwritten\n            M.rows = [row[j] for row in self.rows[i]]\n            return M\n        else:\n            return NotImplemented\n    \n    def __setitem__(self, ij, val): \n        '''ij is a tuple (i,j). Allows m[i,j] instead m[i][j]'''\n        i,j = ij\n        if isinstance(i,int) and isinstance(j,int):\n            assert isinstance(val, (int, float, complex))\n            self.rows[i][j] = val\n        elif isinstance(i,slice) and isinstance(j,slice):\n            assert isinstance(val, Matrix)\n            n,m = val.dim()\n            s_rows = self.rows[i]\n            assert len(s_rows) == n and len(s_rows[0][j]) == m\n            for s_row, v_row in zip(s_rows,val.rows):\n                s_row[j] = v_row\n        else:\n            return NotImplemented\n\n    def __eq__(self, other):\n        assert isinstance(other, Matrix)\n        if self.dim() != other.dim():\n            return False\n        n,m = self.dim()\n        for i in range(n):\n            for j in range(m):\n                if self[i,j] != other[i,j]:\n                    return False\n        return True\n    \n    def __add__(self, other):\n        return self._entrywise_op(other, lambda x,y: x + y)\n    \n    def __sub__(self, other):\n        return self._entrywise_op(other, lambda x,y: x - y)\n    \n    def __neg__(self):\n        n,m = self.dim()\n        return Matrix(n, m, 0) - self\n    \n    def _entrywise_op(self, other, op):\n        assert isinstance(other, Matrix)\n        assert self.dim() == other.dim()\n        n,m = self.dim()\n        M = Matrix(n, m)\n        for i in range(n):\n            for j in range(m):\n                M[i,j] = op(self[i,j], other[i,j])\n        return M\n    \n    def __mul__(self, other):\n        '''multilpy by scalar or another matrix'''\n        if isinstance(other, (int,float,complex)):\n            n,m = self.dim()\n            M = Matrix(n, m, other)\n            return self._entrywise_op(M, lambda x,y: x * y)\n        elif isinstance(other, Matrix):\n            n1,m1 = self.dim()\n            n2,m2 = other.dim()\n            assert m1 == n2\n            M = Matrix(n1,m2)\n            for i in range(n1):\n                for j in range(m2):\n                    M[i,j] = sum([self[i,k] * other[k,j] for k in range(m1)])\n            return M\n        else:\n            return NotImplemented\n    \n    __rmul__ = __mul__\n    \n    def prettyprint(self):\n        return str.join('\\n',[str(row) for row in self.rows])\n    \n    def save(self, filename):\n        '''save to file'''\n        with open(filename, \"w\") as fout:\n            fout.write(self.prettyprint())\n    \n    @staticmethod\n    def load(filename):\n        '''load from file'''\n        rows = []\n        with open(filename, 'r') as fin:\n            for line in fin:\n                line = line.strip()\n                row = eval(line)\n                rows.append(row)\n        M = Matrix(1,1)\n        M.rows = rows\n        return M",
      "start_time": "2019-07-08T14:54:20.806Z"
     }
    ]
   },
   "outputs": [],
   "source": [
    "class Matrix:\n",
    "    \n",
    "    def __init__(self, n_rows, m_cols, default_value=0):\n",
    "        assert n_rows > 0\n",
    "        assert m_cols > 0\n",
    "        assert isinstance(default_value, (int, float, complex))\n",
    "        self.rows = [[default_value ] * m_cols for i in range(n_rows)]      \n",
    "    \n",
    "    def dim(self):\n",
    "        '''return tuple -> num of rows, num of cols'''\n",
    "        return (len(self.rows), len(self.rows[0]))\n",
    "    \n",
    "    def __repr__(self):\n",
    "        return 'Matrix: %d rows, %d cols\\n' % self.dim() + str(self.rows[0])\n",
    "   \n",
    "    def __getitem__(self, ij): \n",
    "        '''ij is a tuple (i,j). Allows m[i,j] instead m[i][j]'''\n",
    "        i,j = ij\n",
    "        if isinstance(i, int) and isinstance(j, int):\n",
    "            return self.rows[i][j]\n",
    "        elif isinstance(i, slice) and isinstance(j, slice):\n",
    "            M = Matrix(1,1) # to be overwritten\n",
    "            M.rows = [row[j] for row in self.rows[i]]\n",
    "            return M\n",
    "        else:\n",
    "            return NotImplemented\n",
    "    \n",
    "    def __setitem__(self, ij, val): \n",
    "        '''ij is a tuple (i,j). Allows m[i,j] instead m[i][j]'''\n",
    "        i,j = ij\n",
    "        if isinstance(i,int) and isinstance(j,int):\n",
    "            assert isinstance(val, (int, float, complex))\n",
    "            self.rows[i][j] = val\n",
    "        elif isinstance(i,slice) and isinstance(j,slice):\n",
    "            assert isinstance(val, Matrix)\n",
    "            n,m = val.dim()\n",
    "            s_rows = self.rows[i]\n",
    "            assert len(s_rows) == n and len(s_rows[0][j]) == m\n",
    "            for s_row, v_row in zip(s_rows,val.rows):\n",
    "                s_row[j] = v_row\n",
    "        else:\n",
    "            return NotImplemented\n",
    "\n",
    "    def __eq__(self, other):\n",
    "        assert isinstance(other, Matrix)\n",
    "        if self.dim() != other.dim():\n",
    "            return False\n",
    "        n,m = self.dim()\n",
    "        for i in range(n):\n",
    "            for j in range(m):\n",
    "                if self[i,j] != other[i,j]:\n",
    "                    return False\n",
    "        return True\n",
    "    \n",
    "    def __add__(self, other):\n",
    "        return self._entrywise_op(other, lambda x,y: x + y)\n",
    "    \n",
    "    def __sub__(self, other):\n",
    "        return self._entrywise_op(other, lambda x,y: x - y)\n",
    "    \n",
    "    def __neg__(self):\n",
    "        n,m = self.dim()\n",
    "        return Matrix(n, m, 0) - self\n",
    "    \n",
    "    def _entrywise_op(self, other, op):\n",
    "        assert isinstance(other, Matrix)\n",
    "        assert self.dim() == other.dim()\n",
    "        n,m = self.dim()\n",
    "        M = Matrix(n, m)\n",
    "        for i in range(n):\n",
    "            for j in range(m):\n",
    "                M[i,j] = op(self[i,j], other[i,j])\n",
    "        return M\n",
    "    \n",
    "    def __mul__(self, other):\n",
    "        '''multilpy by scalar or another matrix'''\n",
    "        if isinstance(other, (int,float,complex)):\n",
    "            n,m = self.dim()\n",
    "            M = Matrix(n, m, other)\n",
    "            return self._entrywise_op(M, lambda x,y: x * y)\n",
    "        elif isinstance(other, Matrix):\n",
    "            n1,m1 = self.dim()\n",
    "            n2,m2 = other.dim()\n",
    "            assert m1 == n2\n",
    "            M = Matrix(n1,m2)\n",
    "            for i in range(n1):\n",
    "                for j in range(m2):\n",
    "                    M[i,j] = sum([self[i,k] * other[k,j] for k in range(m1)])\n",
    "            return M\n",
    "        else:\n",
    "            return NotImplemented\n",
    "    \n",
    "    __rmul__ = __mul__\n",
    "    \n",
    "    def prettyprint(self):\n",
    "        return str.join('\\n',[str(row) for row in self.rows])\n",
    "    \n",
    "    def save(self, filename):\n",
    "        '''save to file'''\n",
    "        with open(filename, \"w\") as fout:\n",
    "            fout.write(self.prettyprint())\n",
    "    \n",
    "    @staticmethod\n",
    "    def load(filename):\n",
    "        '''load from file'''\n",
    "        rows = []\n",
    "        with open(filename, 'r') as fin:\n",
    "            for line in fin:\n",
    "                line = line.strip()\n",
    "                row = eval(line)\n",
    "                rows.append(row)\n",
    "        M = Matrix(1,1)\n",
    "        M.rows = rows\n",
    "        return M"
   ]
  },
  {
   "cell_type": "code",
   "execution_count": null,
   "metadata": {
    "ExecutionTime": {
     "end_time": "2019-07-08T14:54:20.524856Z"
    },
    "provenance": [
     {
      "end_time": "Unknown",
      "execution_time": "Unknown",
      "outputs": [
       {
        "name": "stdout",
        "output_type": "stream",
        "text": "[-1.5, -1.5, -1.5]\n[-1.5, -1.5, -1.5]\n[-1.5, -1.5, -1.5]\nTrue\n"
       }
      ],
      "source": "A = Matrix(3,3,1)\nB = Matrix(3,3,1) * 2.5\nC = A - B\nD = A + B\nprint(C.prettyprint())\nD.save(\"tmp\")\nprint(D == Matrix.load(\"tmp\"))",
      "start_time": "Unknown"
     },
     {
      "end_time": "2019-07-08T14:54:20.524Z",
      "execution_time": "-285ms",
      "outputs": [],
      "source": "A = Matrix(3,3,1)\nB = Matrix(3,3,1) * 2.5\nC = A - B\nD = A + B\nprint(C.prettyprint())\nD.save(\"tmp\")\nprint(D == Matrix.load(\"tmp\"))",
      "start_time": "2019-07-08T14:54:20.809Z"
     },
     {
      "end_time": "2019-07-08T14:54:20.524Z",
      "execution_time": "-285ms",
      "outputs": [],
      "source": "A = Matrix(3,3,1)\nB = Matrix(3,3,1) * 2.5\nC = A - B\nD = A + B\nprint(C.prettyprint())\nD.save(\"tmp\")\nprint(D == Matrix.load(\"tmp\"))",
      "start_time": "2019-07-08T14:54:20.809Z"
     }
    ]
   },
   "outputs": [],
   "source": [
    "A = Matrix(3,3,1)\n",
    "B = Matrix(3,3,1) * 2.5\n",
    "C = A - B\n",
    "D = A + B\n",
    "print(C.prettyprint())\n",
    "D.save(\"tmp\")\n",
    "print(D == Matrix.load(\"tmp\"))"
   ]
  },
  {
   "cell_type": "markdown",
   "metadata": {
    "provenance": [
     {
      "last_modified": "2018-06-12T08:34:10.000Z",
      "source": "## Fin\nThis notebook is part of the [Extended introduction to computer science](http://tau-cs1001-py.wikidot.com/) course at Tel-Aviv University.\n\nThe notebook was written using Python 3.2 and IPython 0.13.1.\n\nThe code is available at <https://raw.github.com/yoavram/CS1001.py/master/recitation7.ipynb>.\n\nThe notebook can be viewed online at <http://nbviewer.ipython.org/urls/raw.github.com/yoavram/CS1001.py/master/recitation7.ipynb>.\n\nThis work is licensed under a [Creative Commons Attribution-ShareAlike 3.0 Unported License](http://creativecommons.org/licenses/by-sa/3.0/)."
     }
    ]
   },
   "source": [
    "## Fin\n",
    "This notebook is part of the [Extended introduction to computer science](http://tau-cs1001-py.wikidot.com/) course at Tel-Aviv University.\n",
    "\n",
    "The notebook was written using Python 3.2 and IPython 0.13.1.\n",
    "\n",
    "The code is available at <https://raw.github.com/yoavram/CS1001.py/master/recitation7.ipynb>.\n",
    "\n",
    "The notebook can be viewed online at <http://nbviewer.ipython.org/urls/raw.github.com/yoavram/CS1001.py/master/recitation7.ipynb>.\n",
    "\n",
    "This work is licensed under a [Creative Commons Attribution-ShareAlike 3.0 Unported License](http://creativecommons.org/licenses/by-sa/3.0/)."
   ]
  }
 ],
 "metadata": {
  "kernelspec": {
   "display_name": "Python 2",
   "language": "python",
   "name": "python2"
  },
  "language_info": {
   "codemirror_mode": {
    "name": "ipython",
    "version": 2
   },
   "file_extension": ".py",
   "mimetype": "text/x-python",
   "name": "python",
   "nbconvert_exporter": "python",
   "pygments_lexer": "ipython2",
   "version": "2.7.15rc1"
  }
 },
 "nbformat": 4,
 "nbformat_minor": 1
}
