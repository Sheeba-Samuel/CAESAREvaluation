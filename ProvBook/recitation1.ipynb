{
 "cells": [
  {
   "cell_type": "markdown",
   "metadata": {
    "provenance": [
     {
      "last_modified": "2018-06-12T08:34:10.000Z",
      "source": "# CS1001.py\n## Extended Introduction to Computer Science with Python, Tel-Aviv University, Spring 2013\n# Recitation 1 - 28.2-4.3.2013\n## Last update: 28.2.2013"
     }
    ]
   },
   "source": [
    "# CS1001.py\n",
    "## Extended Introduction to Computer Science with Python, Tel-Aviv University, Spring 2013\n",
    "# Recitation 1 - 28.2-4.3.2013\n",
    "## Last update: 28.2.2013"
   ]
  },
  {
   "cell_type": "markdown",
   "metadata": {
    "provenance": [
     {
      "last_modified": "2018-06-12T08:34:10.000Z",
      "source": "## Python general comments\n\n1. Course site at <http://tau-cs1001-py.wikidot.com>\n1. Programming language -> Interpreter -> Machine language\n1. IDLE (editor + interpreter), see site for installation instructions\n1. Interactive mode vs. Script mode\n1. Python version 3.2"
     }
    ]
   },
   "source": [
    "## Python general comments\n",
    "\n",
    "1. Course site at <http://tau-cs1001-py.wikidot.com>\n",
    "1. Programming language -> Interpreter -> Machine language\n",
    "1. IDLE (editor + interpreter), see site for installation instructions\n",
    "1. Interactive mode vs. Script mode\n",
    "1. Python version 3.2"
   ]
  },
  {
   "cell_type": "markdown",
   "metadata": {
    "provenance": [
     {
      "last_modified": "2018-06-12T08:34:10.000Z",
      "source": "* print function - prints a textual representation to the console"
     }
    ]
   },
   "source": [
    "* print function - prints a textual representation to the console"
   ]
  },
  {
   "cell_type": "code",
   "execution_count": 1,
   "metadata": {
    "ExecutionTime": {
     "end_time": "2019-07-08T14:35:50.928412Z",
     "start_time": "2019-07-08T14:35:50.921558Z"
    },
    "provenance": [
     {
      "end_time": "Unknown",
      "execution_time": "Unknown",
      "outputs": [
       {
        "name": "stdout",
        "output_type": "stream",
        "text": "Hello world!\n"
       }
      ],
      "source": "print(\"Hello world!\")",
      "start_time": "Unknown"
     },
     {
      "end_time": "2019-07-08T14:35:50.928Z",
      "execution_time": "7ms",
      "outputs": [
       {
        "name": "stdout",
        "output_type": "stream",
        "text": "Hello world!\n"
       }
      ],
      "source": "print(\"Hello world!\")",
      "start_time": "2019-07-08T14:35:50.921Z"
     },
     {
      "end_time": "2019-07-08T14:35:50.928Z",
      "execution_time": "7ms",
      "outputs": [
       {
        "name": "stdout",
        "output_type": "stream",
        "text": "Hello world!\n"
       }
      ],
      "source": "print(\"Hello world!\")",
      "start_time": "2019-07-08T14:35:50.921Z"
     }
    ]
   },
   "outputs": [
    {
     "name": "stdout",
     "output_type": "stream",
     "text": [
      "Hello world!\n"
     ]
    }
   ],
   "source": [
    "print(\"Hello world!\")"
   ]
  },
  {
   "cell_type": "code",
   "execution_count": 2,
   "metadata": {
    "ExecutionTime": {
     "end_time": "2019-07-08T14:35:50.949572Z",
     "start_time": "2019-07-08T14:35:50.936817Z"
    },
    "provenance": [
     {
      "end_time": "Unknown",
      "execution_time": "Unknown",
      "outputs": [
       {
        "name": "stdout",
        "output_type": "stream",
        "text": "Hello world!\n"
       }
      ],
      "source": "print(\"Hello\", \"world!\")",
      "start_time": "Unknown"
     },
     {
      "end_time": "2019-07-08T14:35:50.949Z",
      "execution_time": "13ms",
      "outputs": [
       {
        "name": "stdout",
        "output_type": "stream",
        "text": "('Hello', 'world!')\n"
       }
      ],
      "source": "print(\"Hello\", \"world!\")",
      "start_time": "2019-07-08T14:35:50.936Z"
     },
     {
      "end_time": "2019-07-08T14:35:50.949Z",
      "execution_time": "13ms",
      "outputs": [
       {
        "name": "stdout",
        "output_type": "stream",
        "text": "('Hello', 'world!')\n"
       }
      ],
      "source": "print(\"Hello\", \"world!\")",
      "start_time": "2019-07-08T14:35:50.936Z"
     }
    ]
   },
   "outputs": [
    {
     "name": "stdout",
     "output_type": "stream",
     "text": [
      "('Hello', 'world!')\n"
     ]
    }
   ],
   "source": [
    "print(\"Hello\", \"world!\")"
   ]
  },
  {
   "cell_type": "markdown",
   "metadata": {
    "provenance": [
     {
      "last_modified": "2018-06-12T08:34:10.000Z",
      "source": "### Variables, types"
     }
    ]
   },
   "source": [
    "### Variables, types"
   ]
  },
  {
   "cell_type": "markdown",
   "metadata": {
    "provenance": [
     {
      "last_modified": "2018-06-12T08:34:10.000Z",
      "source": "* int - integers: ..., -3, -2, -1, 0, 1, 2, 3, ..."
     }
    ]
   },
   "source": [
    "* int - integers: ..., -3, -2, -1, 0, 1, 2, 3, ..."
   ]
  },
  {
   "cell_type": "code",
   "execution_count": 3,
   "metadata": {
    "ExecutionTime": {
     "end_time": "2019-07-08T14:35:50.966319Z",
     "start_time": "2019-07-08T14:35:50.953087Z"
    },
    "provenance": [
     {
      "end_time": "Unknown",
      "execution_time": "Unknown",
      "outputs": [
       {
        "name": "stdout",
        "output_type": "stream",
        "text": "5 <class 'int'>\n-3 <class 'int'>\n"
       }
      ],
      "source": "x=5\ny=-3\nprint(x, type(x))\nprint(y, type(y))",
      "start_time": "Unknown"
     },
     {
      "end_time": "2019-07-08T14:35:50.966Z",
      "execution_time": "13ms",
      "outputs": [
       {
        "name": "stdout",
        "output_type": "stream",
        "text": "(5, <type 'int'>)\n(-3, <type 'int'>)\n"
       }
      ],
      "source": "x=5\ny=-3\nprint(x, type(x))\nprint(y, type(y))",
      "start_time": "2019-07-08T14:35:50.953Z"
     },
     {
      "end_time": "2019-07-08T14:35:50.966Z",
      "execution_time": "13ms",
      "outputs": [
       {
        "name": "stdout",
        "output_type": "stream",
        "text": "(5, <type 'int'>)\n(-3, <type 'int'>)\n"
       }
      ],
      "source": "x=5\ny=-3\nprint(x, type(x))\nprint(y, type(y))",
      "start_time": "2019-07-08T14:35:50.953Z"
     }
    ]
   },
   "outputs": [
    {
     "name": "stdout",
     "output_type": "stream",
     "text": [
      "(5, <type 'int'>)\n",
      "(-3, <type 'int'>)\n"
     ]
    }
   ],
   "source": [
    "x=5\n",
    "y=-3\n",
    "print(x, type(x))\n",
    "print(y, type(y))"
   ]
  },
  {
   "cell_type": "code",
   "execution_count": 4,
   "metadata": {
    "ExecutionTime": {
     "end_time": "2019-07-08T14:35:50.984596Z",
     "start_time": "2019-07-08T14:35:50.970566Z"
    },
    "provenance": [
     {
      "end_time": "Unknown",
      "execution_time": "Unknown",
      "outputs": [
       {
        "name": "stdout",
        "output_type": "stream",
        "text": "<class 'float'>\n"
       }
      ],
      "source": "x = 5.5\nprint(type(x))",
      "start_time": "Unknown"
     },
     {
      "end_time": "2019-07-08T14:35:50.984Z",
      "execution_time": "14ms",
      "outputs": [
       {
        "name": "stdout",
        "output_type": "stream",
        "text": "<type 'float'>\n"
       }
      ],
      "source": "x = 5.5\nprint(type(x))",
      "start_time": "2019-07-08T14:35:50.970Z"
     },
     {
      "end_time": "2019-07-08T14:35:50.984Z",
      "execution_time": "14ms",
      "outputs": [
       {
        "name": "stdout",
        "output_type": "stream",
        "text": "<type 'float'>\n"
       }
      ],
      "source": "x = 5.5\nprint(type(x))",
      "start_time": "2019-07-08T14:35:50.970Z"
     }
    ]
   },
   "outputs": [
    {
     "name": "stdout",
     "output_type": "stream",
     "text": [
      "<type 'float'>\n"
     ]
    }
   ],
   "source": [
    "x = 5.5\n",
    "print(type(x))"
   ]
  },
  {
   "cell_type": "markdown",
   "metadata": {
    "provenance": [
     {
      "last_modified": "2018-06-12T08:34:10.000Z",
      "source": "* float - floating point numbers, decimal point fractions: -3.2, 1.5, 1e-8, 3.2e5"
     }
    ]
   },
   "source": [
    "* float - floating point numbers, decimal point fractions: -3.2, 1.5, 1e-8, 3.2e5"
   ]
  },
  {
   "cell_type": "code",
   "execution_count": 5,
   "metadata": {
    "ExecutionTime": {
     "end_time": "2019-07-08T14:35:51.002291Z",
     "start_time": "2019-07-08T14:35:50.991113Z"
    },
    "provenance": [
     {
      "end_time": "Unknown",
      "execution_time": "Unknown",
      "outputs": [
       {
        "name": "stdout",
        "output_type": "stream",
        "text": "5.0 <class 'float'>\n2200000.0 <class 'float'>\n"
       }
      ],
      "source": "x=5.0\ny=-3.2\nz=2.2e6\nprint(x, type(x))\nprint(z, type(z))",
      "start_time": "Unknown"
     },
     {
      "end_time": "2019-07-08T14:35:51.002Z",
      "execution_time": "11ms",
      "outputs": [
       {
        "name": "stdout",
        "output_type": "stream",
        "text": "(5.0, <type 'float'>)\n(2200000.0, <type 'float'>)\n"
       }
      ],
      "source": "x=5.0\ny=-3.2\nz=2.2e6\nprint(x, type(x))\nprint(z, type(z))",
      "start_time": "2019-07-08T14:35:50.991Z"
     },
     {
      "end_time": "2019-07-08T14:35:51.002Z",
      "execution_time": "11ms",
      "outputs": [
       {
        "name": "stdout",
        "output_type": "stream",
        "text": "(5.0, <type 'float'>)\n(2200000.0, <type 'float'>)\n"
       }
      ],
      "source": "x=5.0\ny=-3.2\nz=2.2e6\nprint(x, type(x))\nprint(z, type(z))",
      "start_time": "2019-07-08T14:35:50.991Z"
     }
    ]
   },
   "outputs": [
    {
     "name": "stdout",
     "output_type": "stream",
     "text": [
      "(5.0, <type 'float'>)\n",
      "(2200000.0, <type 'float'>)\n"
     ]
    }
   ],
   "source": [
    "x=5.0\n",
    "y=-3.2\n",
    "z=2.2e6\n",
    "print(x, type(x))\n",
    "print(z, type(z))"
   ]
  },
  {
   "cell_type": "markdown",
   "metadata": {
    "provenance": [
     {
      "last_modified": "2018-06-12T08:34:10.000Z",
      "source": "* str - character strings, text: \"intro2CS\", 'python'"
     }
    ]
   },
   "source": [
    "* str - character strings, text: \"intro2CS\", 'python'"
   ]
  },
  {
   "cell_type": "code",
   "execution_count": 6,
   "metadata": {
    "ExecutionTime": {
     "end_time": "2019-07-08T14:35:51.027936Z",
     "start_time": "2019-07-08T14:35:51.005784Z"
    },
    "provenance": [
     {
      "end_time": "Unknown",
      "execution_time": "Unknown",
      "outputs": [
       {
        "name": "stdout",
        "output_type": "stream",
        "text": "CS1001.py <class 'str'>\nI love python <class 'str'>\n"
       }
      ],
      "source": "x = \"CS1001.py\"\ny = 'I love python'\nprint(x, type(x))\nprint(y, type(y))",
      "start_time": "Unknown"
     },
     {
      "end_time": "2019-07-08T14:35:51.027Z",
      "execution_time": "22ms",
      "outputs": [
       {
        "name": "stdout",
        "output_type": "stream",
        "text": "('CS1001.py', <type 'str'>)\n('I love python', <type 'str'>)\n"
       }
      ],
      "source": "x = \"CS1001.py\"\ny = 'I love python'\nprint(x, type(x))\nprint(y, type(y))",
      "start_time": "2019-07-08T14:35:51.005Z"
     },
     {
      "end_time": "2019-07-08T14:35:51.027Z",
      "execution_time": "22ms",
      "outputs": [
       {
        "name": "stdout",
        "output_type": "stream",
        "text": "('CS1001.py', <type 'str'>)\n('I love python', <type 'str'>)\n"
       }
      ],
      "source": "x = \"CS1001.py\"\ny = 'I love python'\nprint(x, type(x))\nprint(y, type(y))",
      "start_time": "2019-07-08T14:35:51.005Z"
     }
    ]
   },
   "outputs": [
    {
     "name": "stdout",
     "output_type": "stream",
     "text": [
      "('CS1001.py', <type 'str'>)\n",
      "('I love python', <type 'str'>)\n"
     ]
    }
   ],
   "source": [
    "x = \"CS1001.py\"\n",
    "y = 'I love python'\n",
    "print(x, type(x))\n",
    "print(y, type(y))"
   ]
  },
  {
   "cell_type": "code",
   "execution_count": 7,
   "metadata": {
    "ExecutionTime": {
     "end_time": "2019-07-08T14:35:51.041378Z",
     "start_time": "2019-07-08T14:35:51.032786Z"
    },
    "provenance": [
     {
      "end_time": "Unknown",
      "execution_time": "Unknown",
      "outputs": [
       {
        "name": "stdout",
        "output_type": "stream",
        "text": "<class 'int'> <class 'float'> <class 'str'>\n"
       }
      ],
      "source": "print(type(4), type(4.0), type(\"4\"))",
      "start_time": "Unknown"
     },
     {
      "end_time": "2019-07-08T14:35:51.041Z",
      "execution_time": "9ms",
      "outputs": [
       {
        "name": "stdout",
        "output_type": "stream",
        "text": "(<type 'int'>, <type 'float'>, <type 'str'>)\n"
       }
      ],
      "source": "print(type(4), type(4.0), type(\"4\"))",
      "start_time": "2019-07-08T14:35:51.032Z"
     },
     {
      "end_time": "2019-07-08T14:35:51.041Z",
      "execution_time": "9ms",
      "outputs": [
       {
        "name": "stdout",
        "output_type": "stream",
        "text": "(<type 'int'>, <type 'float'>, <type 'str'>)\n"
       }
      ],
      "source": "print(type(4), type(4.0), type(\"4\"))",
      "start_time": "2019-07-08T14:35:51.032Z"
     }
    ]
   },
   "outputs": [
    {
     "name": "stdout",
     "output_type": "stream",
     "text": [
      "(<type 'int'>, <type 'float'>, <type 'str'>)\n"
     ]
    }
   ],
   "source": [
    "print(type(4), type(4.0), type(\"4\"))"
   ]
  },
  {
   "cell_type": "markdown",
   "metadata": {
    "provenance": [
     {
      "last_modified": "2018-06-12T08:34:10.000Z",
      "source": "* bool - boolean values: True and False"
     }
    ]
   },
   "source": [
    "* bool - boolean values: True and False"
   ]
  },
  {
   "cell_type": "code",
   "execution_count": 8,
   "metadata": {
    "ExecutionTime": {
     "end_time": "2019-07-08T14:35:51.059651Z",
     "start_time": "2019-07-08T14:35:51.044370Z"
    },
    "provenance": [
     {
      "end_time": "Unknown",
      "execution_time": "Unknown",
      "outputs": [
       {
        "name": "stdout",
        "output_type": "stream",
        "text": "True <class 'bool'>\nFalse <class 'bool'>\n"
       }
      ],
      "source": "i_love_python = True\npython_loves_me = False\nprint(i_love_python, type(i_love_python))\nprint(python_loves_me, type(python_loves_me))",
      "start_time": "Unknown"
     },
     {
      "end_time": "2019-07-08T14:35:51.059Z",
      "execution_time": "15ms",
      "outputs": [
       {
        "name": "stdout",
        "output_type": "stream",
        "text": "(True, <type 'bool'>)\n(False, <type 'bool'>)\n"
       }
      ],
      "source": "i_love_python = True\npython_loves_me = False\nprint(i_love_python, type(i_love_python))\nprint(python_loves_me, type(python_loves_me))",
      "start_time": "2019-07-08T14:35:51.044Z"
     },
     {
      "end_time": "2019-07-08T14:35:51.059Z",
      "execution_time": "15ms",
      "outputs": [
       {
        "name": "stdout",
        "output_type": "stream",
        "text": "(True, <type 'bool'>)\n(False, <type 'bool'>)\n"
       }
      ],
      "source": "i_love_python = True\npython_loves_me = False\nprint(i_love_python, type(i_love_python))\nprint(python_loves_me, type(python_loves_me))",
      "start_time": "2019-07-08T14:35:51.044Z"
     }
    ]
   },
   "outputs": [
    {
     "name": "stdout",
     "output_type": "stream",
     "text": [
      "(True, <type 'bool'>)\n",
      "(False, <type 'bool'>)\n"
     ]
    }
   ],
   "source": [
    "i_love_python = True\n",
    "python_loves_me = False\n",
    "print(i_love_python, type(i_love_python))\n",
    "print(python_loves_me, type(python_loves_me))"
   ]
  },
  {
   "cell_type": "markdown",
   "metadata": {
    "provenance": [
     {
      "last_modified": "2018-06-12T08:34:10.000Z",
      "source": "## Operators"
     }
    ]
   },
   "source": [
    "## Operators"
   ]
  },
  {
   "cell_type": "markdown",
   "metadata": {
    "provenance": [
     {
      "last_modified": "2018-06-12T08:34:10.000Z",
      "source": "### Mathematical operators"
     }
    ]
   },
   "source": [
    "### Mathematical operators"
   ]
  },
  {
   "cell_type": "markdown",
   "metadata": {
    "provenance": [
     {
      "last_modified": "2018-06-12T08:34:10.000Z",
      "source": "Addition:"
     }
    ]
   },
   "source": [
    "Addition:"
   ]
  },
  {
   "cell_type": "code",
   "execution_count": 9,
   "metadata": {
    "ExecutionTime": {
     "end_time": "2019-07-08T14:35:51.094759Z",
     "start_time": "2019-07-08T14:35:51.062806Z"
    },
    "provenance": [
     {
      "end_time": "Unknown",
      "execution_time": "Unknown",
      "outputs": [
       {
        "data": {
         "text/plain": "9"
        },
        "execution_count": 45,
        "metadata": {},
        "output_type": "execute_result"
       }
      ],
      "source": "4 + 5",
      "start_time": "Unknown"
     },
     {
      "end_time": "2019-07-08T14:35:51.094Z",
      "execution_time": "32ms",
      "outputs": [
       {
        "data": {
         "text/plain": "9"
        },
        "execution_count": 9,
        "metadata": {},
        "output_type": "execute_result"
       }
      ],
      "source": "4 + 5",
      "start_time": "2019-07-08T14:35:51.062Z"
     },
     {
      "end_time": "2019-07-08T14:35:51.094Z",
      "execution_time": "32ms",
      "outputs": [
       {
        "data": {
         "text/plain": "9"
        },
        "execution_count": 9,
        "metadata": {},
        "output_type": "execute_result"
       }
      ],
      "source": "4 + 5",
      "start_time": "2019-07-08T14:35:51.062Z"
     }
    ]
   },
   "outputs": [
    {
     "data": {
      "text/plain": [
       "9"
      ]
     },
     "execution_count": 9,
     "metadata": {},
     "output_type": "execute_result"
    }
   ],
   "source": [
    "4 + 5"
   ]
  },
  {
   "cell_type": "code",
   "execution_count": 10,
   "metadata": {
    "ExecutionTime": {
     "end_time": "2019-07-08T14:35:51.105078Z",
     "start_time": "2019-07-08T14:35:51.099637Z"
    },
    "provenance": [
     {
      "end_time": "Unknown",
      "execution_time": "Unknown",
      "outputs": [
       {
        "data": {
         "text/plain": "9"
        },
        "execution_count": 46,
        "metadata": {},
        "output_type": "execute_result"
       }
      ],
      "source": "x = 5\n4 + x",
      "start_time": "Unknown"
     },
     {
      "end_time": "2019-07-08T14:35:51.105Z",
      "execution_time": "6ms",
      "outputs": [
       {
        "data": {
         "text/plain": "9"
        },
        "execution_count": 10,
        "metadata": {},
        "output_type": "execute_result"
       }
      ],
      "source": "x = 5\n4 + x",
      "start_time": "2019-07-08T14:35:51.099Z"
     },
     {
      "end_time": "2019-07-08T14:35:51.105Z",
      "execution_time": "6ms",
      "outputs": [
       {
        "data": {
         "text/plain": "9"
        },
        "execution_count": 10,
        "metadata": {},
        "output_type": "execute_result"
       }
      ],
      "source": "x = 5\n4 + x",
      "start_time": "2019-07-08T14:35:51.099Z"
     }
    ]
   },
   "outputs": [
    {
     "data": {
      "text/plain": [
       "9"
      ]
     },
     "execution_count": 10,
     "metadata": {},
     "output_type": "execute_result"
    }
   ],
   "source": [
    "x = 5\n",
    "4 + x"
   ]
  },
  {
   "cell_type": "code",
   "execution_count": 11,
   "metadata": {
    "ExecutionTime": {
     "end_time": "2019-07-08T14:35:51.119799Z",
     "start_time": "2019-07-08T14:35:51.109768Z"
    },
    "provenance": [
     {
      "end_time": "Unknown",
      "execution_time": "Unknown",
      "outputs": [
       {
        "name": "stdout",
        "output_type": "stream",
        "text": "9.0 <class 'float'>\n"
       }
      ],
      "source": "x = 4.0 + 5\nprint(x, type(x))",
      "start_time": "Unknown"
     },
     {
      "end_time": "2019-07-08T14:35:51.119Z",
      "execution_time": "10ms",
      "outputs": [
       {
        "name": "stdout",
        "output_type": "stream",
        "text": "(9.0, <type 'float'>)\n"
       }
      ],
      "source": "x = 4.0 + 5\nprint(x, type(x))",
      "start_time": "2019-07-08T14:35:51.109Z"
     },
     {
      "end_time": "2019-07-08T14:35:51.119Z",
      "execution_time": "10ms",
      "outputs": [
       {
        "name": "stdout",
        "output_type": "stream",
        "text": "(9.0, <type 'float'>)\n"
       }
      ],
      "source": "x = 4.0 + 5\nprint(x, type(x))",
      "start_time": "2019-07-08T14:35:51.109Z"
     }
    ]
   },
   "outputs": [
    {
     "name": "stdout",
     "output_type": "stream",
     "text": [
      "(9.0, <type 'float'>)\n"
     ]
    }
   ],
   "source": [
    "x = 4.0 + 5\n",
    "print(x, type(x))"
   ]
  },
  {
   "cell_type": "markdown",
   "metadata": {
    "provenance": [
     {
      "last_modified": "2018-06-12T08:34:10.000Z",
      "source": "Subtraction:"
     }
    ]
   },
   "source": [
    "Subtraction:"
   ]
  },
  {
   "cell_type": "code",
   "execution_count": 12,
   "metadata": {
    "ExecutionTime": {
     "end_time": "2019-07-08T14:35:51.138495Z",
     "start_time": "2019-07-08T14:35:51.123381Z"
    },
    "provenance": [
     {
      "end_time": "Unknown",
      "execution_time": "Unknown",
      "outputs": [
       {
        "data": {
         "text/plain": "6.0"
        },
        "execution_count": 48,
        "metadata": {},
        "output_type": "execute_result"
       }
      ],
      "source": "x - 3",
      "start_time": "Unknown"
     },
     {
      "end_time": "2019-07-08T14:35:51.138Z",
      "execution_time": "15ms",
      "outputs": [
       {
        "data": {
         "text/plain": "6.0"
        },
        "execution_count": 12,
        "metadata": {},
        "output_type": "execute_result"
       }
      ],
      "source": "x - 3",
      "start_time": "2019-07-08T14:35:51.123Z"
     },
     {
      "end_time": "2019-07-08T14:35:51.138Z",
      "execution_time": "15ms",
      "outputs": [
       {
        "data": {
         "text/plain": "6.0"
        },
        "execution_count": 12,
        "metadata": {},
        "output_type": "execute_result"
       }
      ],
      "source": "x - 3",
      "start_time": "2019-07-08T14:35:51.123Z"
     }
    ]
   },
   "outputs": [
    {
     "data": {
      "text/plain": [
       "6.0"
      ]
     },
     "execution_count": 12,
     "metadata": {},
     "output_type": "execute_result"
    }
   ],
   "source": [
    "x - 3"
   ]
  },
  {
   "cell_type": "markdown",
   "metadata": {
    "provenance": [
     {
      "last_modified": "2018-06-12T08:34:10.000Z",
      "source": "Multiplication:"
     }
    ]
   },
   "source": [
    "Multiplication:"
   ]
  },
  {
   "cell_type": "code",
   "execution_count": 13,
   "metadata": {
    "ExecutionTime": {
     "end_time": "2019-07-08T14:35:51.159120Z",
     "start_time": "2019-07-08T14:35:51.141478Z"
    },
    "provenance": [
     {
      "end_time": "Unknown",
      "execution_time": "Unknown",
      "outputs": [
       {
        "data": {
         "text/plain": "27.0"
        },
        "execution_count": 49,
        "metadata": {},
        "output_type": "execute_result"
       }
      ],
      "source": "x * 3",
      "start_time": "Unknown"
     },
     {
      "end_time": "2019-07-08T14:35:51.159Z",
      "execution_time": "18ms",
      "outputs": [
       {
        "data": {
         "text/plain": "27.0"
        },
        "execution_count": 13,
        "metadata": {},
        "output_type": "execute_result"
       }
      ],
      "source": "x * 3",
      "start_time": "2019-07-08T14:35:51.141Z"
     },
     {
      "end_time": "2019-07-08T14:35:51.159Z",
      "execution_time": "18ms",
      "outputs": [
       {
        "data": {
         "text/plain": "27.0"
        },
        "execution_count": 13,
        "metadata": {},
        "output_type": "execute_result"
       }
      ],
      "source": "x * 3",
      "start_time": "2019-07-08T14:35:51.141Z"
     }
    ]
   },
   "outputs": [
    {
     "data": {
      "text/plain": [
       "27.0"
      ]
     },
     "execution_count": 13,
     "metadata": {},
     "output_type": "execute_result"
    }
   ],
   "source": [
    "x * 3"
   ]
  },
  {
   "cell_type": "markdown",
   "metadata": {
    "provenance": [
     {
      "last_modified": "2018-06-12T08:34:10.000Z",
      "source": "Division - float and integral with / and //:"
     }
    ]
   },
   "source": [
    "Division - float and integral with / and //:"
   ]
  },
  {
   "cell_type": "code",
   "execution_count": 14,
   "metadata": {
    "ExecutionTime": {
     "end_time": "2019-07-08T14:35:51.178673Z",
     "start_time": "2019-07-08T14:35:51.163956Z"
    },
    "provenance": [
     {
      "end_time": "Unknown",
      "execution_time": "Unknown",
      "outputs": [
       {
        "data": {
         "text/plain": "(3.3333333333333335, 3)"
        },
        "execution_count": 50,
        "metadata": {},
        "output_type": "execute_result"
       }
      ],
      "source": "10 / 3, 10 // 3",
      "start_time": "Unknown"
     },
     {
      "end_time": "2019-07-08T14:35:51.178Z",
      "execution_time": "15ms",
      "outputs": [
       {
        "data": {
         "text/plain": "(3, 3)"
        },
        "execution_count": 14,
        "metadata": {},
        "output_type": "execute_result"
       }
      ],
      "source": "10 / 3, 10 // 3",
      "start_time": "2019-07-08T14:35:51.163Z"
     },
     {
      "end_time": "2019-07-08T14:35:51.178Z",
      "execution_time": "15ms",
      "outputs": [
       {
        "data": {
         "text/plain": "(3, 3)"
        },
        "execution_count": 14,
        "metadata": {},
        "output_type": "execute_result"
       }
      ],
      "source": "10 / 3, 10 // 3",
      "start_time": "2019-07-08T14:35:51.163Z"
     }
    ]
   },
   "outputs": [
    {
     "data": {
      "text/plain": [
       "(3, 3)"
      ]
     },
     "execution_count": 14,
     "metadata": {},
     "output_type": "execute_result"
    }
   ],
   "source": [
    "10 / 3, 10 // 3"
   ]
  },
  {
   "cell_type": "markdown",
   "metadata": {
    "provenance": [
     {
      "last_modified": "2018-06-12T08:34:10.000Z",
      "source": "Power:"
     }
    ]
   },
   "source": [
    "Power:"
   ]
  },
  {
   "cell_type": "code",
   "execution_count": 15,
   "metadata": {
    "ExecutionTime": {
     "end_time": "2019-07-08T14:35:51.196169Z",
     "start_time": "2019-07-08T14:35:51.182533Z"
    },
    "provenance": [
     {
      "end_time": "Unknown",
      "execution_time": "Unknown",
      "outputs": [
       {
        "data": {
         "text/plain": "(8, 8.0, 9)"
        },
        "execution_count": 52,
        "metadata": {},
        "output_type": "execute_result"
       }
      ],
      "source": "2 ** 3, 2 ** 3.0, 3 ** 2",
      "start_time": "Unknown"
     },
     {
      "end_time": "2019-07-08T14:35:51.196Z",
      "execution_time": "14ms",
      "outputs": [
       {
        "data": {
         "text/plain": "(8, 8.0, 9)"
        },
        "execution_count": 15,
        "metadata": {},
        "output_type": "execute_result"
       }
      ],
      "source": "2 ** 3, 2 ** 3.0, 3 ** 2",
      "start_time": "2019-07-08T14:35:51.182Z"
     },
     {
      "end_time": "2019-07-08T14:35:51.196Z",
      "execution_time": "14ms",
      "outputs": [
       {
        "data": {
         "text/plain": "(8, 8.0, 9)"
        },
        "execution_count": 15,
        "metadata": {},
        "output_type": "execute_result"
       }
      ],
      "source": "2 ** 3, 2 ** 3.0, 3 ** 2",
      "start_time": "2019-07-08T14:35:51.182Z"
     }
    ]
   },
   "outputs": [
    {
     "data": {
      "text/plain": [
       "(8, 8.0, 9)"
      ]
     },
     "execution_count": 15,
     "metadata": {},
     "output_type": "execute_result"
    }
   ],
   "source": [
    "2 ** 3, 2 ** 3.0, 3 ** 2"
   ]
  },
  {
   "cell_type": "markdown",
   "metadata": {
    "provenance": [
     {
      "last_modified": "2018-06-12T08:34:10.000Z",
      "source": "Modolu:"
     }
    ]
   },
   "source": [
    "Modolu:"
   ]
  },
  {
   "cell_type": "code",
   "execution_count": 16,
   "metadata": {
    "ExecutionTime": {
     "end_time": "2019-07-08T14:35:51.223709Z",
     "start_time": "2019-07-08T14:35:51.202596Z"
    },
    "provenance": [
     {
      "end_time": "Unknown",
      "execution_time": "Unknown",
      "outputs": [
       {
        "data": {
         "text/plain": "1"
        },
        "execution_count": 53,
        "metadata": {},
        "output_type": "execute_result"
       }
      ],
      "source": "10 % 3",
      "start_time": "Unknown"
     },
     {
      "end_time": "2019-07-08T14:35:51.223Z",
      "execution_time": "21ms",
      "outputs": [
       {
        "data": {
         "text/plain": "1"
        },
        "execution_count": 16,
        "metadata": {},
        "output_type": "execute_result"
       }
      ],
      "source": "10 % 3",
      "start_time": "2019-07-08T14:35:51.202Z"
     },
     {
      "end_time": "2019-07-08T14:35:51.223Z",
      "execution_time": "21ms",
      "outputs": [
       {
        "data": {
         "text/plain": "1"
        },
        "execution_count": 16,
        "metadata": {},
        "output_type": "execute_result"
       }
      ],
      "source": "10 % 3",
      "start_time": "2019-07-08T14:35:51.202Z"
     }
    ]
   },
   "outputs": [
    {
     "data": {
      "text/plain": [
       "1"
      ]
     },
     "execution_count": 16,
     "metadata": {},
     "output_type": "execute_result"
    }
   ],
   "source": [
    "10 % 3"
   ]
  },
  {
   "cell_type": "markdown",
   "metadata": {
    "provenance": [
     {
      "last_modified": "2018-06-12T08:34:10.000Z",
      "source": "### String operators"
     }
    ]
   },
   "source": [
    "### String operators"
   ]
  },
  {
   "cell_type": "markdown",
   "metadata": {
    "provenance": [
     {
      "last_modified": "2018-06-12T08:34:10.000Z",
      "source": "String concatenation using +:"
     }
    ]
   },
   "source": [
    "String concatenation using +:"
   ]
  },
  {
   "cell_type": "code",
   "execution_count": 17,
   "metadata": {
    "ExecutionTime": {
     "end_time": "2019-07-08T14:35:51.238231Z",
     "start_time": "2019-07-08T14:35:51.230001Z"
    },
    "provenance": [
     {
      "end_time": "Unknown",
      "execution_time": "Unknown",
      "outputs": [
       {
        "data": {
         "text/plain": "'Hello World'"
        },
        "execution_count": 55,
        "metadata": {},
        "output_type": "execute_result"
       }
      ],
      "source": "\"Hello\" + \" World\"",
      "start_time": "Unknown"
     },
     {
      "end_time": "2019-07-08T14:35:51.238Z",
      "execution_time": "8ms",
      "outputs": [
       {
        "data": {
         "text/plain": "'Hello World'"
        },
        "execution_count": 17,
        "metadata": {},
        "output_type": "execute_result"
       }
      ],
      "source": "\"Hello\" + \" World\"",
      "start_time": "2019-07-08T14:35:51.230Z"
     },
     {
      "end_time": "2019-07-08T14:35:51.238Z",
      "execution_time": "8ms",
      "outputs": [
       {
        "data": {
         "text/plain": "'Hello World'"
        },
        "execution_count": 17,
        "metadata": {},
        "output_type": "execute_result"
       }
      ],
      "source": "\"Hello\" + \" World\"",
      "start_time": "2019-07-08T14:35:51.230Z"
     }
    ]
   },
   "outputs": [
    {
     "data": {
      "text/plain": [
       "'Hello World'"
      ]
     },
     "execution_count": 17,
     "metadata": {},
     "output_type": "execute_result"
    }
   ],
   "source": [
    "\"Hello\" + \" World\""
   ]
  },
  {
   "cell_type": "markdown",
   "metadata": {
    "provenance": [
     {
      "last_modified": "2018-06-12T08:34:10.000Z",
      "source": "String duplication using *:"
     }
    ]
   },
   "source": [
    "String duplication using *:"
   ]
  },
  {
   "cell_type": "code",
   "execution_count": 18,
   "metadata": {
    "ExecutionTime": {
     "end_time": "2019-07-08T14:35:51.258179Z",
     "start_time": "2019-07-08T14:35:51.243038Z"
    },
    "provenance": [
     {
      "end_time": "Unknown",
      "execution_time": "Unknown",
      "outputs": [
       {
        "data": {
         "text/plain": "'ByeBye'"
        },
        "execution_count": 58,
        "metadata": {},
        "output_type": "execute_result"
       }
      ],
      "source": "\"Bye\" * 2",
      "start_time": "Unknown"
     },
     {
      "end_time": "2019-07-08T14:35:51.258Z",
      "execution_time": "15ms",
      "outputs": [
       {
        "data": {
         "text/plain": "'ByeBye'"
        },
        "execution_count": 18,
        "metadata": {},
        "output_type": "execute_result"
       }
      ],
      "source": "\"Bye\" * 2",
      "start_time": "2019-07-08T14:35:51.243Z"
     },
     {
      "end_time": "2019-07-08T14:35:51.258Z",
      "execution_time": "15ms",
      "outputs": [
       {
        "data": {
         "text/plain": "'ByeBye'"
        },
        "execution_count": 18,
        "metadata": {},
        "output_type": "execute_result"
       }
      ],
      "source": "\"Bye\" * 2",
      "start_time": "2019-07-08T14:35:51.243Z"
     }
    ]
   },
   "outputs": [
    {
     "data": {
      "text/plain": [
       "'ByeBye'"
      ]
     },
     "execution_count": 18,
     "metadata": {},
     "output_type": "execute_result"
    }
   ],
   "source": [
    "\"Bye\" * 2"
   ]
  },
  {
   "cell_type": "markdown",
   "metadata": {
    "provenance": [
     {
      "last_modified": "2018-06-12T08:34:10.000Z",
      "source": "Strings vs. numbers:"
     }
    ]
   },
   "source": [
    "Strings vs. numbers:"
   ]
  },
  {
   "cell_type": "code",
   "execution_count": 19,
   "metadata": {
    "ExecutionTime": {
     "end_time": "2019-07-08T14:35:51.283369Z",
     "start_time": "2019-07-08T14:35:51.266484Z"
    },
    "provenance": [
     {
      "end_time": "Unknown",
      "execution_time": "Unknown",
      "outputs": [
       {
        "data": {
         "text/plain": "9"
        },
        "execution_count": 59,
        "metadata": {},
        "output_type": "execute_result"
       }
      ],
      "source": "4 + 5",
      "start_time": "Unknown"
     },
     {
      "end_time": "2019-07-08T14:35:51.283Z",
      "execution_time": "17ms",
      "outputs": [
       {
        "data": {
         "text/plain": "9"
        },
        "execution_count": 19,
        "metadata": {},
        "output_type": "execute_result"
       }
      ],
      "source": "4 + 5",
      "start_time": "2019-07-08T14:35:51.266Z"
     },
     {
      "end_time": "2019-07-08T14:35:51.283Z",
      "execution_time": "17ms",
      "outputs": [
       {
        "data": {
         "text/plain": "9"
        },
        "execution_count": 19,
        "metadata": {},
        "output_type": "execute_result"
       }
      ],
      "source": "4 + 5",
      "start_time": "2019-07-08T14:35:51.266Z"
     }
    ]
   },
   "outputs": [
    {
     "data": {
      "text/plain": [
       "9"
      ]
     },
     "execution_count": 19,
     "metadata": {},
     "output_type": "execute_result"
    }
   ],
   "source": [
    "4 + 5"
   ]
  },
  {
   "cell_type": "code",
   "execution_count": 20,
   "metadata": {
    "ExecutionTime": {
     "end_time": "2019-07-08T14:35:51.299048Z",
     "start_time": "2019-07-08T14:35:51.287090Z"
    },
    "provenance": [
     {
      "end_time": "Unknown",
      "execution_time": "Unknown",
      "outputs": [
       {
        "data": {
         "text/plain": "'45'"
        },
        "execution_count": 60,
        "metadata": {},
        "output_type": "execute_result"
       }
      ],
      "source": "\"4\" + \"5\"",
      "start_time": "Unknown"
     },
     {
      "end_time": "2019-07-08T14:35:51.299Z",
      "execution_time": "12ms",
      "outputs": [
       {
        "data": {
         "text/plain": "'45'"
        },
        "execution_count": 20,
        "metadata": {},
        "output_type": "execute_result"
       }
      ],
      "source": "\"4\" + \"5\"",
      "start_time": "2019-07-08T14:35:51.287Z"
     },
     {
      "end_time": "2019-07-08T14:35:51.299Z",
      "execution_time": "12ms",
      "outputs": [
       {
        "data": {
         "text/plain": "'45'"
        },
        "execution_count": 20,
        "metadata": {},
        "output_type": "execute_result"
       }
      ],
      "source": "\"4\" + \"5\"",
      "start_time": "2019-07-08T14:35:51.287Z"
     }
    ]
   },
   "outputs": [
    {
     "data": {
      "text/plain": [
       "'45'"
      ]
     },
     "execution_count": 20,
     "metadata": {},
     "output_type": "execute_result"
    }
   ],
   "source": [
    "\"4\" + \"5\""
   ]
  },
  {
   "cell_type": "code",
   "execution_count": 21,
   "metadata": {
    "ExecutionTime": {
     "end_time": "2019-07-08T14:35:51.376319Z",
     "start_time": "2019-07-08T14:35:51.305113Z"
    },
    "provenance": [
     {
      "end_time": "Unknown",
      "execution_time": "Unknown",
      "outputs": [
       {
        "ename": "TypeError",
        "evalue": "Can't convert 'int' object to str implicitly",
        "output_type": "error",
        "traceback": [
         "\u001b[1;31m---------------------------------------------------------------------------\u001b[0m\n\u001b[1;31mTypeError\u001b[0m                                 Traceback (most recent call last)",
         "\u001b[1;32m<ipython-input-61-f945f8c7e111>\u001b[0m in \u001b[0;36m<module>\u001b[1;34m()\u001b[0m\n\u001b[1;32m----> 1\u001b[1;33m \u001b[1;34m\"4\"\u001b[0m \u001b[1;33m+\u001b[0m \u001b[1;36m5\u001b[0m\u001b[1;33m\u001b[0m\u001b[0m\n\u001b[0m",
         "\u001b[1;31mTypeError\u001b[0m: Can't convert 'int' object to str implicitly"
        ]
       }
      ],
      "source": "\"4\" + 5",
      "start_time": "Unknown"
     },
     {
      "end_time": "2019-07-08T14:35:51.376Z",
      "execution_time": "71ms",
      "outputs": [
       {
        "ename": "TypeError",
        "evalue": "cannot concatenate 'str' and 'int' objects",
        "output_type": "error",
        "traceback": [
         "\u001b[0;31m---------------------------------------------------------------------------\u001b[0m",
         "\u001b[0;31mTypeError\u001b[0m                                 Traceback (most recent call last)",
         "\u001b[0;32m<ipython-input-21-42fa82f3c420>\u001b[0m in \u001b[0;36m<module>\u001b[0;34m()\u001b[0m\n\u001b[0;32m----> 1\u001b[0;31m \u001b[0;34m\"4\"\u001b[0m \u001b[0;34m+\u001b[0m \u001b[0;36m5\u001b[0m\u001b[0;34m\u001b[0m\u001b[0m\n\u001b[0m",
         "\u001b[0;31mTypeError\u001b[0m: cannot concatenate 'str' and 'int' objects"
        ]
       }
      ],
      "source": "\"4\" + 5",
      "start_time": "2019-07-08T14:35:51.305Z"
     },
     {
      "end_time": "2019-07-08T14:35:51.376Z",
      "execution_time": "71ms",
      "outputs": [
       {
        "ename": "TypeError",
        "evalue": "cannot concatenate 'str' and 'int' objects",
        "output_type": "error",
        "traceback": [
         "\u001b[0;31m---------------------------------------------------------------------------\u001b[0m",
         "\u001b[0;31mTypeError\u001b[0m                                 Traceback (most recent call last)",
         "\u001b[0;32m<ipython-input-21-42fa82f3c420>\u001b[0m in \u001b[0;36m<module>\u001b[0;34m()\u001b[0m\n\u001b[0;32m----> 1\u001b[0;31m \u001b[0;34m\"4\"\u001b[0m \u001b[0;34m+\u001b[0m \u001b[0;36m5\u001b[0m\u001b[0;34m\u001b[0m\u001b[0m\n\u001b[0m",
         "\u001b[0;31mTypeError\u001b[0m: cannot concatenate 'str' and 'int' objects"
        ]
       }
      ],
      "source": "\"4\" + 5",
      "start_time": "2019-07-08T14:35:51.305Z"
     }
    ]
   },
   "outputs": [
    {
     "ename": "TypeError",
     "evalue": "cannot concatenate 'str' and 'int' objects",
     "output_type": "error",
     "traceback": [
      "\u001b[0;31m---------------------------------------------------------------------------\u001b[0m",
      "\u001b[0;31mTypeError\u001b[0m                                 Traceback (most recent call last)",
      "\u001b[0;32m<ipython-input-21-42fa82f3c420>\u001b[0m in \u001b[0;36m<module>\u001b[0;34m()\u001b[0m\n\u001b[0;32m----> 1\u001b[0;31m \u001b[0;34m\"4\"\u001b[0m \u001b[0;34m+\u001b[0m \u001b[0;36m5\u001b[0m\u001b[0;34m\u001b[0m\u001b[0m\n\u001b[0m",
      "\u001b[0;31mTypeError\u001b[0m: cannot concatenate 'str' and 'int' objects"
     ]
    }
   ],
   "source": [
    "\"4\" + 5"
   ]
  },
  {
   "cell_type": "code",
   "execution_count": null,
   "metadata": {
    "ExecutionTime": {
     "end_time": "2019-07-08T14:35:51.378518Z"
    },
    "provenance": [
     {
      "end_time": "Unknown",
      "execution_time": "Unknown",
      "outputs": [
       {
        "ename": "TypeError",
        "evalue": "unsupported operand type(s) for +: 'int' and 'str'",
        "output_type": "error",
        "traceback": [
         "\u001b[1;31m---------------------------------------------------------------------------\u001b[0m\n\u001b[1;31mTypeError\u001b[0m                                 Traceback (most recent call last)",
         "\u001b[1;32m<ipython-input-62-871c0c3bbca2>\u001b[0m in \u001b[0;36m<module>\u001b[1;34m()\u001b[0m\n\u001b[1;32m----> 1\u001b[1;33m \u001b[1;36m4\u001b[0m \u001b[1;33m+\u001b[0m \u001b[1;34m\"5\"\u001b[0m\u001b[1;33m\u001b[0m\u001b[0m\n\u001b[0m",
         "\u001b[1;31mTypeError\u001b[0m: unsupported operand type(s) for +: 'int' and 'str'"
        ]
       }
      ],
      "source": "4 + \"5\"",
      "start_time": "Unknown"
     },
     {
      "end_time": "2019-07-08T14:35:51.378Z",
      "execution_time": "-381ms",
      "outputs": [],
      "source": "4 + \"5\"",
      "start_time": "2019-07-08T14:35:51.759Z"
     },
     {
      "end_time": "2019-07-08T14:35:51.378Z",
      "execution_time": "-381ms",
      "outputs": [],
      "source": "4 + \"5\"",
      "start_time": "2019-07-08T14:35:51.759Z"
     }
    ]
   },
   "outputs": [],
   "source": [
    "4 + \"5\""
   ]
  },
  {
   "cell_type": "markdown",
   "metadata": {
    "provenance": [
     {
      "last_modified": "2018-06-12T08:34:10.000Z",
      "source": "### Comparisons"
     }
    ]
   },
   "source": [
    "### Comparisons"
   ]
  },
  {
   "cell_type": "code",
   "execution_count": null,
   "metadata": {
    "ExecutionTime": {
     "end_time": "2019-07-08T14:35:51.381049Z"
    },
    "provenance": [
     {
      "end_time": "Unknown",
      "execution_time": "Unknown",
      "outputs": [
       {
        "data": {
         "text/plain": "False"
        },
        "execution_count": 63,
        "metadata": {},
        "output_type": "execute_result"
       }
      ],
      "source": "5 < 4",
      "start_time": "Unknown"
     },
     {
      "end_time": "2019-07-08T14:35:51.381Z",
      "execution_time": "-380ms",
      "outputs": [],
      "source": "5 < 4",
      "start_time": "2019-07-08T14:35:51.761Z"
     },
     {
      "end_time": "2019-07-08T14:35:51.381Z",
      "execution_time": "-380ms",
      "outputs": [],
      "source": "5 < 4",
      "start_time": "2019-07-08T14:35:51.761Z"
     }
    ]
   },
   "outputs": [],
   "source": [
    "5 < 4"
   ]
  },
  {
   "cell_type": "code",
   "execution_count": null,
   "metadata": {
    "ExecutionTime": {
     "end_time": "2019-07-08T14:35:51.383261Z"
    },
    "provenance": [
     {
      "end_time": "Unknown",
      "execution_time": "Unknown",
      "outputs": [
       {
        "data": {
         "text/plain": "True"
        },
        "execution_count": 64,
        "metadata": {},
        "output_type": "execute_result"
       }
      ],
      "source": "5 > 4",
      "start_time": "Unknown"
     },
     {
      "end_time": "2019-07-08T14:35:51.383Z",
      "execution_time": "-380ms",
      "outputs": [],
      "source": "5 > 4",
      "start_time": "2019-07-08T14:35:51.763Z"
     },
     {
      "end_time": "2019-07-08T14:35:51.383Z",
      "execution_time": "-380ms",
      "outputs": [],
      "source": "5 > 4",
      "start_time": "2019-07-08T14:35:51.763Z"
     }
    ]
   },
   "outputs": [],
   "source": [
    "5 > 4"
   ]
  },
  {
   "cell_type": "code",
   "execution_count": null,
   "metadata": {
    "ExecutionTime": {
     "end_time": "2019-07-08T14:35:51.385423Z"
    },
    "provenance": [
     {
      "end_time": "Unknown",
      "execution_time": "Unknown",
      "outputs": [
       {
        "data": {
         "text/plain": "True"
        },
        "execution_count": 65,
        "metadata": {},
        "output_type": "execute_result"
       }
      ],
      "source": "5 >= 4",
      "start_time": "Unknown"
     },
     {
      "end_time": "2019-07-08T14:35:51.385Z",
      "execution_time": "-389ms",
      "outputs": [],
      "source": "5 >= 4",
      "start_time": "2019-07-08T14:35:51.774Z"
     },
     {
      "end_time": "2019-07-08T14:35:51.385Z",
      "execution_time": "-389ms",
      "outputs": [],
      "source": "5 >= 4",
      "start_time": "2019-07-08T14:35:51.774Z"
     }
    ]
   },
   "outputs": [],
   "source": [
    "5 >= 4"
   ]
  },
  {
   "cell_type": "code",
   "execution_count": null,
   "metadata": {
    "ExecutionTime": {
     "end_time": "2019-07-08T14:35:51.387711Z"
    },
    "provenance": [
     {
      "end_time": "Unknown",
      "execution_time": "Unknown",
      "outputs": [
       {
        "data": {
         "text/plain": "True"
        },
        "execution_count": 66,
        "metadata": {},
        "output_type": "execute_result"
       }
      ],
      "source": "4 >= 4",
      "start_time": "Unknown"
     },
     {
      "end_time": "2019-07-08T14:35:51.387Z",
      "execution_time": "-388ms",
      "outputs": [],
      "source": "4 >= 4",
      "start_time": "2019-07-08T14:35:51.775Z"
     },
     {
      "end_time": "2019-07-08T14:35:51.387Z",
      "execution_time": "-388ms",
      "outputs": [],
      "source": "4 >= 4",
      "start_time": "2019-07-08T14:35:51.775Z"
     }
    ]
   },
   "outputs": [],
   "source": [
    "4 >= 4"
   ]
  },
  {
   "cell_type": "code",
   "execution_count": null,
   "metadata": {
    "ExecutionTime": {
     "end_time": "2019-07-08T14:35:51.389965Z"
    },
    "provenance": [
     {
      "end_time": "Unknown",
      "execution_time": "Unknown",
      "outputs": [
       {
        "data": {
         "text/plain": "False"
        },
        "execution_count": 73,
        "metadata": {},
        "output_type": "execute_result"
       }
      ],
      "source": "4 <= 3",
      "start_time": "Unknown"
     },
     {
      "end_time": "2019-07-08T14:35:51.389Z",
      "execution_time": "-388ms",
      "outputs": [],
      "source": "4 <= 3",
      "start_time": "2019-07-08T14:35:51.777Z"
     },
     {
      "end_time": "2019-07-08T14:35:51.389Z",
      "execution_time": "-388ms",
      "outputs": [],
      "source": "4 <= 3",
      "start_time": "2019-07-08T14:35:51.777Z"
     }
    ]
   },
   "outputs": [],
   "source": [
    "4 <= 3"
   ]
  },
  {
   "cell_type": "code",
   "execution_count": null,
   "metadata": {
    "ExecutionTime": {
     "end_time": "2019-07-08T14:35:51.392268Z"
    },
    "provenance": [
     {
      "end_time": "Unknown",
      "execution_time": "Unknown",
      "outputs": [
       {
        "data": {
         "text/plain": "False"
        },
        "execution_count": 67,
        "metadata": {},
        "output_type": "execute_result"
       }
      ],
      "source": "5 == 4",
      "start_time": "Unknown"
     },
     {
      "end_time": "2019-07-08T14:35:51.392Z",
      "execution_time": "-387ms",
      "outputs": [],
      "source": "5 == 4",
      "start_time": "2019-07-08T14:35:51.779Z"
     },
     {
      "end_time": "2019-07-08T14:35:51.392Z",
      "execution_time": "-387ms",
      "outputs": [],
      "source": "5 == 4",
      "start_time": "2019-07-08T14:35:51.779Z"
     }
    ]
   },
   "outputs": [],
   "source": [
    "5 == 4"
   ]
  },
  {
   "cell_type": "code",
   "execution_count": null,
   "metadata": {
    "ExecutionTime": {
     "end_time": "2019-07-08T14:35:51.394797Z"
    },
    "provenance": [
     {
      "end_time": "Unknown",
      "execution_time": "Unknown",
      "outputs": [
       {
        "data": {
         "text/plain": "True"
        },
        "execution_count": 68,
        "metadata": {},
        "output_type": "execute_result"
       }
      ],
      "source": "5 == 5.0",
      "start_time": "Unknown"
     },
     {
      "end_time": "2019-07-08T14:35:51.394Z",
      "execution_time": "-390ms",
      "outputs": [],
      "source": "5 == 5.0",
      "start_time": "2019-07-08T14:35:51.784Z"
     },
     {
      "end_time": "2019-07-08T14:35:51.394Z",
      "execution_time": "-391ms",
      "outputs": [],
      "source": "5 == 5.0",
      "start_time": "2019-07-08T14:35:51.785Z"
     }
    ]
   },
   "outputs": [],
   "source": [
    "5 == 5.0"
   ]
  },
  {
   "cell_type": "code",
   "execution_count": null,
   "metadata": {
    "ExecutionTime": {
     "end_time": "2019-07-08T14:35:51.397570Z"
    },
    "provenance": [
     {
      "end_time": "Unknown",
      "execution_time": "Unknown",
      "outputs": [
       {
        "data": {
         "text/plain": "False"
        },
        "execution_count": 69,
        "metadata": {},
        "output_type": "execute_result"
       }
      ],
      "source": "5 == \"5\"",
      "start_time": "Unknown"
     },
     {
      "end_time": "2019-07-08T14:35:51.397Z",
      "execution_time": "-393ms",
      "outputs": [],
      "source": "5 == \"5\"",
      "start_time": "2019-07-08T14:35:51.790Z"
     },
     {
      "end_time": "2019-07-08T14:35:51.397Z",
      "execution_time": "-394ms",
      "outputs": [],
      "source": "5 == \"5\"",
      "start_time": "2019-07-08T14:35:51.791Z"
     }
    ]
   },
   "outputs": [],
   "source": [
    "5 == \"5\""
   ]
  },
  {
   "cell_type": "code",
   "execution_count": null,
   "metadata": {
    "ExecutionTime": {
     "end_time": "2019-07-08T14:35:51.400221Z"
    },
    "provenance": [
     {
      "end_time": "Unknown",
      "execution_time": "Unknown",
      "outputs": [
       {
        "data": {
         "text/plain": "True"
        },
        "execution_count": 70,
        "metadata": {},
        "output_type": "execute_result"
       }
      ],
      "source": "5 != 4",
      "start_time": "Unknown"
     },
     {
      "end_time": "2019-07-08T14:35:51.400Z",
      "execution_time": "-392ms",
      "outputs": [],
      "source": "5 != 4",
      "start_time": "2019-07-08T14:35:51.792Z"
     },
     {
      "end_time": "2019-07-08T14:35:51.400Z",
      "execution_time": "-394ms",
      "outputs": [],
      "source": "5 != 4",
      "start_time": "2019-07-08T14:35:51.794Z"
     }
    ]
   },
   "outputs": [],
   "source": [
    "5 != 4"
   ]
  },
  {
   "cell_type": "code",
   "execution_count": null,
   "metadata": {
    "ExecutionTime": {
     "end_time": "2019-07-08T14:35:51.402531Z"
    },
    "provenance": [
     {
      "end_time": "Unknown",
      "execution_time": "Unknown",
      "outputs": [
       {
        "data": {
         "text/plain": "True"
        },
        "execution_count": 71,
        "metadata": {},
        "output_type": "execute_result"
       }
      ],
      "source": "2 + 2 == 4",
      "start_time": "Unknown"
     },
     {
      "end_time": "2019-07-08T14:35:51.402Z",
      "execution_time": "-394ms",
      "outputs": [],
      "source": "2 + 2 == 4",
      "start_time": "2019-07-08T14:35:51.796Z"
     },
     {
      "end_time": "2019-07-08T14:35:51.402Z",
      "execution_time": "-394ms",
      "outputs": [],
      "source": "2 + 2 == 4",
      "start_time": "2019-07-08T14:35:51.796Z"
     }
    ]
   },
   "outputs": [],
   "source": [
    "2 + 2 == 4"
   ]
  },
  {
   "cell_type": "code",
   "execution_count": null,
   "metadata": {
    "ExecutionTime": {
     "end_time": "2019-07-08T14:35:51.406252Z"
    },
    "provenance": [
     {
      "end_time": "Unknown",
      "execution_time": "Unknown",
      "outputs": [
       {
        "ename": "SyntaxError",
        "evalue": "invalid syntax (<ipython-input-72-76c8f045e4cf>, line 1)",
        "output_type": "error",
        "traceback": [
         "\u001b[1;36m  File \u001b[1;32m\"<ipython-input-72-76c8f045e4cf>\"\u001b[1;36m, line \u001b[1;32m1\u001b[0m\n\u001b[1;33m    2 => 3\u001b[0m\n\u001b[1;37m       ^\u001b[0m\n\u001b[1;31mSyntaxError\u001b[0m\u001b[1;31m:\u001b[0m invalid syntax\n"
        ]
       }
      ],
      "source": "2 => 3",
      "start_time": "Unknown"
     },
     {
      "end_time": "2019-07-08T14:35:51.406Z",
      "execution_time": "-392ms",
      "outputs": [],
      "source": "2 => 3",
      "start_time": "2019-07-08T14:35:51.798Z"
     },
     {
      "end_time": "2019-07-08T14:35:51.406Z",
      "execution_time": "-392ms",
      "outputs": [],
      "source": "2 => 3",
      "start_time": "2019-07-08T14:35:51.798Z"
     }
    ]
   },
   "outputs": [],
   "source": [
    "2 => 3"
   ]
  },
  {
   "cell_type": "code",
   "execution_count": null,
   "metadata": {
    "ExecutionTime": {
     "end_time": "2019-07-08T14:35:51.409693Z"
    },
    "provenance": [
     {
      "end_time": "Unknown",
      "execution_time": "Unknown",
      "outputs": [
       {
        "name": "stdout",
        "output_type": "stream",
        "text": "0.3333333333333333\n"
       },
       {
        "data": {
         "text/plain": "True"
        },
        "execution_count": 77,
        "metadata": {},
        "output_type": "execute_result"
       }
      ],
      "source": "x = 1 / 3 \nprint(x)\nx == 0.3333333333333333",
      "start_time": "Unknown"
     },
     {
      "end_time": "2019-07-08T14:35:51.409Z",
      "execution_time": "-394ms",
      "outputs": [],
      "source": "x = 1 / 3 \nprint(x)\nx == 0.3333333333333333",
      "start_time": "2019-07-08T14:35:51.803Z"
     },
     {
      "end_time": "2019-07-08T14:35:51.409Z",
      "execution_time": "-394ms",
      "outputs": [],
      "source": "x = 1 / 3 \nprint(x)\nx == 0.3333333333333333",
      "start_time": "2019-07-08T14:35:51.803Z"
     }
    ]
   },
   "outputs": [],
   "source": [
    "x = 1 / 3 \n",
    "print(x)\n",
    "x == 0.3333333333333333"
   ]
  },
  {
   "cell_type": "markdown",
   "metadata": {
    "provenance": [
     {
      "last_modified": "2018-06-12T08:34:10.000Z",
      "source": "### Logical operators"
     }
    ]
   },
   "source": [
    "### Logical operators"
   ]
  },
  {
   "cell_type": "markdown",
   "metadata": {
    "provenance": [
     {
      "last_modified": "2018-06-12T08:34:10.000Z",
      "source": "* not:"
     }
    ]
   },
   "source": [
    "* not:"
   ]
  },
  {
   "cell_type": "code",
   "execution_count": null,
   "metadata": {
    "ExecutionTime": {
     "end_time": "2019-07-08T14:35:51.412190Z"
    },
    "provenance": [
     {
      "end_time": "Unknown",
      "execution_time": "Unknown",
      "outputs": [
       {
        "name": "stdout",
        "output_type": "stream",
        "text": "False\nTrue\n"
       }
      ],
      "source": "print(not True)\na = 2 == 5\nprint(not a)",
      "start_time": "Unknown"
     },
     {
      "end_time": "2019-07-08T14:35:51.412Z",
      "execution_time": "-393ms",
      "outputs": [],
      "source": "print(not True)\na = 2 == 5\nprint(not a)",
      "start_time": "2019-07-08T14:35:51.805Z"
     },
     {
      "end_time": "2019-07-08T14:35:51.412Z",
      "execution_time": "-394ms",
      "outputs": [],
      "source": "print(not True)\na = 2 == 5\nprint(not a)",
      "start_time": "2019-07-08T14:35:51.806Z"
     }
    ]
   },
   "outputs": [],
   "source": [
    "print(not True)\n",
    "a = 2 == 5\n",
    "print(not a)"
   ]
  },
  {
   "cell_type": "markdown",
   "metadata": {
    "provenance": [
     {
      "last_modified": "2018-06-12T08:34:10.000Z",
      "source": "* and:"
     }
    ]
   },
   "source": [
    "* and:"
   ]
  },
  {
   "cell_type": "code",
   "execution_count": null,
   "metadata": {
    "ExecutionTime": {
     "end_time": "2019-07-08T14:35:51.414241Z"
    },
    "provenance": [
     {
      "end_time": "Unknown",
      "execution_time": "Unknown",
      "outputs": [
       {
        "data": {
         "text/plain": "True"
        },
        "execution_count": 84,
        "metadata": {},
        "output_type": "execute_result"
       }
      ],
      "source": "True and True",
      "start_time": "Unknown"
     },
     {
      "end_time": "2019-07-08T14:35:51.414Z",
      "execution_time": "-394ms",
      "outputs": [],
      "source": "True and True",
      "start_time": "2019-07-08T14:35:51.808Z"
     },
     {
      "end_time": "2019-07-08T14:35:51.414Z",
      "execution_time": "-394ms",
      "outputs": [],
      "source": "True and True",
      "start_time": "2019-07-08T14:35:51.808Z"
     }
    ]
   },
   "outputs": [],
   "source": [
    "True and True"
   ]
  },
  {
   "cell_type": "code",
   "execution_count": null,
   "metadata": {
    "ExecutionTime": {
     "end_time": "2019-07-08T14:35:51.416715Z"
    },
    "provenance": [
     {
      "end_time": "Unknown",
      "execution_time": "Unknown",
      "outputs": [
       {
        "data": {
         "text/plain": "False"
        },
        "execution_count": 85,
        "metadata": {},
        "output_type": "execute_result"
       }
      ],
      "source": "True and False",
      "start_time": "Unknown"
     },
     {
      "end_time": "2019-07-08T14:35:51.416Z",
      "execution_time": "-393ms",
      "outputs": [],
      "source": "True and False",
      "start_time": "2019-07-08T14:35:51.809Z"
     },
     {
      "end_time": "2019-07-08T14:35:51.416Z",
      "execution_time": "-394ms",
      "outputs": [],
      "source": "True and False",
      "start_time": "2019-07-08T14:35:51.810Z"
     }
    ]
   },
   "outputs": [],
   "source": [
    "True and False"
   ]
  },
  {
   "cell_type": "code",
   "execution_count": null,
   "metadata": {
    "ExecutionTime": {
     "end_time": "2019-07-08T14:35:51.419913Z"
    },
    "provenance": [
     {
      "end_time": "Unknown",
      "execution_time": "Unknown",
      "outputs": [
       {
        "data": {
         "text/plain": "False"
        },
        "execution_count": 86,
        "metadata": {},
        "output_type": "execute_result"
       }
      ],
      "source": "False and False",
      "start_time": "Unknown"
     },
     {
      "end_time": "2019-07-08T14:35:51.419Z",
      "execution_time": "-392ms",
      "outputs": [],
      "source": "False and False",
      "start_time": "2019-07-08T14:35:51.811Z"
     },
     {
      "end_time": "2019-07-08T14:35:51.419Z",
      "execution_time": "-392ms",
      "outputs": [],
      "source": "False and False",
      "start_time": "2019-07-08T14:35:51.811Z"
     }
    ]
   },
   "outputs": [],
   "source": [
    "False and False"
   ]
  },
  {
   "cell_type": "markdown",
   "metadata": {
    "provenance": [
     {
      "last_modified": "2018-06-12T08:34:10.000Z",
      "source": "* or:"
     }
    ]
   },
   "source": [
    "* or:"
   ]
  },
  {
   "cell_type": "code",
   "execution_count": null,
   "metadata": {
    "ExecutionTime": {
     "end_time": "2019-07-08T14:35:51.422670Z"
    },
    "provenance": [
     {
      "end_time": "Unknown",
      "execution_time": "Unknown",
      "outputs": [
       {
        "data": {
         "text/plain": "True"
        },
        "execution_count": 87,
        "metadata": {},
        "output_type": "execute_result"
       }
      ],
      "source": "True or True",
      "start_time": "Unknown"
     },
     {
      "end_time": "2019-07-08T14:35:51.422Z",
      "execution_time": "-391ms",
      "outputs": [],
      "source": "True or True",
      "start_time": "2019-07-08T14:35:51.813Z"
     },
     {
      "end_time": "2019-07-08T14:35:51.422Z",
      "execution_time": "-391ms",
      "outputs": [],
      "source": "True or True",
      "start_time": "2019-07-08T14:35:51.813Z"
     }
    ]
   },
   "outputs": [],
   "source": [
    "True or True"
   ]
  },
  {
   "cell_type": "code",
   "execution_count": null,
   "metadata": {
    "ExecutionTime": {
     "end_time": "2019-07-08T14:35:51.424854Z"
    },
    "provenance": [
     {
      "end_time": "Unknown",
      "execution_time": "Unknown",
      "outputs": [
       {
        "data": {
         "text/plain": "True"
        },
        "execution_count": 88,
        "metadata": {},
        "output_type": "execute_result"
       }
      ],
      "source": "True or False",
      "start_time": "Unknown"
     },
     {
      "end_time": "2019-07-08T14:35:51.424Z",
      "execution_time": "-399ms",
      "outputs": [],
      "source": "True or False",
      "start_time": "2019-07-08T14:35:51.823Z"
     },
     {
      "end_time": "2019-07-08T14:35:51.424Z",
      "execution_time": "-399ms",
      "outputs": [],
      "source": "True or False",
      "start_time": "2019-07-08T14:35:51.823Z"
     }
    ]
   },
   "outputs": [],
   "source": [
    "True or False"
   ]
  },
  {
   "cell_type": "markdown",
   "metadata": {
    "provenance": [
     {
      "last_modified": "2018-06-12T08:34:10.000Z",
      "source": "## Conversions"
     }
    ]
   },
   "source": [
    "## Conversions"
   ]
  },
  {
   "cell_type": "markdown",
   "metadata": {
    "provenance": [
     {
      "last_modified": "2018-06-12T08:34:10.000Z",
      "source": "Use the functions `int()`, `float()`, and `str()` to convert between types (we will talk about *functions* next time):"
     }
    ]
   },
   "source": [
    "Use the functions `int()`, `float()`, and `str()` to convert between types (we will talk about *functions* next time):"
   ]
  },
  {
   "cell_type": "code",
   "execution_count": null,
   "metadata": {
    "ExecutionTime": {
     "end_time": "2019-07-08T14:35:51.427046Z"
    },
    "provenance": [
     {
      "end_time": "Unknown",
      "execution_time": "Unknown",
      "outputs": [
       {
        "name": "stdout",
        "output_type": "stream",
        "text": "6 <class 'str'>\n6 <class 'int'>\n"
       }
      ],
      "source": "x = \"6\"\nprint(x, type(x))\nx = int(\"6\")\nprint(x, type(x))",
      "start_time": "Unknown"
     },
     {
      "end_time": "2019-07-08T14:35:51.427Z",
      "execution_time": "-397ms",
      "outputs": [],
      "source": "x = \"6\"\nprint(x, type(x))\nx = int(\"6\")\nprint(x, type(x))",
      "start_time": "2019-07-08T14:35:51.824Z"
     },
     {
      "end_time": "2019-07-08T14:35:51.427Z",
      "execution_time": "-397ms",
      "outputs": [],
      "source": "x = \"6\"\nprint(x, type(x))\nx = int(\"6\")\nprint(x, type(x))",
      "start_time": "2019-07-08T14:35:51.824Z"
     }
    ]
   },
   "outputs": [],
   "source": [
    "x = \"6\"\n",
    "print(x, type(x))\n",
    "x = int(\"6\")\n",
    "print(x, type(x))"
   ]
  },
  {
   "cell_type": "code",
   "execution_count": null,
   "metadata": {
    "ExecutionTime": {
     "end_time": "2019-07-08T14:35:51.429255Z"
    },
    "provenance": [
     {
      "end_time": "Unknown",
      "execution_time": "Unknown",
      "outputs": [
       {
        "data": {
         "text/plain": "1.25"
        },
        "execution_count": 92,
        "metadata": {},
        "output_type": "execute_result"
       }
      ],
      "source": "float(\"1.25\")",
      "start_time": "Unknown"
     },
     {
      "end_time": "2019-07-08T14:35:51.429Z",
      "execution_time": "-396ms",
      "outputs": [],
      "source": "float(\"1.25\")",
      "start_time": "2019-07-08T14:35:51.825Z"
     },
     {
      "end_time": "2019-07-08T14:35:51.429Z",
      "execution_time": "-397ms",
      "outputs": [],
      "source": "float(\"1.25\")",
      "start_time": "2019-07-08T14:35:51.826Z"
     }
    ]
   },
   "outputs": [],
   "source": [
    "float(\"1.25\")"
   ]
  },
  {
   "cell_type": "code",
   "execution_count": null,
   "metadata": {
    "ExecutionTime": {
     "end_time": "2019-07-08T14:35:51.431640Z"
    },
    "provenance": [
     {
      "end_time": "Unknown",
      "execution_time": "Unknown",
      "outputs": [
       {
        "data": {
         "text/plain": "'4'"
        },
        "execution_count": 93,
        "metadata": {},
        "output_type": "execute_result"
       }
      ],
      "source": "str(4)",
      "start_time": "Unknown"
     },
     {
      "end_time": "2019-07-08T14:35:51.431Z",
      "execution_time": "-396ms",
      "outputs": [],
      "source": "str(4)",
      "start_time": "2019-07-08T14:35:51.827Z"
     },
     {
      "end_time": "2019-07-08T14:35:51.431Z",
      "execution_time": "-396ms",
      "outputs": [],
      "source": "str(4)",
      "start_time": "2019-07-08T14:35:51.827Z"
     }
    ]
   },
   "outputs": [],
   "source": [
    "str(4)"
   ]
  },
  {
   "cell_type": "code",
   "execution_count": null,
   "metadata": {
    "ExecutionTime": {
     "end_time": "2019-07-08T14:35:51.433880Z"
    },
    "provenance": [
     {
      "end_time": "Unknown",
      "execution_time": "Unknown",
      "outputs": [
       {
        "ename": "ValueError",
        "evalue": "invalid literal for int() with base 10: 'a'",
        "output_type": "error",
        "traceback": [
         "\u001b[1;31m---------------------------------------------------------------------------\u001b[0m\n\u001b[1;31mValueError\u001b[0m                                Traceback (most recent call last)",
         "\u001b[1;32m<ipython-input-94-91097a4105a2>\u001b[0m in \u001b[0;36m<module>\u001b[1;34m()\u001b[0m\n\u001b[1;32m----> 1\u001b[1;33m \u001b[0mint\u001b[0m\u001b[1;33m(\u001b[0m\u001b[1;34m\"a\"\u001b[0m\u001b[1;33m)\u001b[0m\u001b[1;33m\u001b[0m\u001b[0m\n\u001b[0m",
         "\u001b[1;31mValueError\u001b[0m: invalid literal for int() with base 10: 'a'"
        ]
       }
      ],
      "source": "int(\"a\")",
      "start_time": "Unknown"
     },
     {
      "end_time": "2019-07-08T14:35:51.433Z",
      "execution_time": "-396ms",
      "outputs": [],
      "source": "int(\"a\")",
      "start_time": "2019-07-08T14:35:51.829Z"
     },
     {
      "end_time": "2019-07-08T14:35:51.433Z",
      "execution_time": "-396ms",
      "outputs": [],
      "source": "int(\"a\")",
      "start_time": "2019-07-08T14:35:51.829Z"
     }
    ]
   },
   "outputs": [],
   "source": [
    "int(\"a\")"
   ]
  },
  {
   "cell_type": "code",
   "execution_count": null,
   "metadata": {
    "ExecutionTime": {
     "end_time": "2019-07-08T14:35:51.441494Z"
    },
    "provenance": [
     {
      "end_time": "Unknown",
      "execution_time": "Unknown",
      "outputs": [
       {
        "name": "stdout",
        "output_type": "stream",
        "text": "intro2cs\nintro2cs\n"
       }
      ],
      "source": "course = \"intro\" + str(2) + \"cs\"\nprint(course)\nprint(\"intro\", 2, \"cs\", sep='')",
      "start_time": "Unknown"
     },
     {
      "end_time": "2019-07-08T14:35:51.441Z",
      "execution_time": "-391ms",
      "outputs": [],
      "source": "course = \"intro\" + str(2) + \"cs\"\nprint(course)\nprint(\"intro\", 2, \"cs\", sep='')",
      "start_time": "2019-07-08T14:35:51.832Z"
     },
     {
      "end_time": "2019-07-08T14:35:51.441Z",
      "execution_time": "-392ms",
      "outputs": [],
      "source": "course = \"intro\" + str(2) + \"cs\"\nprint(course)\nprint(\"intro\", 2, \"cs\", sep='')",
      "start_time": "2019-07-08T14:35:51.833Z"
     }
    ]
   },
   "outputs": [],
   "source": [
    "course = \"intro\" + str(2) + \"cs\"\n",
    "print(course)\n",
    "print(\"intro\", 2, \"cs\", sep='')"
   ]
  },
  {
   "cell_type": "markdown",
   "metadata": {
    "provenance": [
     {
      "last_modified": "2018-06-12T08:34:10.000Z",
      "source": "## Flow control"
     }
    ]
   },
   "source": [
    "## Flow control"
   ]
  },
  {
   "cell_type": "markdown",
   "metadata": {
    "provenance": [
     {
      "last_modified": "2018-06-12T08:34:10.000Z",
      "source": "### Conditional statements"
     }
    ]
   },
   "source": [
    "### Conditional statements"
   ]
  },
  {
   "cell_type": "markdown",
   "metadata": {
    "provenance": [
     {
      "last_modified": "2018-06-12T08:34:10.000Z",
      "source": "The `if` condition formula - replace conditions and statements with meaningful code:\n\n    if *condition*:\n        *statement*\n        *statement*\n        ...\n    elif *condition*: # 0 or more elif clauses\n        *statement*\n        *statement*\n        ...    \n    else:             # optional\n        *statement*\n        *statement*\n\nExample:"
     }
    ]
   },
   "source": [
    "The `if` condition formula - replace conditions and statements with meaningful code:\n",
    "\n",
    "    if *condition*:\n",
    "        *statement*\n",
    "        *statement*\n",
    "        ...\n",
    "    elif *condition*: # 0 or more elif clauses\n",
    "        *statement*\n",
    "        *statement*\n",
    "        ...    \n",
    "    else:             # optional\n",
    "        *statement*\n",
    "        *statement*\n",
    "\n",
    "Example:"
   ]
  },
  {
   "cell_type": "code",
   "execution_count": null,
   "metadata": {
    "ExecutionTime": {
     "end_time": "2019-07-08T14:35:51.448606Z"
    },
    "provenance": [
     {
      "end_time": "Unknown",
      "execution_time": "Unknown",
      "outputs": [
       {
        "name": "stdout",
        "output_type": "stream",
        "text": "Go to recitation!\n"
       }
      ],
      "source": "today = \"Monday\"\nstrike = \"N\"\nmy_recitation = \"Monday\"\n\nif today == \"Sunday\":\n    print(\"Shvizut Yom Alef\")\n    if strike == \"Y\":\n        print(\"Stay home\")\n    else:\n        print(\"Lecture in intro to CS!\")\nelif today == \"Wednesday\":\n    print(\"Another lecture in intro to CS!\")\nelif today == my_recitation:\n    print(\"Go to recitation!\")\nelif today == \"Monday\" or today == \"Tuesday\" or today == \"Thursday\" or \\\n                    today == \"Friday\" or today == \"Saturday\":\n    print(\"no intro to CS\")\nelse:\n    print(\"Not a day\")",
      "start_time": "Unknown"
     },
     {
      "end_time": "2019-07-08T14:35:51.448Z",
      "execution_time": "-387ms",
      "outputs": [],
      "source": "today = \"Monday\"\nstrike = \"N\"\nmy_recitation = \"Monday\"\n\nif today == \"Sunday\":\n    print(\"Shvizut Yom Alef\")\n    if strike == \"Y\":\n        print(\"Stay home\")\n    else:\n        print(\"Lecture in intro to CS!\")\nelif today == \"Wednesday\":\n    print(\"Another lecture in intro to CS!\")\nelif today == my_recitation:\n    print(\"Go to recitation!\")\nelif today == \"Monday\" or today == \"Tuesday\" or today == \"Thursday\" or \\\n                    today == \"Friday\" or today == \"Saturday\":\n    print(\"no intro to CS\")\nelse:\n    print(\"Not a day\")",
      "start_time": "2019-07-08T14:35:51.835Z"
     },
     {
      "end_time": "2019-07-08T14:35:51.448Z",
      "execution_time": "-387ms",
      "outputs": [],
      "source": "today = \"Monday\"\nstrike = \"N\"\nmy_recitation = \"Monday\"\n\nif today == \"Sunday\":\n    print(\"Shvizut Yom Alef\")\n    if strike == \"Y\":\n        print(\"Stay home\")\n    else:\n        print(\"Lecture in intro to CS!\")\nelif today == \"Wednesday\":\n    print(\"Another lecture in intro to CS!\")\nelif today == my_recitation:\n    print(\"Go to recitation!\")\nelif today == \"Monday\" or today == \"Tuesday\" or today == \"Thursday\" or \\\n                    today == \"Friday\" or today == \"Saturday\":\n    print(\"no intro to CS\")\nelse:\n    print(\"Not a day\")",
      "start_time": "2019-07-08T14:35:51.835Z"
     }
    ]
   },
   "outputs": [],
   "source": [
    "today = \"Monday\"\n",
    "strike = \"N\"\n",
    "my_recitation = \"Monday\"\n",
    "\n",
    "if today == \"Sunday\":\n",
    "    print(\"Shvizut Yom Alef\")\n",
    "    if strike == \"Y\":\n",
    "        print(\"Stay home\")\n",
    "    else:\n",
    "        print(\"Lecture in intro to CS!\")\n",
    "elif today == \"Wednesday\":\n",
    "    print(\"Another lecture in intro to CS!\")\n",
    "elif today == my_recitation:\n",
    "    print(\"Go to recitation!\")\n",
    "elif today == \"Monday\" or today == \"Tuesday\" or today == \"Thursday\" or \\\n",
    "                    today == \"Friday\" or today == \"Saturday\":\n",
    "    print(\"no intro to CS\")\n",
    "else:\n",
    "    print(\"Not a day\")"
   ]
  },
  {
   "cell_type": "markdown",
   "metadata": {
    "provenance": [
     {
      "last_modified": "2018-06-12T08:34:10.000Z",
      "source": "### Loops"
     }
    ]
   },
   "source": [
    "### Loops"
   ]
  },
  {
   "cell_type": "markdown",
   "metadata": {
    "provenance": [
     {
      "last_modified": "2018-06-12T08:34:10.000Z",
      "source": "* While:"
     }
    ]
   },
   "source": [
    "* While:"
   ]
  },
  {
   "cell_type": "markdown",
   "metadata": {
    "provenance": [
     {
      "last_modified": "2018-06-12T08:34:10.000Z",
      "source": "    while *condition*:\n        *statement*\n        *statement*\n\nExample - count how many times 0 appears in an integer number:"
     }
    ]
   },
   "source": [
    "    while *condition*:\n",
    "        *statement*\n",
    "        *statement*\n",
    "\n",
    "Example - count how many times 0 appears in an integer number:"
   ]
  },
  {
   "cell_type": "code",
   "execution_count": null,
   "metadata": {
    "ExecutionTime": {
     "end_time": "2019-07-08T14:35:51.450807Z"
    },
    "provenance": [
     {
      "end_time": "Unknown",
      "execution_time": "Unknown",
      "outputs": [
       {
        "name": "stdout",
        "output_type": "stream",
        "text": "1267650600228229401496703205376\n"
       }
      ],
      "source": "num = 2**100\nprint(num)",
      "start_time": "Unknown"
     },
     {
      "end_time": "2019-07-08T14:35:51.450Z",
      "execution_time": "-387ms",
      "outputs": [],
      "source": "num = 2**100\nprint(num)",
      "start_time": "2019-07-08T14:35:51.837Z"
     },
     {
      "end_time": "2019-07-08T14:35:51.450Z",
      "execution_time": "-387ms",
      "outputs": [],
      "source": "num = 2**100\nprint(num)",
      "start_time": "2019-07-08T14:35:51.837Z"
     }
    ]
   },
   "outputs": [],
   "source": [
    "num = 2**100\n",
    "print(num)"
   ]
  },
  {
   "cell_type": "code",
   "execution_count": null,
   "metadata": {
    "ExecutionTime": {
     "end_time": "2019-07-08T14:35:51.457336Z"
    },
    "provenance": [
     {
      "end_time": "Unknown",
      "execution_time": "Unknown",
      "outputs": [
       {
        "name": "stdout",
        "output_type": "stream",
        "text": "6\n"
       }
      ],
      "source": "count = 0\n\nwhile num > 0:   #what if we changed to >=0?\n    if num % 10 == 0:\n        count = count + 1\n    num = num // 10\n\nprint(count)",
      "start_time": "Unknown"
     },
     {
      "end_time": "2019-07-08T14:35:51.457Z",
      "execution_time": "-383ms",
      "outputs": [],
      "source": "count = 0\n\nwhile num > 0:   #what if we changed to >=0?\n    if num % 10 == 0:\n        count = count + 1\n    num = num // 10\n\nprint(count)",
      "start_time": "2019-07-08T14:35:51.840Z"
     },
     {
      "end_time": "2019-07-08T14:35:51.457Z",
      "execution_time": "-384ms",
      "outputs": [],
      "source": "count = 0\n\nwhile num > 0:   #what if we changed to >=0?\n    if num % 10 == 0:\n        count = count + 1\n    num = num // 10\n\nprint(count)",
      "start_time": "2019-07-08T14:35:51.841Z"
     }
    ]
   },
   "outputs": [],
   "source": [
    "count = 0\n",
    "\n",
    "while num > 0:   #what if we changed to >=0?\n",
    "    if num % 10 == 0:\n",
    "        count = count + 1\n",
    "    num = num // 10\n",
    "\n",
    "print(count)"
   ]
  },
  {
   "cell_type": "markdown",
   "metadata": {
    "provenance": [
     {
      "last_modified": "2018-06-12T08:34:10.000Z",
      "source": "* For:"
     }
    ]
   },
   "source": [
    "* For:"
   ]
  },
  {
   "cell_type": "markdown",
   "metadata": {
    "provenance": [
     {
      "last_modified": "2018-06-12T08:34:10.000Z",
      "source": "    for *variable* in *iterable*:\n        *statement*\n        *statement*\n\nExample - solve the same problem with a `str` type instead of `int`:"
     }
    ]
   },
   "source": [
    "    for *variable* in *iterable*:\n",
    "        *statement*\n",
    "        *statement*\n",
    "\n",
    "Example - solve the same problem with a `str` type instead of `int`:"
   ]
  },
  {
   "cell_type": "code",
   "execution_count": null,
   "metadata": {
    "ExecutionTime": {
     "end_time": "2019-07-08T14:35:51.463024Z"
    },
    "provenance": [
     {
      "end_time": "Unknown",
      "execution_time": "Unknown",
      "outputs": [
       {
        "name": "stdout",
        "output_type": "stream",
        "text": "6\n"
       }
      ],
      "source": "num = 2**100\ncount = 0\nfor digit in str(num):\n    #print(digit, type(digit))\n    if digit == \"0\":\n        count = count + 1\n\nprint(count)",
      "start_time": "Unknown"
     },
     {
      "end_time": "2019-07-08T14:35:51.463Z",
      "execution_time": "-380ms",
      "outputs": [],
      "source": "num = 2**100\ncount = 0\nfor digit in str(num):\n    #print(digit, type(digit))\n    if digit == \"0\":\n        count = count + 1\n\nprint(count)",
      "start_time": "2019-07-08T14:35:51.843Z"
     },
     {
      "end_time": "2019-07-08T14:35:51.463Z",
      "execution_time": "-380ms",
      "outputs": [],
      "source": "num = 2**100\ncount = 0\nfor digit in str(num):\n    #print(digit, type(digit))\n    if digit == \"0\":\n        count = count + 1\n\nprint(count)",
      "start_time": "2019-07-08T14:35:51.843Z"
     }
    ]
   },
   "outputs": [],
   "source": [
    "num = 2**100\n",
    "count = 0\n",
    "for digit in str(num):\n",
    "    #print(digit, type(digit))\n",
    "    if digit == \"0\":\n",
    "        count = count + 1\n",
    "\n",
    "print(count)"
   ]
  },
  {
   "cell_type": "markdown",
   "metadata": {
    "provenance": [
     {
      "last_modified": "2018-06-12T08:34:10.000Z",
      "source": "Builtin solution:"
     }
    ]
   },
   "source": [
    "Builtin solution:"
   ]
  },
  {
   "cell_type": "code",
   "execution_count": null,
   "metadata": {
    "ExecutionTime": {
     "end_time": "2019-07-08T14:35:51.465638Z"
    },
    "provenance": [
     {
      "end_time": "Unknown",
      "execution_time": "Unknown",
      "outputs": [
       {
        "name": "stdout",
        "output_type": "stream",
        "text": "6\n"
       }
      ],
      "source": "num = 2**100\ncount = str.count(str(num), \"0\")\n\nprint(count)",
      "start_time": "Unknown"
     },
     {
      "end_time": "2019-07-08T14:35:51.465Z",
      "execution_time": "-379ms",
      "outputs": [],
      "source": "num = 2**100\ncount = str.count(str(num), \"0\")\n\nprint(count)",
      "start_time": "2019-07-08T14:35:51.844Z"
     },
     {
      "end_time": "2019-07-08T14:35:51.465Z",
      "execution_time": "-380ms",
      "outputs": [],
      "source": "num = 2**100\ncount = str.count(str(num), \"0\")\n\nprint(count)",
      "start_time": "2019-07-08T14:35:51.845Z"
     }
    ]
   },
   "outputs": [],
   "source": [
    "num = 2**100\n",
    "count = str.count(str(num), \"0\")\n",
    "\n",
    "print(count)"
   ]
  },
  {
   "cell_type": "markdown",
   "metadata": {
    "provenance": [
     {
      "last_modified": "2018-06-12T08:34:10.000Z",
      "source": "### Efficiency"
     }
    ]
   },
   "source": [
    "### Efficiency"
   ]
  },
  {
   "cell_type": "markdown",
   "metadata": {
    "provenance": [
     {
      "last_modified": "2018-06-12T08:34:10.000Z",
      "source": "We can measure which solution is faster:"
     }
    ]
   },
   "source": [
    "We can measure which solution is faster:"
   ]
  },
  {
   "cell_type": "code",
   "execution_count": null,
   "metadata": {
    "ExecutionTime": {
     "end_time": "2019-07-08T14:35:51.473121Z"
    },
    "provenance": [
     {
      "end_time": "Unknown",
      "execution_time": "Unknown",
      "outputs": [
       {
        "name": "stdout",
        "output_type": "stream",
        "text": "10000 loops, best of 3: 37.4 us per loop\n"
       }
      ],
      "source": "%%timeit\nnum = 2**100\ncount = 0\nwhile num>0:   #what if we changed to >=0?\n    if num % 10 == 0:\n        count = count + 1\n    num = num // 10",
      "start_time": "Unknown"
     },
     {
      "end_time": "2019-07-08T14:35:51.473Z",
      "execution_time": "-374ms",
      "outputs": [],
      "source": "%%timeit\nnum = 2**100\ncount = 0\nwhile num>0:   #what if we changed to >=0?\n    if num % 10 == 0:\n        count = count + 1\n    num = num // 10",
      "start_time": "2019-07-08T14:35:51.847Z"
     },
     {
      "end_time": "2019-07-08T14:35:51.473Z",
      "execution_time": "-374ms",
      "outputs": [],
      "source": "%%timeit\nnum = 2**100\ncount = 0\nwhile num>0:   #what if we changed to >=0?\n    if num % 10 == 0:\n        count = count + 1\n    num = num // 10",
      "start_time": "2019-07-08T14:35:51.847Z"
     }
    ]
   },
   "outputs": [],
   "source": [
    "%%timeit\n",
    "num = 2**100\n",
    "count = 0\n",
    "while num>0:   #what if we changed to >=0?\n",
    "    if num % 10 == 0:\n",
    "        count = count + 1\n",
    "    num = num // 10"
   ]
  },
  {
   "cell_type": "code",
   "execution_count": null,
   "metadata": {
    "ExecutionTime": {
     "end_time": "2019-07-08T14:35:51.475395Z"
    },
    "provenance": [
     {
      "end_time": "Unknown",
      "execution_time": "Unknown",
      "outputs": [
       {
        "name": "stdout",
        "output_type": "stream",
        "text": "100000 loops, best of 3: 8.76 us per loop\n"
       }
      ],
      "source": "%%timeit \nnum = 2**100\ncount = 0\nfor digit in str(num):\n    if digit == \"0\":\n        count = count + 1",
      "start_time": "Unknown"
     },
     {
      "end_time": "2019-07-08T14:35:51.475Z",
      "execution_time": "-374ms",
      "outputs": [],
      "source": "%%timeit \nnum = 2**100\ncount = 0\nfor digit in str(num):\n    if digit == \"0\":\n        count = count + 1",
      "start_time": "2019-07-08T14:35:51.849Z"
     },
     {
      "end_time": "2019-07-08T14:35:51.475Z",
      "execution_time": "-374ms",
      "outputs": [],
      "source": "%%timeit \nnum = 2**100\ncount = 0\nfor digit in str(num):\n    if digit == \"0\":\n        count = count + 1",
      "start_time": "2019-07-08T14:35:51.849Z"
     }
    ]
   },
   "outputs": [],
   "source": [
    "%%timeit \n",
    "num = 2**100\n",
    "count = 0\n",
    "for digit in str(num):\n",
    "    if digit == \"0\":\n",
    "        count = count + 1"
   ]
  },
  {
   "cell_type": "code",
   "execution_count": null,
   "metadata": {
    "ExecutionTime": {
     "end_time": "2019-07-08T14:35:51.477554Z"
    },
    "provenance": [
     {
      "end_time": "Unknown",
      "execution_time": "Unknown",
      "outputs": [
       {
        "name": "stdout",
        "output_type": "stream",
        "text": "100000 loops, best of 3: 2.82 us per loop\n"
       }
      ],
      "source": "%%timeit \nnum = 2**100\ncount = str.count(str(num), \"0\")",
      "start_time": "Unknown"
     },
     {
      "end_time": "2019-07-08T14:35:51.477Z",
      "execution_time": "-374ms",
      "outputs": [],
      "source": "%%timeit \nnum = 2**100\ncount = str.count(str(num), \"0\")",
      "start_time": "2019-07-08T14:35:51.851Z"
     },
     {
      "end_time": "2019-07-08T14:35:51.477Z",
      "execution_time": "-374ms",
      "outputs": [],
      "source": "%%timeit \nnum = 2**100\ncount = str.count(str(num), \"0\")",
      "start_time": "2019-07-08T14:35:51.851Z"
     }
    ]
   },
   "outputs": [],
   "source": [
    "%%timeit \n",
    "num = 2**100\n",
    "count = str.count(str(num), \"0\")"
   ]
  },
  {
   "cell_type": "markdown",
   "metadata": {
    "provenance": [
     {
      "last_modified": "2018-06-12T08:34:10.000Z",
      "source": "The builtin solution is 4 times faster than the `for` solution which is 3 times faster than the `while` solution."
     }
    ]
   },
   "source": [
    "The builtin solution is 4 times faster than the `for` solution which is 3 times faster than the `while` solution."
   ]
  },
  {
   "cell_type": "markdown",
   "metadata": {
    "provenance": [
     {
      "last_modified": "2018-06-12T08:34:10.000Z",
      "source": "### Other notes"
     }
    ]
   },
   "source": [
    "### Other notes"
   ]
  },
  {
   "cell_type": "markdown",
   "metadata": {
    "provenance": [
     {
      "last_modified": "2018-06-12T08:34:10.000Z",
      "source": "* The `while` solution will not work for `num <= 0`\n* The `while` solution will not work for non-numerals (e.g, `num = \"Cola 0 is awesome!\"`)\n* The builtin solution is implemented with C and that is why it is faster"
     }
    ]
   },
   "source": [
    "* The `while` solution will not work for `num <= 0`\n",
    "* The `while` solution will not work for non-numerals (e.g, `num = \"Cola 0 is awesome!\"`)\n",
    "* The builtin solution is implemented with C and that is why it is faster"
   ]
  },
  {
   "cell_type": "markdown",
   "metadata": {
    "provenance": [
     {
      "last_modified": "2018-06-12T08:34:10.000Z",
      "source": "## Fin"
     }
    ]
   },
   "source": [
    "## Fin"
   ]
  },
  {
   "cell_type": "markdown",
   "metadata": {
    "provenance": [
     {
      "last_modified": "2018-06-12T08:34:10.000Z",
      "source": "This notebook is part of the [Extended introduction to computer science](http://tau-cs1001-py.wikidot.com/) course at Tel-Aviv University.\n\nThe notebook was written using Python 3.2 and IPython 0.13.1.\n\nThe code is available at <https://raw.github.com/yoavram/CS1001.py/master/recitation1.ipynb>.\n\nThe notebook can be viewed online at <http://nbviewer.ipython.org/urls/raw.github.com/yoavram/CS1001.py/master/recitation1.ipynb>.\n\nThe notebooks is also available as a PDF at <https://github.com/yoavram/CS1001.py/blob/master/recitation1.pdf?raw=true>.\n\nThis work is licensed under a [Creative Commons Attribution-ShareAlike 3.0 Unported License](http://creativecommons.org/licenses/by-sa/3.0/)."
     }
    ]
   },
   "source": [
    "This notebook is part of the [Extended introduction to computer science](http://tau-cs1001-py.wikidot.com/) course at Tel-Aviv University.\n",
    "\n",
    "The notebook was written using Python 3.2 and IPython 0.13.1.\n",
    "\n",
    "The code is available at <https://raw.github.com/yoavram/CS1001.py/master/recitation1.ipynb>.\n",
    "\n",
    "The notebook can be viewed online at <http://nbviewer.ipython.org/urls/raw.github.com/yoavram/CS1001.py/master/recitation1.ipynb>.\n",
    "\n",
    "The notebooks is also available as a PDF at <https://github.com/yoavram/CS1001.py/blob/master/recitation1.pdf?raw=true>.\n",
    "\n",
    "This work is licensed under a [Creative Commons Attribution-ShareAlike 3.0 Unported License](http://creativecommons.org/licenses/by-sa/3.0/)."
   ]
  }
 ],
 "metadata": {
  "kernelspec": {
   "display_name": "Python 2",
   "language": "python",
   "name": "python2"
  },
  "language_info": {
   "codemirror_mode": {
    "name": "ipython",
    "version": 2
   },
   "file_extension": ".py",
   "mimetype": "text/x-python",
   "name": "python",
   "nbconvert_exporter": "python",
   "pygments_lexer": "ipython2",
   "version": "2.7.15rc1"
  }
 },
 "nbformat": 4,
 "nbformat_minor": 1
}
