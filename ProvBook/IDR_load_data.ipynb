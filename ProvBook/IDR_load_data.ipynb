{
 "cells": [
  {
   "cell_type": "code",
   "execution_count": 58,
   "metadata": {
    "ExecutionTime": {
     "end_time": "2018-09-12T14:26:51.507878Z",
     "start_time": "2018-09-12T14:26:51.504238Z"
    },
    "provenance": [
     {
      "outputs": [],
      "source": "# initial data\nIDR_BASE_URL = \"http://idr.openmicroscopy.org\""
     },
     {
      "end_time": "2018-09-12T13:14:14.996Z",
      "execution_time": "8ms",
      "outputs": [],
      "source": "# initial data\nIDR_BASE_URL = \"http://idr.openmicroscopy.org\"",
      "start_time": "2018-09-12T13:14:14.988Z"
     },
     {
      "end_time": "2018-09-12T13:17:18.456Z",
      "execution_time": "5ms",
      "outputs": [],
      "source": "# initial data\nIDR_BASE_URL = \"http://idr.openmicroscopy.org\"",
      "start_time": "2018-09-12T13:17:18.451Z"
     },
     {
      "end_time": "2018-09-12T13:18:14.386Z",
      "execution_time": "4ms",
      "outputs": [],
      "source": "# initial data\nIDR_BASE_URL = \"http://idr.openmicroscopy.org\"",
      "start_time": "2018-09-12T13:18:14.382Z"
     },
     {
      "end_time": "2018-09-12T13:18:23.435Z",
      "execution_time": "5ms",
      "outputs": [],
      "source": "# initial data\nIDR_BASE_URL = \"http://idr.openmicroscopy.org\"",
      "start_time": "2018-09-12T13:18:23.430Z"
     },
     {
      "end_time": "2018-09-12T13:19:18.955Z",
      "execution_time": "4ms",
      "outputs": [],
      "source": "# initial data\nIDR_BASE_URL = \"http://idr.openmicroscopy.org\"",
      "start_time": "2018-09-12T13:19:18.951Z"
     },
     {
      "end_time": "2018-09-12T13:23:29.574Z",
      "execution_time": "5ms",
      "outputs": [],
      "source": "# initial data\nIDR_BASE_URL = \"http://idr.openmicroscopy.org\"",
      "start_time": "2018-09-12T13:23:29.569Z"
     },
     {
      "end_time": "2018-09-12T13:26:04.072Z",
      "execution_time": "7ms",
      "outputs": [],
      "source": "# initial data\nIDR_BASE_URL = \"http://idr.openmicroscopy.org\"",
      "start_time": "2018-09-12T13:26:04.065Z"
     },
     {
      "end_time": "2018-09-12T13:27:13.306Z",
      "execution_time": "5ms",
      "outputs": [],
      "source": "# initial data\nIDR_BASE_URL = \"http://idr.openmicroscopy.org\"",
      "start_time": "2018-09-12T13:27:13.301Z"
     },
     {
      "end_time": "2018-09-12T13:28:35.013Z",
      "execution_time": "5ms",
      "outputs": [],
      "source": "# initial data\nIDR_BASE_URL = \"http://idr.openmicroscopy.org\"",
      "start_time": "2018-09-12T13:28:35.008Z"
     },
     {
      "end_time": "2018-09-12T13:30:42.919Z",
      "execution_time": "7ms",
      "outputs": [],
      "source": "# initial data\nIDR_BASE_URL = \"http://idr.openmicroscopy.org\"",
      "start_time": "2018-09-12T13:30:42.912Z"
     },
     {
      "end_time": "2018-09-12T13:31:47.967Z",
      "execution_time": "5ms",
      "outputs": [],
      "source": "# initial data\nIDR_BASE_URL = \"https://idr.openmicroscopy.org\"",
      "start_time": "2018-09-12T13:31:47.962Z"
     },
     {
      "end_time": "2018-09-12T13:41:03.241Z",
      "execution_time": "5ms",
      "outputs": [],
      "source": "# initial data\nIDR_BASE_URL = \"https://idr.openmicroscopy.org\"",
      "start_time": "2018-09-12T13:41:03.236Z"
     },
     {
      "end_time": "2018-09-12T14:26:51.507Z",
      "execution_time": "3ms",
      "outputs": [],
      "source": "# initial data\nIDR_BASE_URL = \"https://idr.openmicroscopy.org\"",
      "start_time": "2018-09-12T14:26:51.504Z"
     }
    ]
   },
   "outputs": [],
   "source": [
    "# initial data\n",
    "IDR_BASE_URL = \"https://idr.openmicroscopy.org\""
   ]
  },
  {
   "cell_type": "code",
   "execution_count": 59,
   "metadata": {
    "ExecutionTime": {
     "end_time": "2018-09-12T14:26:52.264185Z",
     "start_time": "2018-09-12T14:26:51.518723Z"
    },
    "provenance": [
     {
      "outputs": [],
      "source": "import requests\n\nINDEX_PAGE = \"%s/webclient/?experimenter=-1\" % IDR_BASE_URL\n\n# create http session\nwith requests.Session() as session:\n    request = requests.Request('GET', INDEX_PAGE)\n    prepped = session.prepare_request(request)\n    response = session.send(prepped)\n    if response.status_code != 200:\n        response.raise_for_status()"
     },
     {
      "end_time": "2018-09-12T13:14:15.544Z",
      "execution_time": "543ms",
      "outputs": [],
      "source": "import requests\n\nINDEX_PAGE = \"%s/webclient/?experimenter=-1\" % IDR_BASE_URL\n\n# create http session\nwith requests.Session() as session:\n    request = requests.Request('GET', INDEX_PAGE)\n    prepped = session.prepare_request(request)\n    response = session.send(prepped)\n    if response.status_code != 200:\n        response.raise_for_status()",
      "start_time": "2018-09-12T13:14:15.001Z"
     },
     {
      "end_time": "2018-09-12T13:17:18.822Z",
      "execution_time": "361ms",
      "outputs": [],
      "source": "import requests\n\nINDEX_PAGE = \"%s/webclient/?experimenter=-1\" % IDR_BASE_URL\n\n# create http session\nwith requests.Session() as session:\n    request = requests.Request('GET', INDEX_PAGE)\n    prepped = session.prepare_request(request)\n    response = session.send(prepped)\n    if response.status_code != 200:\n        response.raise_for_status()",
      "start_time": "2018-09-12T13:17:18.461Z"
     },
     {
      "end_time": "2018-09-12T13:18:15.975Z",
      "execution_time": "1.59s",
      "outputs": [],
      "source": "import requests\n\nINDEX_PAGE = \"%s/webclient/?experimenter=-1\" % IDR_BASE_URL\n\n# create http session\nwith requests.Session() as session:\n    request = requests.Request('GET', INDEX_PAGE)\n    prepped = session.prepare_request(request)\n    response = session.send(prepped)\n    if response.status_code != 200:\n        response.raise_for_status()",
      "start_time": "2018-09-12T13:18:14.389Z"
     },
     {
      "end_time": "2018-09-12T13:18:23.812Z",
      "execution_time": "372ms",
      "outputs": [],
      "source": "import requests\n\nINDEX_PAGE = \"%s/webclient/?experimenter=-1\" % IDR_BASE_URL\n\n# create http session\nwith requests.Session() as session:\n    request = requests.Request('GET', INDEX_PAGE)\n    prepped = session.prepare_request(request)\n    response = session.send(prepped)\n    if response.status_code != 200:\n        response.raise_for_status()",
      "start_time": "2018-09-12T13:18:23.440Z"
     },
     {
      "end_time": "2018-09-12T13:19:19.375Z",
      "execution_time": "415ms",
      "outputs": [],
      "source": "import requests\n\nINDEX_PAGE = \"%s/webclient/?experimenter=-1\" % IDR_BASE_URL\n\n# create http session\nwith requests.Session() as session:\n    request = requests.Request('GET', INDEX_PAGE)\n    prepped = session.prepare_request(request)\n    response = session.send(prepped)\n    if response.status_code != 200:\n        response.raise_for_status()",
      "start_time": "2018-09-12T13:19:18.960Z"
     },
     {
      "end_time": "2018-09-12T13:23:30.151Z",
      "execution_time": "573ms",
      "outputs": [],
      "source": "import requests\n\nINDEX_PAGE = \"%s/webclient/?experimenter=-1\" % IDR_BASE_URL\n\n# create http session\nwith requests.Session() as session:\n    request = requests.Request('GET', INDEX_PAGE)\n    prepped = session.prepare_request(request)\n    response = session.send(prepped)\n    if response.status_code != 200:\n        response.raise_for_status()",
      "start_time": "2018-09-12T13:23:29.578Z"
     },
     {
      "end_time": "2018-09-12T13:26:04.551Z",
      "execution_time": "474ms",
      "outputs": [],
      "source": "import requests\n\nINDEX_PAGE = \"%s/webclient/?experimenter=-1\" % IDR_BASE_URL\n\n# create http session\nwith requests.Session() as session:\n    request = requests.Request('GET', INDEX_PAGE)\n    prepped = session.prepare_request(request)\n    response = session.send(prepped)\n    if response.status_code != 200:\n        response.raise_for_status()",
      "start_time": "2018-09-12T13:26:04.077Z"
     },
     {
      "end_time": "2018-09-12T13:27:13.950Z",
      "execution_time": "639ms",
      "outputs": [],
      "source": "import requests\n\nINDEX_PAGE = \"%s/webclient/?experimenter=-1\" % IDR_BASE_URL\n\n# create http session\nwith requests.Session() as session:\n    request = requests.Request('GET', INDEX_PAGE)\n    prepped = session.prepare_request(request)\n    response = session.send(prepped)\n    if response.status_code != 200:\n        response.raise_for_status()",
      "start_time": "2018-09-12T13:27:13.311Z"
     },
     {
      "end_time": "2018-09-12T13:28:35.702Z",
      "execution_time": "686ms",
      "outputs": [],
      "source": "import requests\n\nINDEX_PAGE = \"%s/webclient/?experimenter=-1\" % IDR_BASE_URL\n\n# create http session\nwith requests.Session() as session:\n    request = requests.Request('GET', INDEX_PAGE)\n    prepped = session.prepare_request(request)\n    response = session.send(prepped)\n    if response.status_code != 200:\n        response.raise_for_status()",
      "start_time": "2018-09-12T13:28:35.016Z"
     },
     {
      "end_time": "2018-09-12T13:30:44.027Z",
      "execution_time": "1.10s",
      "outputs": [],
      "source": "import requests\n\nINDEX_PAGE = \"%s/webclient/?experimenter=-1\" % IDR_BASE_URL\n\n# create http session\nwith requests.Session() as session:\n    request = requests.Request('GET', INDEX_PAGE)\n    prepped = session.prepare_request(request)\n    response = session.send(prepped)\n    if response.status_code != 200:\n        response.raise_for_status()",
      "start_time": "2018-09-12T13:30:42.924Z"
     },
     {
      "end_time": "2018-09-12T13:31:48.532Z",
      "execution_time": "561ms",
      "outputs": [],
      "source": "import requests\n\nINDEX_PAGE = \"%s/webclient/?experimenter=-1\" % IDR_BASE_URL\n\n# create http session\nwith requests.Session() as session:\n    request = requests.Request('GET', INDEX_PAGE)\n    prepped = session.prepare_request(request)\n    response = session.send(prepped)\n    if response.status_code != 200:\n        response.raise_for_status()",
      "start_time": "2018-09-12T13:31:47.971Z"
     },
     {
      "end_time": "2018-09-12T13:41:03.691Z",
      "execution_time": "445ms",
      "outputs": [],
      "source": "import requests\n\nINDEX_PAGE = \"%s/webclient/?experimenter=-1\" % IDR_BASE_URL\n\n# create http session\nwith requests.Session() as session:\n    request = requests.Request('GET', INDEX_PAGE)\n    prepped = session.prepare_request(request)\n    response = session.send(prepped)\n    if response.status_code != 200:\n        response.raise_for_status()",
      "start_time": "2018-09-12T13:41:03.246Z"
     },
     {
      "end_time": "2018-09-12T14:26:52.264Z",
      "execution_time": "746ms",
      "outputs": [
       {
        "name": "stdout",
        "output_type": "stream",
        "text": "('session%s', <requests.sessions.Session object at 0x7f05d0120a90>)\n"
       }
      ],
      "source": "import requests\n\nINDEX_PAGE = \"%s/webclient/?experimenter=-1\" % IDR_BASE_URL\n\n# create http session\nwith requests.Session() as session:\n    request = requests.Request('GET', INDEX_PAGE)\n    prepped = session.prepare_request(request)\n    response = session.send(prepped)\n    if response.status_code != 200:\n        response.raise_for_status()\n    print(\"session%s\", session)",
      "start_time": "2018-09-12T14:26:51.518Z"
     }
    ]
   },
   "outputs": [
    {
     "name": "stdout",
     "output_type": "stream",
     "text": [
      "('session%s', <requests.sessions.Session object at 0x7f05d0120a90>)\n"
     ]
    }
   ],
   "source": [
    "import requests\n",
    "\n",
    "INDEX_PAGE = \"%s/webclient/?experimenter=-1\" % IDR_BASE_URL\n",
    "\n",
    "# create http session\n",
    "with requests.Session() as session:\n",
    "    request = requests.Request('GET', INDEX_PAGE)\n",
    "    prepped = session.prepare_request(request)\n",
    "    response = session.send(prepped)\n",
    "    if response.status_code != 200:\n",
    "        response.raise_for_status()\n",
    "    print(\"session%s\", session)"
   ]
  },
  {
   "cell_type": "code",
   "execution_count": 60,
   "metadata": {
    "ExecutionTime": {
     "end_time": "2018-09-12T14:26:52.470329Z",
     "start_time": "2018-09-12T14:26:52.270962Z"
    },
    "provenance": [
     {
      "outputs": [
       {
        "ename": "ValueError",
        "evalue": "No JSON object could be decoded",
        "output_type": "error",
        "traceback": [
         "\u001b[0;31m---------------------------------------------------------------------------\u001b[0m",
         "\u001b[0;31mValueError\u001b[0m                                Traceback (most recent call last)",
         "\u001b[0;32m<ipython-input-3-e5fcde37a36a>\u001b[0m in \u001b[0;36m<module>\u001b[0;34m()\u001b[0m\n\u001b[1;32m      3\u001b[0m \u001b[0mqs\u001b[0m \u001b[0;34m=\u001b[0m \u001b[0;34m{\u001b[0m\u001b[0;34m'base'\u001b[0m\u001b[0;34m:\u001b[0m \u001b[0mIDR_BASE_URL\u001b[0m\u001b[0;34m}\u001b[0m\u001b[0;34m\u001b[0m\u001b[0m\n\u001b[1;32m      4\u001b[0m \u001b[0murl\u001b[0m \u001b[0;34m=\u001b[0m \u001b[0mMAP_URL\u001b[0m\u001b[0;34m.\u001b[0m\u001b[0mformat\u001b[0m\u001b[0;34m(\u001b[0m\u001b[0;34m**\u001b[0m\u001b[0mqs\u001b[0m\u001b[0;34m)\u001b[0m\u001b[0;34m\u001b[0m\u001b[0m\n\u001b[0;32m----> 5\u001b[0;31m \u001b[0;32mfor\u001b[0m \u001b[0ma\u001b[0m \u001b[0;32min\u001b[0m \u001b[0msession\u001b[0m\u001b[0;34m.\u001b[0m\u001b[0mget\u001b[0m\u001b[0;34m(\u001b[0m\u001b[0murl\u001b[0m\u001b[0;34m)\u001b[0m\u001b[0;34m.\u001b[0m\u001b[0mjson\u001b[0m\u001b[0;34m(\u001b[0m\u001b[0;34m)\u001b[0m\u001b[0;34m:\u001b[0m\u001b[0;34m\u001b[0m\u001b[0m\n\u001b[0m\u001b[1;32m      6\u001b[0m     \u001b[0;32mprint\u001b[0m\u001b[0;34m(\u001b[0m\u001b[0;34m\"a%s\"\u001b[0m\u001b[0;34m,\u001b[0m \u001b[0ma\u001b[0m\u001b[0;34m)\u001b[0m\u001b[0;34m\u001b[0m\u001b[0m\n",
         "\u001b[0;32m/usr/local/lib/python2.7/dist-packages/requests/models.pyc\u001b[0m in \u001b[0;36mjson\u001b[0;34m(self, **kwargs)\u001b[0m\n\u001b[1;32m    894\u001b[0m                     \u001b[0;31m# used.\u001b[0m\u001b[0;34m\u001b[0m\u001b[0;34m\u001b[0m\u001b[0m\n\u001b[1;32m    895\u001b[0m                     \u001b[0;32mpass\u001b[0m\u001b[0;34m\u001b[0m\u001b[0m\n\u001b[0;32m--> 896\u001b[0;31m         \u001b[0;32mreturn\u001b[0m \u001b[0mcomplexjson\u001b[0m\u001b[0;34m.\u001b[0m\u001b[0mloads\u001b[0m\u001b[0;34m(\u001b[0m\u001b[0mself\u001b[0m\u001b[0;34m.\u001b[0m\u001b[0mtext\u001b[0m\u001b[0;34m,\u001b[0m \u001b[0;34m**\u001b[0m\u001b[0mkwargs\u001b[0m\u001b[0;34m)\u001b[0m\u001b[0;34m\u001b[0m\u001b[0m\n\u001b[0m\u001b[1;32m    897\u001b[0m \u001b[0;34m\u001b[0m\u001b[0m\n\u001b[1;32m    898\u001b[0m     \u001b[0;34m@\u001b[0m\u001b[0mproperty\u001b[0m\u001b[0;34m\u001b[0m\u001b[0m\n",
         "\u001b[0;32m/usr/lib/python2.7/json/__init__.pyc\u001b[0m in \u001b[0;36mloads\u001b[0;34m(s, encoding, cls, object_hook, parse_float, parse_int, parse_constant, object_pairs_hook, **kw)\u001b[0m\n\u001b[1;32m    337\u001b[0m             \u001b[0mparse_int\u001b[0m \u001b[0;32mis\u001b[0m \u001b[0mNone\u001b[0m \u001b[0;32mand\u001b[0m \u001b[0mparse_float\u001b[0m \u001b[0;32mis\u001b[0m \u001b[0mNone\u001b[0m \u001b[0;32mand\u001b[0m\u001b[0;34m\u001b[0m\u001b[0m\n\u001b[1;32m    338\u001b[0m             parse_constant is None and object_pairs_hook is None and not kw):\n\u001b[0;32m--> 339\u001b[0;31m         \u001b[0;32mreturn\u001b[0m \u001b[0m_default_decoder\u001b[0m\u001b[0;34m.\u001b[0m\u001b[0mdecode\u001b[0m\u001b[0;34m(\u001b[0m\u001b[0ms\u001b[0m\u001b[0;34m)\u001b[0m\u001b[0;34m\u001b[0m\u001b[0m\n\u001b[0m\u001b[1;32m    340\u001b[0m     \u001b[0;32mif\u001b[0m \u001b[0mcls\u001b[0m \u001b[0;32mis\u001b[0m \u001b[0mNone\u001b[0m\u001b[0;34m:\u001b[0m\u001b[0;34m\u001b[0m\u001b[0m\n\u001b[1;32m    341\u001b[0m         \u001b[0mcls\u001b[0m \u001b[0;34m=\u001b[0m \u001b[0mJSONDecoder\u001b[0m\u001b[0;34m\u001b[0m\u001b[0m\n",
         "\u001b[0;32m/usr/lib/python2.7/json/decoder.pyc\u001b[0m in \u001b[0;36mdecode\u001b[0;34m(self, s, _w)\u001b[0m\n\u001b[1;32m    362\u001b[0m \u001b[0;34m\u001b[0m\u001b[0m\n\u001b[1;32m    363\u001b[0m         \"\"\"\n\u001b[0;32m--> 364\u001b[0;31m         \u001b[0mobj\u001b[0m\u001b[0;34m,\u001b[0m \u001b[0mend\u001b[0m \u001b[0;34m=\u001b[0m \u001b[0mself\u001b[0m\u001b[0;34m.\u001b[0m\u001b[0mraw_decode\u001b[0m\u001b[0;34m(\u001b[0m\u001b[0ms\u001b[0m\u001b[0;34m,\u001b[0m \u001b[0midx\u001b[0m\u001b[0;34m=\u001b[0m\u001b[0m_w\u001b[0m\u001b[0;34m(\u001b[0m\u001b[0ms\u001b[0m\u001b[0;34m,\u001b[0m \u001b[0;36m0\u001b[0m\u001b[0;34m)\u001b[0m\u001b[0;34m.\u001b[0m\u001b[0mend\u001b[0m\u001b[0;34m(\u001b[0m\u001b[0;34m)\u001b[0m\u001b[0;34m)\u001b[0m\u001b[0;34m\u001b[0m\u001b[0m\n\u001b[0m\u001b[1;32m    365\u001b[0m         \u001b[0mend\u001b[0m \u001b[0;34m=\u001b[0m \u001b[0m_w\u001b[0m\u001b[0;34m(\u001b[0m\u001b[0ms\u001b[0m\u001b[0;34m,\u001b[0m \u001b[0mend\u001b[0m\u001b[0;34m)\u001b[0m\u001b[0;34m.\u001b[0m\u001b[0mend\u001b[0m\u001b[0;34m(\u001b[0m\u001b[0;34m)\u001b[0m\u001b[0;34m\u001b[0m\u001b[0m\n\u001b[1;32m    366\u001b[0m         \u001b[0;32mif\u001b[0m \u001b[0mend\u001b[0m \u001b[0;34m!=\u001b[0m \u001b[0mlen\u001b[0m\u001b[0;34m(\u001b[0m\u001b[0ms\u001b[0m\u001b[0;34m)\u001b[0m\u001b[0;34m:\u001b[0m\u001b[0;34m\u001b[0m\u001b[0m\n",
         "\u001b[0;32m/usr/lib/python2.7/json/decoder.pyc\u001b[0m in \u001b[0;36mraw_decode\u001b[0;34m(self, s, idx)\u001b[0m\n\u001b[1;32m    380\u001b[0m             \u001b[0mobj\u001b[0m\u001b[0;34m,\u001b[0m \u001b[0mend\u001b[0m \u001b[0;34m=\u001b[0m \u001b[0mself\u001b[0m\u001b[0;34m.\u001b[0m\u001b[0mscan_once\u001b[0m\u001b[0;34m(\u001b[0m\u001b[0ms\u001b[0m\u001b[0;34m,\u001b[0m \u001b[0midx\u001b[0m\u001b[0;34m)\u001b[0m\u001b[0;34m\u001b[0m\u001b[0m\n\u001b[1;32m    381\u001b[0m         \u001b[0;32mexcept\u001b[0m \u001b[0mStopIteration\u001b[0m\u001b[0;34m:\u001b[0m\u001b[0;34m\u001b[0m\u001b[0m\n\u001b[0;32m--> 382\u001b[0;31m             \u001b[0;32mraise\u001b[0m \u001b[0mValueError\u001b[0m\u001b[0;34m(\u001b[0m\u001b[0;34m\"No JSON object could be decoded\"\u001b[0m\u001b[0;34m)\u001b[0m\u001b[0;34m\u001b[0m\u001b[0m\n\u001b[0m\u001b[1;32m    383\u001b[0m         \u001b[0;32mreturn\u001b[0m \u001b[0mobj\u001b[0m\u001b[0;34m,\u001b[0m \u001b[0mend\u001b[0m\u001b[0;34m\u001b[0m\u001b[0m\n",
         "\u001b[0;31mValueError\u001b[0m: No JSON object could be decoded"
        ]
       }
      ],
      "source": "MAP_URL = \"{base}/webclient/api//api/v0/m/screens/\"\n\nqs = {'base': IDR_BASE_URL}\nurl = MAP_URL.format(**qs)\nfor a in session.get(url).json():\n    print(\"a%s\", a)"
     },
     {
      "end_time": "2018-09-12T13:14:15.675Z",
      "execution_time": "123ms",
      "outputs": [
       {
        "ename": "ValueError",
        "evalue": "No JSON object could be decoded",
        "output_type": "error",
        "traceback": [
         "\u001b[0;31m---------------------------------------------------------------------------\u001b[0m",
         "\u001b[0;31mValueError\u001b[0m                                Traceback (most recent call last)",
         "\u001b[0;32m<ipython-input-3-e5fcde37a36a>\u001b[0m in \u001b[0;36m<module>\u001b[0;34m()\u001b[0m\n\u001b[1;32m      3\u001b[0m \u001b[0mqs\u001b[0m \u001b[0;34m=\u001b[0m \u001b[0;34m{\u001b[0m\u001b[0;34m'base'\u001b[0m\u001b[0;34m:\u001b[0m \u001b[0mIDR_BASE_URL\u001b[0m\u001b[0;34m}\u001b[0m\u001b[0;34m\u001b[0m\u001b[0m\n\u001b[1;32m      4\u001b[0m \u001b[0murl\u001b[0m \u001b[0;34m=\u001b[0m \u001b[0mMAP_URL\u001b[0m\u001b[0;34m.\u001b[0m\u001b[0mformat\u001b[0m\u001b[0;34m(\u001b[0m\u001b[0;34m**\u001b[0m\u001b[0mqs\u001b[0m\u001b[0;34m)\u001b[0m\u001b[0;34m\u001b[0m\u001b[0m\n\u001b[0;32m----> 5\u001b[0;31m \u001b[0;32mfor\u001b[0m \u001b[0ma\u001b[0m \u001b[0;32min\u001b[0m \u001b[0msession\u001b[0m\u001b[0;34m.\u001b[0m\u001b[0mget\u001b[0m\u001b[0;34m(\u001b[0m\u001b[0murl\u001b[0m\u001b[0;34m)\u001b[0m\u001b[0;34m.\u001b[0m\u001b[0mjson\u001b[0m\u001b[0;34m(\u001b[0m\u001b[0;34m)\u001b[0m\u001b[0;34m:\u001b[0m\u001b[0;34m\u001b[0m\u001b[0m\n\u001b[0m\u001b[1;32m      6\u001b[0m     \u001b[0;32mprint\u001b[0m\u001b[0;34m(\u001b[0m\u001b[0;34m\"a%s\"\u001b[0m\u001b[0;34m,\u001b[0m \u001b[0ma\u001b[0m\u001b[0;34m)\u001b[0m\u001b[0;34m\u001b[0m\u001b[0m\n",
         "\u001b[0;32m/usr/local/lib/python2.7/dist-packages/requests/models.pyc\u001b[0m in \u001b[0;36mjson\u001b[0;34m(self, **kwargs)\u001b[0m\n\u001b[1;32m    894\u001b[0m                     \u001b[0;31m# used.\u001b[0m\u001b[0;34m\u001b[0m\u001b[0;34m\u001b[0m\u001b[0m\n\u001b[1;32m    895\u001b[0m                     \u001b[0;32mpass\u001b[0m\u001b[0;34m\u001b[0m\u001b[0m\n\u001b[0;32m--> 896\u001b[0;31m         \u001b[0;32mreturn\u001b[0m \u001b[0mcomplexjson\u001b[0m\u001b[0;34m.\u001b[0m\u001b[0mloads\u001b[0m\u001b[0;34m(\u001b[0m\u001b[0mself\u001b[0m\u001b[0;34m.\u001b[0m\u001b[0mtext\u001b[0m\u001b[0;34m,\u001b[0m \u001b[0;34m**\u001b[0m\u001b[0mkwargs\u001b[0m\u001b[0;34m)\u001b[0m\u001b[0;34m\u001b[0m\u001b[0m\n\u001b[0m\u001b[1;32m    897\u001b[0m \u001b[0;34m\u001b[0m\u001b[0m\n\u001b[1;32m    898\u001b[0m     \u001b[0;34m@\u001b[0m\u001b[0mproperty\u001b[0m\u001b[0;34m\u001b[0m\u001b[0m\n",
         "\u001b[0;32m/usr/lib/python2.7/json/__init__.pyc\u001b[0m in \u001b[0;36mloads\u001b[0;34m(s, encoding, cls, object_hook, parse_float, parse_int, parse_constant, object_pairs_hook, **kw)\u001b[0m\n\u001b[1;32m    337\u001b[0m             \u001b[0mparse_int\u001b[0m \u001b[0;32mis\u001b[0m \u001b[0mNone\u001b[0m \u001b[0;32mand\u001b[0m \u001b[0mparse_float\u001b[0m \u001b[0;32mis\u001b[0m \u001b[0mNone\u001b[0m \u001b[0;32mand\u001b[0m\u001b[0;34m\u001b[0m\u001b[0m\n\u001b[1;32m    338\u001b[0m             parse_constant is None and object_pairs_hook is None and not kw):\n\u001b[0;32m--> 339\u001b[0;31m         \u001b[0;32mreturn\u001b[0m \u001b[0m_default_decoder\u001b[0m\u001b[0;34m.\u001b[0m\u001b[0mdecode\u001b[0m\u001b[0;34m(\u001b[0m\u001b[0ms\u001b[0m\u001b[0;34m)\u001b[0m\u001b[0;34m\u001b[0m\u001b[0m\n\u001b[0m\u001b[1;32m    340\u001b[0m     \u001b[0;32mif\u001b[0m \u001b[0mcls\u001b[0m \u001b[0;32mis\u001b[0m \u001b[0mNone\u001b[0m\u001b[0;34m:\u001b[0m\u001b[0;34m\u001b[0m\u001b[0m\n\u001b[1;32m    341\u001b[0m         \u001b[0mcls\u001b[0m \u001b[0;34m=\u001b[0m \u001b[0mJSONDecoder\u001b[0m\u001b[0;34m\u001b[0m\u001b[0m\n",
         "\u001b[0;32m/usr/lib/python2.7/json/decoder.pyc\u001b[0m in \u001b[0;36mdecode\u001b[0;34m(self, s, _w)\u001b[0m\n\u001b[1;32m    362\u001b[0m \u001b[0;34m\u001b[0m\u001b[0m\n\u001b[1;32m    363\u001b[0m         \"\"\"\n\u001b[0;32m--> 364\u001b[0;31m         \u001b[0mobj\u001b[0m\u001b[0;34m,\u001b[0m \u001b[0mend\u001b[0m \u001b[0;34m=\u001b[0m \u001b[0mself\u001b[0m\u001b[0;34m.\u001b[0m\u001b[0mraw_decode\u001b[0m\u001b[0;34m(\u001b[0m\u001b[0ms\u001b[0m\u001b[0;34m,\u001b[0m \u001b[0midx\u001b[0m\u001b[0;34m=\u001b[0m\u001b[0m_w\u001b[0m\u001b[0;34m(\u001b[0m\u001b[0ms\u001b[0m\u001b[0;34m,\u001b[0m \u001b[0;36m0\u001b[0m\u001b[0;34m)\u001b[0m\u001b[0;34m.\u001b[0m\u001b[0mend\u001b[0m\u001b[0;34m(\u001b[0m\u001b[0;34m)\u001b[0m\u001b[0;34m)\u001b[0m\u001b[0;34m\u001b[0m\u001b[0m\n\u001b[0m\u001b[1;32m    365\u001b[0m         \u001b[0mend\u001b[0m \u001b[0;34m=\u001b[0m \u001b[0m_w\u001b[0m\u001b[0;34m(\u001b[0m\u001b[0ms\u001b[0m\u001b[0;34m,\u001b[0m \u001b[0mend\u001b[0m\u001b[0;34m)\u001b[0m\u001b[0;34m.\u001b[0m\u001b[0mend\u001b[0m\u001b[0;34m(\u001b[0m\u001b[0;34m)\u001b[0m\u001b[0;34m\u001b[0m\u001b[0m\n\u001b[1;32m    366\u001b[0m         \u001b[0;32mif\u001b[0m \u001b[0mend\u001b[0m \u001b[0;34m!=\u001b[0m \u001b[0mlen\u001b[0m\u001b[0;34m(\u001b[0m\u001b[0ms\u001b[0m\u001b[0;34m)\u001b[0m\u001b[0;34m:\u001b[0m\u001b[0;34m\u001b[0m\u001b[0m\n",
         "\u001b[0;32m/usr/lib/python2.7/json/decoder.pyc\u001b[0m in \u001b[0;36mraw_decode\u001b[0;34m(self, s, idx)\u001b[0m\n\u001b[1;32m    380\u001b[0m             \u001b[0mobj\u001b[0m\u001b[0;34m,\u001b[0m \u001b[0mend\u001b[0m \u001b[0;34m=\u001b[0m \u001b[0mself\u001b[0m\u001b[0;34m.\u001b[0m\u001b[0mscan_once\u001b[0m\u001b[0;34m(\u001b[0m\u001b[0ms\u001b[0m\u001b[0;34m,\u001b[0m \u001b[0midx\u001b[0m\u001b[0;34m)\u001b[0m\u001b[0;34m\u001b[0m\u001b[0m\n\u001b[1;32m    381\u001b[0m         \u001b[0;32mexcept\u001b[0m \u001b[0mStopIteration\u001b[0m\u001b[0;34m:\u001b[0m\u001b[0;34m\u001b[0m\u001b[0m\n\u001b[0;32m--> 382\u001b[0;31m             \u001b[0;32mraise\u001b[0m \u001b[0mValueError\u001b[0m\u001b[0;34m(\u001b[0m\u001b[0;34m\"No JSON object could be decoded\"\u001b[0m\u001b[0;34m)\u001b[0m\u001b[0;34m\u001b[0m\u001b[0m\n\u001b[0m\u001b[1;32m    383\u001b[0m         \u001b[0;32mreturn\u001b[0m \u001b[0mobj\u001b[0m\u001b[0;34m,\u001b[0m \u001b[0mend\u001b[0m\u001b[0;34m\u001b[0m\u001b[0m\n",
         "\u001b[0;31mValueError\u001b[0m: No JSON object could be decoded"
        ]
       }
      ],
      "source": "MAP_URL = \"{base}/webclient/api//api/v0/m/screens/\"\n\nqs = {'base': IDR_BASE_URL}\nurl = MAP_URL.format(**qs)\nfor a in session.get(url).json():\n    print(\"a%s\", a)",
      "start_time": "2018-09-12T13:14:15.552Z"
     },
     {
      "end_time": "2018-09-12T13:14:32.475Z",
      "execution_time": "92ms",
      "outputs": [
       {
        "name": "stdout",
        "output_type": "stream",
        "text": "('url%s', 'http://idr.openmicroscopy.org/webclient/api//api/v0/m/screens/')\n"
       },
       {
        "ename": "ValueError",
        "evalue": "No JSON object could be decoded",
        "output_type": "error",
        "traceback": [
         "\u001b[0;31m---------------------------------------------------------------------------\u001b[0m",
         "\u001b[0;31mValueError\u001b[0m                                Traceback (most recent call last)",
         "\u001b[0;32m<ipython-input-4-caaa919156ff>\u001b[0m in \u001b[0;36m<module>\u001b[0;34m()\u001b[0m\n\u001b[1;32m      4\u001b[0m \u001b[0murl\u001b[0m \u001b[0;34m=\u001b[0m \u001b[0mMAP_URL\u001b[0m\u001b[0;34m.\u001b[0m\u001b[0mformat\u001b[0m\u001b[0;34m(\u001b[0m\u001b[0;34m**\u001b[0m\u001b[0mqs\u001b[0m\u001b[0;34m)\u001b[0m\u001b[0;34m\u001b[0m\u001b[0m\n\u001b[1;32m      5\u001b[0m \u001b[0;32mprint\u001b[0m\u001b[0;34m(\u001b[0m\u001b[0;34m\"url%s\"\u001b[0m\u001b[0;34m,\u001b[0m \u001b[0murl\u001b[0m\u001b[0;34m)\u001b[0m\u001b[0;34m\u001b[0m\u001b[0m\n\u001b[0;32m----> 6\u001b[0;31m \u001b[0;32mfor\u001b[0m \u001b[0ma\u001b[0m \u001b[0;32min\u001b[0m \u001b[0msession\u001b[0m\u001b[0;34m.\u001b[0m\u001b[0mget\u001b[0m\u001b[0;34m(\u001b[0m\u001b[0murl\u001b[0m\u001b[0;34m)\u001b[0m\u001b[0;34m.\u001b[0m\u001b[0mjson\u001b[0m\u001b[0;34m(\u001b[0m\u001b[0;34m)\u001b[0m\u001b[0;34m:\u001b[0m\u001b[0;34m\u001b[0m\u001b[0m\n\u001b[0m\u001b[1;32m      7\u001b[0m     \u001b[0;32mprint\u001b[0m\u001b[0;34m(\u001b[0m\u001b[0;34m\"a%s\"\u001b[0m\u001b[0;34m,\u001b[0m \u001b[0ma\u001b[0m\u001b[0;34m)\u001b[0m\u001b[0;34m\u001b[0m\u001b[0m\n",
         "\u001b[0;32m/usr/local/lib/python2.7/dist-packages/requests/models.pyc\u001b[0m in \u001b[0;36mjson\u001b[0;34m(self, **kwargs)\u001b[0m\n\u001b[1;32m    894\u001b[0m                     \u001b[0;31m# used.\u001b[0m\u001b[0;34m\u001b[0m\u001b[0;34m\u001b[0m\u001b[0m\n\u001b[1;32m    895\u001b[0m                     \u001b[0;32mpass\u001b[0m\u001b[0;34m\u001b[0m\u001b[0m\n\u001b[0;32m--> 896\u001b[0;31m         \u001b[0;32mreturn\u001b[0m \u001b[0mcomplexjson\u001b[0m\u001b[0;34m.\u001b[0m\u001b[0mloads\u001b[0m\u001b[0;34m(\u001b[0m\u001b[0mself\u001b[0m\u001b[0;34m.\u001b[0m\u001b[0mtext\u001b[0m\u001b[0;34m,\u001b[0m \u001b[0;34m**\u001b[0m\u001b[0mkwargs\u001b[0m\u001b[0;34m)\u001b[0m\u001b[0;34m\u001b[0m\u001b[0m\n\u001b[0m\u001b[1;32m    897\u001b[0m \u001b[0;34m\u001b[0m\u001b[0m\n\u001b[1;32m    898\u001b[0m     \u001b[0;34m@\u001b[0m\u001b[0mproperty\u001b[0m\u001b[0;34m\u001b[0m\u001b[0m\n",
         "\u001b[0;32m/usr/lib/python2.7/json/__init__.pyc\u001b[0m in \u001b[0;36mloads\u001b[0;34m(s, encoding, cls, object_hook, parse_float, parse_int, parse_constant, object_pairs_hook, **kw)\u001b[0m\n\u001b[1;32m    337\u001b[0m             \u001b[0mparse_int\u001b[0m \u001b[0;32mis\u001b[0m \u001b[0mNone\u001b[0m \u001b[0;32mand\u001b[0m \u001b[0mparse_float\u001b[0m \u001b[0;32mis\u001b[0m \u001b[0mNone\u001b[0m \u001b[0;32mand\u001b[0m\u001b[0;34m\u001b[0m\u001b[0m\n\u001b[1;32m    338\u001b[0m             parse_constant is None and object_pairs_hook is None and not kw):\n\u001b[0;32m--> 339\u001b[0;31m         \u001b[0;32mreturn\u001b[0m \u001b[0m_default_decoder\u001b[0m\u001b[0;34m.\u001b[0m\u001b[0mdecode\u001b[0m\u001b[0;34m(\u001b[0m\u001b[0ms\u001b[0m\u001b[0;34m)\u001b[0m\u001b[0;34m\u001b[0m\u001b[0m\n\u001b[0m\u001b[1;32m    340\u001b[0m     \u001b[0;32mif\u001b[0m \u001b[0mcls\u001b[0m \u001b[0;32mis\u001b[0m \u001b[0mNone\u001b[0m\u001b[0;34m:\u001b[0m\u001b[0;34m\u001b[0m\u001b[0m\n\u001b[1;32m    341\u001b[0m         \u001b[0mcls\u001b[0m \u001b[0;34m=\u001b[0m \u001b[0mJSONDecoder\u001b[0m\u001b[0;34m\u001b[0m\u001b[0m\n",
         "\u001b[0;32m/usr/lib/python2.7/json/decoder.pyc\u001b[0m in \u001b[0;36mdecode\u001b[0;34m(self, s, _w)\u001b[0m\n\u001b[1;32m    362\u001b[0m \u001b[0;34m\u001b[0m\u001b[0m\n\u001b[1;32m    363\u001b[0m         \"\"\"\n\u001b[0;32m--> 364\u001b[0;31m         \u001b[0mobj\u001b[0m\u001b[0;34m,\u001b[0m \u001b[0mend\u001b[0m \u001b[0;34m=\u001b[0m \u001b[0mself\u001b[0m\u001b[0;34m.\u001b[0m\u001b[0mraw_decode\u001b[0m\u001b[0;34m(\u001b[0m\u001b[0ms\u001b[0m\u001b[0;34m,\u001b[0m \u001b[0midx\u001b[0m\u001b[0;34m=\u001b[0m\u001b[0m_w\u001b[0m\u001b[0;34m(\u001b[0m\u001b[0ms\u001b[0m\u001b[0;34m,\u001b[0m \u001b[0;36m0\u001b[0m\u001b[0;34m)\u001b[0m\u001b[0;34m.\u001b[0m\u001b[0mend\u001b[0m\u001b[0;34m(\u001b[0m\u001b[0;34m)\u001b[0m\u001b[0;34m)\u001b[0m\u001b[0;34m\u001b[0m\u001b[0m\n\u001b[0m\u001b[1;32m    365\u001b[0m         \u001b[0mend\u001b[0m \u001b[0;34m=\u001b[0m \u001b[0m_w\u001b[0m\u001b[0;34m(\u001b[0m\u001b[0ms\u001b[0m\u001b[0;34m,\u001b[0m \u001b[0mend\u001b[0m\u001b[0;34m)\u001b[0m\u001b[0;34m.\u001b[0m\u001b[0mend\u001b[0m\u001b[0;34m(\u001b[0m\u001b[0;34m)\u001b[0m\u001b[0;34m\u001b[0m\u001b[0m\n\u001b[1;32m    366\u001b[0m         \u001b[0;32mif\u001b[0m \u001b[0mend\u001b[0m \u001b[0;34m!=\u001b[0m \u001b[0mlen\u001b[0m\u001b[0;34m(\u001b[0m\u001b[0ms\u001b[0m\u001b[0;34m)\u001b[0m\u001b[0;34m:\u001b[0m\u001b[0;34m\u001b[0m\u001b[0m\n",
         "\u001b[0;32m/usr/lib/python2.7/json/decoder.pyc\u001b[0m in \u001b[0;36mraw_decode\u001b[0;34m(self, s, idx)\u001b[0m\n\u001b[1;32m    380\u001b[0m             \u001b[0mobj\u001b[0m\u001b[0;34m,\u001b[0m \u001b[0mend\u001b[0m \u001b[0;34m=\u001b[0m \u001b[0mself\u001b[0m\u001b[0;34m.\u001b[0m\u001b[0mscan_once\u001b[0m\u001b[0;34m(\u001b[0m\u001b[0ms\u001b[0m\u001b[0;34m,\u001b[0m \u001b[0midx\u001b[0m\u001b[0;34m)\u001b[0m\u001b[0;34m\u001b[0m\u001b[0m\n\u001b[1;32m    381\u001b[0m         \u001b[0;32mexcept\u001b[0m \u001b[0mStopIteration\u001b[0m\u001b[0;34m:\u001b[0m\u001b[0;34m\u001b[0m\u001b[0m\n\u001b[0;32m--> 382\u001b[0;31m             \u001b[0;32mraise\u001b[0m \u001b[0mValueError\u001b[0m\u001b[0;34m(\u001b[0m\u001b[0;34m\"No JSON object could be decoded\"\u001b[0m\u001b[0;34m)\u001b[0m\u001b[0;34m\u001b[0m\u001b[0m\n\u001b[0m\u001b[1;32m    383\u001b[0m         \u001b[0;32mreturn\u001b[0m \u001b[0mobj\u001b[0m\u001b[0;34m,\u001b[0m \u001b[0mend\u001b[0m\u001b[0;34m\u001b[0m\u001b[0m\n",
         "\u001b[0;31mValueError\u001b[0m: No JSON object could be decoded"
        ]
       }
      ],
      "source": "MAP_URL = \"{base}/webclient/api//api/v0/m/screens/\"\n\nqs = {'base': IDR_BASE_URL}\nurl = MAP_URL.format(**qs)\nprint(\"url%s\", url)\nfor a in session.get(url).json():\n    print(\"a%s\", a)",
      "start_time": "2018-09-12T13:14:32.383Z"
     },
     {
      "end_time": "2018-09-12T13:14:43.957Z",
      "execution_time": "129ms",
      "outputs": [
       {
        "name": "stdout",
        "output_type": "stream",
        "text": "('url%s', 'http://idr.openmicroscopy.org/webclient/api/v0/m/screens/')\n"
       },
       {
        "ename": "ValueError",
        "evalue": "No JSON object could be decoded",
        "output_type": "error",
        "traceback": [
         "\u001b[0;31m---------------------------------------------------------------------------\u001b[0m",
         "\u001b[0;31mValueError\u001b[0m                                Traceback (most recent call last)",
         "\u001b[0;32m<ipython-input-5-537c42c52797>\u001b[0m in \u001b[0;36m<module>\u001b[0;34m()\u001b[0m\n\u001b[1;32m      4\u001b[0m \u001b[0murl\u001b[0m \u001b[0;34m=\u001b[0m \u001b[0mMAP_URL\u001b[0m\u001b[0;34m.\u001b[0m\u001b[0mformat\u001b[0m\u001b[0;34m(\u001b[0m\u001b[0;34m**\u001b[0m\u001b[0mqs\u001b[0m\u001b[0;34m)\u001b[0m\u001b[0;34m\u001b[0m\u001b[0m\n\u001b[1;32m      5\u001b[0m \u001b[0;32mprint\u001b[0m\u001b[0;34m(\u001b[0m\u001b[0;34m\"url%s\"\u001b[0m\u001b[0;34m,\u001b[0m \u001b[0murl\u001b[0m\u001b[0;34m)\u001b[0m\u001b[0;34m\u001b[0m\u001b[0m\n\u001b[0;32m----> 6\u001b[0;31m \u001b[0;32mfor\u001b[0m \u001b[0ma\u001b[0m \u001b[0;32min\u001b[0m \u001b[0msession\u001b[0m\u001b[0;34m.\u001b[0m\u001b[0mget\u001b[0m\u001b[0;34m(\u001b[0m\u001b[0murl\u001b[0m\u001b[0;34m)\u001b[0m\u001b[0;34m.\u001b[0m\u001b[0mjson\u001b[0m\u001b[0;34m(\u001b[0m\u001b[0;34m)\u001b[0m\u001b[0;34m:\u001b[0m\u001b[0;34m\u001b[0m\u001b[0m\n\u001b[0m\u001b[1;32m      7\u001b[0m     \u001b[0;32mprint\u001b[0m\u001b[0;34m(\u001b[0m\u001b[0;34m\"a%s\"\u001b[0m\u001b[0;34m,\u001b[0m \u001b[0ma\u001b[0m\u001b[0;34m)\u001b[0m\u001b[0;34m\u001b[0m\u001b[0m\n",
         "\u001b[0;32m/usr/local/lib/python2.7/dist-packages/requests/models.pyc\u001b[0m in \u001b[0;36mjson\u001b[0;34m(self, **kwargs)\u001b[0m\n\u001b[1;32m    894\u001b[0m                     \u001b[0;31m# used.\u001b[0m\u001b[0;34m\u001b[0m\u001b[0;34m\u001b[0m\u001b[0m\n\u001b[1;32m    895\u001b[0m                     \u001b[0;32mpass\u001b[0m\u001b[0;34m\u001b[0m\u001b[0m\n\u001b[0;32m--> 896\u001b[0;31m         \u001b[0;32mreturn\u001b[0m \u001b[0mcomplexjson\u001b[0m\u001b[0;34m.\u001b[0m\u001b[0mloads\u001b[0m\u001b[0;34m(\u001b[0m\u001b[0mself\u001b[0m\u001b[0;34m.\u001b[0m\u001b[0mtext\u001b[0m\u001b[0;34m,\u001b[0m \u001b[0;34m**\u001b[0m\u001b[0mkwargs\u001b[0m\u001b[0;34m)\u001b[0m\u001b[0;34m\u001b[0m\u001b[0m\n\u001b[0m\u001b[1;32m    897\u001b[0m \u001b[0;34m\u001b[0m\u001b[0m\n\u001b[1;32m    898\u001b[0m     \u001b[0;34m@\u001b[0m\u001b[0mproperty\u001b[0m\u001b[0;34m\u001b[0m\u001b[0m\n",
         "\u001b[0;32m/usr/lib/python2.7/json/__init__.pyc\u001b[0m in \u001b[0;36mloads\u001b[0;34m(s, encoding, cls, object_hook, parse_float, parse_int, parse_constant, object_pairs_hook, **kw)\u001b[0m\n\u001b[1;32m    337\u001b[0m             \u001b[0mparse_int\u001b[0m \u001b[0;32mis\u001b[0m \u001b[0mNone\u001b[0m \u001b[0;32mand\u001b[0m \u001b[0mparse_float\u001b[0m \u001b[0;32mis\u001b[0m \u001b[0mNone\u001b[0m \u001b[0;32mand\u001b[0m\u001b[0;34m\u001b[0m\u001b[0m\n\u001b[1;32m    338\u001b[0m             parse_constant is None and object_pairs_hook is None and not kw):\n\u001b[0;32m--> 339\u001b[0;31m         \u001b[0;32mreturn\u001b[0m \u001b[0m_default_decoder\u001b[0m\u001b[0;34m.\u001b[0m\u001b[0mdecode\u001b[0m\u001b[0;34m(\u001b[0m\u001b[0ms\u001b[0m\u001b[0;34m)\u001b[0m\u001b[0;34m\u001b[0m\u001b[0m\n\u001b[0m\u001b[1;32m    340\u001b[0m     \u001b[0;32mif\u001b[0m \u001b[0mcls\u001b[0m \u001b[0;32mis\u001b[0m \u001b[0mNone\u001b[0m\u001b[0;34m:\u001b[0m\u001b[0;34m\u001b[0m\u001b[0m\n\u001b[1;32m    341\u001b[0m         \u001b[0mcls\u001b[0m \u001b[0;34m=\u001b[0m \u001b[0mJSONDecoder\u001b[0m\u001b[0;34m\u001b[0m\u001b[0m\n",
         "\u001b[0;32m/usr/lib/python2.7/json/decoder.pyc\u001b[0m in \u001b[0;36mdecode\u001b[0;34m(self, s, _w)\u001b[0m\n\u001b[1;32m    362\u001b[0m \u001b[0;34m\u001b[0m\u001b[0m\n\u001b[1;32m    363\u001b[0m         \"\"\"\n\u001b[0;32m--> 364\u001b[0;31m         \u001b[0mobj\u001b[0m\u001b[0;34m,\u001b[0m \u001b[0mend\u001b[0m \u001b[0;34m=\u001b[0m \u001b[0mself\u001b[0m\u001b[0;34m.\u001b[0m\u001b[0mraw_decode\u001b[0m\u001b[0;34m(\u001b[0m\u001b[0ms\u001b[0m\u001b[0;34m,\u001b[0m \u001b[0midx\u001b[0m\u001b[0;34m=\u001b[0m\u001b[0m_w\u001b[0m\u001b[0;34m(\u001b[0m\u001b[0ms\u001b[0m\u001b[0;34m,\u001b[0m \u001b[0;36m0\u001b[0m\u001b[0;34m)\u001b[0m\u001b[0;34m.\u001b[0m\u001b[0mend\u001b[0m\u001b[0;34m(\u001b[0m\u001b[0;34m)\u001b[0m\u001b[0;34m)\u001b[0m\u001b[0;34m\u001b[0m\u001b[0m\n\u001b[0m\u001b[1;32m    365\u001b[0m         \u001b[0mend\u001b[0m \u001b[0;34m=\u001b[0m \u001b[0m_w\u001b[0m\u001b[0;34m(\u001b[0m\u001b[0ms\u001b[0m\u001b[0;34m,\u001b[0m \u001b[0mend\u001b[0m\u001b[0;34m)\u001b[0m\u001b[0;34m.\u001b[0m\u001b[0mend\u001b[0m\u001b[0;34m(\u001b[0m\u001b[0;34m)\u001b[0m\u001b[0;34m\u001b[0m\u001b[0m\n\u001b[1;32m    366\u001b[0m         \u001b[0;32mif\u001b[0m \u001b[0mend\u001b[0m \u001b[0;34m!=\u001b[0m \u001b[0mlen\u001b[0m\u001b[0;34m(\u001b[0m\u001b[0ms\u001b[0m\u001b[0;34m)\u001b[0m\u001b[0;34m:\u001b[0m\u001b[0;34m\u001b[0m\u001b[0m\n",
         "\u001b[0;32m/usr/lib/python2.7/json/decoder.pyc\u001b[0m in \u001b[0;36mraw_decode\u001b[0;34m(self, s, idx)\u001b[0m\n\u001b[1;32m    380\u001b[0m             \u001b[0mobj\u001b[0m\u001b[0;34m,\u001b[0m \u001b[0mend\u001b[0m \u001b[0;34m=\u001b[0m \u001b[0mself\u001b[0m\u001b[0;34m.\u001b[0m\u001b[0mscan_once\u001b[0m\u001b[0;34m(\u001b[0m\u001b[0ms\u001b[0m\u001b[0;34m,\u001b[0m \u001b[0midx\u001b[0m\u001b[0;34m)\u001b[0m\u001b[0;34m\u001b[0m\u001b[0m\n\u001b[1;32m    381\u001b[0m         \u001b[0;32mexcept\u001b[0m \u001b[0mStopIteration\u001b[0m\u001b[0;34m:\u001b[0m\u001b[0;34m\u001b[0m\u001b[0m\n\u001b[0;32m--> 382\u001b[0;31m             \u001b[0;32mraise\u001b[0m \u001b[0mValueError\u001b[0m\u001b[0;34m(\u001b[0m\u001b[0;34m\"No JSON object could be decoded\"\u001b[0m\u001b[0;34m)\u001b[0m\u001b[0;34m\u001b[0m\u001b[0m\n\u001b[0m\u001b[1;32m    383\u001b[0m         \u001b[0;32mreturn\u001b[0m \u001b[0mobj\u001b[0m\u001b[0;34m,\u001b[0m \u001b[0mend\u001b[0m\u001b[0;34m\u001b[0m\u001b[0m\n",
         "\u001b[0;31mValueError\u001b[0m: No JSON object could be decoded"
        ]
       }
      ],
      "source": "MAP_URL = \"{base}/webclient/api/v0/m/screens/\"\n\nqs = {'base': IDR_BASE_URL}\nurl = MAP_URL.format(**qs)\nprint(\"url%s\", url)\nfor a in session.get(url).json():\n    print(\"a%s\", a)",
      "start_time": "2018-09-12T13:14:43.828Z"
     },
     {
      "end_time": "2018-09-12T13:15:02.850Z",
      "execution_time": "62ms",
      "outputs": [
       {
        "name": "stdout",
        "output_type": "stream",
        "text": "('url%s', 'http://idr.openmicroscopy.org/webclient/api/v0/m/screens/')\n('a%s', '<?xml version=\"1.0\" encoding=\"iso-8859-1\"?>\\n<!DOCTYPE html PUBLIC \"-//W3C//DTD XHTML 1.0 Transitional//EN\" \"http://www.w3.org/TR')\n('a%s', '/xhtml1/DTD/xhtml1-transitional.dtd\">\\n\\n<html xmlns=\"http://www.w3.org/1999/xhtml\">\\n\\n\\n\\n<head>\\n    <meta http-equiv=\"X-UA-Compatib')\n('a%s', 'le\" content=\"IE=Edge\" />\\n\\n    \\n    \\n\\t\\t<link rel=\"stylesheet\" href=\"/static/webgateway/css/reset.css?_5.4.6-rc2-39-8e16ee4-ice36-')\n('a%s', 'b99\" type=\"text/css\" />   \\n\\t\\t<link rel=\"stylesheet\" href=\"/static/webgateway/css/ome.body.css?_5.4.6-rc2-39-8e16ee4-ice36-b99\" t')\n('a%s', 'ype=\"text/css\" />\\n\\t\\t<link rel=\"stylesheet\" href=\"/static/webclient/css/dusty.css?_5.4.6-rc2-39-8e16ee4-ice36-b99\" type=\"text/css')\n('a%s', '\" media=\"screen\"/>\\n    \\n    <link rel=\"stylesheet\" href=\"/static/feedback/css/layout.css\" type=\"text/css\" />\\n\\n\\n\\n    <!-- extend ')\n('a%s', 'here to add page title -->\\n    <title>\\n        \\n    OMERO.web - support\\n\\n    </title>\\n\\n    \\n        <!-- block for javascript <s')\n('a%s', 'cript> -->\\n    \\n\\n    \\n    \\n        <!-- block for extra head elements (not css or javascript) E.g. icon, meta tags -->\\n        \\n')\n('a%s', '\\n<link rel=\"shortcut icon\" href=\"/static/webgateway/img/ome.ico\" type=\"image/x-icon\" />\\n\\n\\n    \\n    \\n\\n<link rel=\"shortcut icon\" h')\n('a%s', 'ref=\"/static/webgateway/img/ome.ico\" type=\"image/x-icon\" />\\n\\n\\n\\n\\n</head>\\n<body>\\n\\n\\n<div class=\"bodyWrapper\">\\n    <div><h1>\\n       ')\n('a%s', ' Go back to <a href=\"/webclient/\">OMERO.web</a>\\n    </h1>\\n    \\n    <div class=\"error\"><h1>Page not found. <em>(404)</em></h1>\\n  ')\n('a%s', '  <p>The requested object or URL was not found on this server. The link you followed is either outdated, inaccurate, or the serv')\n('a%s', 'er has been instructed not to let you have it.</p></div>\\n    \\n\\n    </div>\\n\\n</div>\\n\\n\\n\\n    <!-- settings.BASE_INCLUDE_TEMPLATE inc')\n('a%s', 'luded here -->\\n    \\n</body>\\n</html>\\n')\n"
       }
      ],
      "source": "MAP_URL = \"{base}/webclient/api/v0/m/screens/\"\n\nqs = {'base': IDR_BASE_URL}\nurl = MAP_URL.format(**qs)\nprint(\"url%s\", url)\nfor a in session.get(url):\n    print(\"a%s\", a)",
      "start_time": "2018-09-12T13:15:02.788Z"
     },
     {
      "end_time": "2018-09-12T13:16:25.152Z",
      "execution_time": "222ms",
      "outputs": [
       {
        "name": "stdout",
        "output_type": "stream",
        "text": "('url%s', 'http://idr.openmicroscopy.org/webclient/api/')\n('a%s', '<?xml version=\"1.0\" encoding=\"iso-8859-1\"?>\\n<!DOCTYPE html PUBLIC \"-//W3C//DTD XHTML 1.0 Transitional//EN\" \"http://www.w3.org/TR')\n('a%s', '/xhtml1/DTD/xhtml1-transitional.dtd\">\\n\\n<html xmlns=\"http://www.w3.org/1999/xhtml\">\\n\\n\\n\\n<head>\\n    <meta http-equiv=\"X-UA-Compatib')\n('a%s', 'le\" content=\"IE=Edge\" />\\n\\n    \\n    \\n\\t\\t<link rel=\"stylesheet\" href=\"/static/webgateway/css/reset.css?_5.4.6-rc2-39-8e16ee4-ice36-')\n('a%s', 'b99\" type=\"text/css\" />   \\n\\t\\t<link rel=\"stylesheet\" href=\"/static/webgateway/css/ome.body.css?_5.4.6-rc2-39-8e16ee4-ice36-b99\" t')\n('a%s', 'ype=\"text/css\" />\\n\\t\\t<link rel=\"stylesheet\" href=\"/static/webclient/css/dusty.css?_5.4.6-rc2-39-8e16ee4-ice36-b99\" type=\"text/css')\n('a%s', '\" media=\"screen\"/>\\n    \\n    <link rel=\"stylesheet\" href=\"/static/feedback/css/layout.css\" type=\"text/css\" />\\n\\n\\n\\n    <!-- extend ')\n('a%s', 'here to add page title -->\\n    <title>\\n        \\n    OMERO.web - support\\n\\n    </title>\\n\\n    \\n        <!-- block for javascript <s')\n('a%s', 'cript> -->\\n    \\n\\n    \\n    \\n        <!-- block for extra head elements (not css or javascript) E.g. icon, meta tags -->\\n        \\n')\n('a%s', '\\n<link rel=\"shortcut icon\" href=\"/static/webgateway/img/ome.ico\" type=\"image/x-icon\" />\\n\\n\\n    \\n    \\n\\n<link rel=\"shortcut icon\" h')\n('a%s', 'ref=\"/static/webgateway/img/ome.ico\" type=\"image/x-icon\" />\\n\\n\\n\\n\\n</head>\\n<body>\\n\\n\\n<div class=\"bodyWrapper\">\\n    <div><h1>\\n       ')\n('a%s', ' Go back to <a href=\"/webclient/\">OMERO.web</a>\\n    </h1>\\n    \\n    <div class=\"error\"><h1>Page not found. <em>(404)</em></h1>\\n  ')\n('a%s', '  <p>The requested object or URL was not found on this server. The link you followed is either outdated, inaccurate, or the serv')\n('a%s', 'er has been instructed not to let you have it.</p></div>\\n    \\n\\n    </div>\\n\\n</div>\\n\\n\\n\\n    <!-- settings.BASE_INCLUDE_TEMPLATE inc')\n('a%s', 'luded here -->\\n    \\n</body>\\n</html>\\n')\n"
       }
      ],
      "source": "MAP_URL = \"{base}/webclient/api/\"\n\nqs = {'base': IDR_BASE_URL}\nurl = MAP_URL.format(**qs)\nprint(\"url%s\", url)\nfor a in session.get(url):\n    print(\"a%s\", a)",
      "start_time": "2018-09-12T13:16:24.930Z"
     },
     {
      "end_time": "2018-09-12T13:17:11.719Z",
      "execution_time": "16ms",
      "outputs": [
       {
        "ename": "SyntaxError",
        "evalue": "invalid syntax (<ipython-input-8-e9fd50fc3fc1>, line 6)",
        "output_type": "error",
        "traceback": [
         "\u001b[0;36m  File \u001b[0;32m\"<ipython-input-8-e9fd50fc3fc1>\"\u001b[0;36m, line \u001b[0;32m6\u001b[0m\n\u001b[0;31m    for a in session.get(url)json():\u001b[0m\n\u001b[0m                                ^\u001b[0m\n\u001b[0;31mSyntaxError\u001b[0m\u001b[0;31m:\u001b[0m invalid syntax\n"
        ]
       }
      ],
      "source": "MAP_URL = \"{base}/webclient/api/\"\n\nqs = {'base': IDR_BASE_URL}\nurl = MAP_URL.format(**qs)\nprint(\"url%s\", url)\nfor a in session.get(url)json():\n    print(\"a%s\", a)",
      "start_time": "2018-09-12T13:17:11.703Z"
     },
     {
      "end_time": "2018-09-12T13:17:18.934Z",
      "execution_time": "106ms",
      "outputs": [
       {
        "name": "stdout",
        "output_type": "stream",
        "text": "('url%s', 'http://idr.openmicroscopy.org/webclient/api/')\n"
       },
       {
        "ename": "ValueError",
        "evalue": "No JSON object could be decoded",
        "output_type": "error",
        "traceback": [
         "\u001b[0;31m---------------------------------------------------------------------------\u001b[0m",
         "\u001b[0;31mValueError\u001b[0m                                Traceback (most recent call last)",
         "\u001b[0;32m<ipython-input-11-1b514268626b>\u001b[0m in \u001b[0;36m<module>\u001b[0;34m()\u001b[0m\n\u001b[1;32m      4\u001b[0m \u001b[0murl\u001b[0m \u001b[0;34m=\u001b[0m \u001b[0mMAP_URL\u001b[0m\u001b[0;34m.\u001b[0m\u001b[0mformat\u001b[0m\u001b[0;34m(\u001b[0m\u001b[0;34m**\u001b[0m\u001b[0mqs\u001b[0m\u001b[0;34m)\u001b[0m\u001b[0;34m\u001b[0m\u001b[0m\n\u001b[1;32m      5\u001b[0m \u001b[0;32mprint\u001b[0m\u001b[0;34m(\u001b[0m\u001b[0;34m\"url%s\"\u001b[0m\u001b[0;34m,\u001b[0m \u001b[0murl\u001b[0m\u001b[0;34m)\u001b[0m\u001b[0;34m\u001b[0m\u001b[0m\n\u001b[0;32m----> 6\u001b[0;31m \u001b[0;32mfor\u001b[0m \u001b[0ma\u001b[0m \u001b[0;32min\u001b[0m \u001b[0msession\u001b[0m\u001b[0;34m.\u001b[0m\u001b[0mget\u001b[0m\u001b[0;34m(\u001b[0m\u001b[0murl\u001b[0m\u001b[0;34m)\u001b[0m\u001b[0;34m.\u001b[0m\u001b[0mjson\u001b[0m\u001b[0;34m(\u001b[0m\u001b[0;34m)\u001b[0m\u001b[0;34m:\u001b[0m\u001b[0;34m\u001b[0m\u001b[0m\n\u001b[0m\u001b[1;32m      7\u001b[0m     \u001b[0;32mprint\u001b[0m\u001b[0;34m(\u001b[0m\u001b[0;34m\"a%s\"\u001b[0m\u001b[0;34m,\u001b[0m \u001b[0ma\u001b[0m\u001b[0;34m)\u001b[0m\u001b[0;34m\u001b[0m\u001b[0m\n",
         "\u001b[0;32m/usr/local/lib/python2.7/dist-packages/requests/models.pyc\u001b[0m in \u001b[0;36mjson\u001b[0;34m(self, **kwargs)\u001b[0m\n\u001b[1;32m    894\u001b[0m                     \u001b[0;31m# used.\u001b[0m\u001b[0;34m\u001b[0m\u001b[0;34m\u001b[0m\u001b[0m\n\u001b[1;32m    895\u001b[0m                     \u001b[0;32mpass\u001b[0m\u001b[0;34m\u001b[0m\u001b[0m\n\u001b[0;32m--> 896\u001b[0;31m         \u001b[0;32mreturn\u001b[0m \u001b[0mcomplexjson\u001b[0m\u001b[0;34m.\u001b[0m\u001b[0mloads\u001b[0m\u001b[0;34m(\u001b[0m\u001b[0mself\u001b[0m\u001b[0;34m.\u001b[0m\u001b[0mtext\u001b[0m\u001b[0;34m,\u001b[0m \u001b[0;34m**\u001b[0m\u001b[0mkwargs\u001b[0m\u001b[0;34m)\u001b[0m\u001b[0;34m\u001b[0m\u001b[0m\n\u001b[0m\u001b[1;32m    897\u001b[0m \u001b[0;34m\u001b[0m\u001b[0m\n\u001b[1;32m    898\u001b[0m     \u001b[0;34m@\u001b[0m\u001b[0mproperty\u001b[0m\u001b[0;34m\u001b[0m\u001b[0m\n",
         "\u001b[0;32m/usr/lib/python2.7/json/__init__.pyc\u001b[0m in \u001b[0;36mloads\u001b[0;34m(s, encoding, cls, object_hook, parse_float, parse_int, parse_constant, object_pairs_hook, **kw)\u001b[0m\n\u001b[1;32m    337\u001b[0m             \u001b[0mparse_int\u001b[0m \u001b[0;32mis\u001b[0m \u001b[0mNone\u001b[0m \u001b[0;32mand\u001b[0m \u001b[0mparse_float\u001b[0m \u001b[0;32mis\u001b[0m \u001b[0mNone\u001b[0m \u001b[0;32mand\u001b[0m\u001b[0;34m\u001b[0m\u001b[0m\n\u001b[1;32m    338\u001b[0m             parse_constant is None and object_pairs_hook is None and not kw):\n\u001b[0;32m--> 339\u001b[0;31m         \u001b[0;32mreturn\u001b[0m \u001b[0m_default_decoder\u001b[0m\u001b[0;34m.\u001b[0m\u001b[0mdecode\u001b[0m\u001b[0;34m(\u001b[0m\u001b[0ms\u001b[0m\u001b[0;34m)\u001b[0m\u001b[0;34m\u001b[0m\u001b[0m\n\u001b[0m\u001b[1;32m    340\u001b[0m     \u001b[0;32mif\u001b[0m \u001b[0mcls\u001b[0m \u001b[0;32mis\u001b[0m \u001b[0mNone\u001b[0m\u001b[0;34m:\u001b[0m\u001b[0;34m\u001b[0m\u001b[0m\n\u001b[1;32m    341\u001b[0m         \u001b[0mcls\u001b[0m \u001b[0;34m=\u001b[0m \u001b[0mJSONDecoder\u001b[0m\u001b[0;34m\u001b[0m\u001b[0m\n",
         "\u001b[0;32m/usr/lib/python2.7/json/decoder.pyc\u001b[0m in \u001b[0;36mdecode\u001b[0;34m(self, s, _w)\u001b[0m\n\u001b[1;32m    362\u001b[0m \u001b[0;34m\u001b[0m\u001b[0m\n\u001b[1;32m    363\u001b[0m         \"\"\"\n\u001b[0;32m--> 364\u001b[0;31m         \u001b[0mobj\u001b[0m\u001b[0;34m,\u001b[0m \u001b[0mend\u001b[0m \u001b[0;34m=\u001b[0m \u001b[0mself\u001b[0m\u001b[0;34m.\u001b[0m\u001b[0mraw_decode\u001b[0m\u001b[0;34m(\u001b[0m\u001b[0ms\u001b[0m\u001b[0;34m,\u001b[0m \u001b[0midx\u001b[0m\u001b[0;34m=\u001b[0m\u001b[0m_w\u001b[0m\u001b[0;34m(\u001b[0m\u001b[0ms\u001b[0m\u001b[0;34m,\u001b[0m \u001b[0;36m0\u001b[0m\u001b[0;34m)\u001b[0m\u001b[0;34m.\u001b[0m\u001b[0mend\u001b[0m\u001b[0;34m(\u001b[0m\u001b[0;34m)\u001b[0m\u001b[0;34m)\u001b[0m\u001b[0;34m\u001b[0m\u001b[0m\n\u001b[0m\u001b[1;32m    365\u001b[0m         \u001b[0mend\u001b[0m \u001b[0;34m=\u001b[0m \u001b[0m_w\u001b[0m\u001b[0;34m(\u001b[0m\u001b[0ms\u001b[0m\u001b[0;34m,\u001b[0m \u001b[0mend\u001b[0m\u001b[0;34m)\u001b[0m\u001b[0;34m.\u001b[0m\u001b[0mend\u001b[0m\u001b[0;34m(\u001b[0m\u001b[0;34m)\u001b[0m\u001b[0;34m\u001b[0m\u001b[0m\n\u001b[1;32m    366\u001b[0m         \u001b[0;32mif\u001b[0m \u001b[0mend\u001b[0m \u001b[0;34m!=\u001b[0m \u001b[0mlen\u001b[0m\u001b[0;34m(\u001b[0m\u001b[0ms\u001b[0m\u001b[0;34m)\u001b[0m\u001b[0;34m:\u001b[0m\u001b[0;34m\u001b[0m\u001b[0m\n",
         "\u001b[0;32m/usr/lib/python2.7/json/decoder.pyc\u001b[0m in \u001b[0;36mraw_decode\u001b[0;34m(self, s, idx)\u001b[0m\n\u001b[1;32m    380\u001b[0m             \u001b[0mobj\u001b[0m\u001b[0;34m,\u001b[0m \u001b[0mend\u001b[0m \u001b[0;34m=\u001b[0m \u001b[0mself\u001b[0m\u001b[0;34m.\u001b[0m\u001b[0mscan_once\u001b[0m\u001b[0;34m(\u001b[0m\u001b[0ms\u001b[0m\u001b[0;34m,\u001b[0m \u001b[0midx\u001b[0m\u001b[0;34m)\u001b[0m\u001b[0;34m\u001b[0m\u001b[0m\n\u001b[1;32m    381\u001b[0m         \u001b[0;32mexcept\u001b[0m \u001b[0mStopIteration\u001b[0m\u001b[0;34m:\u001b[0m\u001b[0;34m\u001b[0m\u001b[0m\n\u001b[0;32m--> 382\u001b[0;31m             \u001b[0;32mraise\u001b[0m \u001b[0mValueError\u001b[0m\u001b[0;34m(\u001b[0m\u001b[0;34m\"No JSON object could be decoded\"\u001b[0m\u001b[0;34m)\u001b[0m\u001b[0;34m\u001b[0m\u001b[0m\n\u001b[0m\u001b[1;32m    383\u001b[0m         \u001b[0;32mreturn\u001b[0m \u001b[0mobj\u001b[0m\u001b[0;34m,\u001b[0m \u001b[0mend\u001b[0m\u001b[0;34m\u001b[0m\u001b[0m\n",
         "\u001b[0;31mValueError\u001b[0m: No JSON object could be decoded"
        ]
       }
      ],
      "source": "MAP_URL = \"{base}/webclient/api/\"\n\nqs = {'base': IDR_BASE_URL}\nurl = MAP_URL.format(**qs)\nprint(\"url%s\", url)\nfor a in session.get(url).json():\n    print(\"a%s\", a)",
      "start_time": "2018-09-12T13:17:18.828Z"
     },
     {
      "end_time": "2018-09-12T13:18:15.999Z",
      "execution_time": "17ms",
      "outputs": [
       {
        "name": "stdout",
        "output_type": "stream",
        "text": "('url%s', 'http://idr.openmicroscopy.org/webclient/api/')\n"
       },
       {
        "ename": "NameError",
        "evalue": "name 'api_url' is not defined",
        "output_type": "error",
        "traceback": [
         "\u001b[0;31m---------------------------------------------------------------------------\u001b[0m",
         "\u001b[0;31mNameError\u001b[0m                                 Traceback (most recent call last)",
         "\u001b[0;32m<ipython-input-14-2812d2684bee>\u001b[0m in \u001b[0;36m<module>\u001b[0;34m()\u001b[0m\n\u001b[1;32m      4\u001b[0m \u001b[0murl\u001b[0m \u001b[0;34m=\u001b[0m \u001b[0mMAP_URL\u001b[0m\u001b[0;34m.\u001b[0m\u001b[0mformat\u001b[0m\u001b[0;34m(\u001b[0m\u001b[0;34m**\u001b[0m\u001b[0mqs\u001b[0m\u001b[0;34m)\u001b[0m\u001b[0;34m\u001b[0m\u001b[0m\n\u001b[1;32m      5\u001b[0m \u001b[0;32mprint\u001b[0m\u001b[0;34m(\u001b[0m\u001b[0;34m\"url%s\"\u001b[0m\u001b[0;34m,\u001b[0m \u001b[0murl\u001b[0m\u001b[0;34m)\u001b[0m\u001b[0;34m\u001b[0m\u001b[0m\n\u001b[0;32m----> 6\u001b[0;31m \u001b[0mr\u001b[0m \u001b[0;34m=\u001b[0m \u001b[0msession\u001b[0m\u001b[0;34m.\u001b[0m\u001b[0mget\u001b[0m\u001b[0;34m(\u001b[0m\u001b[0mapi_url\u001b[0m\u001b[0;34m)\u001b[0m\u001b[0;34m\u001b[0m\u001b[0m\n\u001b[0m\u001b[1;32m      7\u001b[0m \u001b[0mversions\u001b[0m \u001b[0;34m=\u001b[0m \u001b[0mr\u001b[0m\u001b[0;34m.\u001b[0m\u001b[0mjson\u001b[0m\u001b[0;34m(\u001b[0m\u001b[0;34m)\u001b[0m\u001b[0;34m[\u001b[0m\u001b[0;34m'data'\u001b[0m\u001b[0;34m]\u001b[0m\u001b[0;34m\u001b[0m\u001b[0m\n",
         "\u001b[0;31mNameError\u001b[0m: name 'api_url' is not defined"
        ]
       }
      ],
      "source": "MAP_URL = \"{base}/webclient/api/\"\n\nqs = {'base': IDR_BASE_URL}\nurl = MAP_URL.format(**qs)\nprint(\"url%s\", url)\nr = session.get(api_url)\nversions = r.json()['data']",
      "start_time": "2018-09-12T13:18:15.982Z"
     },
     {
      "end_time": "2018-09-12T13:18:23.918Z",
      "execution_time": "101ms",
      "outputs": [
       {
        "name": "stdout",
        "output_type": "stream",
        "text": "('url%s', 'http://idr.openmicroscopy.org/webclient/api/')\n"
       },
       {
        "ename": "ValueError",
        "evalue": "No JSON object could be decoded",
        "output_type": "error",
        "traceback": [
         "\u001b[0;31m---------------------------------------------------------------------------\u001b[0m",
         "\u001b[0;31mValueError\u001b[0m                                Traceback (most recent call last)",
         "\u001b[0;32m<ipython-input-17-28e9f92c767e>\u001b[0m in \u001b[0;36m<module>\u001b[0;34m()\u001b[0m\n\u001b[1;32m      5\u001b[0m \u001b[0;32mprint\u001b[0m\u001b[0;34m(\u001b[0m\u001b[0;34m\"url%s\"\u001b[0m\u001b[0;34m,\u001b[0m \u001b[0murl\u001b[0m\u001b[0;34m)\u001b[0m\u001b[0;34m\u001b[0m\u001b[0m\n\u001b[1;32m      6\u001b[0m \u001b[0mr\u001b[0m \u001b[0;34m=\u001b[0m \u001b[0msession\u001b[0m\u001b[0;34m.\u001b[0m\u001b[0mget\u001b[0m\u001b[0;34m(\u001b[0m\u001b[0murl\u001b[0m\u001b[0;34m)\u001b[0m\u001b[0;34m\u001b[0m\u001b[0m\n\u001b[0;32m----> 7\u001b[0;31m \u001b[0mversions\u001b[0m \u001b[0;34m=\u001b[0m \u001b[0mr\u001b[0m\u001b[0;34m.\u001b[0m\u001b[0mjson\u001b[0m\u001b[0;34m(\u001b[0m\u001b[0;34m)\u001b[0m\u001b[0;34m[\u001b[0m\u001b[0;34m'data'\u001b[0m\u001b[0;34m]\u001b[0m\u001b[0;34m\u001b[0m\u001b[0m\n\u001b[0m",
         "\u001b[0;32m/usr/local/lib/python2.7/dist-packages/requests/models.pyc\u001b[0m in \u001b[0;36mjson\u001b[0;34m(self, **kwargs)\u001b[0m\n\u001b[1;32m    894\u001b[0m                     \u001b[0;31m# used.\u001b[0m\u001b[0;34m\u001b[0m\u001b[0;34m\u001b[0m\u001b[0m\n\u001b[1;32m    895\u001b[0m                     \u001b[0;32mpass\u001b[0m\u001b[0;34m\u001b[0m\u001b[0m\n\u001b[0;32m--> 896\u001b[0;31m         \u001b[0;32mreturn\u001b[0m \u001b[0mcomplexjson\u001b[0m\u001b[0;34m.\u001b[0m\u001b[0mloads\u001b[0m\u001b[0;34m(\u001b[0m\u001b[0mself\u001b[0m\u001b[0;34m.\u001b[0m\u001b[0mtext\u001b[0m\u001b[0;34m,\u001b[0m \u001b[0;34m**\u001b[0m\u001b[0mkwargs\u001b[0m\u001b[0;34m)\u001b[0m\u001b[0;34m\u001b[0m\u001b[0m\n\u001b[0m\u001b[1;32m    897\u001b[0m \u001b[0;34m\u001b[0m\u001b[0m\n\u001b[1;32m    898\u001b[0m     \u001b[0;34m@\u001b[0m\u001b[0mproperty\u001b[0m\u001b[0;34m\u001b[0m\u001b[0m\n",
         "\u001b[0;32m/usr/lib/python2.7/json/__init__.pyc\u001b[0m in \u001b[0;36mloads\u001b[0;34m(s, encoding, cls, object_hook, parse_float, parse_int, parse_constant, object_pairs_hook, **kw)\u001b[0m\n\u001b[1;32m    337\u001b[0m             \u001b[0mparse_int\u001b[0m \u001b[0;32mis\u001b[0m \u001b[0mNone\u001b[0m \u001b[0;32mand\u001b[0m \u001b[0mparse_float\u001b[0m \u001b[0;32mis\u001b[0m \u001b[0mNone\u001b[0m \u001b[0;32mand\u001b[0m\u001b[0;34m\u001b[0m\u001b[0m\n\u001b[1;32m    338\u001b[0m             parse_constant is None and object_pairs_hook is None and not kw):\n\u001b[0;32m--> 339\u001b[0;31m         \u001b[0;32mreturn\u001b[0m \u001b[0m_default_decoder\u001b[0m\u001b[0;34m.\u001b[0m\u001b[0mdecode\u001b[0m\u001b[0;34m(\u001b[0m\u001b[0ms\u001b[0m\u001b[0;34m)\u001b[0m\u001b[0;34m\u001b[0m\u001b[0m\n\u001b[0m\u001b[1;32m    340\u001b[0m     \u001b[0;32mif\u001b[0m \u001b[0mcls\u001b[0m \u001b[0;32mis\u001b[0m \u001b[0mNone\u001b[0m\u001b[0;34m:\u001b[0m\u001b[0;34m\u001b[0m\u001b[0m\n\u001b[1;32m    341\u001b[0m         \u001b[0mcls\u001b[0m \u001b[0;34m=\u001b[0m \u001b[0mJSONDecoder\u001b[0m\u001b[0;34m\u001b[0m\u001b[0m\n",
         "\u001b[0;32m/usr/lib/python2.7/json/decoder.pyc\u001b[0m in \u001b[0;36mdecode\u001b[0;34m(self, s, _w)\u001b[0m\n\u001b[1;32m    362\u001b[0m \u001b[0;34m\u001b[0m\u001b[0m\n\u001b[1;32m    363\u001b[0m         \"\"\"\n\u001b[0;32m--> 364\u001b[0;31m         \u001b[0mobj\u001b[0m\u001b[0;34m,\u001b[0m \u001b[0mend\u001b[0m \u001b[0;34m=\u001b[0m \u001b[0mself\u001b[0m\u001b[0;34m.\u001b[0m\u001b[0mraw_decode\u001b[0m\u001b[0;34m(\u001b[0m\u001b[0ms\u001b[0m\u001b[0;34m,\u001b[0m \u001b[0midx\u001b[0m\u001b[0;34m=\u001b[0m\u001b[0m_w\u001b[0m\u001b[0;34m(\u001b[0m\u001b[0ms\u001b[0m\u001b[0;34m,\u001b[0m \u001b[0;36m0\u001b[0m\u001b[0;34m)\u001b[0m\u001b[0;34m.\u001b[0m\u001b[0mend\u001b[0m\u001b[0;34m(\u001b[0m\u001b[0;34m)\u001b[0m\u001b[0;34m)\u001b[0m\u001b[0;34m\u001b[0m\u001b[0m\n\u001b[0m\u001b[1;32m    365\u001b[0m         \u001b[0mend\u001b[0m \u001b[0;34m=\u001b[0m \u001b[0m_w\u001b[0m\u001b[0;34m(\u001b[0m\u001b[0ms\u001b[0m\u001b[0;34m,\u001b[0m \u001b[0mend\u001b[0m\u001b[0;34m)\u001b[0m\u001b[0;34m.\u001b[0m\u001b[0mend\u001b[0m\u001b[0;34m(\u001b[0m\u001b[0;34m)\u001b[0m\u001b[0;34m\u001b[0m\u001b[0m\n\u001b[1;32m    366\u001b[0m         \u001b[0;32mif\u001b[0m \u001b[0mend\u001b[0m \u001b[0;34m!=\u001b[0m \u001b[0mlen\u001b[0m\u001b[0;34m(\u001b[0m\u001b[0ms\u001b[0m\u001b[0;34m)\u001b[0m\u001b[0;34m:\u001b[0m\u001b[0;34m\u001b[0m\u001b[0m\n",
         "\u001b[0;32m/usr/lib/python2.7/json/decoder.pyc\u001b[0m in \u001b[0;36mraw_decode\u001b[0;34m(self, s, idx)\u001b[0m\n\u001b[1;32m    380\u001b[0m             \u001b[0mobj\u001b[0m\u001b[0;34m,\u001b[0m \u001b[0mend\u001b[0m \u001b[0;34m=\u001b[0m \u001b[0mself\u001b[0m\u001b[0;34m.\u001b[0m\u001b[0mscan_once\u001b[0m\u001b[0;34m(\u001b[0m\u001b[0ms\u001b[0m\u001b[0;34m,\u001b[0m \u001b[0midx\u001b[0m\u001b[0;34m)\u001b[0m\u001b[0;34m\u001b[0m\u001b[0m\n\u001b[1;32m    381\u001b[0m         \u001b[0;32mexcept\u001b[0m \u001b[0mStopIteration\u001b[0m\u001b[0;34m:\u001b[0m\u001b[0;34m\u001b[0m\u001b[0m\n\u001b[0;32m--> 382\u001b[0;31m             \u001b[0;32mraise\u001b[0m \u001b[0mValueError\u001b[0m\u001b[0;34m(\u001b[0m\u001b[0;34m\"No JSON object could be decoded\"\u001b[0m\u001b[0;34m)\u001b[0m\u001b[0;34m\u001b[0m\u001b[0m\n\u001b[0m\u001b[1;32m    383\u001b[0m         \u001b[0;32mreturn\u001b[0m \u001b[0mobj\u001b[0m\u001b[0;34m,\u001b[0m \u001b[0mend\u001b[0m\u001b[0;34m\u001b[0m\u001b[0m\n",
         "\u001b[0;31mValueError\u001b[0m: No JSON object could be decoded"
        ]
       }
      ],
      "source": "MAP_URL = \"{base}/webclient/api/\"\n\nqs = {'base': IDR_BASE_URL}\nurl = MAP_URL.format(**qs)\nprint(\"url%s\", url)\nr = session.get(url)\nversions = r.json()['data']",
      "start_time": "2018-09-12T13:18:23.817Z"
     },
     {
      "end_time": "2018-09-12T13:19:19.482Z",
      "execution_time": "101ms",
      "outputs": [
       {
        "name": "stdout",
        "output_type": "stream",
        "text": "Starting at: http://idr.openmicroscopy.org/webclient/api/\n"
       },
       {
        "ename": "ValueError",
        "evalue": "No JSON object could be decoded",
        "output_type": "error",
        "traceback": [
         "\u001b[0;31m---------------------------------------------------------------------------\u001b[0m",
         "\u001b[0;31mValueError\u001b[0m                                Traceback (most recent call last)",
         "\u001b[0;32m<ipython-input-20-f38627db0729>\u001b[0m in \u001b[0;36m<module>\u001b[0;34m()\u001b[0m\n\u001b[1;32m      3\u001b[0m \u001b[0mr\u001b[0m \u001b[0;34m=\u001b[0m \u001b[0msession\u001b[0m\u001b[0;34m.\u001b[0m\u001b[0mget\u001b[0m\u001b[0;34m(\u001b[0m\u001b[0mapi_url\u001b[0m\u001b[0;34m)\u001b[0m\u001b[0;34m\u001b[0m\u001b[0m\n\u001b[1;32m      4\u001b[0m \u001b[0;31m# we get a list of versions\u001b[0m\u001b[0;34m\u001b[0m\u001b[0;34m\u001b[0m\u001b[0m\n\u001b[0;32m----> 5\u001b[0;31m \u001b[0mversions\u001b[0m \u001b[0;34m=\u001b[0m \u001b[0mr\u001b[0m\u001b[0;34m.\u001b[0m\u001b[0mjson\u001b[0m\u001b[0;34m(\u001b[0m\u001b[0;34m)\u001b[0m\u001b[0;34m[\u001b[0m\u001b[0;34m'data'\u001b[0m\u001b[0;34m]\u001b[0m\u001b[0;34m\u001b[0m\u001b[0m\n\u001b[0m",
         "\u001b[0;32m/usr/local/lib/python2.7/dist-packages/requests/models.pyc\u001b[0m in \u001b[0;36mjson\u001b[0;34m(self, **kwargs)\u001b[0m\n\u001b[1;32m    894\u001b[0m                     \u001b[0;31m# used.\u001b[0m\u001b[0;34m\u001b[0m\u001b[0;34m\u001b[0m\u001b[0m\n\u001b[1;32m    895\u001b[0m                     \u001b[0;32mpass\u001b[0m\u001b[0;34m\u001b[0m\u001b[0m\n\u001b[0;32m--> 896\u001b[0;31m         \u001b[0;32mreturn\u001b[0m \u001b[0mcomplexjson\u001b[0m\u001b[0;34m.\u001b[0m\u001b[0mloads\u001b[0m\u001b[0;34m(\u001b[0m\u001b[0mself\u001b[0m\u001b[0;34m.\u001b[0m\u001b[0mtext\u001b[0m\u001b[0;34m,\u001b[0m \u001b[0;34m**\u001b[0m\u001b[0mkwargs\u001b[0m\u001b[0;34m)\u001b[0m\u001b[0;34m\u001b[0m\u001b[0m\n\u001b[0m\u001b[1;32m    897\u001b[0m \u001b[0;34m\u001b[0m\u001b[0m\n\u001b[1;32m    898\u001b[0m     \u001b[0;34m@\u001b[0m\u001b[0mproperty\u001b[0m\u001b[0;34m\u001b[0m\u001b[0m\n",
         "\u001b[0;32m/usr/lib/python2.7/json/__init__.pyc\u001b[0m in \u001b[0;36mloads\u001b[0;34m(s, encoding, cls, object_hook, parse_float, parse_int, parse_constant, object_pairs_hook, **kw)\u001b[0m\n\u001b[1;32m    337\u001b[0m             \u001b[0mparse_int\u001b[0m \u001b[0;32mis\u001b[0m \u001b[0mNone\u001b[0m \u001b[0;32mand\u001b[0m \u001b[0mparse_float\u001b[0m \u001b[0;32mis\u001b[0m \u001b[0mNone\u001b[0m \u001b[0;32mand\u001b[0m\u001b[0;34m\u001b[0m\u001b[0m\n\u001b[1;32m    338\u001b[0m             parse_constant is None and object_pairs_hook is None and not kw):\n\u001b[0;32m--> 339\u001b[0;31m         \u001b[0;32mreturn\u001b[0m \u001b[0m_default_decoder\u001b[0m\u001b[0;34m.\u001b[0m\u001b[0mdecode\u001b[0m\u001b[0;34m(\u001b[0m\u001b[0ms\u001b[0m\u001b[0;34m)\u001b[0m\u001b[0;34m\u001b[0m\u001b[0m\n\u001b[0m\u001b[1;32m    340\u001b[0m     \u001b[0;32mif\u001b[0m \u001b[0mcls\u001b[0m \u001b[0;32mis\u001b[0m \u001b[0mNone\u001b[0m\u001b[0;34m:\u001b[0m\u001b[0;34m\u001b[0m\u001b[0m\n\u001b[1;32m    341\u001b[0m         \u001b[0mcls\u001b[0m \u001b[0;34m=\u001b[0m \u001b[0mJSONDecoder\u001b[0m\u001b[0;34m\u001b[0m\u001b[0m\n",
         "\u001b[0;32m/usr/lib/python2.7/json/decoder.pyc\u001b[0m in \u001b[0;36mdecode\u001b[0;34m(self, s, _w)\u001b[0m\n\u001b[1;32m    362\u001b[0m \u001b[0;34m\u001b[0m\u001b[0m\n\u001b[1;32m    363\u001b[0m         \"\"\"\n\u001b[0;32m--> 364\u001b[0;31m         \u001b[0mobj\u001b[0m\u001b[0;34m,\u001b[0m \u001b[0mend\u001b[0m \u001b[0;34m=\u001b[0m \u001b[0mself\u001b[0m\u001b[0;34m.\u001b[0m\u001b[0mraw_decode\u001b[0m\u001b[0;34m(\u001b[0m\u001b[0ms\u001b[0m\u001b[0;34m,\u001b[0m \u001b[0midx\u001b[0m\u001b[0;34m=\u001b[0m\u001b[0m_w\u001b[0m\u001b[0;34m(\u001b[0m\u001b[0ms\u001b[0m\u001b[0;34m,\u001b[0m \u001b[0;36m0\u001b[0m\u001b[0;34m)\u001b[0m\u001b[0;34m.\u001b[0m\u001b[0mend\u001b[0m\u001b[0;34m(\u001b[0m\u001b[0;34m)\u001b[0m\u001b[0;34m)\u001b[0m\u001b[0;34m\u001b[0m\u001b[0m\n\u001b[0m\u001b[1;32m    365\u001b[0m         \u001b[0mend\u001b[0m \u001b[0;34m=\u001b[0m \u001b[0m_w\u001b[0m\u001b[0;34m(\u001b[0m\u001b[0ms\u001b[0m\u001b[0;34m,\u001b[0m \u001b[0mend\u001b[0m\u001b[0;34m)\u001b[0m\u001b[0;34m.\u001b[0m\u001b[0mend\u001b[0m\u001b[0;34m(\u001b[0m\u001b[0;34m)\u001b[0m\u001b[0;34m\u001b[0m\u001b[0m\n\u001b[1;32m    366\u001b[0m         \u001b[0;32mif\u001b[0m \u001b[0mend\u001b[0m \u001b[0;34m!=\u001b[0m \u001b[0mlen\u001b[0m\u001b[0;34m(\u001b[0m\u001b[0ms\u001b[0m\u001b[0;34m)\u001b[0m\u001b[0;34m:\u001b[0m\u001b[0;34m\u001b[0m\u001b[0m\n",
         "\u001b[0;32m/usr/lib/python2.7/json/decoder.pyc\u001b[0m in \u001b[0;36mraw_decode\u001b[0;34m(self, s, idx)\u001b[0m\n\u001b[1;32m    380\u001b[0m             \u001b[0mobj\u001b[0m\u001b[0;34m,\u001b[0m \u001b[0mend\u001b[0m \u001b[0;34m=\u001b[0m \u001b[0mself\u001b[0m\u001b[0;34m.\u001b[0m\u001b[0mscan_once\u001b[0m\u001b[0;34m(\u001b[0m\u001b[0ms\u001b[0m\u001b[0;34m,\u001b[0m \u001b[0midx\u001b[0m\u001b[0;34m)\u001b[0m\u001b[0;34m\u001b[0m\u001b[0m\n\u001b[1;32m    381\u001b[0m         \u001b[0;32mexcept\u001b[0m \u001b[0mStopIteration\u001b[0m\u001b[0;34m:\u001b[0m\u001b[0;34m\u001b[0m\u001b[0m\n\u001b[0;32m--> 382\u001b[0;31m             \u001b[0;32mraise\u001b[0m \u001b[0mValueError\u001b[0m\u001b[0;34m(\u001b[0m\u001b[0;34m\"No JSON object could be decoded\"\u001b[0m\u001b[0;34m)\u001b[0m\u001b[0;34m\u001b[0m\u001b[0m\n\u001b[0m\u001b[1;32m    383\u001b[0m         \u001b[0;32mreturn\u001b[0m \u001b[0mobj\u001b[0m\u001b[0;34m,\u001b[0m \u001b[0mend\u001b[0m\u001b[0;34m\u001b[0m\u001b[0m\n",
         "\u001b[0;31mValueError\u001b[0m: No JSON object could be decoded"
        ]
       }
      ],
      "source": "api_url = 'http://idr.openmicroscopy.org/webclient/api/'\nprint \"Starting at:\", api_url\nr = session.get(api_url)\n# we get a list of versions\nversions = r.json()['data']",
      "start_time": "2018-09-12T13:19:19.381Z"
     },
     {
      "end_time": "2018-09-12T13:19:52.280Z",
      "execution_time": "223ms",
      "outputs": [
       {
        "name": "stdout",
        "output_type": "stream",
        "text": "Starting at: https://idr.openmicroscopy.org/webclient/api/\n"
       },
       {
        "ename": "ValueError",
        "evalue": "No JSON object could be decoded",
        "output_type": "error",
        "traceback": [
         "\u001b[0;31m---------------------------------------------------------------------------\u001b[0m",
         "\u001b[0;31mValueError\u001b[0m                                Traceback (most recent call last)",
         "\u001b[0;32m<ipython-input-21-fe1e170f3627>\u001b[0m in \u001b[0;36m<module>\u001b[0;34m()\u001b[0m\n\u001b[1;32m      3\u001b[0m \u001b[0mr\u001b[0m \u001b[0;34m=\u001b[0m \u001b[0msession\u001b[0m\u001b[0;34m.\u001b[0m\u001b[0mget\u001b[0m\u001b[0;34m(\u001b[0m\u001b[0mapi_url\u001b[0m\u001b[0;34m)\u001b[0m\u001b[0;34m\u001b[0m\u001b[0m\n\u001b[1;32m      4\u001b[0m \u001b[0;31m# we get a list of versions\u001b[0m\u001b[0;34m\u001b[0m\u001b[0;34m\u001b[0m\u001b[0m\n\u001b[0;32m----> 5\u001b[0;31m \u001b[0mversions\u001b[0m \u001b[0;34m=\u001b[0m \u001b[0mr\u001b[0m\u001b[0;34m.\u001b[0m\u001b[0mjson\u001b[0m\u001b[0;34m(\u001b[0m\u001b[0;34m)\u001b[0m\u001b[0;34m[\u001b[0m\u001b[0;34m'data'\u001b[0m\u001b[0;34m]\u001b[0m\u001b[0;34m\u001b[0m\u001b[0m\n\u001b[0m",
         "\u001b[0;32m/usr/local/lib/python2.7/dist-packages/requests/models.pyc\u001b[0m in \u001b[0;36mjson\u001b[0;34m(self, **kwargs)\u001b[0m\n\u001b[1;32m    894\u001b[0m                     \u001b[0;31m# used.\u001b[0m\u001b[0;34m\u001b[0m\u001b[0;34m\u001b[0m\u001b[0m\n\u001b[1;32m    895\u001b[0m                     \u001b[0;32mpass\u001b[0m\u001b[0;34m\u001b[0m\u001b[0m\n\u001b[0;32m--> 896\u001b[0;31m         \u001b[0;32mreturn\u001b[0m \u001b[0mcomplexjson\u001b[0m\u001b[0;34m.\u001b[0m\u001b[0mloads\u001b[0m\u001b[0;34m(\u001b[0m\u001b[0mself\u001b[0m\u001b[0;34m.\u001b[0m\u001b[0mtext\u001b[0m\u001b[0;34m,\u001b[0m \u001b[0;34m**\u001b[0m\u001b[0mkwargs\u001b[0m\u001b[0;34m)\u001b[0m\u001b[0;34m\u001b[0m\u001b[0m\n\u001b[0m\u001b[1;32m    897\u001b[0m \u001b[0;34m\u001b[0m\u001b[0m\n\u001b[1;32m    898\u001b[0m     \u001b[0;34m@\u001b[0m\u001b[0mproperty\u001b[0m\u001b[0;34m\u001b[0m\u001b[0m\n",
         "\u001b[0;32m/usr/lib/python2.7/json/__init__.pyc\u001b[0m in \u001b[0;36mloads\u001b[0;34m(s, encoding, cls, object_hook, parse_float, parse_int, parse_constant, object_pairs_hook, **kw)\u001b[0m\n\u001b[1;32m    337\u001b[0m             \u001b[0mparse_int\u001b[0m \u001b[0;32mis\u001b[0m \u001b[0mNone\u001b[0m \u001b[0;32mand\u001b[0m \u001b[0mparse_float\u001b[0m \u001b[0;32mis\u001b[0m \u001b[0mNone\u001b[0m \u001b[0;32mand\u001b[0m\u001b[0;34m\u001b[0m\u001b[0m\n\u001b[1;32m    338\u001b[0m             parse_constant is None and object_pairs_hook is None and not kw):\n\u001b[0;32m--> 339\u001b[0;31m         \u001b[0;32mreturn\u001b[0m \u001b[0m_default_decoder\u001b[0m\u001b[0;34m.\u001b[0m\u001b[0mdecode\u001b[0m\u001b[0;34m(\u001b[0m\u001b[0ms\u001b[0m\u001b[0;34m)\u001b[0m\u001b[0;34m\u001b[0m\u001b[0m\n\u001b[0m\u001b[1;32m    340\u001b[0m     \u001b[0;32mif\u001b[0m \u001b[0mcls\u001b[0m \u001b[0;32mis\u001b[0m \u001b[0mNone\u001b[0m\u001b[0;34m:\u001b[0m\u001b[0;34m\u001b[0m\u001b[0m\n\u001b[1;32m    341\u001b[0m         \u001b[0mcls\u001b[0m \u001b[0;34m=\u001b[0m \u001b[0mJSONDecoder\u001b[0m\u001b[0;34m\u001b[0m\u001b[0m\n",
         "\u001b[0;32m/usr/lib/python2.7/json/decoder.pyc\u001b[0m in \u001b[0;36mdecode\u001b[0;34m(self, s, _w)\u001b[0m\n\u001b[1;32m    362\u001b[0m \u001b[0;34m\u001b[0m\u001b[0m\n\u001b[1;32m    363\u001b[0m         \"\"\"\n\u001b[0;32m--> 364\u001b[0;31m         \u001b[0mobj\u001b[0m\u001b[0;34m,\u001b[0m \u001b[0mend\u001b[0m \u001b[0;34m=\u001b[0m \u001b[0mself\u001b[0m\u001b[0;34m.\u001b[0m\u001b[0mraw_decode\u001b[0m\u001b[0;34m(\u001b[0m\u001b[0ms\u001b[0m\u001b[0;34m,\u001b[0m \u001b[0midx\u001b[0m\u001b[0;34m=\u001b[0m\u001b[0m_w\u001b[0m\u001b[0;34m(\u001b[0m\u001b[0ms\u001b[0m\u001b[0;34m,\u001b[0m \u001b[0;36m0\u001b[0m\u001b[0;34m)\u001b[0m\u001b[0;34m.\u001b[0m\u001b[0mend\u001b[0m\u001b[0;34m(\u001b[0m\u001b[0;34m)\u001b[0m\u001b[0;34m)\u001b[0m\u001b[0;34m\u001b[0m\u001b[0m\n\u001b[0m\u001b[1;32m    365\u001b[0m         \u001b[0mend\u001b[0m \u001b[0;34m=\u001b[0m \u001b[0m_w\u001b[0m\u001b[0;34m(\u001b[0m\u001b[0ms\u001b[0m\u001b[0;34m,\u001b[0m \u001b[0mend\u001b[0m\u001b[0;34m)\u001b[0m\u001b[0;34m.\u001b[0m\u001b[0mend\u001b[0m\u001b[0;34m(\u001b[0m\u001b[0;34m)\u001b[0m\u001b[0;34m\u001b[0m\u001b[0m\n\u001b[1;32m    366\u001b[0m         \u001b[0;32mif\u001b[0m \u001b[0mend\u001b[0m \u001b[0;34m!=\u001b[0m \u001b[0mlen\u001b[0m\u001b[0;34m(\u001b[0m\u001b[0ms\u001b[0m\u001b[0;34m)\u001b[0m\u001b[0;34m:\u001b[0m\u001b[0;34m\u001b[0m\u001b[0m\n",
         "\u001b[0;32m/usr/lib/python2.7/json/decoder.pyc\u001b[0m in \u001b[0;36mraw_decode\u001b[0;34m(self, s, idx)\u001b[0m\n\u001b[1;32m    380\u001b[0m             \u001b[0mobj\u001b[0m\u001b[0;34m,\u001b[0m \u001b[0mend\u001b[0m \u001b[0;34m=\u001b[0m \u001b[0mself\u001b[0m\u001b[0;34m.\u001b[0m\u001b[0mscan_once\u001b[0m\u001b[0;34m(\u001b[0m\u001b[0ms\u001b[0m\u001b[0;34m,\u001b[0m \u001b[0midx\u001b[0m\u001b[0;34m)\u001b[0m\u001b[0;34m\u001b[0m\u001b[0m\n\u001b[1;32m    381\u001b[0m         \u001b[0;32mexcept\u001b[0m \u001b[0mStopIteration\u001b[0m\u001b[0;34m:\u001b[0m\u001b[0;34m\u001b[0m\u001b[0m\n\u001b[0;32m--> 382\u001b[0;31m             \u001b[0;32mraise\u001b[0m \u001b[0mValueError\u001b[0m\u001b[0;34m(\u001b[0m\u001b[0;34m\"No JSON object could be decoded\"\u001b[0m\u001b[0;34m)\u001b[0m\u001b[0;34m\u001b[0m\u001b[0m\n\u001b[0m\u001b[1;32m    383\u001b[0m         \u001b[0;32mreturn\u001b[0m \u001b[0mobj\u001b[0m\u001b[0;34m,\u001b[0m \u001b[0mend\u001b[0m\u001b[0;34m\u001b[0m\u001b[0m\n",
         "\u001b[0;31mValueError\u001b[0m: No JSON object could be decoded"
        ]
       }
      ],
      "source": "api_url = 'https://idr.openmicroscopy.org/webclient/api/'\nprint \"Starting at:\", api_url\nr = session.get(api_url)\n# we get a list of versions\nversions = r.json()['data']",
      "start_time": "2018-09-12T13:19:52.057Z"
     },
     {
      "end_time": "2018-09-12T13:20:02.065Z",
      "execution_time": "70ms",
      "outputs": [
       {
        "name": "stdout",
        "output_type": "stream",
        "text": "Starting at: https://idr.openmicroscopy.org/webclient/api/\n"
       }
      ],
      "source": "api_url = 'https://idr.openmicroscopy.org/webclient/api/'\nprint \"Starting at:\", api_url\nr = session.get(api_url)\n# we get a list of versions\nversions = r",
      "start_time": "2018-09-12T13:20:01.995Z"
     },
     {
      "end_time": "2018-09-12T13:20:10.662Z",
      "execution_time": "55ms",
      "outputs": [
       {
        "name": "stdout",
        "output_type": "stream",
        "text": "Starting at: https://idr.openmicroscopy.org/webclient/api/\n<Response [404]>\n"
       }
      ],
      "source": "api_url = 'https://idr.openmicroscopy.org/webclient/api/'\nprint \"Starting at:\", api_url\nr = session.get(api_url)\n# we get a list of versions\nversions = r\nprint(versions)",
      "start_time": "2018-09-12T13:20:10.607Z"
     },
     {
      "end_time": "2018-09-12T13:20:55.495Z",
      "execution_time": "59ms",
      "outputs": [
       {
        "name": "stdout",
        "output_type": "stream",
        "text": "('session%s', <requests.sessions.Session object at 0x7f05d0e0af90>)\nStarting at: https://idr.openmicroscopy.org/webclient/api/\n<Response [404]>\n"
       }
      ],
      "source": "print(\"session%s\", session)\napi_url = 'https://idr.openmicroscopy.org/webclient/api/'\nprint \"Starting at:\", api_url\nr = session.get(api_url)\n# we get a list of versions\nversions = r\nprint(versions)",
      "start_time": "2018-09-12T13:20:55.436Z"
     },
     {
      "end_time": "2018-09-12T13:23:30.267Z",
      "execution_time": "111ms",
      "outputs": [
       {
        "name": "stdout",
        "output_type": "stream",
        "text": "('session%s', <requests.sessions.Session object at 0x7f05d0e0ae90>)\nStarting at: {base}/webclient/api/\n"
       },
       {
        "ename": "ValueError",
        "evalue": "No JSON object could be decoded",
        "output_type": "error",
        "traceback": [
         "\u001b[0;31m---------------------------------------------------------------------------\u001b[0m",
         "\u001b[0;31mValueError\u001b[0m                                Traceback (most recent call last)",
         "\u001b[0;32m<ipython-input-27-d10a36094358>\u001b[0m in \u001b[0;36m<module>\u001b[0;34m()\u001b[0m\n\u001b[1;32m      4\u001b[0m \u001b[0mqs\u001b[0m \u001b[0;34m=\u001b[0m \u001b[0;34m{\u001b[0m\u001b[0;34m'base'\u001b[0m\u001b[0;34m:\u001b[0m \u001b[0mIDR_BASE_URL\u001b[0m\u001b[0;34m}\u001b[0m\u001b[0;34m\u001b[0m\u001b[0m\n\u001b[1;32m      5\u001b[0m \u001b[0murl\u001b[0m \u001b[0;34m=\u001b[0m \u001b[0mMAP_URL\u001b[0m\u001b[0;34m.\u001b[0m\u001b[0mformat\u001b[0m\u001b[0;34m(\u001b[0m\u001b[0;34m**\u001b[0m\u001b[0mqs\u001b[0m\u001b[0;34m)\u001b[0m\u001b[0;34m\u001b[0m\u001b[0m\n\u001b[0;32m----> 6\u001b[0;31m \u001b[0;32mfor\u001b[0m \u001b[0ma\u001b[0m \u001b[0;32min\u001b[0m \u001b[0msession\u001b[0m\u001b[0;34m.\u001b[0m\u001b[0mget\u001b[0m\u001b[0;34m(\u001b[0m\u001b[0murl\u001b[0m\u001b[0;34m)\u001b[0m\u001b[0;34m.\u001b[0m\u001b[0mjson\u001b[0m\u001b[0;34m(\u001b[0m\u001b[0;34m)\u001b[0m\u001b[0;34m[\u001b[0m\u001b[0;34m'annotations'\u001b[0m\u001b[0;34m]\u001b[0m\u001b[0;34m:\u001b[0m\u001b[0;34m\u001b[0m\u001b[0m\n\u001b[0m\u001b[1;32m      7\u001b[0m     \u001b[0mnamespace\u001b[0m \u001b[0;34m=\u001b[0m \u001b[0ma\u001b[0m\u001b[0;34m[\u001b[0m\u001b[0;34m'ns'\u001b[0m\u001b[0;34m]\u001b[0m\u001b[0;34m\u001b[0m\u001b[0m\n\u001b[1;32m      8\u001b[0m     \u001b[0;32mfor\u001b[0m \u001b[0mv\u001b[0m \u001b[0;32min\u001b[0m \u001b[0ma\u001b[0m\u001b[0;34m[\u001b[0m\u001b[0;34m'values'\u001b[0m\u001b[0;34m]\u001b[0m\u001b[0;34m:\u001b[0m\u001b[0;34m\u001b[0m\u001b[0m\n",
         "\u001b[0;32m/usr/local/lib/python2.7/dist-packages/requests/models.pyc\u001b[0m in \u001b[0;36mjson\u001b[0;34m(self, **kwargs)\u001b[0m\n\u001b[1;32m    894\u001b[0m                     \u001b[0;31m# used.\u001b[0m\u001b[0;34m\u001b[0m\u001b[0;34m\u001b[0m\u001b[0m\n\u001b[1;32m    895\u001b[0m                     \u001b[0;32mpass\u001b[0m\u001b[0;34m\u001b[0m\u001b[0m\n\u001b[0;32m--> 896\u001b[0;31m         \u001b[0;32mreturn\u001b[0m \u001b[0mcomplexjson\u001b[0m\u001b[0;34m.\u001b[0m\u001b[0mloads\u001b[0m\u001b[0;34m(\u001b[0m\u001b[0mself\u001b[0m\u001b[0;34m.\u001b[0m\u001b[0mtext\u001b[0m\u001b[0;34m,\u001b[0m \u001b[0;34m**\u001b[0m\u001b[0mkwargs\u001b[0m\u001b[0;34m)\u001b[0m\u001b[0;34m\u001b[0m\u001b[0m\n\u001b[0m\u001b[1;32m    897\u001b[0m \u001b[0;34m\u001b[0m\u001b[0m\n\u001b[1;32m    898\u001b[0m     \u001b[0;34m@\u001b[0m\u001b[0mproperty\u001b[0m\u001b[0;34m\u001b[0m\u001b[0m\n",
         "\u001b[0;32m/usr/lib/python2.7/json/__init__.pyc\u001b[0m in \u001b[0;36mloads\u001b[0;34m(s, encoding, cls, object_hook, parse_float, parse_int, parse_constant, object_pairs_hook, **kw)\u001b[0m\n\u001b[1;32m    337\u001b[0m             \u001b[0mparse_int\u001b[0m \u001b[0;32mis\u001b[0m \u001b[0mNone\u001b[0m \u001b[0;32mand\u001b[0m \u001b[0mparse_float\u001b[0m \u001b[0;32mis\u001b[0m \u001b[0mNone\u001b[0m \u001b[0;32mand\u001b[0m\u001b[0;34m\u001b[0m\u001b[0m\n\u001b[1;32m    338\u001b[0m             parse_constant is None and object_pairs_hook is None and not kw):\n\u001b[0;32m--> 339\u001b[0;31m         \u001b[0;32mreturn\u001b[0m \u001b[0m_default_decoder\u001b[0m\u001b[0;34m.\u001b[0m\u001b[0mdecode\u001b[0m\u001b[0;34m(\u001b[0m\u001b[0ms\u001b[0m\u001b[0;34m)\u001b[0m\u001b[0;34m\u001b[0m\u001b[0m\n\u001b[0m\u001b[1;32m    340\u001b[0m     \u001b[0;32mif\u001b[0m \u001b[0mcls\u001b[0m \u001b[0;32mis\u001b[0m \u001b[0mNone\u001b[0m\u001b[0;34m:\u001b[0m\u001b[0;34m\u001b[0m\u001b[0m\n\u001b[1;32m    341\u001b[0m         \u001b[0mcls\u001b[0m \u001b[0;34m=\u001b[0m \u001b[0mJSONDecoder\u001b[0m\u001b[0;34m\u001b[0m\u001b[0m\n",
         "\u001b[0;32m/usr/lib/python2.7/json/decoder.pyc\u001b[0m in \u001b[0;36mdecode\u001b[0;34m(self, s, _w)\u001b[0m\n\u001b[1;32m    362\u001b[0m \u001b[0;34m\u001b[0m\u001b[0m\n\u001b[1;32m    363\u001b[0m         \"\"\"\n\u001b[0;32m--> 364\u001b[0;31m         \u001b[0mobj\u001b[0m\u001b[0;34m,\u001b[0m \u001b[0mend\u001b[0m \u001b[0;34m=\u001b[0m \u001b[0mself\u001b[0m\u001b[0;34m.\u001b[0m\u001b[0mraw_decode\u001b[0m\u001b[0;34m(\u001b[0m\u001b[0ms\u001b[0m\u001b[0;34m,\u001b[0m \u001b[0midx\u001b[0m\u001b[0;34m=\u001b[0m\u001b[0m_w\u001b[0m\u001b[0;34m(\u001b[0m\u001b[0ms\u001b[0m\u001b[0;34m,\u001b[0m \u001b[0;36m0\u001b[0m\u001b[0;34m)\u001b[0m\u001b[0;34m.\u001b[0m\u001b[0mend\u001b[0m\u001b[0;34m(\u001b[0m\u001b[0;34m)\u001b[0m\u001b[0;34m)\u001b[0m\u001b[0;34m\u001b[0m\u001b[0m\n\u001b[0m\u001b[1;32m    365\u001b[0m         \u001b[0mend\u001b[0m \u001b[0;34m=\u001b[0m \u001b[0m_w\u001b[0m\u001b[0;34m(\u001b[0m\u001b[0ms\u001b[0m\u001b[0;34m,\u001b[0m \u001b[0mend\u001b[0m\u001b[0;34m)\u001b[0m\u001b[0;34m.\u001b[0m\u001b[0mend\u001b[0m\u001b[0;34m(\u001b[0m\u001b[0;34m)\u001b[0m\u001b[0;34m\u001b[0m\u001b[0m\n\u001b[1;32m    366\u001b[0m         \u001b[0;32mif\u001b[0m \u001b[0mend\u001b[0m \u001b[0;34m!=\u001b[0m \u001b[0mlen\u001b[0m\u001b[0;34m(\u001b[0m\u001b[0ms\u001b[0m\u001b[0;34m)\u001b[0m\u001b[0;34m:\u001b[0m\u001b[0;34m\u001b[0m\u001b[0m\n",
         "\u001b[0;32m/usr/lib/python2.7/json/decoder.pyc\u001b[0m in \u001b[0;36mraw_decode\u001b[0;34m(self, s, idx)\u001b[0m\n\u001b[1;32m    380\u001b[0m             \u001b[0mobj\u001b[0m\u001b[0;34m,\u001b[0m \u001b[0mend\u001b[0m \u001b[0;34m=\u001b[0m \u001b[0mself\u001b[0m\u001b[0;34m.\u001b[0m\u001b[0mscan_once\u001b[0m\u001b[0;34m(\u001b[0m\u001b[0ms\u001b[0m\u001b[0;34m,\u001b[0m \u001b[0midx\u001b[0m\u001b[0;34m)\u001b[0m\u001b[0;34m\u001b[0m\u001b[0m\n\u001b[1;32m    381\u001b[0m         \u001b[0;32mexcept\u001b[0m \u001b[0mStopIteration\u001b[0m\u001b[0;34m:\u001b[0m\u001b[0;34m\u001b[0m\u001b[0m\n\u001b[0;32m--> 382\u001b[0;31m             \u001b[0;32mraise\u001b[0m \u001b[0mValueError\u001b[0m\u001b[0;34m(\u001b[0m\u001b[0;34m\"No JSON object could be decoded\"\u001b[0m\u001b[0;34m)\u001b[0m\u001b[0;34m\u001b[0m\u001b[0m\n\u001b[0m\u001b[1;32m    383\u001b[0m         \u001b[0;32mreturn\u001b[0m \u001b[0mobj\u001b[0m\u001b[0;34m,\u001b[0m \u001b[0mend\u001b[0m\u001b[0;34m\u001b[0m\u001b[0m\n",
         "\u001b[0;31mValueError\u001b[0m: No JSON object could be decoded"
        ]
       }
      ],
      "source": "print(\"session%s\", session)\nMAP_URL = '{base}/webclient/api/'\nprint \"Starting at:\", MAP_URL\nqs = {'base': IDR_BASE_URL}\nurl = MAP_URL.format(**qs)\nfor a in session.get(url).json()['annotations']:\n    namespace = a['ns']\n    for v in a['values']:\n        key = v[0]\n        value = v[1]\n        print (key, value)",
      "start_time": "2018-09-12T13:23:30.156Z"
     },
     {
      "end_time": "2018-09-12T13:23:45.746Z",
      "execution_time": "61ms",
      "outputs": [
       {
        "name": "stdout",
        "output_type": "stream",
        "text": "('session%s', <requests.sessions.Session object at 0x7f05d0e0ae90>)\nStarting at: {base}/webclient/api/\n"
       },
       {
        "ename": "TypeError",
        "evalue": "string indices must be integers, not str",
        "output_type": "error",
        "traceback": [
         "\u001b[0;31m---------------------------------------------------------------------------\u001b[0m",
         "\u001b[0;31mTypeError\u001b[0m                                 Traceback (most recent call last)",
         "\u001b[0;32m<ipython-input-28-bfee064e4ad2>\u001b[0m in \u001b[0;36m<module>\u001b[0;34m()\u001b[0m\n\u001b[1;32m      5\u001b[0m \u001b[0murl\u001b[0m \u001b[0;34m=\u001b[0m \u001b[0mMAP_URL\u001b[0m\u001b[0;34m.\u001b[0m\u001b[0mformat\u001b[0m\u001b[0;34m(\u001b[0m\u001b[0;34m**\u001b[0m\u001b[0mqs\u001b[0m\u001b[0;34m)\u001b[0m\u001b[0;34m\u001b[0m\u001b[0m\n\u001b[1;32m      6\u001b[0m \u001b[0;32mfor\u001b[0m \u001b[0ma\u001b[0m \u001b[0;32min\u001b[0m \u001b[0msession\u001b[0m\u001b[0;34m.\u001b[0m\u001b[0mget\u001b[0m\u001b[0;34m(\u001b[0m\u001b[0murl\u001b[0m\u001b[0;34m)\u001b[0m\u001b[0;34m:\u001b[0m\u001b[0;34m\u001b[0m\u001b[0m\n\u001b[0;32m----> 7\u001b[0;31m     \u001b[0mnamespace\u001b[0m \u001b[0;34m=\u001b[0m \u001b[0ma\u001b[0m\u001b[0;34m[\u001b[0m\u001b[0;34m'ns'\u001b[0m\u001b[0;34m]\u001b[0m\u001b[0;34m\u001b[0m\u001b[0m\n\u001b[0m\u001b[1;32m      8\u001b[0m     \u001b[0;32mfor\u001b[0m \u001b[0mv\u001b[0m \u001b[0;32min\u001b[0m \u001b[0ma\u001b[0m\u001b[0;34m[\u001b[0m\u001b[0;34m'values'\u001b[0m\u001b[0;34m]\u001b[0m\u001b[0;34m:\u001b[0m\u001b[0;34m\u001b[0m\u001b[0m\n\u001b[1;32m      9\u001b[0m         \u001b[0mkey\u001b[0m \u001b[0;34m=\u001b[0m \u001b[0mv\u001b[0m\u001b[0;34m[\u001b[0m\u001b[0;36m0\u001b[0m\u001b[0;34m]\u001b[0m\u001b[0;34m\u001b[0m\u001b[0m\n",
         "\u001b[0;31mTypeError\u001b[0m: string indices must be integers, not str"
        ]
       }
      ],
      "source": "print(\"session%s\", session)\nMAP_URL = '{base}/webclient/api/'\nprint \"Starting at:\", MAP_URL\nqs = {'base': IDR_BASE_URL}\nurl = MAP_URL.format(**qs)\nfor a in session.get(url):\n    namespace = a['ns']\n    for v in a['values']:\n        key = v[0]\n        value = v[1]\n        print (key, value)",
      "start_time": "2018-09-12T13:23:45.685Z"
     },
     {
      "end_time": "2018-09-12T13:24:12.403Z",
      "execution_time": "67ms",
      "outputs": [
       {
        "name": "stdout",
        "output_type": "stream",
        "text": "('session%s', <requests.sessions.Session object at 0x7f05d0e0ae90>)\nStarting at: {base}/webclient/api/\n"
       },
       {
        "ename": "TypeError",
        "evalue": "string indices must be integers, not str",
        "output_type": "error",
        "traceback": [
         "\u001b[0;31m---------------------------------------------------------------------------\u001b[0m",
         "\u001b[0;31mTypeError\u001b[0m                                 Traceback (most recent call last)",
         "\u001b[0;32m<ipython-input-29-53bdd6354c10>\u001b[0m in \u001b[0;36m<module>\u001b[0;34m()\u001b[0m\n\u001b[1;32m      5\u001b[0m \u001b[0murl\u001b[0m \u001b[0;34m=\u001b[0m \u001b[0mMAP_URL\u001b[0m\u001b[0;34m.\u001b[0m\u001b[0mformat\u001b[0m\u001b[0;34m(\u001b[0m\u001b[0;34m**\u001b[0m\u001b[0mqs\u001b[0m\u001b[0;34m)\u001b[0m\u001b[0;34m\u001b[0m\u001b[0m\n\u001b[1;32m      6\u001b[0m \u001b[0;32mfor\u001b[0m \u001b[0ma\u001b[0m \u001b[0;32min\u001b[0m \u001b[0msession\u001b[0m\u001b[0;34m.\u001b[0m\u001b[0mget\u001b[0m\u001b[0;34m(\u001b[0m\u001b[0murl\u001b[0m\u001b[0;34m)\u001b[0m\u001b[0;34m:\u001b[0m\u001b[0;34m\u001b[0m\u001b[0m\n\u001b[0;32m----> 7\u001b[0;31m     \u001b[0mnamespace\u001b[0m \u001b[0;34m=\u001b[0m \u001b[0ma\u001b[0m\u001b[0;34m[\u001b[0m\u001b[0;34m'ns'\u001b[0m\u001b[0;34m]\u001b[0m\u001b[0;34m\u001b[0m\u001b[0m\n\u001b[0m\u001b[1;32m      8\u001b[0m     \u001b[0;32mprint\u001b[0m\u001b[0;34m(\u001b[0m\u001b[0;34m\"a%s\"\u001b[0m\u001b[0;34m,\u001b[0m \u001b[0ma\u001b[0m\u001b[0;34m)\u001b[0m\u001b[0;34m\u001b[0m\u001b[0m\n\u001b[1;32m      9\u001b[0m     \u001b[0;32mprint\u001b[0m\u001b[0;34m(\u001b[0m\u001b[0;34m\"namespace%s\"\u001b[0m\u001b[0;34m,\u001b[0m \u001b[0mnamespace\u001b[0m\u001b[0;34m)\u001b[0m\u001b[0;34m\u001b[0m\u001b[0m\n",
         "\u001b[0;31mTypeError\u001b[0m: string indices must be integers, not str"
        ]
       }
      ],
      "source": "print(\"session%s\", session)\nMAP_URL = '{base}/webclient/api/'\nprint \"Starting at:\", MAP_URL\nqs = {'base': IDR_BASE_URL}\nurl = MAP_URL.format(**qs)\nfor a in session.get(url):\n    namespace = a['ns']\n    print(\"a%s\", a)\n    print(\"namespace%s\", namespace)",
      "start_time": "2018-09-12T13:24:12.336Z"
     },
     {
      "end_time": "2018-09-12T13:24:22.660Z",
      "execution_time": "51ms",
      "outputs": [
       {
        "name": "stdout",
        "output_type": "stream",
        "text": "('session%s', <requests.sessions.Session object at 0x7f05d0e0ae90>)\nStarting at: {base}/webclient/api/\n('a%s', '<?xml version=\"1.0\" encoding=\"iso-8859-1\"?>\\n<!DOCTYPE html PUBLIC \"-//W3C//DTD XHTML 1.0 Transitional//EN\" \"http://www.w3.org/TR')\n('a%s', '/xhtml1/DTD/xhtml1-transitional.dtd\">\\n\\n<html xmlns=\"http://www.w3.org/1999/xhtml\">\\n\\n\\n\\n<head>\\n    <meta http-equiv=\"X-UA-Compatib')\n('a%s', 'le\" content=\"IE=Edge\" />\\n\\n    \\n    \\n\\t\\t<link rel=\"stylesheet\" href=\"/static/webgateway/css/reset.css?_5.4.6-rc2-39-8e16ee4-ice36-')\n('a%s', 'b99\" type=\"text/css\" />   \\n\\t\\t<link rel=\"stylesheet\" href=\"/static/webgateway/css/ome.body.css?_5.4.6-rc2-39-8e16ee4-ice36-b99\" t')\n('a%s', 'ype=\"text/css\" />\\n\\t\\t<link rel=\"stylesheet\" href=\"/static/webclient/css/dusty.css?_5.4.6-rc2-39-8e16ee4-ice36-b99\" type=\"text/css')\n('a%s', '\" media=\"screen\"/>\\n    \\n    <link rel=\"stylesheet\" href=\"/static/feedback/css/layout.css\" type=\"text/css\" />\\n\\n\\n\\n    <!-- extend ')\n('a%s', 'here to add page title -->\\n    <title>\\n        \\n    OMERO.web - support\\n\\n    </title>\\n\\n    \\n        <!-- block for javascript <s')\n('a%s', 'cript> -->\\n    \\n\\n    \\n    \\n        <!-- block for extra head elements (not css or javascript) E.g. icon, meta tags -->\\n        \\n')\n('a%s', '\\n<link rel=\"shortcut icon\" href=\"/static/webgateway/img/ome.ico\" type=\"image/x-icon\" />\\n\\n\\n    \\n    \\n\\n<link rel=\"shortcut icon\" h')\n('a%s', 'ref=\"/static/webgateway/img/ome.ico\" type=\"image/x-icon\" />\\n\\n\\n\\n\\n</head>\\n<body>\\n\\n\\n<div class=\"bodyWrapper\">\\n    <div><h1>\\n       ')\n('a%s', ' Go back to <a href=\"/webclient/\">OMERO.web</a>\\n    </h1>\\n    \\n    <div class=\"error\"><h1>Page not found. <em>(404)</em></h1>\\n  ')\n('a%s', '  <p>The requested object or URL was not found on this server. The link you followed is either outdated, inaccurate, or the serv')\n('a%s', 'er has been instructed not to let you have it.</p></div>\\n    \\n\\n    </div>\\n\\n</div>\\n\\n\\n\\n    <!-- settings.BASE_INCLUDE_TEMPLATE inc')\n('a%s', 'luded here -->\\n    \\n</body>\\n</html>\\n')\n"
       }
      ],
      "source": "print(\"session%s\", session)\nMAP_URL = '{base}/webclient/api/'\nprint \"Starting at:\", MAP_URL\nqs = {'base': IDR_BASE_URL}\nurl = MAP_URL.format(**qs)\nfor a in session.get(url):\n    print(\"a%s\", a)",
      "start_time": "2018-09-12T13:24:22.609Z"
     },
     {
      "end_time": "2018-09-12T13:25:10.790Z",
      "execution_time": "56ms",
      "outputs": [
       {
        "name": "stdout",
        "output_type": "stream",
        "text": "('session%s', <requests.sessions.Session object at 0x7f05d0e0ae90>)\nStarting at: http://idr.openmicroscopy.org/webclient/api/\n('a%s', '<?xml version=\"1.0\" encoding=\"iso-8859-1\"?>\\n<!DOCTYPE html PUBLIC \"-//W3C//DTD XHTML 1.0 Transitional//EN\" \"http://www.w3.org/TR')\n('a%s', '/xhtml1/DTD/xhtml1-transitional.dtd\">\\n\\n<html xmlns=\"http://www.w3.org/1999/xhtml\">\\n\\n\\n\\n<head>\\n    <meta http-equiv=\"X-UA-Compatib')\n('a%s', 'le\" content=\"IE=Edge\" />\\n\\n    \\n    \\n\\t\\t<link rel=\"stylesheet\" href=\"/static/webgateway/css/reset.css?_5.4.6-rc2-39-8e16ee4-ice36-')\n('a%s', 'b99\" type=\"text/css\" />   \\n\\t\\t<link rel=\"stylesheet\" href=\"/static/webgateway/css/ome.body.css?_5.4.6-rc2-39-8e16ee4-ice36-b99\" t')\n('a%s', 'ype=\"text/css\" />\\n\\t\\t<link rel=\"stylesheet\" href=\"/static/webclient/css/dusty.css?_5.4.6-rc2-39-8e16ee4-ice36-b99\" type=\"text/css')\n('a%s', '\" media=\"screen\"/>\\n    \\n    <link rel=\"stylesheet\" href=\"/static/feedback/css/layout.css\" type=\"text/css\" />\\n\\n\\n\\n    <!-- extend ')\n('a%s', 'here to add page title -->\\n    <title>\\n        \\n    OMERO.web - support\\n\\n    </title>\\n\\n    \\n        <!-- block for javascript <s')\n('a%s', 'cript> -->\\n    \\n\\n    \\n    \\n        <!-- block for extra head elements (not css or javascript) E.g. icon, meta tags -->\\n        \\n')\n('a%s', '\\n<link rel=\"shortcut icon\" href=\"/static/webgateway/img/ome.ico\" type=\"image/x-icon\" />\\n\\n\\n    \\n    \\n\\n<link rel=\"shortcut icon\" h')\n('a%s', 'ref=\"/static/webgateway/img/ome.ico\" type=\"image/x-icon\" />\\n\\n\\n\\n\\n</head>\\n<body>\\n\\n\\n<div class=\"bodyWrapper\">\\n    <div><h1>\\n       ')\n('a%s', ' Go back to <a href=\"/webclient/\">OMERO.web</a>\\n    </h1>\\n    \\n    <div class=\"error\"><h1>Page not found. <em>(404)</em></h1>\\n  ')\n('a%s', '  <p>The requested object or URL was not found on this server. The link you followed is either outdated, inaccurate, or the serv')\n('a%s', 'er has been instructed not to let you have it.</p></div>\\n    \\n\\n    </div>\\n\\n</div>\\n\\n\\n\\n    <!-- settings.BASE_INCLUDE_TEMPLATE inc')\n('a%s', 'luded here -->\\n    \\n</body>\\n</html>\\n')\n"
       }
      ],
      "source": "print(\"session%s\", session)\nMAP_URL = 'http://idr.openmicroscopy.org/webclient/api/'\nprint \"Starting at:\", MAP_URL\nqs = {'base': IDR_BASE_URL}\nurl = MAP_URL.format(**qs)\nfor a in session.get(url):\n    print(\"a%s\", a)",
      "start_time": "2018-09-12T13:25:10.734Z"
     },
     {
      "end_time": "2018-09-12T13:25:18.946Z",
      "execution_time": "389ms",
      "outputs": [
       {
        "name": "stdout",
        "output_type": "stream",
        "text": "('session%s', <requests.sessions.Session object at 0x7f05d0e0ae90>)\nStarting at: https://idr.openmicroscopy.org/webclient/api/\n('a%s', '<?xml version=\"1.0\" encoding=\"iso-8859-1\"?>\\n<!DOCTYPE html PUBLIC \"-//W3C//DTD XHTML 1.0 Transitional//EN\" \"http://www.w3.org/TR')\n('a%s', '/xhtml1/DTD/xhtml1-transitional.dtd\">\\n\\n<html xmlns=\"http://www.w3.org/1999/xhtml\">\\n\\n\\n\\n<head>\\n    <meta http-equiv=\"X-UA-Compatib')\n('a%s', 'le\" content=\"IE=Edge\" />\\n\\n    \\n    \\n\\t\\t<link rel=\"stylesheet\" href=\"/static/webgateway/css/reset.css?_5.4.6-rc2-39-8e16ee4-ice36-')\n('a%s', 'b99\" type=\"text/css\" />   \\n\\t\\t<link rel=\"stylesheet\" href=\"/static/webgateway/css/ome.body.css?_5.4.6-rc2-39-8e16ee4-ice36-b99\" t')\n('a%s', 'ype=\"text/css\" />\\n\\t\\t<link rel=\"stylesheet\" href=\"/static/webclient/css/dusty.css?_5.4.6-rc2-39-8e16ee4-ice36-b99\" type=\"text/css')\n('a%s', '\" media=\"screen\"/>\\n    \\n    <link rel=\"stylesheet\" href=\"/static/feedback/css/layout.css\" type=\"text/css\" />\\n\\n\\n\\n    <!-- extend ')\n('a%s', 'here to add page title -->\\n    <title>\\n        \\n    OMERO.web - support\\n\\n    </title>\\n\\n    \\n        <!-- block for javascript <s')\n('a%s', 'cript> -->\\n    \\n\\n    \\n    \\n        <!-- block for extra head elements (not css or javascript) E.g. icon, meta tags -->\\n        \\n')\n('a%s', '\\n<link rel=\"shortcut icon\" href=\"/static/webgateway/img/ome.ico\" type=\"image/x-icon\" />\\n\\n\\n    \\n    \\n\\n<link rel=\"shortcut icon\" h')\n('a%s', 'ref=\"/static/webgateway/img/ome.ico\" type=\"image/x-icon\" />\\n\\n\\n\\n\\n</head>\\n<body>\\n\\n\\n<div class=\"bodyWrapper\">\\n    <div><h1>\\n       ')\n('a%s', ' Go back to <a href=\"/webclient/\">OMERO.web</a>\\n    </h1>\\n    \\n    <div class=\"error\"><h1>Page not found. <em>(404)</em></h1>\\n  ')\n('a%s', '  <p>The requested object or URL was not found on this server. The link you followed is either outdated, inaccurate, or the serv')\n('a%s', 'er has been instructed not to let you have it.</p></div>\\n    \\n\\n    </div>\\n\\n</div>\\n\\n\\n\\n    <!-- settings.BASE_INCLUDE_TEMPLATE inc')\n('a%s', 'luded here -->\\n    \\n</body>\\n</html>\\n')\n"
       }
      ],
      "source": "print(\"session%s\", session)\nMAP_URL = 'https://idr.openmicroscopy.org/webclient/api/'\nprint \"Starting at:\", MAP_URL\nqs = {'base': IDR_BASE_URL}\nurl = MAP_URL.format(**qs)\nfor a in session.get(url):\n    print(\"a%s\", a)",
      "start_time": "2018-09-12T13:25:18.557Z"
     },
     {
      "end_time": "2018-09-12T13:25:57.462Z",
      "execution_time": "20ms",
      "outputs": [
       {
        "ename": "NameError",
        "evalue": "name 'conn' is not defined",
        "output_type": "error",
        "traceback": [
         "\u001b[0;31m---------------------------------------------------------------------------\u001b[0m",
         "\u001b[0;31mNameError\u001b[0m                                 Traceback (most recent call last)",
         "\u001b[0;32m<ipython-input-33-11f58b0d5eeb>\u001b[0m in \u001b[0;36m<module>\u001b[0;34m()\u001b[0m\n\u001b[1;32m      2\u001b[0m \u001b[0;34m\u001b[0m\u001b[0m\n\u001b[1;32m      3\u001b[0m \u001b[0mSCREEN_ID\u001b[0m \u001b[0;34m=\u001b[0m \u001b[0;36m3\u001b[0m\u001b[0;34m\u001b[0m\u001b[0m\n\u001b[0;32m----> 4\u001b[0;31m \u001b[0mplate\u001b[0m \u001b[0;34m=\u001b[0m \u001b[0mconn\u001b[0m\u001b[0;34m.\u001b[0m\u001b[0mgetObject\u001b[0m\u001b[0;34m(\u001b[0m\u001b[0;34m\"Plate\"\u001b[0m\u001b[0;34m,\u001b[0m \u001b[0mplateId\u001b[0m\u001b[0;34m)\u001b[0m\u001b[0;34m\u001b[0m\u001b[0m\n\u001b[0m\u001b[1;32m      5\u001b[0m \u001b[0;34m\u001b[0m\u001b[0m\n\u001b[1;32m      6\u001b[0m \u001b[0mqs\u001b[0m \u001b[0;34m=\u001b[0m \u001b[0;34m{\u001b[0m\u001b[0;34m'base'\u001b[0m\u001b[0;34m:\u001b[0m \u001b[0mIDR_BASE_URL\u001b[0m\u001b[0;34m,\u001b[0m \u001b[0;34m'type'\u001b[0m\u001b[0;34m:\u001b[0m \u001b[0;34m'screen'\u001b[0m\u001b[0;34m,\u001b[0m \u001b[0;34m'screen_id'\u001b[0m\u001b[0;34m:\u001b[0m \u001b[0mSCREEN_ID\u001b[0m\u001b[0;34m}\u001b[0m\u001b[0;34m\u001b[0m\u001b[0m\n",
         "\u001b[0;31mNameError\u001b[0m: name 'conn' is not defined"
        ]
       }
      ],
      "source": "MAP_URL = \"{base}/webclient/api/annotations/?type=map&{type}={screen_id}\"\n\nSCREEN_ID = 3\nplate = conn.getObject(\"Plate\", plateId)\n\nqs = {'base': IDR_BASE_URL, 'type': 'screen', 'screen_id': SCREEN_ID}\nurl = MAP_URL.format(**qs)\nfor a in session.get(url).json()['annotations']:\n    namespace = a['ns']\n    for v in a['values']:\n        key = v[0]\n        value = v[1]\n        print (key, value)",
      "start_time": "2018-09-12T13:25:57.442Z"
     },
     {
      "end_time": "2018-09-12T13:26:04.581Z",
      "execution_time": "24ms",
      "outputs": [
       {
        "ename": "NameError",
        "evalue": "name 'conn' is not defined",
        "output_type": "error",
        "traceback": [
         "\u001b[0;31m---------------------------------------------------------------------------\u001b[0m",
         "\u001b[0;31mNameError\u001b[0m                                 Traceback (most recent call last)",
         "\u001b[0;32m<ipython-input-36-11f58b0d5eeb>\u001b[0m in \u001b[0;36m<module>\u001b[0;34m()\u001b[0m\n\u001b[1;32m      2\u001b[0m \u001b[0;34m\u001b[0m\u001b[0m\n\u001b[1;32m      3\u001b[0m \u001b[0mSCREEN_ID\u001b[0m \u001b[0;34m=\u001b[0m \u001b[0;36m3\u001b[0m\u001b[0;34m\u001b[0m\u001b[0m\n\u001b[0;32m----> 4\u001b[0;31m \u001b[0mplate\u001b[0m \u001b[0;34m=\u001b[0m \u001b[0mconn\u001b[0m\u001b[0;34m.\u001b[0m\u001b[0mgetObject\u001b[0m\u001b[0;34m(\u001b[0m\u001b[0;34m\"Plate\"\u001b[0m\u001b[0;34m,\u001b[0m \u001b[0mplateId\u001b[0m\u001b[0;34m)\u001b[0m\u001b[0;34m\u001b[0m\u001b[0m\n\u001b[0m\u001b[1;32m      5\u001b[0m \u001b[0;34m\u001b[0m\u001b[0m\n\u001b[1;32m      6\u001b[0m \u001b[0mqs\u001b[0m \u001b[0;34m=\u001b[0m \u001b[0;34m{\u001b[0m\u001b[0;34m'base'\u001b[0m\u001b[0;34m:\u001b[0m \u001b[0mIDR_BASE_URL\u001b[0m\u001b[0;34m,\u001b[0m \u001b[0;34m'type'\u001b[0m\u001b[0;34m:\u001b[0m \u001b[0;34m'screen'\u001b[0m\u001b[0;34m,\u001b[0m \u001b[0;34m'screen_id'\u001b[0m\u001b[0;34m:\u001b[0m \u001b[0mSCREEN_ID\u001b[0m\u001b[0;34m}\u001b[0m\u001b[0;34m\u001b[0m\u001b[0m\n",
         "\u001b[0;31mNameError\u001b[0m: name 'conn' is not defined"
        ]
       }
      ],
      "source": "MAP_URL = \"{base}/webclient/api/annotations/?type=map&{type}={screen_id}\"\n\nSCREEN_ID = 3\nplate = conn.getObject(\"Plate\", plateId)\n\nqs = {'base': IDR_BASE_URL, 'type': 'screen', 'screen_id': SCREEN_ID}\nurl = MAP_URL.format(**qs)\nfor a in session.get(url).json()['annotations']:\n    namespace = a['ns']\n    for v in a['values']:\n        key = v[0]\n        value = v[1]\n        print (key, value)",
      "start_time": "2018-09-12T13:26:04.557Z"
     },
     {
      "end_time": "2018-09-12T13:26:41.340Z",
      "execution_time": "131ms",
      "outputs": [
       {
        "name": "stdout",
        "output_type": "stream",
        "text": "(u'Study Type', u'high content screen')\n(u'Organism', u'Schizosaccharomyces pombe')\n(u'Screen Type', u'primary screen')\n(u'Screen Technology Type', u'gene deletion screen')\n(u'Imaging Method', u'spinning disk confocal microscopy')\n(u'Publication Title', u'A Genomic Multiprocess Survey of Machineries that Control and Link Cell Shape, Microtubule Organization, and Cell-Cycle Progression')\n(u'Publication Authors', u'Graml V, Studera X, Lawson JL, Chessel A, Geymonat M, Bortfeld-Miller M, Walter T, Wagstaff L, Piddini E, Carazo-Salas RE.')\n(u'PubMed ID', u'25373780 http://www.ncbi.nlm.nih.gov/pubmed/25373780')\n(u'Publication DOI', u'10.1016/j.devcel.2014.09.005 http://dx.doi.org/10.1016/j.devcel.2014.09.005')\n(u'License', u'CC-BY 4.0 https://creativecommons.org/licenses/by/4.0/')\n(u'Copyright', u'Graml et al')\n(u'Annotation File', u'idr0001-screenA-annotation.csv https://github.com/IDR/idr-metadata/blob/master/idr0001-graml-sysgro/screenA/idr0001-screenA-annotation.csv')\n"
       }
      ],
      "source": "MAP_URL = \"{base}/webclient/api/annotations/?type=map&{type}={screen_id}\"\n\nSCREEN_ID = 3\n\nqs = {'base': IDR_BASE_URL, 'type': 'screen', 'screen_id': SCREEN_ID}\nurl = MAP_URL.format(**qs)\nfor a in session.get(url).json()['annotations']:\n    namespace = a['ns']\n    for v in a['values']:\n        key = v[0]\n        value = v[1]\n        print (key, value)",
      "start_time": "2018-09-12T13:26:41.209Z"
     },
     {
      "end_time": "2018-09-12T13:27:14.059Z",
      "execution_time": "103ms",
      "outputs": [],
      "source": "MAP_URL = \"{base}/webclient/api/annotations/\"\n\nSCREEN_ID = 3\n\nqs = {'base': IDR_BASE_URL}\nurl = MAP_URL.format(**qs)\nfor a in session.get(url).json()['annotations']:\n    namespace = a['ns']\n    for v in a['values']:\n        key = v[0]\n        value = v[1]\n        print (key, value)",
      "start_time": "2018-09-12T13:27:13.956Z"
     },
     {
      "end_time": "2018-09-12T13:27:34.708Z",
      "execution_time": "47ms",
      "outputs": [],
      "source": "MAP_URL = \"{base}/webclient/api/annotations/\"\n\nSCREEN_ID = 3\n\nqs = {'base': IDR_BASE_URL}\nurl = MAP_URL.format(**qs)\nfor a in session.get(url).json()['annotations']:\n    print(\"a%s\", a)\n    namespace = a['ns']\n    for v in a['values']:\n        key = v[0]\n        value = v[1]\n        print (key, value)",
      "start_time": "2018-09-12T13:27:34.661Z"
     },
     {
      "end_time": "2018-09-12T13:27:59.994Z",
      "execution_time": "60ms",
      "outputs": [
       {
        "name": "stdout",
        "output_type": "stream",
        "text": "('a%s', u'annotations')\n"
       },
       {
        "ename": "TypeError",
        "evalue": "string indices must be integers",
        "output_type": "error",
        "traceback": [
         "\u001b[0;31m---------------------------------------------------------------------------\u001b[0m",
         "\u001b[0;31mTypeError\u001b[0m                                 Traceback (most recent call last)",
         "\u001b[0;32m<ipython-input-42-414ba21ec703>\u001b[0m in \u001b[0;36m<module>\u001b[0;34m()\u001b[0m\n\u001b[1;32m      7\u001b[0m \u001b[0;32mfor\u001b[0m \u001b[0ma\u001b[0m \u001b[0;32min\u001b[0m \u001b[0msession\u001b[0m\u001b[0;34m.\u001b[0m\u001b[0mget\u001b[0m\u001b[0;34m(\u001b[0m\u001b[0murl\u001b[0m\u001b[0;34m)\u001b[0m\u001b[0;34m.\u001b[0m\u001b[0mjson\u001b[0m\u001b[0;34m(\u001b[0m\u001b[0;34m)\u001b[0m\u001b[0;34m:\u001b[0m\u001b[0;34m\u001b[0m\u001b[0m\n\u001b[1;32m      8\u001b[0m     \u001b[0;32mprint\u001b[0m\u001b[0;34m(\u001b[0m\u001b[0;34m\"a%s\"\u001b[0m\u001b[0;34m,\u001b[0m \u001b[0ma\u001b[0m\u001b[0;34m)\u001b[0m\u001b[0;34m\u001b[0m\u001b[0m\n\u001b[0;32m----> 9\u001b[0;31m     \u001b[0mnamespace\u001b[0m \u001b[0;34m=\u001b[0m \u001b[0ma\u001b[0m\u001b[0;34m[\u001b[0m\u001b[0;34m'ns'\u001b[0m\u001b[0;34m]\u001b[0m\u001b[0;34m\u001b[0m\u001b[0m\n\u001b[0m\u001b[1;32m     10\u001b[0m     \u001b[0;32mfor\u001b[0m \u001b[0mv\u001b[0m \u001b[0;32min\u001b[0m \u001b[0ma\u001b[0m\u001b[0;34m[\u001b[0m\u001b[0;34m'values'\u001b[0m\u001b[0;34m]\u001b[0m\u001b[0;34m:\u001b[0m\u001b[0;34m\u001b[0m\u001b[0m\n\u001b[1;32m     11\u001b[0m         \u001b[0mkey\u001b[0m \u001b[0;34m=\u001b[0m \u001b[0mv\u001b[0m\u001b[0;34m[\u001b[0m\u001b[0;36m0\u001b[0m\u001b[0;34m]\u001b[0m\u001b[0;34m\u001b[0m\u001b[0m\n",
         "\u001b[0;31mTypeError\u001b[0m: string indices must be integers"
        ]
       }
      ],
      "source": "MAP_URL = \"{base}/webclient/api/annotations/\"\n\nSCREEN_ID = 3\n\nqs = {'base': IDR_BASE_URL}\nurl = MAP_URL.format(**qs)\nfor a in session.get(url).json():\n    print(\"a%s\", a)\n    namespace = a['ns']\n    for v in a['values']:\n        key = v[0]\n        value = v[1]\n        print (key, value)",
      "start_time": "2018-09-12T13:27:59.934Z"
     },
     {
      "end_time": "2018-09-12T13:28:35.812Z",
      "execution_time": "105ms",
      "outputs": [
       {
        "ename": "ValueError",
        "evalue": "No JSON object could be decoded",
        "output_type": "error",
        "traceback": [
         "\u001b[0;31m---------------------------------------------------------------------------\u001b[0m",
         "\u001b[0;31mValueError\u001b[0m                                Traceback (most recent call last)",
         "\u001b[0;32m<ipython-input-45-e6b1f81387a0>\u001b[0m in \u001b[0;36m<module>\u001b[0;34m()\u001b[0m\n\u001b[1;32m      5\u001b[0m \u001b[0mqs\u001b[0m \u001b[0;34m=\u001b[0m \u001b[0;34m{\u001b[0m\u001b[0;34m'base'\u001b[0m\u001b[0;34m:\u001b[0m \u001b[0mIDR_BASE_URL\u001b[0m\u001b[0;34m}\u001b[0m\u001b[0;34m\u001b[0m\u001b[0m\n\u001b[1;32m      6\u001b[0m \u001b[0murl\u001b[0m \u001b[0;34m=\u001b[0m \u001b[0mMAP_URL\u001b[0m\u001b[0;34m.\u001b[0m\u001b[0mformat\u001b[0m\u001b[0;34m(\u001b[0m\u001b[0;34m**\u001b[0m\u001b[0mqs\u001b[0m\u001b[0;34m)\u001b[0m\u001b[0;34m\u001b[0m\u001b[0m\n\u001b[0;32m----> 7\u001b[0;31m \u001b[0;32mfor\u001b[0m \u001b[0ma\u001b[0m \u001b[0;32min\u001b[0m \u001b[0msession\u001b[0m\u001b[0;34m.\u001b[0m\u001b[0mget\u001b[0m\u001b[0;34m(\u001b[0m\u001b[0murl\u001b[0m\u001b[0;34m)\u001b[0m\u001b[0;34m.\u001b[0m\u001b[0mjson\u001b[0m\u001b[0;34m(\u001b[0m\u001b[0;34m)\u001b[0m\u001b[0;34m[\u001b[0m\u001b[0;34m'data'\u001b[0m\u001b[0;34m]\u001b[0m\u001b[0;34m:\u001b[0m\u001b[0;34m\u001b[0m\u001b[0m\n\u001b[0m\u001b[1;32m      8\u001b[0m     \u001b[0;32mprint\u001b[0m\u001b[0;34m(\u001b[0m\u001b[0;34m\"a%s\"\u001b[0m\u001b[0;34m,\u001b[0m \u001b[0ma\u001b[0m\u001b[0;34m)\u001b[0m\u001b[0;34m\u001b[0m\u001b[0m\n\u001b[1;32m      9\u001b[0m     \u001b[0mnamespace\u001b[0m \u001b[0;34m=\u001b[0m \u001b[0ma\u001b[0m\u001b[0;34m[\u001b[0m\u001b[0;34m'ns'\u001b[0m\u001b[0;34m]\u001b[0m\u001b[0;34m\u001b[0m\u001b[0m\n",
         "\u001b[0;32m/usr/local/lib/python2.7/dist-packages/requests/models.pyc\u001b[0m in \u001b[0;36mjson\u001b[0;34m(self, **kwargs)\u001b[0m\n\u001b[1;32m    894\u001b[0m                     \u001b[0;31m# used.\u001b[0m\u001b[0;34m\u001b[0m\u001b[0;34m\u001b[0m\u001b[0m\n\u001b[1;32m    895\u001b[0m                     \u001b[0;32mpass\u001b[0m\u001b[0;34m\u001b[0m\u001b[0m\n\u001b[0;32m--> 896\u001b[0;31m         \u001b[0;32mreturn\u001b[0m \u001b[0mcomplexjson\u001b[0m\u001b[0;34m.\u001b[0m\u001b[0mloads\u001b[0m\u001b[0;34m(\u001b[0m\u001b[0mself\u001b[0m\u001b[0;34m.\u001b[0m\u001b[0mtext\u001b[0m\u001b[0;34m,\u001b[0m \u001b[0;34m**\u001b[0m\u001b[0mkwargs\u001b[0m\u001b[0;34m)\u001b[0m\u001b[0;34m\u001b[0m\u001b[0m\n\u001b[0m\u001b[1;32m    897\u001b[0m \u001b[0;34m\u001b[0m\u001b[0m\n\u001b[1;32m    898\u001b[0m     \u001b[0;34m@\u001b[0m\u001b[0mproperty\u001b[0m\u001b[0;34m\u001b[0m\u001b[0m\n",
         "\u001b[0;32m/usr/lib/python2.7/json/__init__.pyc\u001b[0m in \u001b[0;36mloads\u001b[0;34m(s, encoding, cls, object_hook, parse_float, parse_int, parse_constant, object_pairs_hook, **kw)\u001b[0m\n\u001b[1;32m    337\u001b[0m             \u001b[0mparse_int\u001b[0m \u001b[0;32mis\u001b[0m \u001b[0mNone\u001b[0m \u001b[0;32mand\u001b[0m \u001b[0mparse_float\u001b[0m \u001b[0;32mis\u001b[0m \u001b[0mNone\u001b[0m \u001b[0;32mand\u001b[0m\u001b[0;34m\u001b[0m\u001b[0m\n\u001b[1;32m    338\u001b[0m             parse_constant is None and object_pairs_hook is None and not kw):\n\u001b[0;32m--> 339\u001b[0;31m         \u001b[0;32mreturn\u001b[0m \u001b[0m_default_decoder\u001b[0m\u001b[0;34m.\u001b[0m\u001b[0mdecode\u001b[0m\u001b[0;34m(\u001b[0m\u001b[0ms\u001b[0m\u001b[0;34m)\u001b[0m\u001b[0;34m\u001b[0m\u001b[0m\n\u001b[0m\u001b[1;32m    340\u001b[0m     \u001b[0;32mif\u001b[0m \u001b[0mcls\u001b[0m \u001b[0;32mis\u001b[0m \u001b[0mNone\u001b[0m\u001b[0;34m:\u001b[0m\u001b[0;34m\u001b[0m\u001b[0m\n\u001b[1;32m    341\u001b[0m         \u001b[0mcls\u001b[0m \u001b[0;34m=\u001b[0m \u001b[0mJSONDecoder\u001b[0m\u001b[0;34m\u001b[0m\u001b[0m\n",
         "\u001b[0;32m/usr/lib/python2.7/json/decoder.pyc\u001b[0m in \u001b[0;36mdecode\u001b[0;34m(self, s, _w)\u001b[0m\n\u001b[1;32m    362\u001b[0m \u001b[0;34m\u001b[0m\u001b[0m\n\u001b[1;32m    363\u001b[0m         \"\"\"\n\u001b[0;32m--> 364\u001b[0;31m         \u001b[0mobj\u001b[0m\u001b[0;34m,\u001b[0m \u001b[0mend\u001b[0m \u001b[0;34m=\u001b[0m \u001b[0mself\u001b[0m\u001b[0;34m.\u001b[0m\u001b[0mraw_decode\u001b[0m\u001b[0;34m(\u001b[0m\u001b[0ms\u001b[0m\u001b[0;34m,\u001b[0m \u001b[0midx\u001b[0m\u001b[0;34m=\u001b[0m\u001b[0m_w\u001b[0m\u001b[0;34m(\u001b[0m\u001b[0ms\u001b[0m\u001b[0;34m,\u001b[0m \u001b[0;36m0\u001b[0m\u001b[0;34m)\u001b[0m\u001b[0;34m.\u001b[0m\u001b[0mend\u001b[0m\u001b[0;34m(\u001b[0m\u001b[0;34m)\u001b[0m\u001b[0;34m)\u001b[0m\u001b[0;34m\u001b[0m\u001b[0m\n\u001b[0m\u001b[1;32m    365\u001b[0m         \u001b[0mend\u001b[0m \u001b[0;34m=\u001b[0m \u001b[0m_w\u001b[0m\u001b[0;34m(\u001b[0m\u001b[0ms\u001b[0m\u001b[0;34m,\u001b[0m \u001b[0mend\u001b[0m\u001b[0;34m)\u001b[0m\u001b[0;34m.\u001b[0m\u001b[0mend\u001b[0m\u001b[0;34m(\u001b[0m\u001b[0;34m)\u001b[0m\u001b[0;34m\u001b[0m\u001b[0m\n\u001b[1;32m    366\u001b[0m         \u001b[0;32mif\u001b[0m \u001b[0mend\u001b[0m \u001b[0;34m!=\u001b[0m \u001b[0mlen\u001b[0m\u001b[0;34m(\u001b[0m\u001b[0ms\u001b[0m\u001b[0;34m)\u001b[0m\u001b[0;34m:\u001b[0m\u001b[0;34m\u001b[0m\u001b[0m\n",
         "\u001b[0;32m/usr/lib/python2.7/json/decoder.pyc\u001b[0m in \u001b[0;36mraw_decode\u001b[0;34m(self, s, idx)\u001b[0m\n\u001b[1;32m    380\u001b[0m             \u001b[0mobj\u001b[0m\u001b[0;34m,\u001b[0m \u001b[0mend\u001b[0m \u001b[0;34m=\u001b[0m \u001b[0mself\u001b[0m\u001b[0;34m.\u001b[0m\u001b[0mscan_once\u001b[0m\u001b[0;34m(\u001b[0m\u001b[0ms\u001b[0m\u001b[0;34m,\u001b[0m \u001b[0midx\u001b[0m\u001b[0;34m)\u001b[0m\u001b[0;34m\u001b[0m\u001b[0m\n\u001b[1;32m    381\u001b[0m         \u001b[0;32mexcept\u001b[0m \u001b[0mStopIteration\u001b[0m\u001b[0;34m:\u001b[0m\u001b[0;34m\u001b[0m\u001b[0m\n\u001b[0;32m--> 382\u001b[0;31m             \u001b[0;32mraise\u001b[0m \u001b[0mValueError\u001b[0m\u001b[0;34m(\u001b[0m\u001b[0;34m\"No JSON object could be decoded\"\u001b[0m\u001b[0;34m)\u001b[0m\u001b[0;34m\u001b[0m\u001b[0m\n\u001b[0m\u001b[1;32m    383\u001b[0m         \u001b[0;32mreturn\u001b[0m \u001b[0mobj\u001b[0m\u001b[0;34m,\u001b[0m \u001b[0mend\u001b[0m\u001b[0;34m\u001b[0m\u001b[0m\n",
         "\u001b[0;31mValueError\u001b[0m: No JSON object could be decoded"
        ]
       }
      ],
      "source": "MAP_URL = \"{base}/webclient/api/\"\n\nSCREEN_ID = 3\n\nqs = {'base': IDR_BASE_URL}\nurl = MAP_URL.format(**qs)\nfor a in session.get(url).json()['data']:\n    print(\"a%s\", a)\n    namespace = a['ns']\n    for v in a['values']:\n        key = v[0]\n        value = v[1]\n        print (key, value)",
      "start_time": "2018-09-12T13:28:35.707Z"
     },
     {
      "end_time": "2018-09-12T13:30:44.134Z",
      "execution_time": "100ms",
      "outputs": [],
      "source": "MAP_URL = \"{base}/webclient/api/annotations/?type=map\"\n\n\nqs = {'base': IDR_BASE_URL}\nurl = MAP_URL.format(**qs)\nfor a in session.get(url).json()['annotations']:\n    namespace = a['ns']\n    for v in a['values']:\n        key = v[0]\n        value = v[1]\n        print (key, value)",
      "start_time": "2018-09-12T13:30:44.034Z"
     },
     {
      "end_time": "2018-09-12T13:31:14.041Z",
      "execution_time": "78ms",
      "outputs": [
       {
        "name": "stdout",
        "output_type": "stream",
        "text": "url\n[]\n"
       }
      ],
      "source": "MAP_URL = \"{base}/webclient/api/annotations/?type=map\"\n\n\nqs = {'base': IDR_BASE_URL}\nurl = MAP_URL.format(**qs)\nprint(\"url\")\nprint(session.get(url).json()['annotations'])\nfor a in session.get(url).json()['annotations']:\n    namespace = a['ns']\n    for v in a['values']:\n        key = v[0]\n        value = v[1]\n        print (key, value)",
      "start_time": "2018-09-12T13:31:13.963Z"
     },
     {
      "end_time": "2018-09-12T13:31:39.537Z",
      "execution_time": "87ms",
      "outputs": [
       {
        "name": "stdout",
        "output_type": "stream",
        "text": "('url%s', 'http://idr.openmicroscopy.org/webclient/api/annotations/?type=map')\n[]\n"
       }
      ],
      "source": "MAP_URL = \"{base}/webclient/api/annotations/?type=map\"\n\n\nqs = {'base': IDR_BASE_URL}\nurl = MAP_URL.format(**qs)\nprint(\"url%s\", url)\nprint(session.get(url).json()['annotations'])\nfor a in session.get(url).json()['annotations']:\n    namespace = a['ns']\n    for v in a['values']:\n        key = v[0]\n        value = v[1]\n        print (key, value)",
      "start_time": "2018-09-12T13:31:39.450Z"
     },
     {
      "end_time": "2018-09-12T13:31:48.730Z",
      "execution_time": "193ms",
      "outputs": [
       {
        "name": "stdout",
        "output_type": "stream",
        "text": "('url%s', 'https://idr.openmicroscopy.org/webclient/api/annotations/?type=map')\n[]\n"
       }
      ],
      "source": "MAP_URL = \"{base}/webclient/api/annotations/?type=map\"\n\n\nqs = {'base': IDR_BASE_URL}\nurl = MAP_URL.format(**qs)\nprint(\"url%s\", url)\nprint(session.get(url).json()['annotations'])\nfor a in session.get(url).json()['annotations']:\n    namespace = a['ns']\n    for v in a['values']:\n        key = v[0]\n        value = v[1]\n        print (key, value)",
      "start_time": "2018-09-12T13:31:48.537Z"
     },
     {
      "end_time": "2018-09-12T13:41:03.900Z",
      "execution_time": "204ms",
      "outputs": [
       {
        "name": "stdout",
        "output_type": "stream",
        "text": "('url%s', 'https://idr.openmicroscopy.org/webclient/api/annotations/?type=map')\n[{u'description': u'Publication Title\\nDual spindle formation in zygotes keeps parental genomes apart in early mammalian embryos\\n\\nExperiment Description\\nCharacterization of mitotic spindle formation in live mouse zygotes by light-sheet microscopy.', u'name': u'idr0045-reichmann/experimentA', u'id': 405}, {u'description': u'Publication Title\\nEx vivo live cell tracking in kidney organoids using light sheet fluorescence microscopy\\n\\nExperiment Description\\nWe have adapted the mouse kidney rudiment assay to generate renal organoids. 24 hours after pelleting 100,000 mouse kidney cells, organoids had formed in the PDMS dishes. For the PNA vital stain test we used kidney cells from wildtype mice and for the tracking time series we used cells from the Wt1tm1Nhsn strain, expressing GFP together with the transcription factor Wt1. One organoid was embedded in a hydrogel matrix (1.5% Agarose + 3% gelatine). In the microscope chamber, the hydrogel cylinder was extruded from the capillary so that the hydrogel column containing the organoid was located outside the capillary and immersed in medium (phenol red-free MEM + 10% FBS, 1% pen/strep, 3ug/ml PNA-rh) at 37oC and with 5% CO2. We recorded z stacks of the spheroids from multiple angles every 30 mins to record the location of the GFP expressing cells in three dimensions over time. There are three time series. These are available in the subfolders \"Time PNA-rh vital\", \"Wt1-GFP PNA Time Series 1\" and \"Wt1-GFP PNA Time Series 2\".  The time series data was processed in Fiji by opening the green channel only, binning in X and Y by a factor of two and converting it to 8 bit for processing in TrackMate (v.2.8.2) where we used the LoG (Laplacian of Gaussian) Detector and LAP (Linear Assignment Problem) Tracker options. Tracking data generated from the time series using the Track Mate plug in for Fiji is also provided in the time series data sets as \"Nspots vs Time.txt\", \"Track statistics.txt\", \"Links in tracks statistics.txt\" and \"Spots in tracks statistics.txt\". The data was analysed and plotted via the Matlab script provided as \"TrackMateDataAnalysis.txt\" in conjunction with the functions \"NSpotsFunction.txt\", \"SpotsInTracksFunction.txt\", \"TrackStatisticsFunction.txt\", \"Violin.txt\" and \"violinplot.txt\".', u'name': u'idr0038-held-kidneylightsheet/experimentC', u'id': 353}, {u'description': u'Publication Title\\nHigh resolution imaging reveals heterogeneity in chromatin states between cells that is not inherited through cell division.\\n\\nExperiment Description\\nTo monitor the organisation of chromatin in live cells were engineered with fluorescent fusion proteins which recognize specific operator sequences to tag pairs of syntenic gene loci. The separation of these loci was then tracked in three dimensions over time using fluorescence microscopy. Data generated for this manuscript are made accessible here. This includes the movies generated from yeast strains with different genomic separations. These are available within subfolders titled \"Colocalising\", \"Genomic separation 100kb\", \"Genomic separation 25kb\" etc. Tracking data generated from these movies is also available as idr0027-AnalysisAllData.csv in the Attachments section below. This includes x, y and z co-ordinates of foci in the red and green channels following two stages of correction for channel alignment, the distance between the red and green foci in nanometers,  the offset of the red channel foci with respect to the green channel foci in x, y, and z. The maximum intensity, background intensity and standard deviation of the background intensity for both the red and green channels. The contrast (maximum spot intensity - nuclear background intensity) for each channel. The name originally assigned to the video, the genomic separation of the strain in kb. The string in column AE starts with the letter assigned to the video in supplementary figure 2. Some videos include two cells. In these cases the higher cell (on the y axis) is indicated as \"upper\" and the other as \"lower\". One of the two cells can often be assigned as the mother and the other as daughter. This is indicated as m or d in column AF. The systematic name of the strain is indicated in column AG.', u'name': u'idr0027-dickerson-chromatin/experimentA', u'id': 151}, {u'description': u'Publication Title\\nTiming of gene expression in a cell-fate decision system\\n\\nExperiment Description\\nTime-lapse with addition of 1uM alpha-factor at time 0', u'name': u'idr0040-aymoz-singlecell/experimentA', u'id': 401}, {u'description': u'Publication Title\\nAn experimental and computational framework to build a dynamic protein atlas of human cell division\\n\\nExperiment Description\\nImage data used to build the mitotic cell atlas. This consists of three subsets: raw images, segmentation masks for the landmarks and protein concentration maps.', u'name': u'idr0041-cai-mitoticatlas/experimentA', u'id': 404}, {u'description': u'Publication Title\\nA Deep-learning classifier identifies patients with clinical heart failure using whole-slide images of H&E tissue\\n\\nExperiment Description\\nHistopathology sub-image from patient whole-slide images from patients with end-stage clinical heart failure or cadaveric donor hearts from patients without heart failure.', u'name': u'idr0042-nirschl-wsideeplearning/experimentA', u'id': 402}, {u'description': u'Publication Title\\nEx vivo live cell tracking in kidney organoids using light sheet fluorescence microscopy\\n\\nStudy Description\\nWe have adapted the mouse kidney rudiment assay to generate renal organoids. We have immunostained endpoint fixed organoids and E13.5 embryonic kidneys and imaged them with a light sheet fluorescent microscope. The data generated for this manuscript is made accessible here and includes immunofluorescence staining after end point fixation revealing that organotypic structures develop within the organoids. Furthermore, we have performed an assay to ascertain tubular functionality. Following, we have imaged organoids containing Wt1-GFP knock-in cells live on the light sheet microscope to evaluate the ability to follow cells long-term and generate previously unavailable quantitative tracking data.\\n\\nidr0038 consists of a set of 3 experiments: experimentA (immunofluorescence staining after end point fixation), experimentB (assays to ascertain tubular functionality) and experimentC (Wt1-GFP knock-in cells followed long term).', u'name': u'idr0038-held-kidneylightsheet', u'id': 354}, {u'description': u'Publication Title\\nEx vivo live cell tracking in kidney organoids using light sheet fluorescence microscopy\\n\\nExperiment Description\\nAll assays were performed on live cultures. The intact kidney rudiments were cultured at air liquid interface for 4 days following dissection. The organoids were cultured under medium immersion for six days following dissection. The samples cultured at air liquid interface were gently removed from the membranes before starting the assay. The samples were incubated for one hour at 25oC with PBS containing 1uM 5(6)-Carboxyfluorescein (6-CF) and 20 ug/ml of PNA (Vector Laboratories). For the control samples, 2 mM probenecid was also added to the solution to inhibit the organic anion transport. After incubation, the samples were washed with ice cold PBS for 10 mins followed by an incubation with 8mM probenecid in PBS for 15 mins to arrest any transport. The functional assay was concluded by two PBS washes and samples were then embedded in 1.5% agarose for imaging.', u'name': u'idr0038-held-kidneylightsheet/experimentB', u'id': 352}, {u'description': u'Publication Title\\nEx vivo live cell tracking in kidney organoids using light sheet fluorescence microscopy\\n\\nExperiment Description\\nWe have adapted the mouse kidney rudiment assay to generate renal organoids. To demonstrate that the organoid culture method of re-aggregated kidney rudiments in PDMS discs resulted in 3D kidney organoids with organotypic structures, we stained fixed six day old organoids for various developmental markers and imaged them with a light sheet fluorescent microscope. We have stained for the following markers: Megalin, Laminin, Cytokeratin, Pax2, Six2, Wt1, Synaptopodin and Nephrin and have also used the lectin stain PNA (peanut agglutinin). The spheroids were usually imaged as z stacks from five angles.', u'name': u'idr0038-held-kidneylightsheet/experimentA', u'id': 351}, {u'description': u'Title\\nHistopathology study of 14 tissues from mice with 10 different mitotic gene knockouts.\\n\\nExperiment Description\\nHistopathology raw images and annotated tiff files of tissues from mice with 10 different single gene knockouts.', u'name': u'idr0018-neff-histopathology/experimentA', u'id': 101}, {u'description': u'Publication Title\\nSubdiffraction imaging of centrosomes reveals higher-order organizational features of pericentriolar material.\\n\\nExperiment Description\\nImages relating to Figure 1e in Lawo et al 2012. These are the 3D-SIM reconstructed, maximum intensity projected and aligned images of centriole or PCM proteins of cycling HeLa cells in interphase.', u'name': u'idr0021-lawo-pericentriolarmaterial/experimentA', u'id': 51}, {u'description': u'Publication Title\\nNuclear pore scaffold structure analyzed by super-resolution microscopy and particle averaging.\\n\\nExperiment Description\\nSystematic immunolabelling of the Nup107-160 complex and (monomeric) enhanced GFP [(m)EGFP] fusions of members of the Nup107-160 complex with an anti-GFP nanobody.', u'name': u'idr0023-szymborska-nuclearpore/experimentA', u'id': 52}, {u'description': u'Publication Title\\nRegulation of Meristem Morphogenesis by Cell Wall Synthases in Arabidopsis.\\n\\nExperiment Description\\nWe performed systematic RNA in situ hybridization assays to examine the expression patterns of the SAM-expressed GTs at single-cell spatial resolution, including those transcripts that show either relative increases, reductions, or no change between SAM and flower samples.', u'name': u'idr0032-yang-meristem/experimentA', u'id': 201}, {u'description': u'Publication Title\\nFocusing and sustaining the antitumor CTL effector killer response by agonist anti-CD137 mAb.\\n\\nExperiment Description\\nCombination therapy of adoptive CTL transfer and anti-CD137 monoclonal antibody. Mice were injected with B16F10/OVA melanoma cells and after 3 or 7 days were treated with OVA-specific CD8+ T cells (Cytotoxic T lymphocytes CTL) plus 1D8 antibody (anti-CD137).  4D timelapse images were taken at either 3 or 6 days after CTL + antibody treatment.', u'name': u'idr0026-weigelin-immunotherapy/experimentA', u'id': 301}]\n"
       }
      ],
      "source": "MAP_URL = \"{base}/webclient/api/annotations/?type=map\"\n\n\nqs = {'base': IDR_BASE_URL}\nurl = MAP_URL.format(**qs)\nprint(\"url%s\", url)\nurl = \"https://idr.openmicroscopy.org/webgateway/proj/list/\"\nprint(session.get(url).json())",
      "start_time": "2018-09-12T13:41:03.696Z"
     },
     {
      "end_time": "2018-09-12T14:26:52.470Z",
      "execution_time": "200ms",
      "outputs": [
       {
        "name": "stdout",
        "output_type": "stream",
        "text": "('session%s', <requests.sessions.Session object at 0x7f05d0120a90>)\n('url%s', 'https://idr.openmicroscopy.org/webclient/api/annotations/?type=map')\n[{u'description': u'Publication Title\\nDual spindle formation in zygotes keeps parental genomes apart in early mammalian embryos\\n\\nExperiment Description\\nCharacterization of mitotic spindle formation in live mouse zygotes by light-sheet microscopy.', u'name': u'idr0045-reichmann/experimentA', u'id': 405}, {u'description': u'Publication Title\\nEx vivo live cell tracking in kidney organoids using light sheet fluorescence microscopy\\n\\nExperiment Description\\nWe have adapted the mouse kidney rudiment assay to generate renal organoids. 24 hours after pelleting 100,000 mouse kidney cells, organoids had formed in the PDMS dishes. For the PNA vital stain test we used kidney cells from wildtype mice and for the tracking time series we used cells from the Wt1tm1Nhsn strain, expressing GFP together with the transcription factor Wt1. One organoid was embedded in a hydrogel matrix (1.5% Agarose + 3% gelatine). In the microscope chamber, the hydrogel cylinder was extruded from the capillary so that the hydrogel column containing the organoid was located outside the capillary and immersed in medium (phenol red-free MEM + 10% FBS, 1% pen/strep, 3ug/ml PNA-rh) at 37oC and with 5% CO2. We recorded z stacks of the spheroids from multiple angles every 30 mins to record the location of the GFP expressing cells in three dimensions over time. There are three time series. These are available in the subfolders \"Time PNA-rh vital\", \"Wt1-GFP PNA Time Series 1\" and \"Wt1-GFP PNA Time Series 2\".  The time series data was processed in Fiji by opening the green channel only, binning in X and Y by a factor of two and converting it to 8 bit for processing in TrackMate (v.2.8.2) where we used the LoG (Laplacian of Gaussian) Detector and LAP (Linear Assignment Problem) Tracker options. Tracking data generated from the time series using the Track Mate plug in for Fiji is also provided in the time series data sets as \"Nspots vs Time.txt\", \"Track statistics.txt\", \"Links in tracks statistics.txt\" and \"Spots in tracks statistics.txt\". The data was analysed and plotted via the Matlab script provided as \"TrackMateDataAnalysis.txt\" in conjunction with the functions \"NSpotsFunction.txt\", \"SpotsInTracksFunction.txt\", \"TrackStatisticsFunction.txt\", \"Violin.txt\" and \"violinplot.txt\".', u'name': u'idr0038-held-kidneylightsheet/experimentC', u'id': 353}, {u'description': u'Publication Title\\nHigh resolution imaging reveals heterogeneity in chromatin states between cells that is not inherited through cell division.\\n\\nExperiment Description\\nTo monitor the organisation of chromatin in live cells were engineered with fluorescent fusion proteins which recognize specific operator sequences to tag pairs of syntenic gene loci. The separation of these loci was then tracked in three dimensions over time using fluorescence microscopy. Data generated for this manuscript are made accessible here. This includes the movies generated from yeast strains with different genomic separations. These are available within subfolders titled \"Colocalising\", \"Genomic separation 100kb\", \"Genomic separation 25kb\" etc. Tracking data generated from these movies is also available as idr0027-AnalysisAllData.csv in the Attachments section below. This includes x, y and z co-ordinates of foci in the red and green channels following two stages of correction for channel alignment, the distance between the red and green foci in nanometers,  the offset of the red channel foci with respect to the green channel foci in x, y, and z. The maximum intensity, background intensity and standard deviation of the background intensity for both the red and green channels. The contrast (maximum spot intensity - nuclear background intensity) for each channel. The name originally assigned to the video, the genomic separation of the strain in kb. The string in column AE starts with the letter assigned to the video in supplementary figure 2. Some videos include two cells. In these cases the higher cell (on the y axis) is indicated as \"upper\" and the other as \"lower\". One of the two cells can often be assigned as the mother and the other as daughter. This is indicated as m or d in column AF. The systematic name of the strain is indicated in column AG.', u'name': u'idr0027-dickerson-chromatin/experimentA', u'id': 151}, {u'description': u'Publication Title\\nTiming of gene expression in a cell-fate decision system\\n\\nExperiment Description\\nTime-lapse with addition of 1uM alpha-factor at time 0', u'name': u'idr0040-aymoz-singlecell/experimentA', u'id': 401}, {u'description': u'Publication Title\\nAn experimental and computational framework to build a dynamic protein atlas of human cell division\\n\\nExperiment Description\\nImage data used to build the mitotic cell atlas. This consists of three subsets: raw images, segmentation masks for the landmarks and protein concentration maps.', u'name': u'idr0041-cai-mitoticatlas/experimentA', u'id': 404}, {u'description': u'Publication Title\\nA Deep-learning classifier identifies patients with clinical heart failure using whole-slide images of H&E tissue\\n\\nExperiment Description\\nHistopathology sub-image from patient whole-slide images from patients with end-stage clinical heart failure or cadaveric donor hearts from patients without heart failure.', u'name': u'idr0042-nirschl-wsideeplearning/experimentA', u'id': 402}, {u'description': u'Publication Title\\nEx vivo live cell tracking in kidney organoids using light sheet fluorescence microscopy\\n\\nStudy Description\\nWe have adapted the mouse kidney rudiment assay to generate renal organoids. We have immunostained endpoint fixed organoids and E13.5 embryonic kidneys and imaged them with a light sheet fluorescent microscope. The data generated for this manuscript is made accessible here and includes immunofluorescence staining after end point fixation revealing that organotypic structures develop within the organoids. Furthermore, we have performed an assay to ascertain tubular functionality. Following, we have imaged organoids containing Wt1-GFP knock-in cells live on the light sheet microscope to evaluate the ability to follow cells long-term and generate previously unavailable quantitative tracking data.\\n\\nidr0038 consists of a set of 3 experiments: experimentA (immunofluorescence staining after end point fixation), experimentB (assays to ascertain tubular functionality) and experimentC (Wt1-GFP knock-in cells followed long term).', u'name': u'idr0038-held-kidneylightsheet', u'id': 354}, {u'description': u'Publication Title\\nEx vivo live cell tracking in kidney organoids using light sheet fluorescence microscopy\\n\\nExperiment Description\\nAll assays were performed on live cultures. The intact kidney rudiments were cultured at air liquid interface for 4 days following dissection. The organoids were cultured under medium immersion for six days following dissection. The samples cultured at air liquid interface were gently removed from the membranes before starting the assay. The samples were incubated for one hour at 25oC with PBS containing 1uM 5(6)-Carboxyfluorescein (6-CF) and 20 ug/ml of PNA (Vector Laboratories). For the control samples, 2 mM probenecid was also added to the solution to inhibit the organic anion transport. After incubation, the samples were washed with ice cold PBS for 10 mins followed by an incubation with 8mM probenecid in PBS for 15 mins to arrest any transport. The functional assay was concluded by two PBS washes and samples were then embedded in 1.5% agarose for imaging.', u'name': u'idr0038-held-kidneylightsheet/experimentB', u'id': 352}, {u'description': u'Publication Title\\nEx vivo live cell tracking in kidney organoids using light sheet fluorescence microscopy\\n\\nExperiment Description\\nWe have adapted the mouse kidney rudiment assay to generate renal organoids. To demonstrate that the organoid culture method of re-aggregated kidney rudiments in PDMS discs resulted in 3D kidney organoids with organotypic structures, we stained fixed six day old organoids for various developmental markers and imaged them with a light sheet fluorescent microscope. We have stained for the following markers: Megalin, Laminin, Cytokeratin, Pax2, Six2, Wt1, Synaptopodin and Nephrin and have also used the lectin stain PNA (peanut agglutinin). The spheroids were usually imaged as z stacks from five angles.', u'name': u'idr0038-held-kidneylightsheet/experimentA', u'id': 351}, {u'description': u'Title\\nHistopathology study of 14 tissues from mice with 10 different mitotic gene knockouts.\\n\\nExperiment Description\\nHistopathology raw images and annotated tiff files of tissues from mice with 10 different single gene knockouts.', u'name': u'idr0018-neff-histopathology/experimentA', u'id': 101}, {u'description': u'Publication Title\\nSubdiffraction imaging of centrosomes reveals higher-order organizational features of pericentriolar material.\\n\\nExperiment Description\\nImages relating to Figure 1e in Lawo et al 2012. These are the 3D-SIM reconstructed, maximum intensity projected and aligned images of centriole or PCM proteins of cycling HeLa cells in interphase.', u'name': u'idr0021-lawo-pericentriolarmaterial/experimentA', u'id': 51}, {u'description': u'Publication Title\\nNuclear pore scaffold structure analyzed by super-resolution microscopy and particle averaging.\\n\\nExperiment Description\\nSystematic immunolabelling of the Nup107-160 complex and (monomeric) enhanced GFP [(m)EGFP] fusions of members of the Nup107-160 complex with an anti-GFP nanobody.', u'name': u'idr0023-szymborska-nuclearpore/experimentA', u'id': 52}, {u'description': u'Publication Title\\nRegulation of Meristem Morphogenesis by Cell Wall Synthases in Arabidopsis.\\n\\nExperiment Description\\nWe performed systematic RNA in situ hybridization assays to examine the expression patterns of the SAM-expressed GTs at single-cell spatial resolution, including those transcripts that show either relative increases, reductions, or no change between SAM and flower samples.', u'name': u'idr0032-yang-meristem/experimentA', u'id': 201}, {u'description': u'Publication Title\\nFocusing and sustaining the antitumor CTL effector killer response by agonist anti-CD137 mAb.\\n\\nExperiment Description\\nCombination therapy of adoptive CTL transfer and anti-CD137 monoclonal antibody. Mice were injected with B16F10/OVA melanoma cells and after 3 or 7 days were treated with OVA-specific CD8+ T cells (Cytotoxic T lymphocytes CTL) plus 1D8 antibody (anti-CD137).  4D timelapse images were taken at either 3 or 6 days after CTL + antibody treatment.', u'name': u'idr0026-weigelin-immunotherapy/experimentA', u'id': 301}]\n"
       }
      ],
      "source": "print(\"session%s\", session)\nMAP_URL = \"{base}/webclient/api/annotations/?type=map\"\n\n\nqs = {'base': IDR_BASE_URL}\nurl = MAP_URL.format(**qs)\nprint(\"url%s\", url)\nurl = \"https://idr.openmicroscopy.org/webgateway/proj/list/\"\nprint(session.get(url).json())",
      "start_time": "2018-09-12T14:26:52.270Z"
     }
    ]
   },
   "outputs": [
    {
     "name": "stdout",
     "output_type": "stream",
     "text": [
      "('session%s', <requests.sessions.Session object at 0x7f05d0120a90>)\n",
      "('url%s', 'https://idr.openmicroscopy.org/webclient/api/annotations/?type=map')\n",
      "[{u'description': u'Publication Title\\nDual spindle formation in zygotes keeps parental genomes apart in early mammalian embryos\\n\\nExperiment Description\\nCharacterization of mitotic spindle formation in live mouse zygotes by light-sheet microscopy.', u'name': u'idr0045-reichmann/experimentA', u'id': 405}, {u'description': u'Publication Title\\nEx vivo live cell tracking in kidney organoids using light sheet fluorescence microscopy\\n\\nExperiment Description\\nWe have adapted the mouse kidney rudiment assay to generate renal organoids. 24 hours after pelleting 100,000 mouse kidney cells, organoids had formed in the PDMS dishes. For the PNA vital stain test we used kidney cells from wildtype mice and for the tracking time series we used cells from the Wt1tm1Nhsn strain, expressing GFP together with the transcription factor Wt1. One organoid was embedded in a hydrogel matrix (1.5% Agarose + 3% gelatine). In the microscope chamber, the hydrogel cylinder was extruded from the capillary so that the hydrogel column containing the organoid was located outside the capillary and immersed in medium (phenol red-free MEM + 10% FBS, 1% pen/strep, 3ug/ml PNA-rh) at 37oC and with 5% CO2. We recorded z stacks of the spheroids from multiple angles every 30 mins to record the location of the GFP expressing cells in three dimensions over time. There are three time series. These are available in the subfolders \"Time PNA-rh vital\", \"Wt1-GFP PNA Time Series 1\" and \"Wt1-GFP PNA Time Series 2\".  The time series data was processed in Fiji by opening the green channel only, binning in X and Y by a factor of two and converting it to 8 bit for processing in TrackMate (v.2.8.2) where we used the LoG (Laplacian of Gaussian) Detector and LAP (Linear Assignment Problem) Tracker options. Tracking data generated from the time series using the Track Mate plug in for Fiji is also provided in the time series data sets as \"Nspots vs Time.txt\", \"Track statistics.txt\", \"Links in tracks statistics.txt\" and \"Spots in tracks statistics.txt\". The data was analysed and plotted via the Matlab script provided as \"TrackMateDataAnalysis.txt\" in conjunction with the functions \"NSpotsFunction.txt\", \"SpotsInTracksFunction.txt\", \"TrackStatisticsFunction.txt\", \"Violin.txt\" and \"violinplot.txt\".', u'name': u'idr0038-held-kidneylightsheet/experimentC', u'id': 353}, {u'description': u'Publication Title\\nHigh resolution imaging reveals heterogeneity in chromatin states between cells that is not inherited through cell division.\\n\\nExperiment Description\\nTo monitor the organisation of chromatin in live cells were engineered with fluorescent fusion proteins which recognize specific operator sequences to tag pairs of syntenic gene loci. The separation of these loci was then tracked in three dimensions over time using fluorescence microscopy. Data generated for this manuscript are made accessible here. This includes the movies generated from yeast strains with different genomic separations. These are available within subfolders titled \"Colocalising\", \"Genomic separation 100kb\", \"Genomic separation 25kb\" etc. Tracking data generated from these movies is also available as idr0027-AnalysisAllData.csv in the Attachments section below. This includes x, y and z co-ordinates of foci in the red and green channels following two stages of correction for channel alignment, the distance between the red and green foci in nanometers,  the offset of the red channel foci with respect to the green channel foci in x, y, and z. The maximum intensity, background intensity and standard deviation of the background intensity for both the red and green channels. The contrast (maximum spot intensity - nuclear background intensity) for each channel. The name originally assigned to the video, the genomic separation of the strain in kb. The string in column AE starts with the letter assigned to the video in supplementary figure 2. Some videos include two cells. In these cases the higher cell (on the y axis) is indicated as \"upper\" and the other as \"lower\". One of the two cells can often be assigned as the mother and the other as daughter. This is indicated as m or d in column AF. The systematic name of the strain is indicated in column AG.', u'name': u'idr0027-dickerson-chromatin/experimentA', u'id': 151}, {u'description': u'Publication Title\\nTiming of gene expression in a cell-fate decision system\\n\\nExperiment Description\\nTime-lapse with addition of 1uM alpha-factor at time 0', u'name': u'idr0040-aymoz-singlecell/experimentA', u'id': 401}, {u'description': u'Publication Title\\nAn experimental and computational framework to build a dynamic protein atlas of human cell division\\n\\nExperiment Description\\nImage data used to build the mitotic cell atlas. This consists of three subsets: raw images, segmentation masks for the landmarks and protein concentration maps.', u'name': u'idr0041-cai-mitoticatlas/experimentA', u'id': 404}, {u'description': u'Publication Title\\nA Deep-learning classifier identifies patients with clinical heart failure using whole-slide images of H&E tissue\\n\\nExperiment Description\\nHistopathology sub-image from patient whole-slide images from patients with end-stage clinical heart failure or cadaveric donor hearts from patients without heart failure.', u'name': u'idr0042-nirschl-wsideeplearning/experimentA', u'id': 402}, {u'description': u'Publication Title\\nEx vivo live cell tracking in kidney organoids using light sheet fluorescence microscopy\\n\\nStudy Description\\nWe have adapted the mouse kidney rudiment assay to generate renal organoids. We have immunostained endpoint fixed organoids and E13.5 embryonic kidneys and imaged them with a light sheet fluorescent microscope. The data generated for this manuscript is made accessible here and includes immunofluorescence staining after end point fixation revealing that organotypic structures develop within the organoids. Furthermore, we have performed an assay to ascertain tubular functionality. Following, we have imaged organoids containing Wt1-GFP knock-in cells live on the light sheet microscope to evaluate the ability to follow cells long-term and generate previously unavailable quantitative tracking data.\\n\\nidr0038 consists of a set of 3 experiments: experimentA (immunofluorescence staining after end point fixation), experimentB (assays to ascertain tubular functionality) and experimentC (Wt1-GFP knock-in cells followed long term).', u'name': u'idr0038-held-kidneylightsheet', u'id': 354}, {u'description': u'Publication Title\\nEx vivo live cell tracking in kidney organoids using light sheet fluorescence microscopy\\n\\nExperiment Description\\nAll assays were performed on live cultures. The intact kidney rudiments were cultured at air liquid interface for 4 days following dissection. The organoids were cultured under medium immersion for six days following dissection. The samples cultured at air liquid interface were gently removed from the membranes before starting the assay. The samples were incubated for one hour at 25oC with PBS containing 1uM 5(6)-Carboxyfluorescein (6-CF) and 20 ug/ml of PNA (Vector Laboratories). For the control samples, 2 mM probenecid was also added to the solution to inhibit the organic anion transport. After incubation, the samples were washed with ice cold PBS for 10 mins followed by an incubation with 8mM probenecid in PBS for 15 mins to arrest any transport. The functional assay was concluded by two PBS washes and samples were then embedded in 1.5% agarose for imaging.', u'name': u'idr0038-held-kidneylightsheet/experimentB', u'id': 352}, {u'description': u'Publication Title\\nEx vivo live cell tracking in kidney organoids using light sheet fluorescence microscopy\\n\\nExperiment Description\\nWe have adapted the mouse kidney rudiment assay to generate renal organoids. To demonstrate that the organoid culture method of re-aggregated kidney rudiments in PDMS discs resulted in 3D kidney organoids with organotypic structures, we stained fixed six day old organoids for various developmental markers and imaged them with a light sheet fluorescent microscope. We have stained for the following markers: Megalin, Laminin, Cytokeratin, Pax2, Six2, Wt1, Synaptopodin and Nephrin and have also used the lectin stain PNA (peanut agglutinin). The spheroids were usually imaged as z stacks from five angles.', u'name': u'idr0038-held-kidneylightsheet/experimentA', u'id': 351}, {u'description': u'Title\\nHistopathology study of 14 tissues from mice with 10 different mitotic gene knockouts.\\n\\nExperiment Description\\nHistopathology raw images and annotated tiff files of tissues from mice with 10 different single gene knockouts.', u'name': u'idr0018-neff-histopathology/experimentA', u'id': 101}, {u'description': u'Publication Title\\nSubdiffraction imaging of centrosomes reveals higher-order organizational features of pericentriolar material.\\n\\nExperiment Description\\nImages relating to Figure 1e in Lawo et al 2012. These are the 3D-SIM reconstructed, maximum intensity projected and aligned images of centriole or PCM proteins of cycling HeLa cells in interphase.', u'name': u'idr0021-lawo-pericentriolarmaterial/experimentA', u'id': 51}, {u'description': u'Publication Title\\nNuclear pore scaffold structure analyzed by super-resolution microscopy and particle averaging.\\n\\nExperiment Description\\nSystematic immunolabelling of the Nup107-160 complex and (monomeric) enhanced GFP [(m)EGFP] fusions of members of the Nup107-160 complex with an anti-GFP nanobody.', u'name': u'idr0023-szymborska-nuclearpore/experimentA', u'id': 52}, {u'description': u'Publication Title\\nRegulation of Meristem Morphogenesis by Cell Wall Synthases in Arabidopsis.\\n\\nExperiment Description\\nWe performed systematic RNA in situ hybridization assays to examine the expression patterns of the SAM-expressed GTs at single-cell spatial resolution, including those transcripts that show either relative increases, reductions, or no change between SAM and flower samples.', u'name': u'idr0032-yang-meristem/experimentA', u'id': 201}, {u'description': u'Publication Title\\nFocusing and sustaining the antitumor CTL effector killer response by agonist anti-CD137 mAb.\\n\\nExperiment Description\\nCombination therapy of adoptive CTL transfer and anti-CD137 monoclonal antibody. Mice were injected with B16F10/OVA melanoma cells and after 3 or 7 days were treated with OVA-specific CD8+ T cells (Cytotoxic T lymphocytes CTL) plus 1D8 antibody (anti-CD137).  4D timelapse images were taken at either 3 or 6 days after CTL + antibody treatment.', u'name': u'idr0026-weigelin-immunotherapy/experimentA', u'id': 301}]\n"
     ]
    }
   ],
   "source": [
    "print(\"session%s\", session)\n",
    "MAP_URL = \"{base}/webclient/api/annotations/?type=map\"\n",
    "\n",
    "\n",
    "qs = {'base': IDR_BASE_URL}\n",
    "url = MAP_URL.format(**qs)\n",
    "print(\"url%s\", url)\n",
    "url = \"https://idr.openmicroscopy.org/webgateway/proj/list/\"\n",
    "print(session.get(url).json())"
   ]
  },
  {
   "cell_type": "code",
   "execution_count": 61,
   "metadata": {
    "ExecutionTime": {
     "end_time": "2018-09-12T14:26:52.481161Z",
     "start_time": "2018-09-12T14:26:52.475711Z"
    },
    "provenance": [
     {
      "outputs": [],
      "source": "import rdflib"
     },
     {
      "end_time": "2018-09-12T14:14:04.053Z",
      "execution_time": "139ms",
      "outputs": [],
      "source": "import rdflib",
      "start_time": "2018-09-12T14:14:03.914Z"
     },
     {
      "end_time": "2018-09-12T14:26:52.481Z",
      "execution_time": "6ms",
      "outputs": [],
      "source": "import rdflib",
      "start_time": "2018-09-12T14:26:52.475Z"
     }
    ]
   },
   "outputs": [],
   "source": [
    "import rdflib"
   ]
  },
  {
   "cell_type": "code",
   "execution_count": null,
   "metadata": {},
   "outputs": [],
   "source": []
  }
 ],
 "metadata": {
  "kernelspec": {
   "display_name": "Python 2",
   "language": "python",
   "name": "python2"
  },
  "language_info": {
   "codemirror_mode": {
    "name": "ipython",
    "version": 2
   },
   "file_extension": ".py",
   "mimetype": "text/x-python",
   "name": "python",
   "nbconvert_exporter": "python",
   "pygments_lexer": "ipython2",
   "version": "2.7.15rc1"
  }
 },
 "nbformat": 4,
 "nbformat_minor": 2
}
