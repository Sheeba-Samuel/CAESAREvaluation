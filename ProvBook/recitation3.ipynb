{
 "cells": [
  {
   "cell_type": "markdown",
   "metadata": {
    "provenance": [
     {
      "last_modified": "2018-06-12T08:34:10.000Z",
      "source": "# CS1001.py\n## Extended Introduction to Computer Science with Python, Tel-Aviv University, Spring 2013\n# Recitation 3 - 14-18.3.2013\n## Last update: 18.3.2013"
     }
    ]
   },
   "source": [
    "# CS1001.py\n",
    "## Extended Introduction to Computer Science with Python, Tel-Aviv University, Spring 2013\n",
    "# Recitation 3 - 14-18.3.2013\n",
    "## Last update: 18.3.2013"
   ]
  },
  {
   "cell_type": "markdown",
   "metadata": {
    "provenance": [
     {
      "last_modified": "2018-06-12T08:34:10.000Z",
      "source": "## Divisors\n\nIn the previous recitation we wrote a function to find the divisors of a number:"
     }
    ]
   },
   "source": [
    "## Divisors\n",
    "\n",
    "In the previous recitation we wrote a function to find the divisors of a number:"
   ]
  },
  {
   "cell_type": "code",
   "execution_count": 4,
   "metadata": {
    "ExecutionTime": {
     "end_time": "2019-07-08T14:45:54.376271Z",
     "start_time": "2019-07-08T14:45:54.369684Z"
    },
    "provenance": [
     {
      "end_time": "Unknown",
      "execution_time": "Unknown",
      "outputs": [],
      "source": "def divisors(n):\n    return [div for div in range(1,n) if n % div == 0]",
      "start_time": "Unknown"
     },
     {
      "end_time": "2019-07-08T14:45:27.538Z",
      "execution_time": "5ms",
      "outputs": [],
      "source": "def divisors(n):\n    return [div for div in range(1,n) if n % div == 0]",
      "start_time": "2019-07-08T14:45:27.533Z"
     },
     {
      "end_time": "2019-07-08T14:45:27.538Z",
      "execution_time": "5ms",
      "outputs": [],
      "source": "def divisors(n):\n    return [div for div in range(1,n) if n % div == 0]",
      "start_time": "2019-07-08T14:45:27.533Z"
     },
     {
      "end_time": "2019-07-08T14:45:54.376Z",
      "execution_time": "7ms",
      "outputs": [],
      "source": "def divisors(n):\n    return [div for div in range(1,n) if n % div == 0]",
      "start_time": "2019-07-08T14:45:54.369Z"
     },
     {
      "end_time": "2019-07-08T14:45:54.376Z",
      "execution_time": "7ms",
      "outputs": [],
      "source": "def divisors(n):\n    return [div for div in range(1,n) if n % div == 0]",
      "start_time": "2019-07-08T14:45:54.369Z"
     }
    ]
   },
   "outputs": [],
   "source": [
    "def divisors(n):\n",
    "    return [div for div in range(1,n) if n % div == 0]"
   ]
  },
  {
   "cell_type": "markdown",
   "metadata": {
    "provenance": [
     {
      "last_modified": "2018-06-12T08:34:10.000Z",
      "source": "Here is a faster and slightly more complex way to do it:"
     }
    ]
   },
   "source": [
    "Here is a faster and slightly more complex way to do it:"
   ]
  },
  {
   "cell_type": "code",
   "execution_count": 5,
   "metadata": {
    "ExecutionTime": {
     "end_time": "2019-07-08T14:45:54.404190Z",
     "start_time": "2019-07-08T14:45:54.384888Z"
    },
    "provenance": [
     {
      "end_time": "Unknown",
      "execution_time": "Unknown",
      "outputs": [],
      "source": "from math import ceil\ndef divisors2(n):\n    divs = [1]\n    for m in range(2, ceil(n ** 0.5)):#1 and n**0.5 will be handled separately. why?\n        if n % m == 0:\n            divs += [m, n // m]\n    if n % n ** 0.5 == 0:\n        divs += [int(n ** 0.5)]\n    return divs",
      "start_time": "Unknown"
     },
     {
      "end_time": "2019-07-08T14:45:27.558Z",
      "execution_time": "11ms",
      "outputs": [],
      "source": "from math import ceil\ndef divisors2(n):\n    divs = [1]\n    for m in range(2, ceil(n ** 0.5)):#1 and n**0.5 will be handled separately. why?\n        if n % m == 0:\n            divs += [m, n // m]\n    if n % n ** 0.5 == 0:\n        divs += [int(n ** 0.5)]\n    return divs",
      "start_time": "2019-07-08T14:45:27.547Z"
     },
     {
      "end_time": "2019-07-08T14:45:27.558Z",
      "execution_time": "11ms",
      "outputs": [],
      "source": "from math import ceil\ndef divisors2(n):\n    divs = [1]\n    for m in range(2, ceil(n ** 0.5)):#1 and n**0.5 will be handled separately. why?\n        if n % m == 0:\n            divs += [m, n // m]\n    if n % n ** 0.5 == 0:\n        divs += [int(n ** 0.5)]\n    return divs",
      "start_time": "2019-07-08T14:45:27.547Z"
     },
     {
      "end_time": "2019-07-08T14:45:54.404Z",
      "execution_time": "20ms",
      "outputs": [],
      "source": "from math import ceil\ndef divisors2(n):\n    divs = [1]\n    for m in range(2, ceil(n ** 0.5)):#1 and n**0.5 will be handled separately. why?\n        if n % m == 0:\n            divs += [m, n // m]\n    if n % n ** 0.5 == 0:\n        divs += [int(n ** 0.5)]\n    return divs",
      "start_time": "2019-07-08T14:45:54.384Z"
     },
     {
      "end_time": "2019-07-08T14:45:54.404Z",
      "execution_time": "20ms",
      "outputs": [],
      "source": "from math import ceil\ndef divisors2(n):\n    divs = [1]\n    for m in range(2, ceil(n ** 0.5)):#1 and n**0.5 will be handled separately. why?\n        if n % m == 0:\n            divs += [m, n // m]\n    if n % n ** 0.5 == 0:\n        divs += [int(n ** 0.5)]\n    return divs",
      "start_time": "2019-07-08T14:45:54.384Z"
     }
    ]
   },
   "outputs": [],
   "source": [
    "from math import ceil\n",
    "def divisors2(n):\n",
    "    divs = [1]\n",
    "    for m in range(2, ceil(n ** 0.5)):#1 and n**0.5 will be handled separately. why?\n",
    "        if n % m == 0:\n",
    "            divs += [m, n // m]\n",
    "    if n % n ** 0.5 == 0:\n",
    "        divs += [int(n ** 0.5)]\n",
    "    return divs"
   ]
  },
  {
   "cell_type": "code",
   "execution_count": 6,
   "metadata": {
    "ExecutionTime": {
     "end_time": "2019-07-08T14:45:54.445998Z",
     "start_time": "2019-07-08T14:45:54.408477Z"
    },
    "provenance": [
     {
      "end_time": "Unknown",
      "execution_time": "Unknown",
      "outputs": [
       {
        "name": "stdout",
        "output_type": "stream",
        "text": "[1, 2, 3, 4, 6, 9, 12, 18]\n[1, 2, 3, 4, 6, 9, 12, 18]\n"
       }
      ],
      "source": "print(divisors(36))\nprint(sorted(divisors2(36)))",
      "start_time": "Unknown"
     },
     {
      "end_time": "2019-07-08T14:45:27.644Z",
      "execution_time": "82ms",
      "outputs": [
       {
        "name": "stdout",
        "output_type": "stream",
        "text": "[1, 2, 3, 4, 6, 9, 12, 18]\n"
       },
       {
        "ename": "TypeError",
        "evalue": "range() integer end argument expected, got float.",
        "output_type": "error",
        "traceback": [
         "\u001b[0;31m---------------------------------------------------------------------------\u001b[0m",
         "\u001b[0;31mTypeError\u001b[0m                                 Traceback (most recent call last)",
         "\u001b[0;32m<ipython-input-3-9a2f0f8e01d7>\u001b[0m in \u001b[0;36m<module>\u001b[0;34m()\u001b[0m\n\u001b[1;32m      1\u001b[0m \u001b[0;32mprint\u001b[0m\u001b[0;34m(\u001b[0m\u001b[0mdivisors\u001b[0m\u001b[0;34m(\u001b[0m\u001b[0;36m36\u001b[0m\u001b[0;34m)\u001b[0m\u001b[0;34m)\u001b[0m\u001b[0;34m\u001b[0m\u001b[0m\n\u001b[0;32m----> 2\u001b[0;31m \u001b[0;32mprint\u001b[0m\u001b[0;34m(\u001b[0m\u001b[0msorted\u001b[0m\u001b[0;34m(\u001b[0m\u001b[0mdivisors2\u001b[0m\u001b[0;34m(\u001b[0m\u001b[0;36m36\u001b[0m\u001b[0;34m)\u001b[0m\u001b[0;34m)\u001b[0m\u001b[0;34m)\u001b[0m\u001b[0;34m\u001b[0m\u001b[0m\n\u001b[0m",
         "\u001b[0;32m<ipython-input-2-7e07261c0193>\u001b[0m in \u001b[0;36mdivisors2\u001b[0;34m(n)\u001b[0m\n\u001b[1;32m      2\u001b[0m \u001b[0;32mdef\u001b[0m \u001b[0mdivisors2\u001b[0m\u001b[0;34m(\u001b[0m\u001b[0mn\u001b[0m\u001b[0;34m)\u001b[0m\u001b[0;34m:\u001b[0m\u001b[0;34m\u001b[0m\u001b[0m\n\u001b[1;32m      3\u001b[0m     \u001b[0mdivs\u001b[0m \u001b[0;34m=\u001b[0m \u001b[0;34m[\u001b[0m\u001b[0;36m1\u001b[0m\u001b[0;34m]\u001b[0m\u001b[0;34m\u001b[0m\u001b[0m\n\u001b[0;32m----> 4\u001b[0;31m     \u001b[0;32mfor\u001b[0m \u001b[0mm\u001b[0m \u001b[0;32min\u001b[0m \u001b[0mrange\u001b[0m\u001b[0;34m(\u001b[0m\u001b[0;36m2\u001b[0m\u001b[0;34m,\u001b[0m \u001b[0mceil\u001b[0m\u001b[0;34m(\u001b[0m\u001b[0mn\u001b[0m \u001b[0;34m**\u001b[0m \u001b[0;36m0.5\u001b[0m\u001b[0;34m)\u001b[0m\u001b[0;34m)\u001b[0m\u001b[0;34m:\u001b[0m\u001b[0;31m#1 and n**0.5 will be handled separately. why?\u001b[0m\u001b[0;34m\u001b[0m\u001b[0m\n\u001b[0m\u001b[1;32m      5\u001b[0m         \u001b[0;32mif\u001b[0m \u001b[0mn\u001b[0m \u001b[0;34m%\u001b[0m \u001b[0mm\u001b[0m \u001b[0;34m==\u001b[0m \u001b[0;36m0\u001b[0m\u001b[0;34m:\u001b[0m\u001b[0;34m\u001b[0m\u001b[0m\n\u001b[1;32m      6\u001b[0m             \u001b[0mdivs\u001b[0m \u001b[0;34m+=\u001b[0m \u001b[0;34m[\u001b[0m\u001b[0mm\u001b[0m\u001b[0;34m,\u001b[0m \u001b[0mn\u001b[0m \u001b[0;34m//\u001b[0m \u001b[0mm\u001b[0m\u001b[0;34m]\u001b[0m\u001b[0;34m\u001b[0m\u001b[0m\n",
         "\u001b[0;31mTypeError\u001b[0m: range() integer end argument expected, got float."
        ]
       }
      ],
      "source": "print(divisors(36))\nprint(sorted(divisors2(36)))",
      "start_time": "2019-07-08T14:45:27.562Z"
     },
     {
      "end_time": "2019-07-08T14:45:27.644Z",
      "execution_time": "82ms",
      "outputs": [
       {
        "name": "stdout",
        "output_type": "stream",
        "text": "[1, 2, 3, 4, 6, 9, 12, 18]\n"
       },
       {
        "ename": "TypeError",
        "evalue": "range() integer end argument expected, got float.",
        "output_type": "error",
        "traceback": [
         "\u001b[0;31m---------------------------------------------------------------------------\u001b[0m",
         "\u001b[0;31mTypeError\u001b[0m                                 Traceback (most recent call last)",
         "\u001b[0;32m<ipython-input-3-9a2f0f8e01d7>\u001b[0m in \u001b[0;36m<module>\u001b[0;34m()\u001b[0m\n\u001b[1;32m      1\u001b[0m \u001b[0;32mprint\u001b[0m\u001b[0;34m(\u001b[0m\u001b[0mdivisors\u001b[0m\u001b[0;34m(\u001b[0m\u001b[0;36m36\u001b[0m\u001b[0;34m)\u001b[0m\u001b[0;34m)\u001b[0m\u001b[0;34m\u001b[0m\u001b[0m\n\u001b[0;32m----> 2\u001b[0;31m \u001b[0;32mprint\u001b[0m\u001b[0;34m(\u001b[0m\u001b[0msorted\u001b[0m\u001b[0;34m(\u001b[0m\u001b[0mdivisors2\u001b[0m\u001b[0;34m(\u001b[0m\u001b[0;36m36\u001b[0m\u001b[0;34m)\u001b[0m\u001b[0;34m)\u001b[0m\u001b[0;34m)\u001b[0m\u001b[0;34m\u001b[0m\u001b[0m\n\u001b[0m",
         "\u001b[0;32m<ipython-input-2-7e07261c0193>\u001b[0m in \u001b[0;36mdivisors2\u001b[0;34m(n)\u001b[0m\n\u001b[1;32m      2\u001b[0m \u001b[0;32mdef\u001b[0m \u001b[0mdivisors2\u001b[0m\u001b[0;34m(\u001b[0m\u001b[0mn\u001b[0m\u001b[0;34m)\u001b[0m\u001b[0;34m:\u001b[0m\u001b[0;34m\u001b[0m\u001b[0m\n\u001b[1;32m      3\u001b[0m     \u001b[0mdivs\u001b[0m \u001b[0;34m=\u001b[0m \u001b[0;34m[\u001b[0m\u001b[0;36m1\u001b[0m\u001b[0;34m]\u001b[0m\u001b[0;34m\u001b[0m\u001b[0m\n\u001b[0;32m----> 4\u001b[0;31m     \u001b[0;32mfor\u001b[0m \u001b[0mm\u001b[0m \u001b[0;32min\u001b[0m \u001b[0mrange\u001b[0m\u001b[0;34m(\u001b[0m\u001b[0;36m2\u001b[0m\u001b[0;34m,\u001b[0m \u001b[0mceil\u001b[0m\u001b[0;34m(\u001b[0m\u001b[0mn\u001b[0m \u001b[0;34m**\u001b[0m \u001b[0;36m0.5\u001b[0m\u001b[0;34m)\u001b[0m\u001b[0;34m)\u001b[0m\u001b[0;34m:\u001b[0m\u001b[0;31m#1 and n**0.5 will be handled separately. why?\u001b[0m\u001b[0;34m\u001b[0m\u001b[0m\n\u001b[0m\u001b[1;32m      5\u001b[0m         \u001b[0;32mif\u001b[0m \u001b[0mn\u001b[0m \u001b[0;34m%\u001b[0m \u001b[0mm\u001b[0m \u001b[0;34m==\u001b[0m \u001b[0;36m0\u001b[0m\u001b[0;34m:\u001b[0m\u001b[0;34m\u001b[0m\u001b[0m\n\u001b[1;32m      6\u001b[0m             \u001b[0mdivs\u001b[0m \u001b[0;34m+=\u001b[0m \u001b[0;34m[\u001b[0m\u001b[0mm\u001b[0m\u001b[0;34m,\u001b[0m \u001b[0mn\u001b[0m \u001b[0;34m//\u001b[0m \u001b[0mm\u001b[0m\u001b[0;34m]\u001b[0m\u001b[0;34m\u001b[0m\u001b[0m\n",
         "\u001b[0;31mTypeError\u001b[0m: range() integer end argument expected, got float."
        ]
       }
      ],
      "source": "print(divisors(36))\nprint(sorted(divisors2(36)))",
      "start_time": "2019-07-08T14:45:27.562Z"
     },
     {
      "end_time": "2019-07-08T14:45:54.445Z",
      "execution_time": "37ms",
      "outputs": [
       {
        "name": "stdout",
        "output_type": "stream",
        "text": "[1, 2, 3, 4, 6, 9, 12, 18]\n"
       },
       {
        "ename": "TypeError",
        "evalue": "range() integer end argument expected, got float.",
        "output_type": "error",
        "traceback": [
         "\u001b[0;31m---------------------------------------------------------------------------\u001b[0m",
         "\u001b[0;31mTypeError\u001b[0m                                 Traceback (most recent call last)",
         "\u001b[0;32m<ipython-input-6-9a2f0f8e01d7>\u001b[0m in \u001b[0;36m<module>\u001b[0;34m()\u001b[0m\n\u001b[1;32m      1\u001b[0m \u001b[0;32mprint\u001b[0m\u001b[0;34m(\u001b[0m\u001b[0mdivisors\u001b[0m\u001b[0;34m(\u001b[0m\u001b[0;36m36\u001b[0m\u001b[0;34m)\u001b[0m\u001b[0;34m)\u001b[0m\u001b[0;34m\u001b[0m\u001b[0m\n\u001b[0;32m----> 2\u001b[0;31m \u001b[0;32mprint\u001b[0m\u001b[0;34m(\u001b[0m\u001b[0msorted\u001b[0m\u001b[0;34m(\u001b[0m\u001b[0mdivisors2\u001b[0m\u001b[0;34m(\u001b[0m\u001b[0;36m36\u001b[0m\u001b[0;34m)\u001b[0m\u001b[0;34m)\u001b[0m\u001b[0;34m)\u001b[0m\u001b[0;34m\u001b[0m\u001b[0m\n\u001b[0m",
         "\u001b[0;32m<ipython-input-5-7e07261c0193>\u001b[0m in \u001b[0;36mdivisors2\u001b[0;34m(n)\u001b[0m\n\u001b[1;32m      2\u001b[0m \u001b[0;32mdef\u001b[0m \u001b[0mdivisors2\u001b[0m\u001b[0;34m(\u001b[0m\u001b[0mn\u001b[0m\u001b[0;34m)\u001b[0m\u001b[0;34m:\u001b[0m\u001b[0;34m\u001b[0m\u001b[0m\n\u001b[1;32m      3\u001b[0m     \u001b[0mdivs\u001b[0m \u001b[0;34m=\u001b[0m \u001b[0;34m[\u001b[0m\u001b[0;36m1\u001b[0m\u001b[0;34m]\u001b[0m\u001b[0;34m\u001b[0m\u001b[0m\n\u001b[0;32m----> 4\u001b[0;31m     \u001b[0;32mfor\u001b[0m \u001b[0mm\u001b[0m \u001b[0;32min\u001b[0m \u001b[0mrange\u001b[0m\u001b[0;34m(\u001b[0m\u001b[0;36m2\u001b[0m\u001b[0;34m,\u001b[0m \u001b[0mceil\u001b[0m\u001b[0;34m(\u001b[0m\u001b[0mn\u001b[0m \u001b[0;34m**\u001b[0m \u001b[0;36m0.5\u001b[0m\u001b[0;34m)\u001b[0m\u001b[0;34m)\u001b[0m\u001b[0;34m:\u001b[0m\u001b[0;31m#1 and n**0.5 will be handled separately. why?\u001b[0m\u001b[0;34m\u001b[0m\u001b[0m\n\u001b[0m\u001b[1;32m      5\u001b[0m         \u001b[0;32mif\u001b[0m \u001b[0mn\u001b[0m \u001b[0;34m%\u001b[0m \u001b[0mm\u001b[0m \u001b[0;34m==\u001b[0m \u001b[0;36m0\u001b[0m\u001b[0;34m:\u001b[0m\u001b[0;34m\u001b[0m\u001b[0m\n\u001b[1;32m      6\u001b[0m             \u001b[0mdivs\u001b[0m \u001b[0;34m+=\u001b[0m \u001b[0;34m[\u001b[0m\u001b[0mm\u001b[0m\u001b[0;34m,\u001b[0m \u001b[0mn\u001b[0m \u001b[0;34m//\u001b[0m \u001b[0mm\u001b[0m\u001b[0;34m]\u001b[0m\u001b[0;34m\u001b[0m\u001b[0m\n",
         "\u001b[0;31mTypeError\u001b[0m: range() integer end argument expected, got float."
        ]
       }
      ],
      "source": "print(divisors(36))\nprint(sorted(divisors2(36)))",
      "start_time": "2019-07-08T14:45:54.408Z"
     },
     {
      "end_time": "2019-07-08T14:45:54.445Z",
      "execution_time": "37ms",
      "outputs": [
       {
        "name": "stdout",
        "output_type": "stream",
        "text": "[1, 2, 3, 4, 6, 9, 12, 18]\n"
       },
       {
        "ename": "TypeError",
        "evalue": "range() integer end argument expected, got float.",
        "output_type": "error",
        "traceback": [
         "\u001b[0;31m---------------------------------------------------------------------------\u001b[0m",
         "\u001b[0;31mTypeError\u001b[0m                                 Traceback (most recent call last)",
         "\u001b[0;32m<ipython-input-6-9a2f0f8e01d7>\u001b[0m in \u001b[0;36m<module>\u001b[0;34m()\u001b[0m\n\u001b[1;32m      1\u001b[0m \u001b[0;32mprint\u001b[0m\u001b[0;34m(\u001b[0m\u001b[0mdivisors\u001b[0m\u001b[0;34m(\u001b[0m\u001b[0;36m36\u001b[0m\u001b[0;34m)\u001b[0m\u001b[0;34m)\u001b[0m\u001b[0;34m\u001b[0m\u001b[0m\n\u001b[0;32m----> 2\u001b[0;31m \u001b[0;32mprint\u001b[0m\u001b[0;34m(\u001b[0m\u001b[0msorted\u001b[0m\u001b[0;34m(\u001b[0m\u001b[0mdivisors2\u001b[0m\u001b[0;34m(\u001b[0m\u001b[0;36m36\u001b[0m\u001b[0;34m)\u001b[0m\u001b[0;34m)\u001b[0m\u001b[0;34m)\u001b[0m\u001b[0;34m\u001b[0m\u001b[0m\n\u001b[0m",
         "\u001b[0;32m<ipython-input-5-7e07261c0193>\u001b[0m in \u001b[0;36mdivisors2\u001b[0;34m(n)\u001b[0m\n\u001b[1;32m      2\u001b[0m \u001b[0;32mdef\u001b[0m \u001b[0mdivisors2\u001b[0m\u001b[0;34m(\u001b[0m\u001b[0mn\u001b[0m\u001b[0;34m)\u001b[0m\u001b[0;34m:\u001b[0m\u001b[0;34m\u001b[0m\u001b[0m\n\u001b[1;32m      3\u001b[0m     \u001b[0mdivs\u001b[0m \u001b[0;34m=\u001b[0m \u001b[0;34m[\u001b[0m\u001b[0;36m1\u001b[0m\u001b[0;34m]\u001b[0m\u001b[0;34m\u001b[0m\u001b[0m\n\u001b[0;32m----> 4\u001b[0;31m     \u001b[0;32mfor\u001b[0m \u001b[0mm\u001b[0m \u001b[0;32min\u001b[0m \u001b[0mrange\u001b[0m\u001b[0;34m(\u001b[0m\u001b[0;36m2\u001b[0m\u001b[0;34m,\u001b[0m \u001b[0mceil\u001b[0m\u001b[0;34m(\u001b[0m\u001b[0mn\u001b[0m \u001b[0;34m**\u001b[0m \u001b[0;36m0.5\u001b[0m\u001b[0;34m)\u001b[0m\u001b[0;34m)\u001b[0m\u001b[0;34m:\u001b[0m\u001b[0;31m#1 and n**0.5 will be handled separately. why?\u001b[0m\u001b[0;34m\u001b[0m\u001b[0m\n\u001b[0m\u001b[1;32m      5\u001b[0m         \u001b[0;32mif\u001b[0m \u001b[0mn\u001b[0m \u001b[0;34m%\u001b[0m \u001b[0mm\u001b[0m \u001b[0;34m==\u001b[0m \u001b[0;36m0\u001b[0m\u001b[0;34m:\u001b[0m\u001b[0;34m\u001b[0m\u001b[0m\n\u001b[1;32m      6\u001b[0m             \u001b[0mdivs\u001b[0m \u001b[0;34m+=\u001b[0m \u001b[0;34m[\u001b[0m\u001b[0mm\u001b[0m\u001b[0;34m,\u001b[0m \u001b[0mn\u001b[0m \u001b[0;34m//\u001b[0m \u001b[0mm\u001b[0m\u001b[0;34m]\u001b[0m\u001b[0;34m\u001b[0m\u001b[0m\n",
         "\u001b[0;31mTypeError\u001b[0m: range() integer end argument expected, got float."
        ]
       }
      ],
      "source": "print(divisors(36))\nprint(sorted(divisors2(36)))",
      "start_time": "2019-07-08T14:45:54.408Z"
     }
    ]
   },
   "outputs": [
    {
     "name": "stdout",
     "output_type": "stream",
     "text": [
      "[1, 2, 3, 4, 6, 9, 12, 18]\n"
     ]
    },
    {
     "ename": "TypeError",
     "evalue": "range() integer end argument expected, got float.",
     "output_type": "error",
     "traceback": [
      "\u001b[0;31m---------------------------------------------------------------------------\u001b[0m",
      "\u001b[0;31mTypeError\u001b[0m                                 Traceback (most recent call last)",
      "\u001b[0;32m<ipython-input-6-9a2f0f8e01d7>\u001b[0m in \u001b[0;36m<module>\u001b[0;34m()\u001b[0m\n\u001b[1;32m      1\u001b[0m \u001b[0;32mprint\u001b[0m\u001b[0;34m(\u001b[0m\u001b[0mdivisors\u001b[0m\u001b[0;34m(\u001b[0m\u001b[0;36m36\u001b[0m\u001b[0;34m)\u001b[0m\u001b[0;34m)\u001b[0m\u001b[0;34m\u001b[0m\u001b[0m\n\u001b[0;32m----> 2\u001b[0;31m \u001b[0;32mprint\u001b[0m\u001b[0;34m(\u001b[0m\u001b[0msorted\u001b[0m\u001b[0;34m(\u001b[0m\u001b[0mdivisors2\u001b[0m\u001b[0;34m(\u001b[0m\u001b[0;36m36\u001b[0m\u001b[0;34m)\u001b[0m\u001b[0;34m)\u001b[0m\u001b[0;34m)\u001b[0m\u001b[0;34m\u001b[0m\u001b[0m\n\u001b[0m",
      "\u001b[0;32m<ipython-input-5-7e07261c0193>\u001b[0m in \u001b[0;36mdivisors2\u001b[0;34m(n)\u001b[0m\n\u001b[1;32m      2\u001b[0m \u001b[0;32mdef\u001b[0m \u001b[0mdivisors2\u001b[0m\u001b[0;34m(\u001b[0m\u001b[0mn\u001b[0m\u001b[0;34m)\u001b[0m\u001b[0;34m:\u001b[0m\u001b[0;34m\u001b[0m\u001b[0m\n\u001b[1;32m      3\u001b[0m     \u001b[0mdivs\u001b[0m \u001b[0;34m=\u001b[0m \u001b[0;34m[\u001b[0m\u001b[0;36m1\u001b[0m\u001b[0;34m]\u001b[0m\u001b[0;34m\u001b[0m\u001b[0m\n\u001b[0;32m----> 4\u001b[0;31m     \u001b[0;32mfor\u001b[0m \u001b[0mm\u001b[0m \u001b[0;32min\u001b[0m \u001b[0mrange\u001b[0m\u001b[0;34m(\u001b[0m\u001b[0;36m2\u001b[0m\u001b[0;34m,\u001b[0m \u001b[0mceil\u001b[0m\u001b[0;34m(\u001b[0m\u001b[0mn\u001b[0m \u001b[0;34m**\u001b[0m \u001b[0;36m0.5\u001b[0m\u001b[0;34m)\u001b[0m\u001b[0;34m)\u001b[0m\u001b[0;34m:\u001b[0m\u001b[0;31m#1 and n**0.5 will be handled separately. why?\u001b[0m\u001b[0;34m\u001b[0m\u001b[0m\n\u001b[0m\u001b[1;32m      5\u001b[0m         \u001b[0;32mif\u001b[0m \u001b[0mn\u001b[0m \u001b[0;34m%\u001b[0m \u001b[0mm\u001b[0m \u001b[0;34m==\u001b[0m \u001b[0;36m0\u001b[0m\u001b[0;34m:\u001b[0m\u001b[0;34m\u001b[0m\u001b[0m\n\u001b[1;32m      6\u001b[0m             \u001b[0mdivs\u001b[0m \u001b[0;34m+=\u001b[0m \u001b[0;34m[\u001b[0m\u001b[0mm\u001b[0m\u001b[0;34m,\u001b[0m \u001b[0mn\u001b[0m \u001b[0;34m//\u001b[0m \u001b[0mm\u001b[0m\u001b[0;34m]\u001b[0m\u001b[0;34m\u001b[0m\u001b[0m\n",
      "\u001b[0;31mTypeError\u001b[0m: range() integer end argument expected, got float."
     ]
    }
   ],
   "source": [
    "print(divisors(36))\n",
    "print(sorted(divisors2(36)))"
   ]
  },
  {
   "cell_type": "markdown",
   "metadata": {
    "provenance": [
     {
      "last_modified": "2018-06-12T08:34:10.000Z",
      "source": "## Timing operations\n\nHere is the simplest way to measure the time an operation takes. \nThis method uses the `clock` function of the `time` module.\nIt is the simplest way to do it and as such it is a crude way of doing it with very little statistical power and significance."
     }
    ]
   },
   "source": [
    "## Timing operations\n",
    "\n",
    "Here is the simplest way to measure the time an operation takes. \n",
    "This method uses the `clock` function of the `time` module.\n",
    "It is the simplest way to do it and as such it is a crude way of doing it with very little statistical power and significance."
   ]
  },
  {
   "cell_type": "code",
   "execution_count": null,
   "metadata": {
    "ExecutionTime": {
     "end_time": "2019-07-08T14:45:54.451826Z"
    },
    "provenance": [
     {
      "end_time": "Unknown",
      "execution_time": "Unknown",
      "outputs": [
       {
        "name": "stdout",
        "output_type": "stream",
        "text": "Help on built-in function clock in module time:\n\nclock(...)\n    clock() -> floating point number\n    \n    Return the CPU time or real time since the start of the process or since\n    the first call to clock().  This has as much precision as the system\n    records.\n\n"
       }
      ],
      "source": "import time\nhelp(time.clock)",
      "start_time": "Unknown"
     },
     {
      "end_time": "2019-07-08T14:45:27.645Z",
      "execution_time": "-228ms",
      "outputs": [],
      "source": "import time\nhelp(time.clock)",
      "start_time": "2019-07-08T14:45:27.873Z"
     },
     {
      "end_time": "2019-07-08T14:45:27.645Z",
      "execution_time": "-228ms",
      "outputs": [],
      "source": "import time\nhelp(time.clock)",
      "start_time": "2019-07-08T14:45:27.873Z"
     },
     {
      "end_time": "2019-07-08T14:45:54.451Z",
      "execution_time": "-275ms",
      "outputs": [],
      "source": "import time\nhelp(time.clock)",
      "start_time": "2019-07-08T14:45:54.726Z"
     },
     {
      "end_time": "2019-07-08T14:45:54.451Z",
      "execution_time": "-275ms",
      "outputs": [],
      "source": "import time\nhelp(time.clock)",
      "start_time": "2019-07-08T14:45:54.726Z"
     }
    ]
   },
   "outputs": [],
   "source": [
    "import time\n",
    "help(time.clock)"
   ]
  },
  {
   "cell_type": "code",
   "execution_count": null,
   "metadata": {
    "ExecutionTime": {
     "end_time": "2019-07-08T14:45:54.458587Z"
    },
    "provenance": [
     {
      "end_time": "Unknown",
      "execution_time": "Unknown",
      "outputs": [
       {
        "name": "stdout",
        "output_type": "stream",
        "text": "25.99883061412379\n25.99907632401105\n"
       }
      ],
      "source": "print(time.clock()) \nprint(time.clock())",
      "start_time": "Unknown"
     },
     {
      "end_time": "2019-07-08T14:45:27.648Z",
      "execution_time": "-229ms",
      "outputs": [],
      "source": "print(time.clock()) \nprint(time.clock())",
      "start_time": "2019-07-08T14:45:27.877Z"
     },
     {
      "end_time": "2019-07-08T14:45:27.648Z",
      "execution_time": "-229ms",
      "outputs": [],
      "source": "print(time.clock()) \nprint(time.clock())",
      "start_time": "2019-07-08T14:45:27.877Z"
     },
     {
      "end_time": "2019-07-08T14:45:54.458Z",
      "execution_time": "-273ms",
      "outputs": [],
      "source": "print(time.clock()) \nprint(time.clock())",
      "start_time": "2019-07-08T14:45:54.731Z"
     },
     {
      "end_time": "2019-07-08T14:45:54.458Z",
      "execution_time": "-274ms",
      "outputs": [],
      "source": "print(time.clock()) \nprint(time.clock())",
      "start_time": "2019-07-08T14:45:54.732Z"
     }
    ]
   },
   "outputs": [],
   "source": [
    "print(time.clock()) \n",
    "print(time.clock())"
   ]
  },
  {
   "cell_type": "markdown",
   "metadata": {
    "provenance": [
     {
      "last_modified": "2018-06-12T08:34:10.000Z",
      "source": "This way of timing operations is often called the *tic-toc* way, we save the time before and after the operation and subtract to find the time interval.\nRun this a few times to see how crude it is."
     }
    ]
   },
   "source": [
    "This way of timing operations is often called the *tic-toc* way, we save the time before and after the operation and subtract to find the time interval.\n",
    "Run this a few times to see how crude it is."
   ]
  },
  {
   "cell_type": "code",
   "execution_count": null,
   "metadata": {
    "ExecutionTime": {
     "end_time": "2019-07-08T14:45:54.466028Z"
    },
    "provenance": [
     {
      "end_time": "Unknown",
      "execution_time": "Unknown",
      "outputs": [
       {
        "name": "stdout",
        "output_type": "stream",
        "text": "divisors:  467.4390757203012\ndivisors2: 0.014307922181728827\n"
       }
      ],
      "source": "n = 1234567890\ntic = time.clock()\ndivisors(n)\ntoc = time.clock()\nprint(\"divisors: \",(toc-tic))\ntic = time.clock()\ndivisors2(n)\ntoc = time.clock()\nprint(\"divisors2:\",(toc-tic))",
      "start_time": "Unknown"
     },
     {
      "end_time": "2019-07-08T14:45:27.650Z",
      "execution_time": "-234ms",
      "outputs": [],
      "source": "n = 1234567890\ntic = time.clock()\ndivisors(n)\ntoc = time.clock()\nprint(\"divisors: \",(toc-tic))\ntic = time.clock()\ndivisors2(n)\ntoc = time.clock()\nprint(\"divisors2:\",(toc-tic))",
      "start_time": "2019-07-08T14:45:27.884Z"
     },
     {
      "end_time": "2019-07-08T14:45:27.650Z",
      "execution_time": "-235ms",
      "outputs": [],
      "source": "n = 1234567890\ntic = time.clock()\ndivisors(n)\ntoc = time.clock()\nprint(\"divisors: \",(toc-tic))\ntic = time.clock()\ndivisors2(n)\ntoc = time.clock()\nprint(\"divisors2:\",(toc-tic))",
      "start_time": "2019-07-08T14:45:27.885Z"
     },
     {
      "end_time": "2019-07-08T14:45:54.466Z",
      "execution_time": "-269ms",
      "outputs": [],
      "source": "n = 1234567890\ntic = time.clock()\ndivisors(n)\ntoc = time.clock()\nprint(\"divisors: \",(toc-tic))\ntic = time.clock()\ndivisors2(n)\ntoc = time.clock()\nprint(\"divisors2:\",(toc-tic))",
      "start_time": "2019-07-08T14:45:54.735Z"
     },
     {
      "end_time": "2019-07-08T14:45:54.466Z",
      "execution_time": "-270ms",
      "outputs": [],
      "source": "n = 1234567890\ntic = time.clock()\ndivisors(n)\ntoc = time.clock()\nprint(\"divisors: \",(toc-tic))\ntic = time.clock()\ndivisors2(n)\ntoc = time.clock()\nprint(\"divisors2:\",(toc-tic))",
      "start_time": "2019-07-08T14:45:54.736Z"
     }
    ]
   },
   "outputs": [],
   "source": [
    "n = 1234567890\n",
    "tic = time.clock()\n",
    "divisors(n)\n",
    "toc = time.clock()\n",
    "print(\"divisors: \",(toc-tic))\n",
    "tic = time.clock()\n",
    "divisors2(n)\n",
    "toc = time.clock()\n",
    "print(\"divisors2:\",(toc-tic))"
   ]
  },
  {
   "cell_type": "markdown",
   "metadata": {
    "provenance": [
     {
      "last_modified": "2018-06-12T08:34:10.000Z",
      "source": "## The binary system and base conversions\n\nA binary number is a number in the base 2, which means that it only uses 2 digits - 0 and 1.\nThe \"regular\" numbers we use, the decimal numbers, are in base 10, which means they use 10 digits - 0,1,2,3,4,5,6,7,8,9.\n\nWhat is a base? To understand base X imagine you have X fingers instead of 10. **How would you count with X fingers?**\n\n### Converting binary to decimal\n\nLooking at a binary number, 10011010, the **Least Significant Digit** (or **bit** for binary digits), in this case 0, is  the right most digit, and if it is 1 then it is worth $2^0=1$, otherwise it is worth 0. The next bit (in this case 1) is worth $2^1=2$. The next one is worth $2^2=4$, and the *k*-th digit/bit from the right (starting with *k=0*) is worth $2^k$. In general, denoting the binary number $x_{base 2} = a_n a_{n-} ... a_1 a_0$, it's decimal value can be evaluated by\n$$\nx_{base 10} = \\sum_{n \\ge k \\ge 0} a_k 2^k\n$$.\nLet's write python code for this:"
     }
    ]
   },
   "source": [
    "## The binary system and base conversions\n",
    "\n",
    "A binary number is a number in the base 2, which means that it only uses 2 digits - 0 and 1.\n",
    "The \"regular\" numbers we use, the decimal numbers, are in base 10, which means they use 10 digits - 0,1,2,3,4,5,6,7,8,9.\n",
    "\n",
    "What is a base? To understand base X imagine you have X fingers instead of 10. **How would you count with X fingers?**\n",
    "\n",
    "### Converting binary to decimal\n",
    "\n",
    "Looking at a binary number, 10011010, the **Least Significant Digit** (or **bit** for binary digits), in this case 0, is  the right most digit, and if it is 1 then it is worth $2^0=1$, otherwise it is worth 0. The next bit (in this case 1) is worth $2^1=2$. The next one is worth $2^2=4$, and the *k*-th digit/bit from the right (starting with *k=0*) is worth $2^k$. In general, denoting the binary number $x_{base 2} = a_n a_{n-} ... a_1 a_0$, it's decimal value can be evaluated by\n",
    "$$\n",
    "x_{base 10} = \\sum_{n \\ge k \\ge 0} a_k 2^k\n",
    "$$.\n",
    "Let's write python code for this:"
   ]
  },
  {
   "cell_type": "code",
   "execution_count": null,
   "metadata": {
    "ExecutionTime": {
     "end_time": "2019-07-08T14:45:54.473489Z"
    },
    "provenance": [
     {
      "end_time": "Unknown",
      "execution_time": "Unknown",
      "outputs": [
       {
        "name": "stdout",
        "output_type": "stream",
        "text": "0 0\n1 1\n2 1\n3 1\n4 1\n30\n"
       }
      ],
      "source": "x_bin = \"11110\"\nx_bin = x_bin[::-1] # reverse it so that LSB is on the left for the iteration\nx_dec = 0\nfor k in range(len(x_bin)):\n    bit = int(x_bin[k])\n    print(k,bit)\n    x_dec += bit * 2**k\nprint(x_dec)",
      "start_time": "Unknown"
     },
     {
      "end_time": "2019-07-08T14:45:27.656Z",
      "execution_time": "-231ms",
      "outputs": [],
      "source": "x_bin = \"11110\"\nx_bin = x_bin[::-1] # reverse it so that LSB is on the left for the iteration\nx_dec = 0\nfor k in range(len(x_bin)):\n    bit = int(x_bin[k])\n    print(k,bit)\n    x_dec += bit * 2**k\nprint(x_dec)",
      "start_time": "2019-07-08T14:45:27.887Z"
     },
     {
      "end_time": "2019-07-08T14:45:27.656Z",
      "execution_time": "-231ms",
      "outputs": [],
      "source": "x_bin = \"11110\"\nx_bin = x_bin[::-1] # reverse it so that LSB is on the left for the iteration\nx_dec = 0\nfor k in range(len(x_bin)):\n    bit = int(x_bin[k])\n    print(k,bit)\n    x_dec += bit * 2**k\nprint(x_dec)",
      "start_time": "2019-07-08T14:45:27.887Z"
     },
     {
      "end_time": "2019-07-08T14:45:54.473Z",
      "execution_time": "-265ms",
      "outputs": [],
      "source": "x_bin = \"11110\"\nx_bin = x_bin[::-1] # reverse it so that LSB is on the left for the iteration\nx_dec = 0\nfor k in range(len(x_bin)):\n    bit = int(x_bin[k])\n    print(k,bit)\n    x_dec += bit * 2**k\nprint(x_dec)",
      "start_time": "2019-07-08T14:45:54.738Z"
     },
     {
      "end_time": "2019-07-08T14:45:54.473Z",
      "execution_time": "-265ms",
      "outputs": [],
      "source": "x_bin = \"11110\"\nx_bin = x_bin[::-1] # reverse it so that LSB is on the left for the iteration\nx_dec = 0\nfor k in range(len(x_bin)):\n    bit = int(x_bin[k])\n    print(k,bit)\n    x_dec += bit * 2**k\nprint(x_dec)",
      "start_time": "2019-07-08T14:45:54.738Z"
     }
    ]
   },
   "outputs": [],
   "source": [
    "x_bin = \"11110\"\n",
    "x_bin = x_bin[::-1] # reverse it so that LSB is on the left for the iteration\n",
    "x_dec = 0\n",
    "for k in range(len(x_bin)):\n",
    "    bit = int(x_bin[k])\n",
    "    print(k,bit)\n",
    "    x_dec += bit * 2**k\n",
    "print(x_dec)"
   ]
  },
  {
   "cell_type": "markdown",
   "metadata": {
    "provenance": [
     {
      "last_modified": "2018-06-12T08:34:10.000Z",
      "source": "### Converting decimal to binary"
     }
    ]
   },
   "source": [
    "### Converting decimal to binary"
   ]
  },
  {
   "cell_type": "markdown",
   "metadata": {
    "provenance": [
     {
      "last_modified": "2018-06-12T08:34:10.000Z",
      "source": "Converting from decimal to binary is done by integer division. Remember that taking the modulo 10 of a number gives the LSD in base 10, and diving by 10 removes the LSD. This is the basic idea:"
     }
    ]
   },
   "source": [
    "Converting from decimal to binary is done by integer division. Remember that taking the modulo 10 of a number gives the LSD in base 10, and diving by 10 removes the LSD. This is the basic idea:"
   ]
  },
  {
   "cell_type": "code",
   "execution_count": null,
   "metadata": {
    "ExecutionTime": {
     "end_time": "2019-07-08T14:45:54.480939Z"
    },
    "provenance": [
     {
      "end_time": "Unknown",
      "execution_time": "Unknown",
      "outputs": [
       {
        "name": "stdout",
        "output_type": "stream",
        "text": "101010\n"
       }
      ],
      "source": "x_dec = 42\nx_bin = ''\nwhile x_dec > 0:\n    bit = x_dec % 2\n    x_bin = str(bit) + x_bin\n    x_dec = x_dec // 2\nprint(x_bin)",
      "start_time": "Unknown"
     },
     {
      "end_time": "2019-07-08T14:45:27.658Z",
      "execution_time": "-232ms",
      "outputs": [],
      "source": "x_dec = 42\nx_bin = ''\nwhile x_dec > 0:\n    bit = x_dec % 2\n    x_bin = str(bit) + x_bin\n    x_dec = x_dec // 2\nprint(x_bin)",
      "start_time": "2019-07-08T14:45:27.890Z"
     },
     {
      "end_time": "2019-07-08T14:45:27.658Z",
      "execution_time": "-232ms",
      "outputs": [],
      "source": "x_dec = 42\nx_bin = ''\nwhile x_dec > 0:\n    bit = x_dec % 2\n    x_bin = str(bit) + x_bin\n    x_dec = x_dec // 2\nprint(x_bin)",
      "start_time": "2019-07-08T14:45:27.890Z"
     },
     {
      "end_time": "2019-07-08T14:45:54.480Z",
      "execution_time": "-262ms",
      "outputs": [],
      "source": "x_dec = 42\nx_bin = ''\nwhile x_dec > 0:\n    bit = x_dec % 2\n    x_bin = str(bit) + x_bin\n    x_dec = x_dec // 2\nprint(x_bin)",
      "start_time": "2019-07-08T14:45:54.742Z"
     },
     {
      "end_time": "2019-07-08T14:45:54.480Z",
      "execution_time": "-262ms",
      "outputs": [],
      "source": "x_dec = 42\nx_bin = ''\nwhile x_dec > 0:\n    bit = x_dec % 2\n    x_bin = str(bit) + x_bin\n    x_dec = x_dec // 2\nprint(x_bin)",
      "start_time": "2019-07-08T14:45:54.742Z"
     }
    ]
   },
   "outputs": [],
   "source": [
    "x_dec = 42\n",
    "x_bin = ''\n",
    "while x_dec > 0:\n",
    "    bit = x_dec % 2\n",
    "    x_bin = str(bit) + x_bin\n",
    "    x_dec = x_dec // 2\n",
    "print(x_bin)"
   ]
  },
  {
   "cell_type": "markdown",
   "metadata": {
    "provenance": [
     {
      "last_modified": "2018-06-12T08:34:10.000Z",
      "source": "### Builtin functions\n\nThere are some python functions to do these operations:"
     }
    ]
   },
   "source": [
    "### Builtin functions\n",
    "\n",
    "There are some python functions to do these operations:"
   ]
  },
  {
   "cell_type": "code",
   "execution_count": null,
   "metadata": {
    "ExecutionTime": {
     "end_time": "2019-07-08T14:45:54.485450Z"
    },
    "provenance": [
     {
      "end_time": "Unknown",
      "execution_time": "Unknown",
      "outputs": [
       {
        "data": {
         "text/plain": "'0b101010'"
        },
        "execution_count": 16,
        "metadata": {},
        "output_type": "execute_result"
       }
      ],
      "source": "bin(42)",
      "start_time": "Unknown"
     },
     {
      "end_time": "2019-07-08T14:45:27.663Z",
      "execution_time": "-228ms",
      "outputs": [],
      "source": "bin(42)",
      "start_time": "2019-07-08T14:45:27.891Z"
     },
     {
      "end_time": "2019-07-08T14:45:27.663Z",
      "execution_time": "-228ms",
      "outputs": [],
      "source": "bin(42)",
      "start_time": "2019-07-08T14:45:27.891Z"
     },
     {
      "end_time": "2019-07-08T14:45:54.485Z",
      "execution_time": "-258ms",
      "outputs": [],
      "source": "bin(42)",
      "start_time": "2019-07-08T14:45:54.743Z"
     },
     {
      "end_time": "2019-07-08T14:45:54.485Z",
      "execution_time": "-259ms",
      "outputs": [],
      "source": "bin(42)",
      "start_time": "2019-07-08T14:45:54.744Z"
     }
    ]
   },
   "outputs": [],
   "source": [
    "bin(42)"
   ]
  },
  {
   "cell_type": "code",
   "execution_count": null,
   "metadata": {
    "ExecutionTime": {
     "end_time": "2019-07-08T14:45:54.488057Z"
    },
    "provenance": [
     {
      "end_time": "Unknown",
      "execution_time": "Unknown",
      "outputs": [
       {
        "data": {
         "text/plain": "42"
        },
        "execution_count": 18,
        "metadata": {},
        "output_type": "execute_result"
       }
      ],
      "source": "int('101010',2)",
      "start_time": "Unknown"
     },
     {
      "end_time": "2019-07-08T14:45:27.666Z",
      "execution_time": "-229ms",
      "outputs": [],
      "source": "int('101010',2)",
      "start_time": "2019-07-08T14:45:27.895Z"
     },
     {
      "end_time": "2019-07-08T14:45:27.666Z",
      "execution_time": "-230ms",
      "outputs": [],
      "source": "int('101010',2)",
      "start_time": "2019-07-08T14:45:27.896Z"
     },
     {
      "end_time": "2019-07-08T14:45:54.488Z",
      "execution_time": "-259ms",
      "outputs": [],
      "source": "int('101010',2)",
      "start_time": "2019-07-08T14:45:54.747Z"
     },
     {
      "end_time": "2019-07-08T14:45:54.488Z",
      "execution_time": "-260ms",
      "outputs": [],
      "source": "int('101010',2)",
      "start_time": "2019-07-08T14:45:54.748Z"
     }
    ]
   },
   "outputs": [],
   "source": [
    "int('101010',2)"
   ]
  },
  {
   "cell_type": "markdown",
   "metadata": {
    "provenance": [
     {
      "last_modified": "2018-06-12T08:34:10.000Z",
      "source": "You can also use base 16 - hexadecimal numbers:"
     }
    ]
   },
   "source": [
    "You can also use base 16 - hexadecimal numbers:"
   ]
  },
  {
   "cell_type": "code",
   "execution_count": null,
   "metadata": {
    "ExecutionTime": {
     "end_time": "2019-07-08T14:45:54.490939Z"
    },
    "provenance": [
     {
      "end_time": "Unknown",
      "execution_time": "Unknown",
      "outputs": [
       {
        "data": {
         "text/plain": "'0x2a'"
        },
        "execution_count": 19,
        "metadata": {},
        "output_type": "execute_result"
       }
      ],
      "source": "hex(42)",
      "start_time": "Unknown"
     },
     {
      "end_time": "2019-07-08T14:45:27.668Z",
      "execution_time": "-232ms",
      "outputs": [],
      "source": "hex(42)",
      "start_time": "2019-07-08T14:45:27.900Z"
     },
     {
      "end_time": "2019-07-08T14:45:27.668Z",
      "execution_time": "-232ms",
      "outputs": [],
      "source": "hex(42)",
      "start_time": "2019-07-08T14:45:27.900Z"
     },
     {
      "end_time": "2019-07-08T14:45:54.490Z",
      "execution_time": "-259ms",
      "outputs": [],
      "source": "hex(42)",
      "start_time": "2019-07-08T14:45:54.749Z"
     },
     {
      "end_time": "2019-07-08T14:45:54.490Z",
      "execution_time": "-260ms",
      "outputs": [],
      "source": "hex(42)",
      "start_time": "2019-07-08T14:45:54.750Z"
     }
    ]
   },
   "outputs": [],
   "source": [
    "hex(42)"
   ]
  },
  {
   "cell_type": "code",
   "execution_count": null,
   "metadata": {
    "ExecutionTime": {
     "end_time": "2019-07-08T14:45:54.493564Z"
    },
    "provenance": [
     {
      "end_time": "Unknown",
      "execution_time": "Unknown",
      "outputs": [
       {
        "data": {
         "text/plain": "42"
        },
        "execution_count": 20,
        "metadata": {},
        "output_type": "execute_result"
       }
      ],
      "source": "int('2a',16)",
      "start_time": "Unknown"
     },
     {
      "end_time": "2019-07-08T14:45:27.671Z",
      "execution_time": "-231ms",
      "outputs": [],
      "source": "int('2a',16)",
      "start_time": "2019-07-08T14:45:27.902Z"
     },
     {
      "end_time": "2019-07-08T14:45:27.671Z",
      "execution_time": "-231ms",
      "outputs": [],
      "source": "int('2a',16)",
      "start_time": "2019-07-08T14:45:27.902Z"
     },
     {
      "end_time": "2019-07-08T14:45:54.493Z",
      "execution_time": "-260ms",
      "outputs": [],
      "source": "int('2a',16)",
      "start_time": "2019-07-08T14:45:54.753Z"
     },
     {
      "end_time": "2019-07-08T14:45:54.493Z",
      "execution_time": "-260ms",
      "outputs": [],
      "source": "int('2a',16)",
      "start_time": "2019-07-08T14:45:54.753Z"
     }
    ]
   },
   "outputs": [],
   "source": [
    "int('2a',16)"
   ]
  },
  {
   "cell_type": "markdown",
   "metadata": {
    "provenance": [
     {
      "last_modified": "2018-06-12T08:34:10.000Z",
      "source": "### General conversion\n\nWe want to convert from base 10 to base b $(2 \\le b < 10)\\;$ :"
     }
    ]
   },
   "source": [
    "### General conversion\n",
    "\n",
    "We want to convert from base 10 to base b $(2 \\le b < 10)\\;$ :"
   ]
  },
  {
   "cell_type": "code",
   "execution_count": null,
   "metadata": {
    "ExecutionTime": {
     "end_time": "2019-07-08T14:45:54.496060Z"
    },
    "provenance": [
     {
      "end_time": "Unknown",
      "execution_time": "Unknown",
      "outputs": [],
      "source": "def convert_base(n,b):\n    '''convert_base(integer, integer) -> string\n    Return the textual representation of n (decimal) in base 2 <= b <= 10.\n    '''\n    result = ''\n    while n > 0:\n        digit = n % b\n        n = n // b\n        print(digit)\n        result = str(digit) + result\n    return result",
      "start_time": "Unknown"
     },
     {
      "end_time": "2019-07-08T14:45:27.674Z",
      "execution_time": "-229ms",
      "outputs": [],
      "source": "def convert_base(n,b):\n    '''convert_base(integer, integer) -> string\n    Return the textual representation of n (decimal) in base 2 <= b <= 10.\n    '''\n    result = ''\n    while n > 0:\n        digit = n % b\n        n = n // b\n        print(digit)\n        result = str(digit) + result\n    return result",
      "start_time": "2019-07-08T14:45:27.903Z"
     },
     {
      "end_time": "2019-07-08T14:45:27.674Z",
      "execution_time": "-230ms",
      "outputs": [],
      "source": "def convert_base(n,b):\n    '''convert_base(integer, integer) -> string\n    Return the textual representation of n (decimal) in base 2 <= b <= 10.\n    '''\n    result = ''\n    while n > 0:\n        digit = n % b\n        n = n // b\n        print(digit)\n        result = str(digit) + result\n    return result",
      "start_time": "2019-07-08T14:45:27.904Z"
     },
     {
      "end_time": "2019-07-08T14:45:54.496Z",
      "execution_time": "-258ms",
      "outputs": [],
      "source": "def convert_base(n,b):\n    '''convert_base(integer, integer) -> string\n    Return the textual representation of n (decimal) in base 2 <= b <= 10.\n    '''\n    result = ''\n    while n > 0:\n        digit = n % b\n        n = n // b\n        print(digit)\n        result = str(digit) + result\n    return result",
      "start_time": "2019-07-08T14:45:54.754Z"
     },
     {
      "end_time": "2019-07-08T14:45:54.496Z",
      "execution_time": "-259ms",
      "outputs": [],
      "source": "def convert_base(n,b):\n    '''convert_base(integer, integer) -> string\n    Return the textual representation of n (decimal) in base 2 <= b <= 10.\n    '''\n    result = ''\n    while n > 0:\n        digit = n % b\n        n = n // b\n        print(digit)\n        result = str(digit) + result\n    return result",
      "start_time": "2019-07-08T14:45:54.755Z"
     }
    ]
   },
   "outputs": [],
   "source": [
    "def convert_base(n,b):\n",
    "    '''convert_base(integer, integer) -> string\n",
    "    Return the textual representation of n (decimal) in base 2 <= b <= 10.\n",
    "    '''\n",
    "    result = ''\n",
    "    while n > 0:\n",
    "        digit = n % b\n",
    "        n = n // b\n",
    "        print(digit)\n",
    "        result = str(digit) + result\n",
    "    return result"
   ]
  },
  {
   "cell_type": "code",
   "execution_count": null,
   "metadata": {
    "ExecutionTime": {
     "end_time": "2019-07-08T14:45:54.501634Z"
    },
    "provenance": [
     {
      "end_time": "Unknown",
      "execution_time": "Unknown",
      "outputs": [],
      "source": "convert_base(23,12)",
      "start_time": "Unknown"
     },
     {
      "end_time": "2019-07-08T14:45:27.678Z",
      "execution_time": "-228ms",
      "outputs": [],
      "source": "convert_base(23,12)",
      "start_time": "2019-07-08T14:45:27.906Z"
     },
     {
      "end_time": "2019-07-08T14:45:27.678Z",
      "execution_time": "-229ms",
      "outputs": [],
      "source": "convert_base(23,12)",
      "start_time": "2019-07-08T14:45:27.907Z"
     },
     {
      "end_time": "2019-07-08T14:45:54.501Z",
      "execution_time": "-263ms",
      "outputs": [],
      "source": "convert_base(23,12)",
      "start_time": "2019-07-08T14:45:54.764Z"
     },
     {
      "end_time": "2019-07-08T14:45:54.501Z",
      "execution_time": "-263ms",
      "outputs": [],
      "source": "convert_base(23,12)",
      "start_time": "2019-07-08T14:45:54.764Z"
     }
    ]
   },
   "outputs": [],
   "source": [
    "convert_base(23,12)"
   ]
  },
  {
   "cell_type": "code",
   "execution_count": null,
   "metadata": {
    "ExecutionTime": {
     "end_time": "2019-07-08T14:45:54.504184Z"
    },
    "provenance": [
     {
      "end_time": "Unknown",
      "execution_time": "Unknown",
      "outputs": [],
      "source": "1+12+12**2",
      "start_time": "Unknown"
     },
     {
      "end_time": "2019-07-08T14:45:27.680Z",
      "execution_time": "-229ms",
      "outputs": [],
      "source": "1+12+12**2",
      "start_time": "2019-07-08T14:45:27.909Z"
     },
     {
      "end_time": "2019-07-08T14:45:27.680Z",
      "execution_time": "-229ms",
      "outputs": [],
      "source": "1+12+12**2",
      "start_time": "2019-07-08T14:45:27.909Z"
     },
     {
      "end_time": "2019-07-08T14:45:54.504Z",
      "execution_time": "-262ms",
      "outputs": [],
      "source": "1+12+12**2",
      "start_time": "2019-07-08T14:45:54.766Z"
     },
     {
      "end_time": "2019-07-08T14:45:54.504Z",
      "execution_time": "-262ms",
      "outputs": [],
      "source": "1+12+12**2",
      "start_time": "2019-07-08T14:45:54.766Z"
     }
    ]
   },
   "outputs": [],
   "source": [
    "1+12+12**2"
   ]
  },
  {
   "cell_type": "code",
   "execution_count": null,
   "metadata": {
    "ExecutionTime": {
     "end_time": "2019-07-08T14:45:54.506662Z"
    },
    "provenance": [
     {
      "end_time": "Unknown",
      "execution_time": "Unknown",
      "outputs": [],
      "source": "convert_base(10,16)",
      "start_time": "Unknown"
     },
     {
      "end_time": "2019-07-08T14:45:27.683Z",
      "execution_time": "-228ms",
      "outputs": [],
      "source": "convert_base(10,16)",
      "start_time": "2019-07-08T14:45:27.911Z"
     },
     {
      "end_time": "2019-07-08T14:45:27.683Z",
      "execution_time": "-228ms",
      "outputs": [],
      "source": "convert_base(10,16)",
      "start_time": "2019-07-08T14:45:27.911Z"
     },
     {
      "end_time": "2019-07-08T14:45:54.506Z",
      "execution_time": "-262ms",
      "outputs": [],
      "source": "convert_base(10,16)",
      "start_time": "2019-07-08T14:45:54.768Z"
     },
     {
      "end_time": "2019-07-08T14:45:54.506Z",
      "execution_time": "-262ms",
      "outputs": [],
      "source": "convert_base(10,16)",
      "start_time": "2019-07-08T14:45:54.768Z"
     }
    ]
   },
   "outputs": [],
   "source": [
    "convert_base(10,16)"
   ]
  },
  {
   "cell_type": "markdown",
   "metadata": {
    "provenance": [
     {
      "last_modified": "2018-06-12T08:34:10.000Z",
      "source": "and now to base b for $10 < b \\le 36\\;$ :"
     }
    ]
   },
   "source": [
    "and now to base b for $10 < b \\le 36\\;$ :"
   ]
  },
  {
   "cell_type": "code",
   "execution_count": null,
   "metadata": {
    "ExecutionTime": {
     "end_time": "2019-07-08T14:45:54.509526Z"
    },
    "provenance": [
     {
      "end_time": "Unknown",
      "execution_time": "Unknown",
      "outputs": [],
      "source": "def convert_base(n,b):\n    '''convert_base(integer, integer) -> string\n    Return the textual representation of n (decimal) in base 2 <= b <= 10.\n    '''\n    assert 2 <= b <= 36\n    \n    if n == 0:\n        result = '0'\n    elif n < 0:\n        result = '-'\n    else:\n        result = ''\n    n = abs(n)\n    while n > 0:\n        digit = n % b\n        n = n // b\n        # str(digit) only works for b <= 10\n        result = '0123456789abcdefghijklmnopqrstuvwxyz'[digit] + result \n    return result",
      "start_time": "Unknown"
     },
     {
      "end_time": "2019-07-08T14:45:27.684Z",
      "execution_time": "-229ms",
      "outputs": [],
      "source": "def convert_base(n,b):\n    '''convert_base(integer, integer) -> string\n    Return the textual representation of n (decimal) in base 2 <= b <= 10.\n    '''\n    assert 2 <= b <= 36\n    \n    if n == 0:\n        result = '0'\n    elif n < 0:\n        result = '-'\n    else:\n        result = ''\n    n = abs(n)\n    while n > 0:\n        digit = n % b\n        n = n // b\n        # str(digit) only works for b <= 10\n        result = '0123456789abcdefghijklmnopqrstuvwxyz'[digit] + result \n    return result",
      "start_time": "2019-07-08T14:45:27.913Z"
     },
     {
      "end_time": "2019-07-08T14:45:27.684Z",
      "execution_time": "-230ms",
      "outputs": [],
      "source": "def convert_base(n,b):\n    '''convert_base(integer, integer) -> string\n    Return the textual representation of n (decimal) in base 2 <= b <= 10.\n    '''\n    assert 2 <= b <= 36\n    \n    if n == 0:\n        result = '0'\n    elif n < 0:\n        result = '-'\n    else:\n        result = ''\n    n = abs(n)\n    while n > 0:\n        digit = n % b\n        n = n // b\n        # str(digit) only works for b <= 10\n        result = '0123456789abcdefghijklmnopqrstuvwxyz'[digit] + result \n    return result",
      "start_time": "2019-07-08T14:45:27.914Z"
     },
     {
      "end_time": "2019-07-08T14:45:54.509Z",
      "execution_time": "-261ms",
      "outputs": [],
      "source": "def convert_base(n,b):\n    '''convert_base(integer, integer) -> string\n    Return the textual representation of n (decimal) in base 2 <= b <= 10.\n    '''\n    assert 2 <= b <= 36\n    \n    if n == 0:\n        result = '0'\n    elif n < 0:\n        result = '-'\n    else:\n        result = ''\n    n = abs(n)\n    while n > 0:\n        digit = n % b\n        n = n // b\n        # str(digit) only works for b <= 10\n        result = '0123456789abcdefghijklmnopqrstuvwxyz'[digit] + result \n    return result",
      "start_time": "2019-07-08T14:45:54.770Z"
     },
     {
      "end_time": "2019-07-08T14:45:54.509Z",
      "execution_time": "-261ms",
      "outputs": [],
      "source": "def convert_base(n,b):\n    '''convert_base(integer, integer) -> string\n    Return the textual representation of n (decimal) in base 2 <= b <= 10.\n    '''\n    assert 2 <= b <= 36\n    \n    if n == 0:\n        result = '0'\n    elif n < 0:\n        result = '-'\n    else:\n        result = ''\n    n = abs(n)\n    while n > 0:\n        digit = n % b\n        n = n // b\n        # str(digit) only works for b <= 10\n        result = '0123456789abcdefghijklmnopqrstuvwxyz'[digit] + result \n    return result",
      "start_time": "2019-07-08T14:45:54.770Z"
     }
    ]
   },
   "outputs": [],
   "source": [
    "def convert_base(n,b):\n",
    "    '''convert_base(integer, integer) -> string\n",
    "    Return the textual representation of n (decimal) in base 2 <= b <= 10.\n",
    "    '''\n",
    "    assert 2 <= b <= 36\n",
    "    \n",
    "    if n == 0:\n",
    "        result = '0'\n",
    "    elif n < 0:\n",
    "        result = '-'\n",
    "    else:\n",
    "        result = ''\n",
    "    n = abs(n)\n",
    "    while n > 0:\n",
    "        digit = n % b\n",
    "        n = n // b\n",
    "        # str(digit) only works for b <= 10\n",
    "        result = '0123456789abcdefghijklmnopqrstuvwxyz'[digit] + result \n",
    "    return result"
   ]
  },
  {
   "cell_type": "code",
   "execution_count": null,
   "metadata": {
    "ExecutionTime": {
     "end_time": "2019-07-08T14:45:54.511895Z"
    },
    "provenance": [
     {
      "end_time": "Unknown",
      "execution_time": "Unknown",
      "outputs": [],
      "source": "convert_base(23,12)",
      "start_time": "Unknown"
     },
     {
      "end_time": "2019-07-08T14:45:27.687Z",
      "execution_time": "-229ms",
      "outputs": [],
      "source": "convert_base(23,12)",
      "start_time": "2019-07-08T14:45:27.916Z"
     },
     {
      "end_time": "2019-07-08T14:45:27.687Z",
      "execution_time": "-230ms",
      "outputs": [],
      "source": "convert_base(23,12)",
      "start_time": "2019-07-08T14:45:27.917Z"
     },
     {
      "end_time": "2019-07-08T14:45:54.511Z",
      "execution_time": "-261ms",
      "outputs": [],
      "source": "convert_base(23,12)",
      "start_time": "2019-07-08T14:45:54.772Z"
     },
     {
      "end_time": "2019-07-08T14:45:54.511Z",
      "execution_time": "-261ms",
      "outputs": [],
      "source": "convert_base(23,12)",
      "start_time": "2019-07-08T14:45:54.772Z"
     }
    ]
   },
   "outputs": [],
   "source": [
    "convert_base(23,12)"
   ]
  },
  {
   "cell_type": "code",
   "execution_count": null,
   "metadata": {
    "ExecutionTime": {
     "end_time": "2019-07-08T14:45:54.519232Z"
    },
    "provenance": [
     {
      "end_time": "Unknown",
      "execution_time": "Unknown",
      "outputs": [],
      "source": "convert_base(10,6)",
      "start_time": "Unknown"
     },
     {
      "end_time": "2019-07-08T14:45:27.690Z",
      "execution_time": "-231ms",
      "outputs": [],
      "source": "convert_base(10,6)",
      "start_time": "2019-07-08T14:45:27.921Z"
     },
     {
      "end_time": "2019-07-08T14:45:27.690Z",
      "execution_time": "-231ms",
      "outputs": [],
      "source": "convert_base(10,6)",
      "start_time": "2019-07-08T14:45:27.921Z"
     },
     {
      "end_time": "2019-07-08T14:45:54.519Z",
      "execution_time": "-255ms",
      "outputs": [],
      "source": "convert_base(10,6)",
      "start_time": "2019-07-08T14:45:54.774Z"
     },
     {
      "end_time": "2019-07-08T14:45:54.519Z",
      "execution_time": "-255ms",
      "outputs": [],
      "source": "convert_base(10,6)",
      "start_time": "2019-07-08T14:45:54.774Z"
     }
    ]
   },
   "outputs": [],
   "source": [
    "convert_base(10,6)"
   ]
  },
  {
   "cell_type": "code",
   "execution_count": null,
   "metadata": {
    "ExecutionTime": {
     "end_time": "2019-07-08T14:45:54.521439Z"
    },
    "provenance": [
     {
      "end_time": "Unknown",
      "execution_time": "Unknown",
      "outputs": [],
      "source": "convert_base(10,16)",
      "start_time": "Unknown"
     },
     {
      "end_time": "2019-07-08T14:45:27.694Z",
      "execution_time": "-233ms",
      "outputs": [],
      "source": "convert_base(10,16)",
      "start_time": "2019-07-08T14:45:27.927Z"
     },
     {
      "end_time": "2019-07-08T14:45:27.694Z",
      "execution_time": "-233ms",
      "outputs": [],
      "source": "convert_base(10,16)",
      "start_time": "2019-07-08T14:45:27.927Z"
     },
     {
      "end_time": "2019-07-08T14:45:54.521Z",
      "execution_time": "-255ms",
      "outputs": [],
      "source": "convert_base(10,16)",
      "start_time": "2019-07-08T14:45:54.776Z"
     },
     {
      "end_time": "2019-07-08T14:45:54.521Z",
      "execution_time": "-255ms",
      "outputs": [],
      "source": "convert_base(10,16)",
      "start_time": "2019-07-08T14:45:54.776Z"
     }
    ]
   },
   "outputs": [],
   "source": [
    "convert_base(10,16)"
   ]
  },
  {
   "cell_type": "code",
   "execution_count": null,
   "metadata": {
    "ExecutionTime": {
     "end_time": "2019-07-08T14:45:54.523094Z"
    },
    "provenance": [
     {
      "end_time": "Unknown",
      "execution_time": "Unknown",
      "outputs": [],
      "source": "convert_base(40,32)",
      "start_time": "Unknown"
     },
     {
      "end_time": "2019-07-08T14:45:27.697Z",
      "execution_time": "-233ms",
      "outputs": [],
      "source": "convert_base(40,32)",
      "start_time": "2019-07-08T14:45:27.930Z"
     },
     {
      "end_time": "2019-07-08T14:45:27.697Z",
      "execution_time": "-233ms",
      "outputs": [],
      "source": "convert_base(40,32)",
      "start_time": "2019-07-08T14:45:27.930Z"
     },
     {
      "end_time": "2019-07-08T14:45:54.523Z",
      "execution_time": "-257ms",
      "outputs": [],
      "source": "convert_base(40,32)",
      "start_time": "2019-07-08T14:45:54.780Z"
     },
     {
      "end_time": "2019-07-08T14:45:54.523Z",
      "execution_time": "-257ms",
      "outputs": [],
      "source": "convert_base(40,32)",
      "start_time": "2019-07-08T14:45:54.780Z"
     }
    ]
   },
   "outputs": [],
   "source": [
    "convert_base(40,32)"
   ]
  },
  {
   "cell_type": "code",
   "execution_count": null,
   "metadata": {
    "ExecutionTime": {
     "end_time": "2019-07-08T14:45:54.525368Z"
    },
    "provenance": [
     {
      "end_time": "Unknown",
      "execution_time": "Unknown",
      "outputs": [],
      "source": "convert_base(0,5)",
      "start_time": "Unknown"
     },
     {
      "end_time": "2019-07-08T14:45:27.701Z",
      "execution_time": "-232ms",
      "outputs": [],
      "source": "convert_base(0,5)",
      "start_time": "2019-07-08T14:45:27.933Z"
     },
     {
      "end_time": "2019-07-08T14:45:27.701Z",
      "execution_time": "-232ms",
      "outputs": [],
      "source": "convert_base(0,5)",
      "start_time": "2019-07-08T14:45:27.933Z"
     },
     {
      "end_time": "2019-07-08T14:45:54.525Z",
      "execution_time": "-260ms",
      "outputs": [],
      "source": "convert_base(0,5)",
      "start_time": "2019-07-08T14:45:54.785Z"
     },
     {
      "end_time": "2019-07-08T14:45:54.525Z",
      "execution_time": "-260ms",
      "outputs": [],
      "source": "convert_base(0,5)",
      "start_time": "2019-07-08T14:45:54.785Z"
     }
    ]
   },
   "outputs": [],
   "source": [
    "convert_base(0,5)"
   ]
  },
  {
   "cell_type": "code",
   "execution_count": null,
   "metadata": {
    "ExecutionTime": {
     "end_time": "2019-07-08T14:45:54.529233Z"
    },
    "provenance": [
     {
      "end_time": "Unknown",
      "execution_time": "Unknown",
      "outputs": [],
      "source": "convert_base(100,55)",
      "start_time": "Unknown"
     },
     {
      "end_time": "2019-07-08T14:45:27.703Z",
      "execution_time": "-232ms",
      "outputs": [],
      "source": "convert_base(100,55)",
      "start_time": "2019-07-08T14:45:27.935Z"
     },
     {
      "end_time": "2019-07-08T14:45:27.703Z",
      "execution_time": "-232ms",
      "outputs": [],
      "source": "convert_base(100,55)",
      "start_time": "2019-07-08T14:45:27.935Z"
     },
     {
      "end_time": "2019-07-08T14:45:54.529Z",
      "execution_time": "-259ms",
      "outputs": [],
      "source": "convert_base(100,55)",
      "start_time": "2019-07-08T14:45:54.788Z"
     },
     {
      "end_time": "2019-07-08T14:45:54.529Z",
      "execution_time": "-260ms",
      "outputs": [],
      "source": "convert_base(100,55)",
      "start_time": "2019-07-08T14:45:54.789Z"
     }
    ]
   },
   "outputs": [],
   "source": [
    "convert_base(100,55)"
   ]
  },
  {
   "cell_type": "markdown",
   "metadata": {
    "provenance": [
     {
      "last_modified": "2018-06-12T08:34:10.000Z",
      "source": "## Python's memory model"
     }
    ]
   },
   "source": [
    "## Python's memory model"
   ]
  },
  {
   "cell_type": "markdown",
   "metadata": {
    "provenance": [
     {
      "last_modified": "2018-06-12T08:34:10.000Z",
      "source": "<iframe width=\"800\" height=\"500\" frameborder=\"0\" src=\"http://pythontutor.com/iframe-embed.html#code=x+%3D+%5B1,+2,+3%5D%0Ay+%3D+%5B4,+5,+6%5D%0Az+%3D+y%0Ay+%3D+x%0Ax+%3D+z%0A%0Ax+%3D+%5B1,+2,+3%5D+%23+a+different+%5B1,+2,+3%5D+list!%0Ay+%3D+x%0Ax.append(4)%0Ay.append(5)%0Az+%3D+%5B1,+2,+3,+4,+5%5D+%23+a+different+list!%0Ax.append(6)%0Ay.append(7)%0Ay+%3D+%22hello%22%0A%0A%0Adef+foo(lst)%3A%0A++++lst.append(%22hello%22)%0A++++bar(lst)%0A%0Adef+bar(myLst)%3A%0A++++print(myLst)%0A%0Afoo(x)%0Afoo(z)&cumulative=true&heapPrimitives=false&drawParentPointers=false&textReferences=false&py=3&curInstr=0\"> </iframe>"
     }
    ]
   },
   "source": [
    "<iframe width=\"800\" height=\"500\" frameborder=\"0\" src=\"http://pythontutor.com/iframe-embed.html#code=x+%3D+%5B1,+2,+3%5D%0Ay+%3D+%5B4,+5,+6%5D%0Az+%3D+y%0Ay+%3D+x%0Ax+%3D+z%0A%0Ax+%3D+%5B1,+2,+3%5D+%23+a+different+%5B1,+2,+3%5D+list!%0Ay+%3D+x%0Ax.append(4)%0Ay.append(5)%0Az+%3D+%5B1,+2,+3,+4,+5%5D+%23+a+different+list!%0Ax.append(6)%0Ay.append(7)%0Ay+%3D+%22hello%22%0A%0A%0Adef+foo(lst)%3A%0A++++lst.append(%22hello%22)%0A++++bar(lst)%0A%0Adef+bar(myLst)%3A%0A++++print(myLst)%0A%0Afoo(x)%0Afoo(z)&cumulative=true&heapPrimitives=false&drawParentPointers=false&textReferences=false&py=3&curInstr=0\"> </iframe>"
   ]
  },
  {
   "cell_type": "markdown",
   "metadata": {
    "provenance": [
     {
      "last_modified": "2018-06-12T08:34:10.000Z",
      "source": "See more examples at the [Python Tutor website](http://www.pythontutor.com/visualize.html)."
     }
    ]
   },
   "source": [
    "See more examples at the [Python Tutor website](http://www.pythontutor.com/visualize.html)."
   ]
  },
  {
   "cell_type": "markdown",
   "metadata": {
    "provenance": [
     {
      "last_modified": "2018-06-12T08:34:10.000Z",
      "source": "## Fin\nThis notebook is part of the [Extended introduction to computer science](http://tau-cs1001-py.wikidot.com/) course at Tel-Aviv University.\n\nThe notebook was written using Python 3.2 and IPython 0.13.1.\n\nThe code is available at <https://raw.github.com/yoavram/CS1001.py/master/recitation3.ipynb>.\n\nThe notebook can be viewed online at <http://nbviewer.ipython.org/urls/raw.github.com/yoavram/CS1001.py/master/recitation3.ipynb>.\n\nThe notebooks is also available as a PDF at <https://github.com/yoavram/CS1001.py/blob/master/recitation3.pdf?raw=true>.\n\nThis work is licensed under a [Creative Commons Attribution-ShareAlike 3.0 Unported License](http://creativecommons.org/licenses/by-sa/3.0/)."
     }
    ]
   },
   "source": [
    "## Fin\n",
    "This notebook is part of the [Extended introduction to computer science](http://tau-cs1001-py.wikidot.com/) course at Tel-Aviv University.\n",
    "\n",
    "The notebook was written using Python 3.2 and IPython 0.13.1.\n",
    "\n",
    "The code is available at <https://raw.github.com/yoavram/CS1001.py/master/recitation3.ipynb>.\n",
    "\n",
    "The notebook can be viewed online at <http://nbviewer.ipython.org/urls/raw.github.com/yoavram/CS1001.py/master/recitation3.ipynb>.\n",
    "\n",
    "The notebooks is also available as a PDF at <https://github.com/yoavram/CS1001.py/blob/master/recitation3.pdf?raw=true>.\n",
    "\n",
    "This work is licensed under a [Creative Commons Attribution-ShareAlike 3.0 Unported License](http://creativecommons.org/licenses/by-sa/3.0/)."
   ]
  }
 ],
 "metadata": {
  "kernelspec": {
   "display_name": "Python 2",
   "language": "python",
   "name": "python2"
  },
  "language_info": {
   "codemirror_mode": {
    "name": "ipython",
    "version": 2
   },
   "file_extension": ".py",
   "mimetype": "text/x-python",
   "name": "python",
   "nbconvert_exporter": "python",
   "pygments_lexer": "ipython2",
   "version": "2.7.15rc1"
  }
 },
 "nbformat": 4,
 "nbformat_minor": 1
}
