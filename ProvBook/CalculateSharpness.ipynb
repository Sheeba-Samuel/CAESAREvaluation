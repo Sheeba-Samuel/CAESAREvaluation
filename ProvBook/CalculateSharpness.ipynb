{
 "cells": [
  {
   "cell_type": "markdown",
   "metadata": {},
   "source": [
    "# QC script to calculate sharpness metric for images in a plate"
   ]
  },
  {
   "cell_type": "markdown",
   "metadata": {},
   "source": [
    "The following script will access the IDR images in a facility manager's context,\n",
    "\n",
    "The QC script does the following,\n",
    "\n",
    "1. Extracts Images from IDR (read-only)\n",
    "2. Calculates sharpness based on the algorithm defined in the following publication,\n",
    "  * [Image Sharpness Measure for Blurred Images in Frequency Domain](https://doi.org/10.1016/j.proeng.2013.09.086)\n",
    "3. Creates a numpy array of the sharpness scores for every well, \n",
    "  * seperately for every field and every channel\n",
    "  * the numpy array is then reshaped to the same dimensions of the plate, e.g. 96 well plates will have a numpy array \n",
    "    with 8 rows and 12 columns.\n",
    "4. Plots a heatmap for every field and every channel, and arranges all plots within a subplot.\n",
    "5. Exports the heatmap back to OMERO in the following ways,\n",
    "  * Saves the [\"plate_name\" + \"heatmap.png\"] and attaches it to the appropriate plate as a file attachment.\n",
    "  * Saves the numpy array as an image back to OMERO and a secondary script \"createOMEROFigures\" can be used to create \n",
    "    figures in OMERO.figure in the same layout as seen in the [\"plate_name\" + \"heatmap.png\"]"
   ]
  },
  {
   "cell_type": "markdown",
   "metadata": {},
   "source": [
    "# Workflow summary"
   ]
  },
  {
   "cell_type": "markdown",
   "metadata": {},
   "source": [
    "![Overview](./includes/PlateToHeatmap.jpg)"
   ]
  },
  {
   "cell_type": "markdown",
   "metadata": {},
   "source": [
    "***Import Packages***"
   ]
  },
  {
   "cell_type": "code",
   "execution_count": 6,
   "metadata": {
    "ExecutionTime": {
     "end_time": "2018-08-27T15:06:13.968545Z",
     "start_time": "2018-08-27T15:06:13.958464Z"
    },
    "provenance": [
     {
      "outputs": [],
      "source": "from PIL import Image\nimport string\nimport pandas as pd\nimport numpy as np\nimport matplotlib\nimport matplotlib.pyplot as plt\nfrom numpy import array, int8\nfrom skimage import feature\nfrom scipy import ndimage\nfrom scipy.ndimage import convolve\nfrom scipy import misc"
     },
     {
      "end_time": "2018-08-27T15:06:13.968Z",
      "execution_time": "10ms",
      "outputs": [],
      "source": "from PIL import Image\nimport string\nimport pandas as pd\nimport numpy as np\nimport matplotlib\nimport matplotlib.pyplot as plt\nfrom numpy import array, int8\nfrom skimage import feature\nfrom scipy import ndimage\nfrom scipy.ndimage import convolve\nfrom scipy import misc",
      "start_time": "2018-08-27T15:06:13.958Z"
     }
    ]
   },
   "outputs": [],
   "source": [
    "from PIL import Image\n",
    "import string\n",
    "import pandas as pd\n",
    "import numpy as np\n",
    "import matplotlib\n",
    "import matplotlib.pyplot as plt\n",
    "from numpy import array, int8\n",
    "from skimage import feature\n",
    "from scipy import ndimage\n",
    "from scipy.ndimage import convolve\n",
    "from scipy import misc"
   ]
  },
  {
   "cell_type": "markdown",
   "metadata": {},
   "source": [
    "## Read data from IDR (Public Database : Read-only!)"
   ]
  },
  {
   "cell_type": "markdown",
   "metadata": {},
   "source": [
    "***Create connection and plate identifier***"
   ]
  },
  {
   "cell_type": "code",
   "execution_count": 8,
   "metadata": {
    "ExecutionTime": {
     "end_time": "2018-08-27T15:12:56.651035Z",
     "start_time": "2018-08-27T15:12:56.587629Z"
    },
    "provenance": [
     {
      "outputs": [
       {
        "ename": "ImportError",
        "evalue": "No module named idr",
        "output_type": "error",
        "traceback": [
         "\u001b[0;31m---------------------------------------------------------------------------\u001b[0m",
         "\u001b[0;31mImportError\u001b[0m                               Traceback (most recent call last)",
         "\u001b[0;32m<ipython-input-7-aa1eb3f37ac9>\u001b[0m in \u001b[0;36m<module>\u001b[0;34m()\u001b[0m\n\u001b[0;32m----> 1\u001b[0;31m \u001b[0;32mfrom\u001b[0m \u001b[0midr\u001b[0m \u001b[0;32mimport\u001b[0m \u001b[0mconnection\u001b[0m\u001b[0;34m;\u001b[0m\u001b[0;34m\u001b[0m\u001b[0m\n\u001b[0m\u001b[1;32m      2\u001b[0m \u001b[0mconn\u001b[0m \u001b[0;34m=\u001b[0m \u001b[0mconnection\u001b[0m\u001b[0;34m(\u001b[0m\u001b[0;34m)\u001b[0m\u001b[0;34m\u001b[0m\u001b[0m\n\u001b[1;32m      3\u001b[0m \u001b[0mplateId\u001b[0m \u001b[0;34m=\u001b[0m \u001b[0;36m408\u001b[0m\u001b[0;34m\u001b[0m\u001b[0m\n\u001b[1;32m      4\u001b[0m \u001b[0;32mprint\u001b[0m \u001b[0mconn\u001b[0m\u001b[0;34m\u001b[0m\u001b[0m\n",
         "\u001b[0;31mImportError\u001b[0m: No module named idr"
        ]
       }
      ],
      "source": "from idr import connection; \nconn = connection()\nplateId = 408\nprint conn"
     },
     {
      "end_time": "2018-08-27T15:06:14.043Z",
      "execution_time": "70ms",
      "outputs": [
       {
        "ename": "ImportError",
        "evalue": "No module named idr",
        "output_type": "error",
        "traceback": [
         "\u001b[0;31m---------------------------------------------------------------------------\u001b[0m",
         "\u001b[0;31mImportError\u001b[0m                               Traceback (most recent call last)",
         "\u001b[0;32m<ipython-input-7-aa1eb3f37ac9>\u001b[0m in \u001b[0;36m<module>\u001b[0;34m()\u001b[0m\n\u001b[0;32m----> 1\u001b[0;31m \u001b[0;32mfrom\u001b[0m \u001b[0midr\u001b[0m \u001b[0;32mimport\u001b[0m \u001b[0mconnection\u001b[0m\u001b[0;34m;\u001b[0m\u001b[0;34m\u001b[0m\u001b[0m\n\u001b[0m\u001b[1;32m      2\u001b[0m \u001b[0mconn\u001b[0m \u001b[0;34m=\u001b[0m \u001b[0mconnection\u001b[0m\u001b[0;34m(\u001b[0m\u001b[0;34m)\u001b[0m\u001b[0;34m\u001b[0m\u001b[0m\n\u001b[1;32m      3\u001b[0m \u001b[0mplateId\u001b[0m \u001b[0;34m=\u001b[0m \u001b[0;36m408\u001b[0m\u001b[0;34m\u001b[0m\u001b[0m\n\u001b[1;32m      4\u001b[0m \u001b[0;32mprint\u001b[0m \u001b[0mconn\u001b[0m\u001b[0;34m\u001b[0m\u001b[0m\n",
         "\u001b[0;31mImportError\u001b[0m: No module named idr"
        ]
       }
      ],
      "source": "from idr import connection; \nconn = connection()\nplateId = 408\nprint conn",
      "start_time": "2018-08-27T15:06:13.973Z"
     },
     {
      "end_time": "2018-08-27T15:12:56.651Z",
      "execution_time": "64ms",
      "outputs": [
       {
        "ename": "ImportError",
        "evalue": "No module named omero",
        "output_type": "error",
        "traceback": [
         "\u001b[0;31m---------------------------------------------------------------------------\u001b[0m",
         "\u001b[0;31mImportError\u001b[0m                               Traceback (most recent call last)",
         "\u001b[0;32m<ipython-input-8-aa1eb3f37ac9>\u001b[0m in \u001b[0;36m<module>\u001b[0;34m()\u001b[0m\n\u001b[0;32m----> 1\u001b[0;31m \u001b[0;32mfrom\u001b[0m \u001b[0midr\u001b[0m \u001b[0;32mimport\u001b[0m \u001b[0mconnection\u001b[0m\u001b[0;34m;\u001b[0m\u001b[0;34m\u001b[0m\u001b[0m\n\u001b[0m\u001b[1;32m      2\u001b[0m \u001b[0mconn\u001b[0m \u001b[0;34m=\u001b[0m \u001b[0mconnection\u001b[0m\u001b[0;34m(\u001b[0m\u001b[0;34m)\u001b[0m\u001b[0;34m\u001b[0m\u001b[0m\n\u001b[1;32m      3\u001b[0m \u001b[0mplateId\u001b[0m \u001b[0;34m=\u001b[0m \u001b[0;36m408\u001b[0m\u001b[0;34m\u001b[0m\u001b[0m\n\u001b[1;32m      4\u001b[0m \u001b[0;32mprint\u001b[0m \u001b[0mconn\u001b[0m\u001b[0;34m\u001b[0m\u001b[0m\n",
         "\u001b[0;32m/usr/local/lib/python2.7/dist-packages/idr/__init__.py\u001b[0m in \u001b[0;36m<module>\u001b[0;34m()\u001b[0m\n\u001b[0;32m----> 1\u001b[0;31m \u001b[0;32mfrom\u001b[0m \u001b[0mconnections\u001b[0m \u001b[0;32mimport\u001b[0m \u001b[0mconnection\u001b[0m \u001b[0;31m# NOQA\u001b[0m\u001b[0;34m\u001b[0m\u001b[0m\n\u001b[0m\u001b[1;32m      2\u001b[0m \u001b[0;32mfrom\u001b[0m \u001b[0mconnections\u001b[0m \u001b[0;32mimport\u001b[0m \u001b[0mcreate_http_session\u001b[0m \u001b[0;31m# NOQA\u001b[0m\u001b[0;34m\u001b[0m\u001b[0m\n\u001b[1;32m      3\u001b[0m \u001b[0;34m\u001b[0m\u001b[0m\n\u001b[1;32m      4\u001b[0m \u001b[0;32mfrom\u001b[0m \u001b[0mattributes\u001b[0m \u001b[0;32mimport\u001b[0m \u001b[0mattributes_by_attributes\u001b[0m \u001b[0;31m# NOQA\u001b[0m\u001b[0;34m\u001b[0m\u001b[0m\n\u001b[1;32m      5\u001b[0m \u001b[0;32mfrom\u001b[0m \u001b[0mattributes\u001b[0m \u001b[0;32mimport\u001b[0m \u001b[0mannotation_ids_by_field\u001b[0m \u001b[0;31m# NOQA\u001b[0m\u001b[0;34m\u001b[0m\u001b[0m\n",
         "\u001b[0;32m/usr/local/lib/python2.7/dist-packages/idr/connections.py\u001b[0m in \u001b[0;36m<module>\u001b[0;34m()\u001b[0m\n\u001b[1;32m      6\u001b[0m \u001b[0;32mimport\u001b[0m \u001b[0mos\u001b[0m\u001b[0;34m\u001b[0m\u001b[0m\n\u001b[1;32m      7\u001b[0m \u001b[0;34m\u001b[0m\u001b[0m\n\u001b[0;32m----> 8\u001b[0;31m \u001b[0;32mimport\u001b[0m \u001b[0momero\u001b[0m\u001b[0;34m\u001b[0m\u001b[0m\n\u001b[0m\u001b[1;32m      9\u001b[0m \u001b[0;32mfrom\u001b[0m \u001b[0momero\u001b[0m\u001b[0;34m.\u001b[0m\u001b[0mgateway\u001b[0m \u001b[0;32mimport\u001b[0m \u001b[0mBlitzGateway\u001b[0m\u001b[0;34m\u001b[0m\u001b[0m\n\u001b[1;32m     10\u001b[0m \u001b[0;34m\u001b[0m\u001b[0m\n",
         "\u001b[0;31mImportError\u001b[0m: No module named omero"
        ]
       }
      ],
      "source": "from idr import connection; \nconn = connection()\nplateId = 408\nprint conn",
      "start_time": "2018-08-27T15:12:56.587Z"
     }
    ]
   },
   "outputs": [
    {
     "ename": "ImportError",
     "evalue": "No module named omero",
     "output_type": "error",
     "traceback": [
      "\u001b[0;31m---------------------------------------------------------------------------\u001b[0m",
      "\u001b[0;31mImportError\u001b[0m                               Traceback (most recent call last)",
      "\u001b[0;32m<ipython-input-8-aa1eb3f37ac9>\u001b[0m in \u001b[0;36m<module>\u001b[0;34m()\u001b[0m\n\u001b[0;32m----> 1\u001b[0;31m \u001b[0;32mfrom\u001b[0m \u001b[0midr\u001b[0m \u001b[0;32mimport\u001b[0m \u001b[0mconnection\u001b[0m\u001b[0;34m;\u001b[0m\u001b[0;34m\u001b[0m\u001b[0m\n\u001b[0m\u001b[1;32m      2\u001b[0m \u001b[0mconn\u001b[0m \u001b[0;34m=\u001b[0m \u001b[0mconnection\u001b[0m\u001b[0;34m(\u001b[0m\u001b[0;34m)\u001b[0m\u001b[0;34m\u001b[0m\u001b[0m\n\u001b[1;32m      3\u001b[0m \u001b[0mplateId\u001b[0m \u001b[0;34m=\u001b[0m \u001b[0;36m408\u001b[0m\u001b[0;34m\u001b[0m\u001b[0m\n\u001b[1;32m      4\u001b[0m \u001b[0;32mprint\u001b[0m \u001b[0mconn\u001b[0m\u001b[0;34m\u001b[0m\u001b[0m\n",
      "\u001b[0;32m/usr/local/lib/python2.7/dist-packages/idr/__init__.py\u001b[0m in \u001b[0;36m<module>\u001b[0;34m()\u001b[0m\n\u001b[0;32m----> 1\u001b[0;31m \u001b[0;32mfrom\u001b[0m \u001b[0mconnections\u001b[0m \u001b[0;32mimport\u001b[0m \u001b[0mconnection\u001b[0m \u001b[0;31m# NOQA\u001b[0m\u001b[0;34m\u001b[0m\u001b[0m\n\u001b[0m\u001b[1;32m      2\u001b[0m \u001b[0;32mfrom\u001b[0m \u001b[0mconnections\u001b[0m \u001b[0;32mimport\u001b[0m \u001b[0mcreate_http_session\u001b[0m \u001b[0;31m# NOQA\u001b[0m\u001b[0;34m\u001b[0m\u001b[0m\n\u001b[1;32m      3\u001b[0m \u001b[0;34m\u001b[0m\u001b[0m\n\u001b[1;32m      4\u001b[0m \u001b[0;32mfrom\u001b[0m \u001b[0mattributes\u001b[0m \u001b[0;32mimport\u001b[0m \u001b[0mattributes_by_attributes\u001b[0m \u001b[0;31m# NOQA\u001b[0m\u001b[0;34m\u001b[0m\u001b[0m\n\u001b[1;32m      5\u001b[0m \u001b[0;32mfrom\u001b[0m \u001b[0mattributes\u001b[0m \u001b[0;32mimport\u001b[0m \u001b[0mannotation_ids_by_field\u001b[0m \u001b[0;31m# NOQA\u001b[0m\u001b[0;34m\u001b[0m\u001b[0m\n",
      "\u001b[0;32m/usr/local/lib/python2.7/dist-packages/idr/connections.py\u001b[0m in \u001b[0;36m<module>\u001b[0;34m()\u001b[0m\n\u001b[1;32m      6\u001b[0m \u001b[0;32mimport\u001b[0m \u001b[0mos\u001b[0m\u001b[0;34m\u001b[0m\u001b[0m\n\u001b[1;32m      7\u001b[0m \u001b[0;34m\u001b[0m\u001b[0m\n\u001b[0;32m----> 8\u001b[0;31m \u001b[0;32mimport\u001b[0m \u001b[0momero\u001b[0m\u001b[0;34m\u001b[0m\u001b[0m\n\u001b[0m\u001b[1;32m      9\u001b[0m \u001b[0;32mfrom\u001b[0m \u001b[0momero\u001b[0m\u001b[0;34m.\u001b[0m\u001b[0mgateway\u001b[0m \u001b[0;32mimport\u001b[0m \u001b[0mBlitzGateway\u001b[0m\u001b[0;34m\u001b[0m\u001b[0m\n\u001b[1;32m     10\u001b[0m \u001b[0;34m\u001b[0m\u001b[0m\n",
      "\u001b[0;31mImportError\u001b[0m: No module named omero"
     ]
    }
   ],
   "source": [
    "from idr import connection; \n",
    "conn = connection()\n",
    "plateId = 408\n",
    "print conn"
   ]
  },
  {
   "cell_type": "markdown",
   "metadata": {},
   "source": [
    "***Fetch plate object and print details***"
   ]
  },
  {
   "cell_type": "code",
   "execution_count": null,
   "metadata": {
    "ExecutionTime": {
     "end_time": "2018-08-27T15:06:14.044282Z"
    },
    "provenance": [
     {
      "outputs": [],
      "source": "plate = conn.getObject(\"Plate\", plateId)\nprint \"\\nNumber of fields:\", plate.getNumberOfFields()\nprint \"\\nGrid size:\", plate.getGridSize()\nprint \"\\nWells in Plate:\", plate.getName()\n\nplate_rows = plate.getRows()\nplate_columns = plate.getColumns()\nplate_format = plate_rows * plate_columns\n\nprint \"\\nPlate Format:\", plate_format"
     },
     {
      "end_time": "2018-08-27T15:06:14.044Z",
      "execution_time": "-157ms",
      "outputs": [],
      "source": "plate = conn.getObject(\"Plate\", plateId)\nprint \"\\nNumber of fields:\", plate.getNumberOfFields()\nprint \"\\nGrid size:\", plate.getGridSize()\nprint \"\\nWells in Plate:\", plate.getName()\n\nplate_rows = plate.getRows()\nplate_columns = plate.getColumns()\nplate_format = plate_rows * plate_columns\n\nprint \"\\nPlate Format:\", plate_format",
      "start_time": "2018-08-27T15:06:14.201Z"
     }
    ]
   },
   "outputs": [],
   "source": [
    "plate = conn.getObject(\"Plate\", plateId)\n",
    "print \"\\nNumber of fields:\", plate.getNumberOfFields()\n",
    "print \"\\nGrid size:\", plate.getGridSize()\n",
    "print \"\\nWells in Plate:\", plate.getName()\n",
    "\n",
    "plate_rows = plate.getRows()\n",
    "plate_columns = plate.getColumns()\n",
    "plate_format = plate_rows * plate_columns\n",
    "\n",
    "print \"\\nPlate Format:\", plate_format"
   ]
  },
  {
   "cell_type": "markdown",
   "metadata": {},
   "source": [
    "***Algorithm List***"
   ]
  },
  {
   "cell_type": "code",
   "execution_count": null,
   "metadata": {
    "ExecutionTime": {
     "end_time": "2018-08-27T15:06:14.046154Z"
    },
    "provenance": [
     {
      "outputs": [],
      "source": "class AlgorithmList:\n    def fourierBasedSharpnessMetric(self):\n        fftimage = np.fft.fft2(plane)\n        fftshift = np.fft.fftshift(fftimage)\n        fftshift = np.absolute(fftshift)\n        M = np.amax(fftshift)\n        Th = (fftshift > (M/float(1000))).sum()\n        if 'image' in locals():\n            sharpness = Th/(float(image.getSizeX())*float(image.getSizeY()))\n            return sharpness*10000\n        else:\n            return Th\n    def gradientBasedSharpnessMetric(self):\n        gy, gx = np.gradient(plane)\n        gnorm = np.sqrt(gx**2 + gy**2)\n        sharpness = np.average(gnorm)\n        return sharpness\n    def edgeBasedSharpnessMetric(self):\n        edges1 = feature.canny(plane, sigma=3)\n        kernel = np.ones((3, 3))\n        kernel[1, 1] = 0\n        sharpness = convolve(edges1, kernel, mode=\"constant\")\n        sharpness = sharpness[edges1 != 0].sum()\n        return sharpness\nprint \"loaded:\", dir(AlgorithmList)"
     },
     {
      "end_time": "2018-08-27T15:06:14.046Z",
      "execution_time": "-157ms",
      "outputs": [],
      "source": "class AlgorithmList:\n    def fourierBasedSharpnessMetric(self):\n        fftimage = np.fft.fft2(plane)\n        fftshift = np.fft.fftshift(fftimage)\n        fftshift = np.absolute(fftshift)\n        M = np.amax(fftshift)\n        Th = (fftshift > (M/float(1000))).sum()\n        if 'image' in locals():\n            sharpness = Th/(float(image.getSizeX())*float(image.getSizeY()))\n            return sharpness*10000\n        else:\n            return Th\n    def gradientBasedSharpnessMetric(self):\n        gy, gx = np.gradient(plane)\n        gnorm = np.sqrt(gx**2 + gy**2)\n        sharpness = np.average(gnorm)\n        return sharpness\n    def edgeBasedSharpnessMetric(self):\n        edges1 = feature.canny(plane, sigma=3)\n        kernel = np.ones((3, 3))\n        kernel[1, 1] = 0\n        sharpness = convolve(edges1, kernel, mode=\"constant\")\n        sharpness = sharpness[edges1 != 0].sum()\n        return sharpness\nprint \"loaded:\", dir(AlgorithmList)",
      "start_time": "2018-08-27T15:06:14.203Z"
     }
    ]
   },
   "outputs": [],
   "source": [
    "class AlgorithmList:\n",
    "    def fourierBasedSharpnessMetric(self):\n",
    "        fftimage = np.fft.fft2(plane)\n",
    "        fftshift = np.fft.fftshift(fftimage)\n",
    "        fftshift = np.absolute(fftshift)\n",
    "        M = np.amax(fftshift)\n",
    "        Th = (fftshift > (M/float(1000))).sum()\n",
    "        if 'image' in locals():\n",
    "            sharpness = Th/(float(image.getSizeX())*float(image.getSizeY()))\n",
    "            return sharpness*10000\n",
    "        else:\n",
    "            return Th\n",
    "    def gradientBasedSharpnessMetric(self):\n",
    "        gy, gx = np.gradient(plane)\n",
    "        gnorm = np.sqrt(gx**2 + gy**2)\n",
    "        sharpness = np.average(gnorm)\n",
    "        return sharpness\n",
    "    def edgeBasedSharpnessMetric(self):\n",
    "        edges1 = feature.canny(plane, sigma=3)\n",
    "        kernel = np.ones((3, 3))\n",
    "        kernel[1, 1] = 0\n",
    "        sharpness = convolve(edges1, kernel, mode=\"constant\")\n",
    "        sharpness = sharpness[edges1 != 0].sum()\n",
    "        return sharpness\n",
    "print \"loaded:\", dir(AlgorithmList)"
   ]
  },
  {
   "cell_type": "markdown",
   "metadata": {},
   "source": [
    "***Test your algorithm on example data***"
   ]
  },
  {
   "cell_type": "code",
   "execution_count": null,
   "metadata": {
    "ExecutionTime": {
     "end_time": "2018-08-27T15:06:14.048241Z"
    },
    "provenance": [
     {
      "outputs": [],
      "source": "resultArray = np.zeros((5, 2), dtype=float);\nplt.figure(figsize=(20, 15))\ncntr = 1\nfor sigValue in xrange(0,20,4):\n    face = misc.face(gray=True)\n    plane = ndimage.gaussian_filter(face, sigma=sigValue)\n    plt.subplot(1,5,cntr)\n    plt.imshow(plane, cmap=plt.cm.gray)\n    plt.axis('off')\n    sharpness = AlgorithmList().fourierBasedSharpnessMetric();\n    resultArray[cntr-1,1] = sharpness\n    resultArray[cntr-1,0] = sigValue\n    cntr= cntr + 1\n\nplt.show()\nplt.figure(figsize=(10, 8))\nplt.plot(resultArray[:,0], resultArray[:,1], 'ro')\nplt.xlabel('Levels of gaussian blur')\nplt.ylabel('sharpness score')\nplt.show()\n\nplt.gcf().clear()"
     },
     {
      "end_time": "2018-08-27T15:06:14.048Z",
      "execution_time": "-156ms",
      "outputs": [],
      "source": "resultArray = np.zeros((5, 2), dtype=float);\nplt.figure(figsize=(20, 15))\ncntr = 1\nfor sigValue in xrange(0,20,4):\n    face = misc.face(gray=True)\n    plane = ndimage.gaussian_filter(face, sigma=sigValue)\n    plt.subplot(1,5,cntr)\n    plt.imshow(plane, cmap=plt.cm.gray)\n    plt.axis('off')\n    sharpness = AlgorithmList().fourierBasedSharpnessMetric();\n    resultArray[cntr-1,1] = sharpness\n    resultArray[cntr-1,0] = sigValue\n    cntr= cntr + 1\n\nplt.show()\nplt.figure(figsize=(10, 8))\nplt.plot(resultArray[:,0], resultArray[:,1], 'ro')\nplt.xlabel('Levels of gaussian blur')\nplt.ylabel('sharpness score')\nplt.show()\n\nplt.gcf().clear()",
      "start_time": "2018-08-27T15:06:14.204Z"
     }
    ]
   },
   "outputs": [],
   "source": [
    "resultArray = np.zeros((5, 2), dtype=float);\n",
    "plt.figure(figsize=(20, 15))\n",
    "cntr = 1\n",
    "for sigValue in xrange(0,20,4):\n",
    "    face = misc.face(gray=True)\n",
    "    plane = ndimage.gaussian_filter(face, sigma=sigValue)\n",
    "    plt.subplot(1,5,cntr)\n",
    "    plt.imshow(plane, cmap=plt.cm.gray)\n",
    "    plt.axis('off')\n",
    "    sharpness = AlgorithmList().fourierBasedSharpnessMetric();\n",
    "    resultArray[cntr-1,1] = sharpness\n",
    "    resultArray[cntr-1,0] = sigValue\n",
    "    cntr= cntr + 1\n",
    "\n",
    "plt.show()\n",
    "plt.figure(figsize=(10, 8))\n",
    "plt.plot(resultArray[:,0], resultArray[:,1], 'ro')\n",
    "plt.xlabel('Levels of gaussian blur')\n",
    "plt.ylabel('sharpness score')\n",
    "plt.show()\n",
    "\n",
    "plt.gcf().clear()"
   ]
  },
  {
   "cell_type": "markdown",
   "metadata": {},
   "source": [
    "***Test your algorithm on plate data***"
   ]
  },
  {
   "cell_type": "code",
   "execution_count": null,
   "metadata": {
    "ExecutionTime": {
     "end_time": "2018-08-27T15:06:14.050343Z"
    },
    "provenance": [
     {
      "outputs": [],
      "source": "imageId = 171499\nimage = conn.getObject(\"Image\", imageId)\nprint image.getName(), image.getDescription()\n\npixels = image.getPrimaryPixels()\nimage_plane = pixels.getPlane(0, 0, 0)\n\nresultArray = np.zeros((5, 2), dtype=float);\nplt.figure(figsize=(20, 15))\ncntr = 1\nfor sigValue in xrange(0,20,4):\n    face = misc.face(gray=True)\n    plane = ndimage.gaussian_filter(image_plane, sigma=sigValue)\n    plt.subplot(1,5,cntr)\n    plt.imshow(plane, cmap=plt.cm.gray)\n    plt.axis('off')\n    sharpness = AlgorithmList().fourierBasedSharpnessMetric();\n    resultArray[cntr-1,1] = sharpness\n    resultArray[cntr-1,0] = sigValue\n    cntr = cntr + 1\nplt.show()\nplt.figure(figsize=(10, 8))\nplt.plot(resultArray[:,0], resultArray[:,1], 'ro')\nplt.xlabel('Levels of gaussian blur')\nplt.ylabel('sharpness score')\nplt.show()\nplt.gcf().clear()"
     },
     {
      "end_time": "2018-08-27T15:06:14.050Z",
      "execution_time": "-156ms",
      "outputs": [],
      "source": "imageId = 171499\nimage = conn.getObject(\"Image\", imageId)\nprint image.getName(), image.getDescription()\n\npixels = image.getPrimaryPixels()\nimage_plane = pixels.getPlane(0, 0, 0)\n\nresultArray = np.zeros((5, 2), dtype=float);\nplt.figure(figsize=(20, 15))\ncntr = 1\nfor sigValue in xrange(0,20,4):\n    face = misc.face(gray=True)\n    plane = ndimage.gaussian_filter(image_plane, sigma=sigValue)\n    plt.subplot(1,5,cntr)\n    plt.imshow(plane, cmap=plt.cm.gray)\n    plt.axis('off')\n    sharpness = AlgorithmList().fourierBasedSharpnessMetric();\n    resultArray[cntr-1,1] = sharpness\n    resultArray[cntr-1,0] = sigValue\n    cntr = cntr + 1\nplt.show()\nplt.figure(figsize=(10, 8))\nplt.plot(resultArray[:,0], resultArray[:,1], 'ro')\nplt.xlabel('Levels of gaussian blur')\nplt.ylabel('sharpness score')\nplt.show()\nplt.gcf().clear()",
      "start_time": "2018-08-27T15:06:14.206Z"
     }
    ]
   },
   "outputs": [],
   "source": [
    "imageId = 171499\n",
    "image = conn.getObject(\"Image\", imageId)\n",
    "print image.getName(), image.getDescription()\n",
    "\n",
    "pixels = image.getPrimaryPixels()\n",
    "image_plane = pixels.getPlane(0, 0, 0)\n",
    "\n",
    "resultArray = np.zeros((5, 2), dtype=float);\n",
    "plt.figure(figsize=(20, 15))\n",
    "cntr = 1\n",
    "for sigValue in xrange(0,20,4):\n",
    "    face = misc.face(gray=True)\n",
    "    plane = ndimage.gaussian_filter(image_plane, sigma=sigValue)\n",
    "    plt.subplot(1,5,cntr)\n",
    "    plt.imshow(plane, cmap=plt.cm.gray)\n",
    "    plt.axis('off')\n",
    "    sharpness = AlgorithmList().fourierBasedSharpnessMetric();\n",
    "    resultArray[cntr-1,1] = sharpness\n",
    "    resultArray[cntr-1,0] = sigValue\n",
    "    cntr = cntr + 1\n",
    "plt.show()\n",
    "plt.figure(figsize=(10, 8))\n",
    "plt.plot(resultArray[:,0], resultArray[:,1], 'ro')\n",
    "plt.xlabel('Levels of gaussian blur')\n",
    "plt.ylabel('sharpness score')\n",
    "plt.show()\n",
    "plt.gcf().clear()"
   ]
  },
  {
   "cell_type": "markdown",
   "metadata": {},
   "source": [
    "***Iterative calculations for the whole plate***"
   ]
  },
  {
   "cell_type": "code",
   "execution_count": null,
   "metadata": {
    "ExecutionTime": {
     "end_time": "2018-08-27T15:06:14.052484Z"
    },
    "provenance": [
     {
      "outputs": [],
      "source": "chnames = None\ncntr = 0\nfields = 0\nsize_z = fields\nprint \"Iterating through wells...\"\nfor well in plate.listChildren():\n    index = well.countWellSample()\n    image = well.getImage(fields)\n    if chnames is None:\n        chnames = [ch.getLabel() for ch in image.getChannels(True)]\n    pixels = image.getPrimaryPixels()\n    size_c = image.getSizeC()\n    if cntr == 0:\n        result_array = np.zeros((plate_format, size_c), dtype=float)\n    for ch in xrange(0, size_c):\n        plane = pixels.getPlane(0, ch, 0)\n        sharpness = AlgorithmList().fourierBasedSharpnessMetric()\n        result_array[((well.row) * plate_columns) + well.column, ch] = sharpness\n        tempvalue = result_array[((well.row) * plate_columns) + well.column, ch]\n        wellid = ((well.row) * plate_columns) + well.column\n        fieldid = (fields + ch * size_c)\n        cntr = cntr + 1"
     },
     {
      "end_time": "2018-08-27T15:06:14.052Z",
      "execution_time": "-157ms",
      "outputs": [],
      "source": "chnames = None\ncntr = 0\nfields = 0\nsize_z = fields\nprint \"Iterating through wells...\"\nfor well in plate.listChildren():\n    index = well.countWellSample()\n    image = well.getImage(fields)\n    if chnames is None:\n        chnames = [ch.getLabel() for ch in image.getChannels(True)]\n    pixels = image.getPrimaryPixels()\n    size_c = image.getSizeC()\n    if cntr == 0:\n        result_array = np.zeros((plate_format, size_c), dtype=float)\n    for ch in xrange(0, size_c):\n        plane = pixels.getPlane(0, ch, 0)\n        sharpness = AlgorithmList().fourierBasedSharpnessMetric()\n        result_array[((well.row) * plate_columns) + well.column, ch] = sharpness\n        tempvalue = result_array[((well.row) * plate_columns) + well.column, ch]\n        wellid = ((well.row) * plate_columns) + well.column\n        fieldid = (fields + ch * size_c)\n        cntr = cntr + 1",
      "start_time": "2018-08-27T15:06:14.209Z"
     }
    ],
    "scrolled": true
   },
   "outputs": [],
   "source": [
    "chnames = None\n",
    "cntr = 0\n",
    "fields = 0\n",
    "size_z = fields\n",
    "print \"Iterating through wells...\"\n",
    "for well in plate.listChildren():\n",
    "    index = well.countWellSample()\n",
    "    image = well.getImage(fields)\n",
    "    if chnames is None:\n",
    "        chnames = [ch.getLabel() for ch in image.getChannels(True)]\n",
    "    pixels = image.getPrimaryPixels()\n",
    "    size_c = image.getSizeC()\n",
    "    if cntr == 0:\n",
    "        result_array = np.zeros((plate_format, size_c), dtype=float)\n",
    "    for ch in xrange(0, size_c):\n",
    "        plane = pixels.getPlane(0, ch, 0)\n",
    "        sharpness = AlgorithmList().fourierBasedSharpnessMetric()\n",
    "        result_array[((well.row) * plate_columns) + well.column, ch] = sharpness\n",
    "        tempvalue = result_array[((well.row) * plate_columns) + well.column, ch]\n",
    "        wellid = ((well.row) * plate_columns) + well.column\n",
    "        fieldid = (fields + ch * size_c)\n",
    "        cntr = cntr + 1"
   ]
  },
  {
   "cell_type": "markdown",
   "metadata": {},
   "source": [
    "***Reshape numpy array and plot heatmaps***"
   ]
  },
  {
   "cell_type": "code",
   "execution_count": null,
   "metadata": {
    "ExecutionTime": {
     "end_time": "2018-08-27T15:06:14.054315Z"
    },
    "provenance": [
     {
      "outputs": [],
      "source": "alphabets = list(string.ascii_uppercase)\nplate_name = plate.getName()\ncolval = 0\nplanes = []\ncntr = 0\nsize_c = 3\nfig = plt.figure(figsize=(30, 15))\nfor rowval in range (0, size_c):\n    data = result_array[:, rowval].reshape(plate_rows, plate_columns);\n    ax = plt.subplot(size_c,1,cntr+1)\n    plt.pcolor(data)\n    plt.colorbar()\n    ax.title.set_text(chnames[rowval])\n    plt.xticks(np.arange(0.5, plate_columns, 1.0))\n    plt.yticks(np.arange(0.5, plate_rows, 1.0))\n    xlabels = range(1, plate_columns+1) \n    ax.set_xticklabels(xlabels)\n    ylabels = range(1, plate_rows+1)\n    ax.set_yticklabels([alphabets[i-1] for i in ylabels])\n    plt.gca().invert_yaxis()\n    plt.clim(0,40000)\n\n    data = np.repeat(data, 20, axis=1)\n    data = np.repeat(data, 20, axis=0)\n    planes.append(np.uint16(data))\n    cntr = cntr + 1\n\nplt.show()\nfig.savefig(plate_name + 'SharpnessHeatMaps.png')"
     },
     {
      "end_time": "2018-08-27T15:06:14.054Z",
      "execution_time": "-157ms",
      "outputs": [],
      "source": "alphabets = list(string.ascii_uppercase)\nplate_name = plate.getName()\ncolval = 0\nplanes = []\ncntr = 0\nsize_c = 3\nfig = plt.figure(figsize=(30, 15))\nfor rowval in range (0, size_c):\n    data = result_array[:, rowval].reshape(plate_rows, plate_columns);\n    ax = plt.subplot(size_c,1,cntr+1)\n    plt.pcolor(data)\n    plt.colorbar()\n    ax.title.set_text(chnames[rowval])\n    plt.xticks(np.arange(0.5, plate_columns, 1.0))\n    plt.yticks(np.arange(0.5, plate_rows, 1.0))\n    xlabels = range(1, plate_columns+1) \n    ax.set_xticklabels(xlabels)\n    ylabels = range(1, plate_rows+1)\n    ax.set_yticklabels([alphabets[i-1] for i in ylabels])\n    plt.gca().invert_yaxis()\n    plt.clim(0,40000)\n\n    data = np.repeat(data, 20, axis=1)\n    data = np.repeat(data, 20, axis=0)\n    planes.append(np.uint16(data))\n    cntr = cntr + 1\n\nplt.show()\nfig.savefig(plate_name + 'SharpnessHeatMaps.png')",
      "start_time": "2018-08-27T15:06:14.211Z"
     }
    ]
   },
   "outputs": [],
   "source": [
    "alphabets = list(string.ascii_uppercase)\n",
    "plate_name = plate.getName()\n",
    "colval = 0\n",
    "planes = []\n",
    "cntr = 0\n",
    "size_c = 3\n",
    "fig = plt.figure(figsize=(30, 15))\n",
    "for rowval in range (0, size_c):\n",
    "    data = result_array[:, rowval].reshape(plate_rows, plate_columns);\n",
    "    ax = plt.subplot(size_c,1,cntr+1)\n",
    "    plt.pcolor(data)\n",
    "    plt.colorbar()\n",
    "    ax.title.set_text(chnames[rowval])\n",
    "    plt.xticks(np.arange(0.5, plate_columns, 1.0))\n",
    "    plt.yticks(np.arange(0.5, plate_rows, 1.0))\n",
    "    xlabels = range(1, plate_columns+1) \n",
    "    ax.set_xticklabels(xlabels)\n",
    "    ylabels = range(1, plate_rows+1)\n",
    "    ax.set_yticklabels([alphabets[i-1] for i in ylabels])\n",
    "    plt.gca().invert_yaxis()\n",
    "    plt.clim(0,40000)\n",
    "\n",
    "    data = np.repeat(data, 20, axis=1)\n",
    "    data = np.repeat(data, 20, axis=0)\n",
    "    planes.append(np.uint16(data))\n",
    "    cntr = cntr + 1\n",
    "\n",
    "plt.show()\n",
    "fig.savefig(plate_name + 'SharpnessHeatMaps.png')"
   ]
  },
  {
   "cell_type": "markdown",
   "metadata": {},
   "source": [
    "***Thumbnails of top2 and bottom 2 percentile images***"
   ]
  },
  {
   "cell_type": "code",
   "execution_count": null,
   "metadata": {
    "ExecutionTime": {
     "end_time": "2018-08-27T15:06:14.059231Z"
    },
    "provenance": [
     {
      "outputs": [],
      "source": "mapAnnotationNameSpace = \"openmicroscopy.org/mapr/gene\"\nbulkAnnotationNameSpace = \"openmicroscopy.org/omero/bulk_annotations\"\ndef id_to_image_html(id):\n    return '<img src=\"http://idr.openmicroscopy.org/webclient/render_thumbnail/%d/\"/>' % id\n\ndef getGeneInformation(image):\n    id = image.getId()\n    image1 = conn.getObject('Image', id)\n    cc = image1.getAnnotation(mapAnnotationNameSpace)\n    rows = cc.getValue()\n    html = []\n    for r in rows: \n        if r[1].startswith(\"http\"):\n            tempvar = \"<a href='\"+ r[1] + \"'>\" + r[1] + \"</a>\"\n        else:\n            tempvar = r[1]\n        html.append(\"<tr><td>\" + tempvar + \"</td></tr>\")\n    return (\"<table>\" + \"\".join(html) + \"</table>\")\n\ndef getQualityControl(image):\n    id = image.getId()\n    image1 = conn.getObject('Image', id)\n    cc = image1.getAnnotation(bulkAnnotationNameSpace)\n    rows = cc.getValue()\n    html = []\n    for r in rows:\n        if r[0].startswith('Control') or r[0].startswith('Quality'):\n            html.append(\"<tr><td>\" + r[1] + \"</td></tr>\")\n    return (\"<table>\" + \"\".join(html) + \"</table>\")\n\nfrom StringIO import StringIO\nfrom IPython.display import Image, HTML, display\n\nfields = 0\nch = 2\nthreshold = np.percentile(result_array[:, ch], 2)\nimageList = []\nfor well in plate.listChildren():\n    \n    row = well.row\n    column = well.column\n    sharpness = result_array[((row)*plate_columns) + column, ch]\n    \n    if (sharpness <= threshold):       \n        image = well.getImage(fields)\n        imageList.append(image)\n\nimages = [(x.id, x.id, x.getName(), x, x) for x in (imageList)]\npd.set_option('display.max_colwidth', -1)\ndf = pd.DataFrame(images, columns = ['Id', 'Image', 'Name', 'GeneInformation', 'QualityControl'])\nHTML(df.to_html(escape=False, formatters=dict(Image=id_to_image_html, GeneInformation=getGeneInformation, QualityControl=getQualityControl)))"
     },
     {
      "end_time": "2018-08-27T15:06:14.059Z",
      "execution_time": "-162ms",
      "outputs": [],
      "source": "mapAnnotationNameSpace = \"openmicroscopy.org/mapr/gene\"\nbulkAnnotationNameSpace = \"openmicroscopy.org/omero/bulk_annotations\"\ndef id_to_image_html(id):\n    return '<img src=\"http://idr.openmicroscopy.org/webclient/render_thumbnail/%d/\"/>' % id\n\ndef getGeneInformation(image):\n    id = image.getId()\n    image1 = conn.getObject('Image', id)\n    cc = image1.getAnnotation(mapAnnotationNameSpace)\n    rows = cc.getValue()\n    html = []\n    for r in rows: \n        if r[1].startswith(\"http\"):\n            tempvar = \"<a href='\"+ r[1] + \"'>\" + r[1] + \"</a>\"\n        else:\n            tempvar = r[1]\n        html.append(\"<tr><td>\" + tempvar + \"</td></tr>\")\n    return (\"<table>\" + \"\".join(html) + \"</table>\")\n\ndef getQualityControl(image):\n    id = image.getId()\n    image1 = conn.getObject('Image', id)\n    cc = image1.getAnnotation(bulkAnnotationNameSpace)\n    rows = cc.getValue()\n    html = []\n    for r in rows:\n        if r[0].startswith('Control') or r[0].startswith('Quality'):\n            html.append(\"<tr><td>\" + r[1] + \"</td></tr>\")\n    return (\"<table>\" + \"\".join(html) + \"</table>\")\n\nfrom StringIO import StringIO\nfrom IPython.display import Image, HTML, display\n\nfields = 0\nch = 2\nthreshold = np.percentile(result_array[:, ch], 2)\nimageList = []\nfor well in plate.listChildren():\n    \n    row = well.row\n    column = well.column\n    sharpness = result_array[((row)*plate_columns) + column, ch]\n    \n    if (sharpness <= threshold):       \n        image = well.getImage(fields)\n        imageList.append(image)\n\nimages = [(x.id, x.id, x.getName(), x, x) for x in (imageList)]\npd.set_option('display.max_colwidth', -1)\ndf = pd.DataFrame(images, columns = ['Id', 'Image', 'Name', 'GeneInformation', 'QualityControl'])\nHTML(df.to_html(escape=False, formatters=dict(Image=id_to_image_html, GeneInformation=getGeneInformation, QualityControl=getQualityControl)))",
      "start_time": "2018-08-27T15:06:14.221Z"
     }
    ]
   },
   "outputs": [],
   "source": [
    "mapAnnotationNameSpace = \"openmicroscopy.org/mapr/gene\"\n",
    "bulkAnnotationNameSpace = \"openmicroscopy.org/omero/bulk_annotations\"\n",
    "def id_to_image_html(id):\n",
    "    return '<img src=\"http://idr.openmicroscopy.org/webclient/render_thumbnail/%d/\"/>' % id\n",
    "\n",
    "def getGeneInformation(image):\n",
    "    id = image.getId()\n",
    "    image1 = conn.getObject('Image', id)\n",
    "    cc = image1.getAnnotation(mapAnnotationNameSpace)\n",
    "    rows = cc.getValue()\n",
    "    html = []\n",
    "    for r in rows: \n",
    "        if r[1].startswith(\"http\"):\n",
    "            tempvar = \"<a href='\"+ r[1] + \"'>\" + r[1] + \"</a>\"\n",
    "        else:\n",
    "            tempvar = r[1]\n",
    "        html.append(\"<tr><td>\" + tempvar + \"</td></tr>\")\n",
    "    return (\"<table>\" + \"\".join(html) + \"</table>\")\n",
    "\n",
    "def getQualityControl(image):\n",
    "    id = image.getId()\n",
    "    image1 = conn.getObject('Image', id)\n",
    "    cc = image1.getAnnotation(bulkAnnotationNameSpace)\n",
    "    rows = cc.getValue()\n",
    "    html = []\n",
    "    for r in rows:\n",
    "        if r[0].startswith('Control') or r[0].startswith('Quality'):\n",
    "            html.append(\"<tr><td>\" + r[1] + \"</td></tr>\")\n",
    "    return (\"<table>\" + \"\".join(html) + \"</table>\")\n",
    "\n",
    "from StringIO import StringIO\n",
    "from IPython.display import Image, HTML, display\n",
    "\n",
    "fields = 0\n",
    "ch = 2\n",
    "threshold = np.percentile(result_array[:, ch], 2)\n",
    "imageList = []\n",
    "for well in plate.listChildren():\n",
    "    \n",
    "    row = well.row\n",
    "    column = well.column\n",
    "    sharpness = result_array[((row)*plate_columns) + column, ch]\n",
    "    \n",
    "    if (sharpness <= threshold):       \n",
    "        image = well.getImage(fields)\n",
    "        imageList.append(image)\n",
    "\n",
    "images = [(x.id, x.id, x.getName(), x, x) for x in (imageList)]\n",
    "pd.set_option('display.max_colwidth', -1)\n",
    "df = pd.DataFrame(images, columns = ['Id', 'Image', 'Name', 'GeneInformation', 'QualityControl'])\n",
    "HTML(df.to_html(escape=False, formatters=dict(Image=id_to_image_html, GeneInformation=getGeneInformation, QualityControl=getQualityControl)))"
   ]
  },
  {
   "cell_type": "code",
   "execution_count": null,
   "metadata": {
    "ExecutionTime": {
     "end_time": "2018-08-27T15:06:14.061163Z"
    },
    "provenance": [
     {
      "outputs": [],
      "source": "mapAnnotationNameSpace = \"openmicroscopy.org/mapr/gene\"\nbulkAnnotationNameSpace = \"openmicroscopy.org/omero/bulk_annotations\"\ndef id_to_image_html(id):\n    return '<img src=\"http://idr.openmicroscopy.org/webclient/render_thumbnail/%d/\"/>' % id\n\ndef getGeneInformation(image):\n    id = image.getId()\n    image1 = conn.getObject('Image', id)\n    cc = image1.getAnnotation(mapAnnotationNameSpace)\n    rows = cc.getValue()\n    html = []\n    for r in rows: \n        if r[1].startswith(\"http\"):\n            tempvar = \"<a href='\"+ r[1] + \"'>\" + r[1] + \"</a>\"\n        else:\n            tempvar = r[1]\n        html.append(\"<tr><td>\" + tempvar + \"</td></tr>\")\n    return (\"<table>\" + \"\".join(html) + \"</table>\")\n\ndef getQualityControl(image):\n    id = image.getId()\n    image1 = conn.getObject('Image', id)\n    cc = image1.getAnnotation(bulkAnnotationNameSpace)\n    rows = cc.getValue()\n    html = []\n    for r in rows:\n        if r[0].startswith('Control') or r[0].startswith('Quality'):\n            html.append(\"<tr><td>\" + r[1] + \"</td></tr>\")\n    return (\"<table>\" + \"\".join(html) + \"</table>\")\n\nfrom StringIO import StringIO\nfrom IPython.display import Image, HTML, display\n\nfields = 0\nch = 2\nthreshold = np.percentile(result_array[:, ch], 98)\nimageList = []\nfor well in plate.listChildren():\n    \n    row = well.row\n    column = well.column\n    sharpness = result_array[((row)*plate_columns) + column, ch]\n    \n    if (sharpness >= threshold):       \n        image = well.getImage(fields)\n        imageList.append(image)\n\nimages = [(x.id, x.id, x.getName(), x, x) for x in (imageList)]\npd.set_option('display.max_colwidth', -1)\ndf = pd.DataFrame(images, columns = ['Id', 'Image', 'Name', 'GeneInformation', 'QualityControl'])\nHTML(df.to_html(escape=False, formatters=dict(Image=id_to_image_html, GeneInformation=getGeneInformation, QualityControl=getQualityControl)))"
     },
     {
      "end_time": "2018-08-27T15:06:14.061Z",
      "execution_time": "-162ms",
      "outputs": [],
      "source": "mapAnnotationNameSpace = \"openmicroscopy.org/mapr/gene\"\nbulkAnnotationNameSpace = \"openmicroscopy.org/omero/bulk_annotations\"\ndef id_to_image_html(id):\n    return '<img src=\"http://idr.openmicroscopy.org/webclient/render_thumbnail/%d/\"/>' % id\n\ndef getGeneInformation(image):\n    id = image.getId()\n    image1 = conn.getObject('Image', id)\n    cc = image1.getAnnotation(mapAnnotationNameSpace)\n    rows = cc.getValue()\n    html = []\n    for r in rows: \n        if r[1].startswith(\"http\"):\n            tempvar = \"<a href='\"+ r[1] + \"'>\" + r[1] + \"</a>\"\n        else:\n            tempvar = r[1]\n        html.append(\"<tr><td>\" + tempvar + \"</td></tr>\")\n    return (\"<table>\" + \"\".join(html) + \"</table>\")\n\ndef getQualityControl(image):\n    id = image.getId()\n    image1 = conn.getObject('Image', id)\n    cc = image1.getAnnotation(bulkAnnotationNameSpace)\n    rows = cc.getValue()\n    html = []\n    for r in rows:\n        if r[0].startswith('Control') or r[0].startswith('Quality'):\n            html.append(\"<tr><td>\" + r[1] + \"</td></tr>\")\n    return (\"<table>\" + \"\".join(html) + \"</table>\")\n\nfrom StringIO import StringIO\nfrom IPython.display import Image, HTML, display\n\nfields = 0\nch = 2\nthreshold = np.percentile(result_array[:, ch], 98)\nimageList = []\nfor well in plate.listChildren():\n    \n    row = well.row\n    column = well.column\n    sharpness = result_array[((row)*plate_columns) + column, ch]\n    \n    if (sharpness >= threshold):       \n        image = well.getImage(fields)\n        imageList.append(image)\n\nimages = [(x.id, x.id, x.getName(), x, x) for x in (imageList)]\npd.set_option('display.max_colwidth', -1)\ndf = pd.DataFrame(images, columns = ['Id', 'Image', 'Name', 'GeneInformation', 'QualityControl'])\nHTML(df.to_html(escape=False, formatters=dict(Image=id_to_image_html, GeneInformation=getGeneInformation, QualityControl=getQualityControl)))",
      "start_time": "2018-08-27T15:06:14.223Z"
     }
    ]
   },
   "outputs": [],
   "source": [
    "mapAnnotationNameSpace = \"openmicroscopy.org/mapr/gene\"\n",
    "bulkAnnotationNameSpace = \"openmicroscopy.org/omero/bulk_annotations\"\n",
    "def id_to_image_html(id):\n",
    "    return '<img src=\"http://idr.openmicroscopy.org/webclient/render_thumbnail/%d/\"/>' % id\n",
    "\n",
    "def getGeneInformation(image):\n",
    "    id = image.getId()\n",
    "    image1 = conn.getObject('Image', id)\n",
    "    cc = image1.getAnnotation(mapAnnotationNameSpace)\n",
    "    rows = cc.getValue()\n",
    "    html = []\n",
    "    for r in rows: \n",
    "        if r[1].startswith(\"http\"):\n",
    "            tempvar = \"<a href='\"+ r[1] + \"'>\" + r[1] + \"</a>\"\n",
    "        else:\n",
    "            tempvar = r[1]\n",
    "        html.append(\"<tr><td>\" + tempvar + \"</td></tr>\")\n",
    "    return (\"<table>\" + \"\".join(html) + \"</table>\")\n",
    "\n",
    "def getQualityControl(image):\n",
    "    id = image.getId()\n",
    "    image1 = conn.getObject('Image', id)\n",
    "    cc = image1.getAnnotation(bulkAnnotationNameSpace)\n",
    "    rows = cc.getValue()\n",
    "    html = []\n",
    "    for r in rows:\n",
    "        if r[0].startswith('Control') or r[0].startswith('Quality'):\n",
    "            html.append(\"<tr><td>\" + r[1] + \"</td></tr>\")\n",
    "    return (\"<table>\" + \"\".join(html) + \"</table>\")\n",
    "\n",
    "from StringIO import StringIO\n",
    "from IPython.display import Image, HTML, display\n",
    "\n",
    "fields = 0\n",
    "ch = 2\n",
    "threshold = np.percentile(result_array[:, ch], 98)\n",
    "imageList = []\n",
    "for well in plate.listChildren():\n",
    "    \n",
    "    row = well.row\n",
    "    column = well.column\n",
    "    sharpness = result_array[((row)*plate_columns) + column, ch]\n",
    "    \n",
    "    if (sharpness >= threshold):       \n",
    "        image = well.getImage(fields)\n",
    "        imageList.append(image)\n",
    "\n",
    "images = [(x.id, x.id, x.getName(), x, x) for x in (imageList)]\n",
    "pd.set_option('display.max_colwidth', -1)\n",
    "df = pd.DataFrame(images, columns = ['Id', 'Image', 'Name', 'GeneInformation', 'QualityControl'])\n",
    "HTML(df.to_html(escape=False, formatters=dict(Image=id_to_image_html, GeneInformation=getGeneInformation, QualityControl=getQualityControl)))"
   ]
  },
  {
   "cell_type": "markdown",
   "metadata": {},
   "source": [
    "***Close Connection to IDR***"
   ]
  },
  {
   "cell_type": "code",
   "execution_count": null,
   "metadata": {
    "ExecutionTime": {
     "end_time": "2018-08-27T15:06:14.063045Z"
    },
    "provenance": [
     {
      "outputs": [],
      "source": "conn.close()"
     },
     {
      "end_time": "2018-08-27T15:06:14.063Z",
      "execution_time": "-161ms",
      "outputs": [],
      "source": "conn.close()",
      "start_time": "2018-08-27T15:06:14.224Z"
     }
    ]
   },
   "outputs": [],
   "source": [
    "conn.close()"
   ]
  },
  {
   "cell_type": "markdown",
   "metadata": {},
   "source": [
    "## Write results back to your own OMERO server (A read-annotate/read-write server to save results)"
   ]
  },
  {
   "cell_type": "markdown",
   "metadata": {},
   "source": [
    "***Import BlitzGateway***"
   ]
  },
  {
   "cell_type": "code",
   "execution_count": null,
   "metadata": {
    "ExecutionTime": {
     "end_time": "2018-08-27T15:06:14.067130Z"
    },
    "provenance": [
     {
      "outputs": [],
      "source": "from omero.gateway import BlitzGateway"
     },
     {
      "end_time": "2018-08-27T15:06:14.067Z",
      "execution_time": "-159ms",
      "outputs": [],
      "source": "from omero.gateway import BlitzGateway",
      "start_time": "2018-08-27T15:06:14.226Z"
     }
    ]
   },
   "outputs": [],
   "source": [
    "from omero.gateway import BlitzGateway"
   ]
  },
  {
   "cell_type": "code",
   "execution_count": null,
   "metadata": {
    "ExecutionTime": {
     "end_time": "2018-08-27T15:06:14.072728Z"
    },
    "provenance": [
     {
      "outputs": [],
      "source": "from getpass import getpass\nreadAnnotateConn = BlitzGateway(\n    raw_input(\"Username: \"), getpass(\"OMERO Password: \"),\n    host=raw_input(\"Hostname: \"))\nreadAnnotateConn.connect()"
     },
     {
      "end_time": "2018-08-27T15:06:14.072Z",
      "execution_time": "-155ms",
      "outputs": [],
      "source": "from getpass import getpass\nreadAnnotateConn = BlitzGateway(\n    raw_input(\"Username: \"), getpass(\"OMERO Password: \"),\n    host=raw_input(\"Hostname: \"))\nreadAnnotateConn.connect()",
      "start_time": "2018-08-27T15:06:14.227Z"
     }
    ]
   },
   "outputs": [],
   "source": [
    "from getpass import getpass\n",
    "readAnnotateConn = BlitzGateway(\n",
    "    raw_input(\"Username: \"), getpass(\"OMERO Password: \"),\n",
    "    host=raw_input(\"Hostname: \"))\n",
    "readAnnotateConn.connect()"
   ]
  },
  {
   "cell_type": "markdown",
   "metadata": {},
   "source": [
    "***Create OMERO Image from numpy sequence, feeder for createOMEROFigures script****"
   ]
  },
  {
   "cell_type": "code",
   "execution_count": null,
   "metadata": {
    "ExecutionTime": {
     "end_time": "2018-08-27T15:06:14.078161Z"
    },
    "provenance": [
     {
      "outputs": [],
      "source": "if readAnnotateConn.isConnected():\n\n    size_z = 1\n    size_t = 1\n    def planeGen():\n        \"\"\"generator will yield planes\"\"\"\n        for p in planes:\n            yield p\n\n    desc = \"Image created from a hard-coded arrays\"\n    i = readAnnotateConn.createImageFromNumpySeq(planeGen(), plate_name + \"numpy image\", size_z, size_c, size_t, description=desc,dataset=None)\n    print 'Created new Image:%s Name:\"%s\"' % (i.getId(), i.getName())\n    imageId = i.getId()"
     },
     {
      "end_time": "2018-08-27T15:06:14.078Z",
      "execution_time": "-151ms",
      "outputs": [],
      "source": "if readAnnotateConn.isConnected():\n\n    size_z = 1\n    size_t = 1\n    def planeGen():\n        \"\"\"generator will yield planes\"\"\"\n        for p in planes:\n            yield p\n\n    desc = \"Image created from a hard-coded arrays\"\n    i = readAnnotateConn.createImageFromNumpySeq(planeGen(), plate_name + \"numpy image\", size_z, size_c, size_t, description=desc,dataset=None)\n    print 'Created new Image:%s Name:\"%s\"' % (i.getId(), i.getName())\n    imageId = i.getId()",
      "start_time": "2018-08-27T15:06:14.229Z"
     }
    ]
   },
   "outputs": [],
   "source": [
    "if readAnnotateConn.isConnected():\n",
    "\n",
    "    size_z = 1\n",
    "    size_t = 1\n",
    "    def planeGen():\n",
    "        \"\"\"generator will yield planes\"\"\"\n",
    "        for p in planes:\n",
    "            yield p\n",
    "\n",
    "    desc = \"Image created from a hard-coded arrays\"\n",
    "    i = readAnnotateConn.createImageFromNumpySeq(planeGen(), plate_name + \"numpy image\", size_z, size_c, size_t, description=desc,dataset=None)\n",
    "    print 'Created new Image:%s Name:\"%s\"' % (i.getId(), i.getName())\n",
    "    imageId = i.getId()"
   ]
  },
  {
   "cell_type": "markdown",
   "metadata": {},
   "source": [
    "***Save Results Back to OMERO as File Attachments***"
   ]
  },
  {
   "cell_type": "code",
   "execution_count": null,
   "metadata": {
    "ExecutionTime": {
     "end_time": "2018-08-27T15:06:14.082493Z"
    },
    "provenance": [
     {
      "outputs": [],
      "source": "if readAnnotateConn.isConnected():\n\n    plate = readAnnotateConn.getObject(\"image\", imageId)\n    file_to_upload = plate_name + 'SharpnessHeatMaps.png'   # This file should already exist\n    # create the original file and file annotation (uploads the file etc.)\n    namespace = \"dundee.users.meeting.demo\"\n    print \"\\nCreating an OriginalFile and FileAnnotation\"\n    file_ann = conn.createFileAnnfromLocalFile(\n        file_to_upload, mimetype=\"text/plain\", ns=namespace, desc=None)\n    print \"Attaching FileAnnotation to Plate: \", \"File ID:\", file_ann.getId(), \\\n        \",\", file_ann.getFile().getName(), \"Size:\", file_ann.getFile().getSize()\n    plate.linkAnnotation(file_ann)\n    readAnnotateConn.close()"
     },
     {
      "end_time": "2018-08-27T15:06:14.082Z",
      "execution_time": "-150ms",
      "outputs": [],
      "source": "if readAnnotateConn.isConnected():\n\n    plate = readAnnotateConn.getObject(\"image\", imageId)\n    file_to_upload = plate_name + 'SharpnessHeatMaps.png'   # This file should already exist\n    # create the original file and file annotation (uploads the file etc.)\n    namespace = \"dundee.users.meeting.demo\"\n    print \"\\nCreating an OriginalFile and FileAnnotation\"\n    file_ann = conn.createFileAnnfromLocalFile(\n        file_to_upload, mimetype=\"text/plain\", ns=namespace, desc=None)\n    print \"Attaching FileAnnotation to Plate: \", \"File ID:\", file_ann.getId(), \\\n        \",\", file_ann.getFile().getName(), \"Size:\", file_ann.getFile().getSize()\n    plate.linkAnnotation(file_ann)\n    readAnnotateConn.close()",
      "start_time": "2018-08-27T15:06:14.232Z"
     }
    ]
   },
   "outputs": [],
   "source": [
    "if readAnnotateConn.isConnected():\n",
    "\n",
    "    plate = readAnnotateConn.getObject(\"image\", imageId)\n",
    "    file_to_upload = plate_name + 'SharpnessHeatMaps.png'   # This file should already exist\n",
    "    # create the original file and file annotation (uploads the file etc.)\n",
    "    namespace = \"dundee.users.meeting.demo\"\n",
    "    print \"\\nCreating an OriginalFile and FileAnnotation\"\n",
    "    file_ann = conn.createFileAnnfromLocalFile(\n",
    "        file_to_upload, mimetype=\"text/plain\", ns=namespace, desc=None)\n",
    "    print \"Attaching FileAnnotation to Plate: \", \"File ID:\", file_ann.getId(), \\\n",
    "        \",\", file_ann.getFile().getName(), \"Size:\", file_ann.getFile().getSize()\n",
    "    plate.linkAnnotation(file_ann)\n",
    "    readAnnotateConn.close()"
   ]
  }
 ],
 "metadata": {
  "kernelspec": {
   "display_name": "Python 2",
   "language": "python",
   "name": "python2"
  },
  "language_info": {
   "codemirror_mode": {
    "name": "ipython",
    "version": 2
   },
   "file_extension": ".py",
   "mimetype": "text/x-python",
   "name": "python",
   "nbconvert_exporter": "python",
   "pygments_lexer": "ipython2",
   "version": "2.7.15rc1"
  }
 },
 "nbformat": 4,
 "nbformat_minor": 2
}
